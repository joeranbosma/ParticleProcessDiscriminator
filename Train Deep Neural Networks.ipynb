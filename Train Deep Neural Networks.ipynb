{
 "cells": [
  {
   "cell_type": "markdown",
   "metadata": {
    "colab_type": "text",
    "id": "PGvaUSn4HNfS"
   },
   "source": [
    "#### Preparation\n",
    "This notebook is only configured to use Weights & Biases for tracking metrics. Enabling this requires an account and api key, which can be set below. Unfortunately, the code below is not configured in such a way that it can easily be omitted. Feel free to remove this integration, though.  \n",
    "\n",
    "Weights & Biases can be installed using: `pip install wandb`.  \n",
    "\n",
    "This notebook requires the execution of:\n",
    "- `Data Exporation and Preprocessing` "
   ]
  },
  {
   "cell_type": "code",
   "execution_count": 1,
   "metadata": {
    "colab": {
     "base_uri": "https://localhost:8080/",
     "height": 255
    },
    "colab_type": "code",
    "executionInfo": {
     "elapsed": 14643,
     "status": "ok",
     "timestamp": 1585479967231,
     "user": {
      "displayName": "Joeran Bosma",
      "photoUrl": "https://lh3.googleusercontent.com/a-/AOh14GiEvCunvq33iGZ3RU-P9BMF7L60e8LoQ3Y1AfZJ4Q=s64",
      "userId": "05378465311079003812"
     },
     "user_tz": -120
    },
    "id": "Gu0xcYjlHVRi",
    "outputId": "50b422aa-9fc7-4412-ccb2-c1c7f890692d"
   },
   "outputs": [],
   "source": [
    "import os\n",
    "# Optional: set your W&B api key below. Looks like: 7ol65g3j2rulhg3af4o7m8wma8d9isyu3myqkdb8 (example)\n",
    "os.environ['WANDB_API_KEY'] = ''\n",
    "os.environ['WANDB_PROJECT'] = 'particle_process_discriminator'\n",
    "\n",
    "if os.environ['WANDB_API_KEY'] is not '':\n",
    "    # login to W&B account\n",
    "    res = os.system('wandb login {}'.format(os.environ['WANDB_API_KEY']))\n",
    "    print(\"Logged in to Weights & Biases\")"
   ]
  },
  {
   "cell_type": "markdown",
   "metadata": {
    "colab_type": "text",
    "id": "ICiNBbEgJxgN"
   },
   "source": [
    "#### Initialize"
   ]
  },
  {
   "cell_type": "code",
   "execution_count": 0,
   "metadata": {
    "ExecuteTime": {
     "end_time": "2020-02-01T16:10:35.460693Z",
     "start_time": "2020-02-01T16:10:33.168375Z"
    },
    "colab": {},
    "colab_type": "code",
    "id": "KWRnwYi8JxgQ"
   },
   "outputs": [],
   "source": [
    "# For Google Colab:\n",
    "%tensorflow_version 2.x\n",
    "\n",
    "# (basic) dependencies\n",
    "import os\n",
    "import pandas as pd\n",
    "import matplotlib.pyplot as plt\n",
    "import numpy as np\n",
    "import seaborn as sns\n",
    "from tqdm import tqdm as tqdm\n",
    "\n",
    "# sklearn dependencies\n",
    "from sklearn.metrics import auc\n",
    "from sklearn.model_selection import train_test_split\n",
    "from sklearn.metrics import confusion_matrix, accuracy_score\n",
    "from sklearn.model_selection import cross_val_score, KFold\n",
    "\n",
    "# tensorflow dependencies\n",
    "from tensorflow.keras import datasets, layers, models, regularizers, backend\n",
    "from tensorflow.keras import optimizers\n",
    "from tensorflow.keras.preprocessing.image import ImageDataGenerator\n",
    "from tensorflow.keras.layers import ReLU, LeakyReLU\n",
    "from tensorflow.keras.models import Sequential\n",
    "from tensorflow.keras.layers import Dense, Dropout, LSTM, Embedding\n",
    "\n",
    "import wandb\n",
    "from wandb.keras import WandbCallback\n",
    "MODEL_DIR = 'models'"
   ]
  },
  {
   "cell_type": "code",
   "execution_count": 0,
   "metadata": {
    "colab": {},
    "colab_type": "code",
    "id": "6oxFdseXGzyr"
   },
   "outputs": [],
   "source": [
    "# own dependencies\n",
    "from helper import metrics, learn, select_features, load_data, cross_validation, ROC\n",
    "from helper import make, save, make_args, build_architecture, train_net, train_args"
   ]
  },
  {
   "cell_type": "code",
   "execution_count": 0,
   "metadata": {
    "colab": {},
    "colab_type": "code",
    "id": "Eug86HrfG5CJ"
   },
   "outputs": [],
   "source": [
    "# further settings\n",
    "FIG_DIR = 'figures/'\n",
    "plt.rcParams[\"figure.figsize\"] = (10, 4.5)\n",
    "plt.rcParams[\"savefig.format\"] = \"pdf\"\n",
    "plt.rcParams[\"savefig.dpi\"] = 400\n",
    "plt.rcParams[\"savefig.transparent\"] = True\n",
    "plt.rcParams.update({'font.size': 14})\n",
    "plt.rcParams[\"savefig.bbox\"] = 'tight'\n",
    "\n",
    "random_state = 576"
   ]
  },
  {
   "cell_type": "code",
   "execution_count": 0,
   "metadata": {
    "colab": {},
    "colab_type": "code",
    "id": "_5ngMDqEIwSg"
   },
   "outputs": [],
   "source": [
    "def plot_accuracy_gain(acc, labels, baseline, fn):\n",
    "    f, axes = plt.subplots(1, 1, figsize=(10, 5))\n",
    "    ax = axes\n",
    "\n",
    "    # calculate means and std. between trails\n",
    "    try:\n",
    "        means, stds = np.mean(acc, axis=-1), np.std(acc, axis=-1)\n",
    "    except:\n",
    "        assert isinstance(acc, list), \"Need ndarray or list\"\n",
    "        means, stds = [], []\n",
    "        for acc_row in acc:\n",
    "            means.append(np.mean(acc_row))\n",
    "            stds.append(np.std(acc_row))\n",
    "        means, stds = np.array(means), np.array(stds)\n",
    "\n",
    "    # plot bar plot with height the mean and error bars the deviation\n",
    "    # substract a baseline from all means\n",
    "    ax.bar(range(len(labels)), height=means - means[baseline], yerr=stds, capsize=4)\n",
    "    ax.axhline(0, color='k')\n",
    "    ax.set_xticklabels(labels)\n",
    "    ax.set_xticks(range(len(labels)))\n",
    "\n",
    "    # Set yticks to percentage\n",
    "    vals = ax.get_yticks()\n",
    "    # calculate the number of decimals to show without losing information\n",
    "    num_decimals = max(0, int(np.ceil(np.mean(np.abs(np.log10(np.diff(vals)))) - 2)))\n",
    "    labels = ['{x:,.{num}%}'.format(x=x, num=num_decimals) for x in vals]\n",
    "    ax.set_yticklabels(labels)\n",
    "    ax.set_ylabel(\"Validation accuracy gain\")\n",
    "\n",
    "    # Hide the right and top spines\n",
    "    for loc in ['right', 'top', 'bottom']:\n",
    "        ax.spines[loc].set_visible(False)\n",
    "\n",
    "    f.tight_layout()\n",
    "    f.savefig('{}/{fn}'.format(FIG_DIR, fn=fn))\n",
    "    plt.show()\n",
    "\n",
    "def plot_history(history, limits=False):\n",
    "    f, axes = plt.subplots(1, 1, figsize=(15, 8))\n",
    "    ax = axes\n",
    "    ax.plot(history.history['acc'], label='Train')\n",
    "\n",
    "    # plot validation accuracy and maximal validation accuracy\n",
    "    val_accs = history.history['val_acc']\n",
    "    ax.plot(val_accs, label='Test')\n",
    "    ax.plot(np.argmax(val_accs), np.max(val_accs), 'x', ms=15, color='r')\n",
    "    ax.set_title(\"Accuracy (max. val. acc.: {:.2%})\".format(np.max(val_accs))); \n",
    "    ax.set_ylabel(\"Accuracy\"); ax.set_xlabel(\"Epoch\"); ax.legend();\n",
    "    if limits:\n",
    "        ax.set_ylim(bottom=0.833, top=1)\n",
    "    plt.show()"
   ]
  },
  {
   "cell_type": "code",
   "execution_count": 0,
   "metadata": {
    "colab": {},
    "colab_type": "code",
    "id": "8b63L9YAtz8B"
   },
   "outputs": [],
   "source": [
    "from tensorflow.keras.layers import LeakyReLU\n",
    "\n",
    "class Args(pd.Series):\n",
    "    def __init__(self, default_args={}, verbose=True, wandb_init=True):\n",
    "        \"\"\"Create default arguments, which can be changed for subsequent runs\"\"\"\n",
    "        # construct Series object\n",
    "        super(Args, self).__init__()\n",
    "        # set defaults, with absolute defaults set first\n",
    "        self.set_args(default_args, reset=True, verbose=verbose, wandb_init=wandb_init)\n",
    "    \n",
    "    def set_args(self, new_args, reset=False, verbose=True, wandb_init=True):\n",
    "        if reset:\n",
    "            # fill arguments with absolute defaults\n",
    "            defaults = {\n",
    "                'id': 'Baseline',\n",
    "                'architecture': 'small net',\n",
    "                'loss': 'binary_crossentropy', \n",
    "                'activation': LeakyReLU(alpha=0.3),\n",
    "                'final_activation': 'sigmoid',\n",
    "                'epochs': 100, \n",
    "                'batch_size': 256,\n",
    "                'optimizer': 'adam', \n",
    "                'lr': 1e-4, \n",
    "                'lr_decay': 0,\n",
    "                'norm': 'zscore', \n",
    "                'trans': 'both',\n",
    "                'nodes1': 128, 'nodes2': 64, 'nodes3': 32, \n",
    "                'nodes4': 0, 'nodes5': 0,\n",
    "                'dropout1': 0.15, 'dropout2': 0.15, 'dropout3': 0.15, \n",
    "                'dropout4': 0.15, 'dropout5': 0.15,\n",
    "                'batch_norm': [], \n",
    "            }\n",
    "            # set defaults\n",
    "            for k, val in defaults.items():\n",
    "                self[k] = val\n",
    "        \n",
    "        # set new arguments\n",
    "        for k, val in new_args.items():\n",
    "            self[k] = val\n",
    "\n",
    "        if verbose:\n",
    "            print(self)\n",
    "        \n",
    "        if wandb_init:\n",
    "            wandb.init(project=os.environ['WANDB_PROJECT'], name=self.id, config=dict(self))\n"
   ]
  },
  {
   "cell_type": "code",
   "execution_count": 0,
   "metadata": {
    "colab": {},
    "colab_type": "code",
    "id": "1RsWtI3TvaFH"
   },
   "outputs": [],
   "source": [
    "def save_metrics(cv_train_accuracies, cv_val_accuracies, cv_max_val_accuracies, name):\n",
    "    np.save(\"results/{}_cv_train_accuracies\".format(name), cv_train_accuracies)\n",
    "    np.save(\"results/{}_cv_val_accuracies\".format(name), cv_val_accuracies)\n",
    "    np.save(\"results/{}_cv_max_val_accuracies\".format(name), cv_max_val_accuracies)\n",
    "\n",
    "def load_metrics(name):\n",
    "    cv_train_accuracies = np.load(\"results/{}_cv_train_accuracies.npy\".format(name))\n",
    "    cv_val_accuracies = np.load(\"results/{}_cv_val_accuracies.npy\".format(name))\n",
    "    cv_max_val_accuracies = np.load(\"results/{}_cv_max_val_accuracies.npy\".format(name))\n",
    "    return cv_train_accuracies, cv_val_accuracies, cv_max_val_accuracies, "
   ]
  },
  {
   "cell_type": "markdown",
   "metadata": {
    "colab_type": "text",
    "id": "QBHki8fguCxU"
   },
   "source": [
    "# Particle Process Discriminator - Train Deep Neural Networks\n",
    "\n",
    "This notebook will optimize the deep neural networks and will explore the symmetries in the tabular data set. "
   ]
  },
  {
   "cell_type": "markdown",
   "metadata": {
    "colab_type": "text",
    "id": "ghQ1R7Nmq48c"
   },
   "source": [
    "## Implement data augmentation on tabular dataset\n",
    "The batch creator below implements rotational symmetry of the whole system about the beam axis (\"phi augmentation\"), by adding a constant to all phi-features. Because of the cyclical nature of the azimuthal angle, the modulus is taken to reflect this in the tabular dataset.  \n",
    "\n",
    "Also, the batch creator implements data augmentation of an inversion in the particle collision centre, which corresponds to \"mirroring\" the pseudorapidity. "
   ]
  },
  {
   "cell_type": "code",
   "execution_count": 0,
   "metadata": {
    "colab": {},
    "colab_type": "code",
    "id": "JmMxoYQcq_tF"
   },
   "outputs": [],
   "source": [
    "class BatchCreator2:\n",
    "    def __init__(self, dataset, features, target, balance_classes=False, \n",
    "                 shift_phi=False, flip_eta=False, batch_size=64):\n",
    "        # save dataset as features and targets\n",
    "        self.x = dataset[features].values.astype(float)\n",
    "        self.y = dataset[target].values.astype(float)\n",
    "\n",
    "        # calculate n.o. samples and save settings\n",
    "        self.n = len(self.y)\n",
    "        self.n_classes = len(features)\n",
    "        self.balance_classes = balance_classes\n",
    "        self.shift_phi = shift_phi\n",
    "        self.flip_eta = flip_eta\n",
    "        self.batch_size = batch_size\n",
    "\n",
    "        # create mask for phi columns\n",
    "        phi_cols = dataset.filter(regex='phi').columns\n",
    "        self.phi_col_mask = [col in phi_cols for col in features]\n",
    "        self.phi_mask = np.hstack(self.phi_col_mask * batch_size).reshape(batch_size, self.n_classes)\n",
    "        eta_cols = dataset.filter(regex='eta').columns\n",
    "        self.eta_col_mask = [col in eta_cols for col in features]\n",
    "        self.eta_mask = np.hstack(self.eta_col_mask * batch_size).reshape(batch_size, self.n_classes)\n",
    "\n",
    "        # calculate samplewise probabilities\n",
    "        if balance_classes:\n",
    "            # calculate probabilities for each class\n",
    "            p_class = dataset[target].value_counts()\n",
    "            self.p_sample = np.zeros(self.n)\n",
    "            # set samplewise probability to the inverse frequency of its class\n",
    "            for val, count in p_class.iteritems():\n",
    "                # and normalise by the number of classes, such that all probabilities sum up to one\n",
    "                self.p_sample[dataset[target].values == val] = 1/count/p_class.index.size\n",
    "        else:\n",
    "            self.p_sample = np.ones(self.n) / self.n\n",
    "        \n",
    "        # calculate range for augmenting phi angles\n",
    "        self.cmin = dataset[phi_cols].min().min()\n",
    "        self.cmax = dataset[phi_cols].max().max()\n",
    "        self.crange = self.cmax - self.cmin\n",
    "\n",
    "\n",
    "    def create_batch(self, batch_size):\n",
    "        '''\n",
    "        returns an array of features (x) with corresponding labels (y)\n",
    "        '''\n",
    "        x_data = np.zeros((batch_size, self.n_classes))\n",
    "        y_data = np.zeros((batch_size, 1))\n",
    "        indices = np.random.choice(np.arange(self.n), size=batch_size, replace=False, p=self.p_sample)\n",
    "        \n",
    "        \"\"\" Method below works, but is (too) slow. Creating the batches on \n",
    "        batch level reduces training time from about 10 minutes to about 20 seconds/epoch. \n",
    "        For reference, without augmentation the training time took about 9 seconds/epoch. \n",
    "\n",
    "        # select and augment the designated samples\n",
    "        for i, idx in enumerate(indices):\n",
    "            # augment the phi angles by adding a constant and cyclically take the modulus\n",
    "            c = np.random.random_sample() * self.crange\n",
    "\n",
    "            # exclude phi columns which are zero (from padding)\n",
    "            mask = (self.df[self.phi_cols].iloc[idx] != 0)\n",
    "            augment_cols = mask[mask].index\n",
    "\n",
    "            sample_features = self.df[self.features].iloc[idx]\n",
    "            # -cmin and +cmin for shifting range [cmin, cmax] for modulus\n",
    "            sample_features[augment_cols] = (sample_features[augment_cols] + c - self.cmin) % self.crange + self.cmin\n",
    "\n",
    "            x_data[i] = sample_features.values\n",
    "            y_data[i] = self.df[target].iloc[idx].astype(float)\n",
    "        \"\"\"\n",
    "        # select batch features\n",
    "        batch_features = self.x[indices]\n",
    "\n",
    "        # cyclically shift azimuthal angles\n",
    "        if self.shift_phi:\n",
    "            # exclude phi columns which are zero (from padding)\n",
    "            nonzero_mask = (batch_features != 0)\n",
    "            aug_mask = (nonzero_mask & self.phi_mask)\n",
    "\n",
    "            # perform steps above at batch level \n",
    "            # NOTE: ADDS SAME CONSTANT TO WHOLE BATCH!\n",
    "            c = np.random.rand() * self.crange\n",
    "\n",
    "            batch_features[aug_mask] = (batch_features[aug_mask] + c - self.cmin) % self.crange + self.cmin\n",
    "\n",
    "        # mirror pseudorapidity in pi/2 axis, for 50% of batches\n",
    "        if self.flip_eta and np.random.choice([True, False]):\n",
    "            # exclude eta columns which are zero (from padding)\n",
    "            nonzero_mask = (batch_features != 0)\n",
    "            aug_mask = (nonzero_mask & self.eta_mask)\n",
    "\n",
    "            # perform flipping eta at batch level \n",
    "            # NOTE: FLIPS ALL OR NONE OF THE SAMPLES IN THE BATCH!\n",
    "            batch_features[aug_mask] *= -1\n",
    "\n",
    "        # return batch of features and labels    \n",
    "        return batch_features, self.y[indices]\n",
    "        \n",
    "    def flow(self):\n",
    "        '''returns a generator that will yield batches infinitely'''\n",
    "        while True:\n",
    "            yield self.create_batch(self.batch_size)"
   ]
  },
  {
   "cell_type": "markdown",
   "metadata": {
    "colab_type": "text",
    "id": "KoSHFebLqeOw"
   },
   "source": [
    "# Hyperparameter optimisation\n",
    "**Initial phase**  \n",
    "The baseline start in a reasonable, but definitely not optimal, starting point. This starting point is chosen to highly overfit the training data, and work from there to a good validation convergence. The first steps include data augmentation into training the model. Then the generalization error is further reduced by adding dropout layers and, based on the results obtained there, reduce the number of layers and/or width of the model. \n",
    "\n",
    "For these steps 5-fold cross-validation is done, without setting aside a 'test' set. Both the maximal validation accuracies and final epoch accuracies are collected.  \n",
    "\n",
    "Each test incorporates the best configuration of the preceding tests.  \n",
    "\n",
    "**Second phase**  \n",
    "After the tests of the initial phase, we should have a model with a reasonable accuracy and generalization error. At this point, the model will be optimised by investigating:\n",
    "- transformation of the features with long tail\n",
    "- nonlinearity\n",
    "- optimizer\n",
    "- batch size\n",
    "\n",
    "**Results**  \n",
    "For the results, see the individual results below, and the reports per test here:  \n",
    "- dropout: https://app.wandb.ai/joeranbosma/ml4ppa/reports/\n",
    "- n.o. layers: https://app.wandb.ai/joeranbosma/ml4ppa/reports/Depth--Vmlldzo3MDgxMA/\n",
    "- transformation: https://app.wandb.ai/joeranbosma/ml4ppa/reports/Transformation--Vmlldzo3MDg3NA/\n",
    "- nonlinearity: https://app.wandb.ai/joeranbosma/ml4ppa/reports/Activation-function--Vmlldzo3MDg4MQ/\n",
    "- optimiser: https://app.wandb.ai/joeranbosma/ml4ppa/reports/Optimiser--Vmlldzo3MTE5Mw/\n",
    "- batch size: https://app.wandb.ai/joeranbosma/ml4ppa/reports/Batch-size--Vmlldzo3MTI1Nw/"
   ]
  },
  {
   "cell_type": "markdown",
   "metadata": {
    "colab_type": "text",
    "id": "PqhoYHAi-s2l"
   },
   "source": [
    "## Test 0: capacity of model\n",
    "Check if the model is capable of overfitting the dataset to near perfection. This tests the capacity of the model and check, for example, if the learning rate is not too low.  \n",
    "\n",
    "- 64x64x64 reaches a train accuracy of 0.9475 in 100 epochs\n",
    "- 128x128x128x128x128 reaches a train accuracy of 0.9971 in 100 epochs"
   ]
  },
  {
   "cell_type": "code",
   "execution_count": 20,
   "metadata": {
    "colab": {
     "base_uri": "https://localhost:8080/",
     "height": 1000
    },
    "colab_type": "code",
    "executionInfo": {
     "elapsed": 507467,
     "status": "ok",
     "timestamp": 1585264257438,
     "user": {
      "displayName": "Joeran Bosma",
      "photoUrl": "https://lh3.googleusercontent.com/a-/AOh14GiEvCunvq33iGZ3RU-P9BMF7L60e8LoQ3Y1AfZJ4Q=s64",
      "userId": "05378465311079003812"
     },
     "user_tz": -60
    },
    "id": "_NwOoCOM-zV-",
    "outputId": "31bbd9ad-62d4-4cd8-e49e-0474d8f018d2"
   },
   "outputs": [
    {
     "name": "stdout",
     "output_type": "stream",
     "text": [
      "id                       MLP - capacity\n",
      "architecture                      128^5\n",
      "loss                binary_crossentropy\n",
      "activation                         relu\n",
      "final_activation                sigmoid\n",
      "epochs                              100\n",
      "batch_size                           64\n",
      "optimizer                          adam\n",
      "lr                               0.0001\n",
      "lr_decay                              0\n",
      "norm                             minmax\n",
      "trans                             plain\n",
      "nodes1                              128\n",
      "nodes2                              128\n",
      "nodes3                              128\n",
      "nodes4                              128\n",
      "nodes5                              128\n",
      "dropout1                              0\n",
      "dropout2                              0\n",
      "dropout3                              0\n",
      "dropout4                              0\n",
      "dropout5                              0\n",
      "batch_norm                           []\n",
      "shift_phi                         False\n",
      "flip_eta                          False\n",
      "dtype: object\n"
     ]
    },
    {
     "data": {
      "text/html": [
       "\n",
       "                Logging results to <a href=\"https://wandb.com\" target=\"_blank\">Weights & Biases</a> <a href=\"https://docs.wandb.com/integrations/jupyter.html\" target=\"_blank\">(Documentation)</a>.<br/>\n",
       "                Project page: <a href=\"https://app.wandb.ai/joeranbosma/ml4ppa\" target=\"_blank\">https://app.wandb.ai/joeranbosma/ml4ppa</a><br/>\n",
       "                Run page: <a href=\"https://app.wandb.ai/joeranbosma/ml4ppa/runs/i8h3dogd\" target=\"_blank\">https://app.wandb.ai/joeranbosma/ml4ppa/runs/i8h3dogd</a><br/>\n",
       "            "
      ],
      "text/plain": [
       "<IPython.core.display.HTML object>"
      ]
     },
     "metadata": {
      "tags": []
     },
     "output_type": "display_data"
    },
    {
     "name": "stdout",
     "output_type": "stream",
     "text": [
      "Epoch 1/100\n",
      "1250/1250 [==============================] - 5s 4ms/step - loss: 0.2644 - acc: 0.8964 - val_loss: 0.1746 - val_acc: 0.9286\n",
      "Epoch 2/100\n",
      "1250/1250 [==============================] - 5s 4ms/step - loss: 0.1675 - acc: 0.9324 - val_loss: 0.1675 - val_acc: 0.9320\n",
      "Epoch 3/100\n",
      "1250/1250 [==============================] - 5s 4ms/step - loss: 0.1591 - acc: 0.9347 - val_loss: 0.1698 - val_acc: 0.9320\n",
      "Epoch 4/100\n",
      "1250/1250 [==============================] - 5s 4ms/step - loss: 0.1545 - acc: 0.9378 - val_loss: 0.1637 - val_acc: 0.9328\n",
      "Epoch 5/100\n",
      "1250/1250 [==============================] - 5s 4ms/step - loss: 0.1504 - acc: 0.9385 - val_loss: 0.1657 - val_acc: 0.9330\n",
      "Epoch 6/100\n",
      "1250/1250 [==============================] - 6s 4ms/step - loss: 0.1469 - acc: 0.9406 - val_loss: 0.1623 - val_acc: 0.9339\n",
      "Epoch 7/100\n",
      "1250/1250 [==============================] - 5s 4ms/step - loss: 0.1450 - acc: 0.9400 - val_loss: 0.1609 - val_acc: 0.9323\n",
      "Epoch 8/100\n",
      "1250/1250 [==============================] - 5s 4ms/step - loss: 0.1409 - acc: 0.9431 - val_loss: 0.1616 - val_acc: 0.9336\n",
      "Epoch 9/100\n",
      "1250/1250 [==============================] - 5s 4ms/step - loss: 0.1418 - acc: 0.9415 - val_loss: 0.1610 - val_acc: 0.9338\n",
      "Epoch 10/100\n",
      "1250/1250 [==============================] - 5s 4ms/step - loss: 0.1398 - acc: 0.9428 - val_loss: 0.1631 - val_acc: 0.9332\n",
      "Epoch 11/100\n",
      "1250/1250 [==============================] - 5s 4ms/step - loss: 0.1346 - acc: 0.9457 - val_loss: 0.1628 - val_acc: 0.9340\n",
      "Epoch 12/100\n",
      "1250/1250 [==============================] - 5s 4ms/step - loss: 0.1303 - acc: 0.9483 - val_loss: 0.1683 - val_acc: 0.9332\n",
      "Epoch 13/100\n",
      "1250/1250 [==============================] - 5s 4ms/step - loss: 0.1329 - acc: 0.9468 - val_loss: 0.1718 - val_acc: 0.9313\n",
      "Epoch 14/100\n",
      "1250/1250 [==============================] - 5s 4ms/step - loss: 0.1276 - acc: 0.9487 - val_loss: 0.1727 - val_acc: 0.9311\n",
      "Epoch 15/100\n",
      "1250/1250 [==============================] - 5s 4ms/step - loss: 0.1256 - acc: 0.9495 - val_loss: 0.1708 - val_acc: 0.9327\n",
      "Epoch 16/100\n",
      "1250/1250 [==============================] - 5s 4ms/step - loss: 0.1247 - acc: 0.9506 - val_loss: 0.1740 - val_acc: 0.9303\n",
      "Epoch 17/100\n",
      "1250/1250 [==============================] - 5s 4ms/step - loss: 0.1176 - acc: 0.9535 - val_loss: 0.1787 - val_acc: 0.9306\n",
      "Epoch 18/100\n",
      "1250/1250 [==============================] - 5s 4ms/step - loss: 0.1139 - acc: 0.9552 - val_loss: 0.1779 - val_acc: 0.9291\n",
      "Epoch 19/100\n",
      "1250/1250 [==============================] - 5s 4ms/step - loss: 0.1119 - acc: 0.9567 - val_loss: 0.1833 - val_acc: 0.9279\n",
      "Epoch 20/100\n",
      "1250/1250 [==============================] - 5s 4ms/step - loss: 0.1109 - acc: 0.9562 - val_loss: 0.1891 - val_acc: 0.9283\n",
      "Epoch 21/100\n",
      "1250/1250 [==============================] - 5s 4ms/step - loss: 0.1071 - acc: 0.9590 - val_loss: 0.1945 - val_acc: 0.9265\n",
      "Epoch 22/100\n",
      "1250/1250 [==============================] - 5s 4ms/step - loss: 0.1051 - acc: 0.9597 - val_loss: 0.1935 - val_acc: 0.9266\n",
      "Epoch 23/100\n",
      "1250/1250 [==============================] - 5s 4ms/step - loss: 0.1010 - acc: 0.9614 - val_loss: 0.1991 - val_acc: 0.9252\n",
      "Epoch 24/100\n",
      "1250/1250 [==============================] - 5s 4ms/step - loss: 0.0972 - acc: 0.9626 - val_loss: 0.2047 - val_acc: 0.9258\n",
      "Epoch 25/100\n",
      "1250/1250 [==============================] - 5s 4ms/step - loss: 0.0956 - acc: 0.9635 - val_loss: 0.2092 - val_acc: 0.9237\n",
      "Epoch 26/100\n",
      "1250/1250 [==============================] - 5s 4ms/step - loss: 0.0904 - acc: 0.9659 - val_loss: 0.2139 - val_acc: 0.9255\n",
      "Epoch 27/100\n",
      "1250/1250 [==============================] - 5s 4ms/step - loss: 0.0883 - acc: 0.9665 - val_loss: 0.2201 - val_acc: 0.9245\n",
      "Epoch 28/100\n",
      "1250/1250 [==============================] - 5s 4ms/step - loss: 0.0871 - acc: 0.9675 - val_loss: 0.2274 - val_acc: 0.9235\n",
      "Epoch 29/100\n",
      "1250/1250 [==============================] - 5s 4ms/step - loss: 0.0816 - acc: 0.9695 - val_loss: 0.2290 - val_acc: 0.9221\n",
      "Epoch 30/100\n",
      "1250/1250 [==============================] - 5s 4ms/step - loss: 0.0794 - acc: 0.9713 - val_loss: 0.2441 - val_acc: 0.9223\n",
      "Epoch 31/100\n",
      "1250/1250 [==============================] - 5s 4ms/step - loss: 0.0753 - acc: 0.9723 - val_loss: 0.2427 - val_acc: 0.9230\n",
      "Epoch 32/100\n",
      "1250/1250 [==============================] - 5s 4ms/step - loss: 0.0728 - acc: 0.9742 - val_loss: 0.2476 - val_acc: 0.9237\n",
      "Epoch 33/100\n",
      "1250/1250 [==============================] - 5s 4ms/step - loss: 0.0692 - acc: 0.9750 - val_loss: 0.2591 - val_acc: 0.9214\n",
      "Epoch 34/100\n",
      "1250/1250 [==============================] - 5s 4ms/step - loss: 0.0699 - acc: 0.9749 - val_loss: 0.2576 - val_acc: 0.9206\n",
      "Epoch 35/100\n",
      "1250/1250 [==============================] - 5s 4ms/step - loss: 0.0676 - acc: 0.9760 - val_loss: 0.2700 - val_acc: 0.9209\n",
      "Epoch 36/100\n",
      "1250/1250 [==============================] - 5s 4ms/step - loss: 0.0625 - acc: 0.9782 - val_loss: 0.2794 - val_acc: 0.9211\n",
      "Epoch 37/100\n",
      "1250/1250 [==============================] - 5s 4ms/step - loss: 0.0630 - acc: 0.9780 - val_loss: 0.2837 - val_acc: 0.9211\n",
      "Epoch 38/100\n",
      "1250/1250 [==============================] - 5s 4ms/step - loss: 0.0554 - acc: 0.9812 - val_loss: 0.2994 - val_acc: 0.9183\n",
      "Epoch 39/100\n",
      "1250/1250 [==============================] - 5s 4ms/step - loss: 0.0558 - acc: 0.9812 - val_loss: 0.3127 - val_acc: 0.9182\n",
      "Epoch 40/100\n",
      "1250/1250 [==============================] - 5s 4ms/step - loss: 0.0529 - acc: 0.9819 - val_loss: 0.3112 - val_acc: 0.9158\n",
      "Epoch 41/100\n",
      "1250/1250 [==============================] - 5s 4ms/step - loss: 0.0520 - acc: 0.9821 - val_loss: 0.3225 - val_acc: 0.9167\n",
      "Epoch 42/100\n",
      "1250/1250 [==============================] - 5s 4ms/step - loss: 0.0490 - acc: 0.9837 - val_loss: 0.3347 - val_acc: 0.9168\n",
      "Epoch 43/100\n",
      "1250/1250 [==============================] - 5s 4ms/step - loss: 0.0469 - acc: 0.9841 - val_loss: 0.3468 - val_acc: 0.9148\n",
      "Epoch 44/100\n",
      "1250/1250 [==============================] - 5s 4ms/step - loss: 0.0446 - acc: 0.9852 - val_loss: 0.3483 - val_acc: 0.9139\n",
      "Epoch 45/100\n",
      "1250/1250 [==============================] - 5s 4ms/step - loss: 0.0417 - acc: 0.9863 - val_loss: 0.3648 - val_acc: 0.9158\n",
      "Epoch 46/100\n",
      "1250/1250 [==============================] - 5s 4ms/step - loss: 0.0405 - acc: 0.9867 - val_loss: 0.3732 - val_acc: 0.9165\n",
      "Epoch 47/100\n",
      "1250/1250 [==============================] - 5s 4ms/step - loss: 0.0389 - acc: 0.9871 - val_loss: 0.3851 - val_acc: 0.9181\n",
      "Epoch 48/100\n",
      "1250/1250 [==============================] - 5s 4ms/step - loss: 0.0366 - acc: 0.9883 - val_loss: 0.3870 - val_acc: 0.9158\n",
      "Epoch 49/100\n",
      "1250/1250 [==============================] - 5s 4ms/step - loss: 0.0352 - acc: 0.9885 - val_loss: 0.4031 - val_acc: 0.9160\n",
      "Epoch 50/100\n",
      "1250/1250 [==============================] - 5s 4ms/step - loss: 0.0342 - acc: 0.9887 - val_loss: 0.4045 - val_acc: 0.9136\n",
      "Epoch 51/100\n",
      "1250/1250 [==============================] - 5s 4ms/step - loss: 0.0320 - acc: 0.9894 - val_loss: 0.4302 - val_acc: 0.9125\n",
      "Epoch 52/100\n",
      "1250/1250 [==============================] - 5s 4ms/step - loss: 0.0310 - acc: 0.9901 - val_loss: 0.4491 - val_acc: 0.9088\n",
      "Epoch 53/100\n",
      "1250/1250 [==============================] - 5s 4ms/step - loss: 0.0312 - acc: 0.9897 - val_loss: 0.4285 - val_acc: 0.9160\n",
      "Epoch 54/100\n",
      "1250/1250 [==============================] - 5s 4ms/step - loss: 0.0286 - acc: 0.9911 - val_loss: 0.4482 - val_acc: 0.9158\n",
      "Epoch 55/100\n",
      "1250/1250 [==============================] - 5s 4ms/step - loss: 0.0263 - acc: 0.9916 - val_loss: 0.4681 - val_acc: 0.9124\n",
      "Epoch 56/100\n",
      "1250/1250 [==============================] - 5s 4ms/step - loss: 0.0264 - acc: 0.9915 - val_loss: 0.4666 - val_acc: 0.9139\n",
      "Epoch 57/100\n",
      "1250/1250 [==============================] - 5s 4ms/step - loss: 0.0256 - acc: 0.9920 - val_loss: 0.4852 - val_acc: 0.9128\n",
      "Epoch 58/100\n",
      "1250/1250 [==============================] - 5s 4ms/step - loss: 0.0241 - acc: 0.9922 - val_loss: 0.5149 - val_acc: 0.9093\n",
      "Epoch 59/100\n",
      "1250/1250 [==============================] - 5s 4ms/step - loss: 0.0221 - acc: 0.9932 - val_loss: 0.5154 - val_acc: 0.9129\n",
      "Epoch 60/100\n",
      "1250/1250 [==============================] - 5s 4ms/step - loss: 0.0228 - acc: 0.9924 - val_loss: 0.5175 - val_acc: 0.9125\n",
      "Epoch 61/100\n",
      "1250/1250 [==============================] - 5s 4ms/step - loss: 0.0220 - acc: 0.9929 - val_loss: 0.5330 - val_acc: 0.9108\n",
      "Epoch 62/100\n",
      "1250/1250 [==============================] - 5s 4ms/step - loss: 0.0211 - acc: 0.9932 - val_loss: 0.5333 - val_acc: 0.9143\n",
      "Epoch 63/100\n",
      "1250/1250 [==============================] - 5s 4ms/step - loss: 0.0185 - acc: 0.9941 - val_loss: 0.5749 - val_acc: 0.9160\n",
      "Epoch 64/100\n",
      "1250/1250 [==============================] - 5s 4ms/step - loss: 0.0216 - acc: 0.9928 - val_loss: 0.5524 - val_acc: 0.9115\n",
      "Epoch 65/100\n",
      "1250/1250 [==============================] - 5s 4ms/step - loss: 0.0181 - acc: 0.9942 - val_loss: 0.5631 - val_acc: 0.9131\n",
      "Epoch 66/100\n",
      "1250/1250 [==============================] - 5s 4ms/step - loss: 0.0194 - acc: 0.9936 - val_loss: 0.5641 - val_acc: 0.9153\n",
      "Epoch 67/100\n",
      "1250/1250 [==============================] - 5s 4ms/step - loss: 0.0162 - acc: 0.9946 - val_loss: 0.5907 - val_acc: 0.9130\n",
      "Epoch 68/100\n",
      "1250/1250 [==============================] - 5s 4ms/step - loss: 0.0179 - acc: 0.9941 - val_loss: 0.5978 - val_acc: 0.9122\n",
      "Epoch 69/100\n",
      "1250/1250 [==============================] - 5s 4ms/step - loss: 0.0156 - acc: 0.9948 - val_loss: 0.6374 - val_acc: 0.9122\n",
      "Epoch 70/100\n",
      "1250/1250 [==============================] - 5s 4ms/step - loss: 0.0167 - acc: 0.9946 - val_loss: 0.6336 - val_acc: 0.9091\n",
      "Epoch 71/100\n",
      "1250/1250 [==============================] - 5s 4ms/step - loss: 0.0164 - acc: 0.9941 - val_loss: 0.6397 - val_acc: 0.9127\n",
      "Epoch 72/100\n",
      "1250/1250 [==============================] - 5s 4ms/step - loss: 0.0155 - acc: 0.9947 - val_loss: 0.6231 - val_acc: 0.9119\n",
      "Epoch 73/100\n",
      "1250/1250 [==============================] - 5s 4ms/step - loss: 0.0152 - acc: 0.9950 - val_loss: 0.6641 - val_acc: 0.9090\n",
      "Epoch 74/100\n",
      "1250/1250 [==============================] - 5s 4ms/step - loss: 0.0149 - acc: 0.9951 - val_loss: 0.6386 - val_acc: 0.9123\n",
      "Epoch 75/100\n",
      "1250/1250 [==============================] - 5s 4ms/step - loss: 0.0134 - acc: 0.9954 - val_loss: 0.6686 - val_acc: 0.9137\n",
      "Epoch 76/100\n",
      "1250/1250 [==============================] - 5s 4ms/step - loss: 0.0134 - acc: 0.9955 - val_loss: 0.6639 - val_acc: 0.9160\n",
      "Epoch 77/100\n",
      "1250/1250 [==============================] - 5s 4ms/step - loss: 0.0137 - acc: 0.9951 - val_loss: 0.6709 - val_acc: 0.9148\n",
      "Epoch 78/100\n",
      "1250/1250 [==============================] - 5s 4ms/step - loss: 0.0128 - acc: 0.9955 - val_loss: 0.6866 - val_acc: 0.9140\n",
      "Epoch 79/100\n",
      "1250/1250 [==============================] - 5s 4ms/step - loss: 0.0128 - acc: 0.9957 - val_loss: 0.7000 - val_acc: 0.9176\n",
      "Epoch 80/100\n",
      "1250/1250 [==============================] - 5s 4ms/step - loss: 0.0115 - acc: 0.9964 - val_loss: 0.7027 - val_acc: 0.9129\n",
      "Epoch 81/100\n",
      "1250/1250 [==============================] - 5s 4ms/step - loss: 0.0122 - acc: 0.9961 - val_loss: 0.6859 - val_acc: 0.9143\n",
      "Epoch 82/100\n",
      "1250/1250 [==============================] - 5s 4ms/step - loss: 0.0112 - acc: 0.9963 - val_loss: 0.7169 - val_acc: 0.9159\n",
      "Epoch 83/100\n",
      "1250/1250 [==============================] - 5s 4ms/step - loss: 0.0115 - acc: 0.9961 - val_loss: 0.7383 - val_acc: 0.9115\n",
      "Epoch 84/100\n",
      "1250/1250 [==============================] - 5s 4ms/step - loss: 0.0120 - acc: 0.9959 - val_loss: 0.7202 - val_acc: 0.9136\n",
      "Epoch 85/100\n",
      "1250/1250 [==============================] - 5s 4ms/step - loss: 0.0121 - acc: 0.9961 - val_loss: 0.7180 - val_acc: 0.9140\n",
      "Epoch 86/100\n",
      "1250/1250 [==============================] - 5s 4ms/step - loss: 0.0115 - acc: 0.9961 - val_loss: 0.7866 - val_acc: 0.9096\n",
      "Epoch 87/100\n",
      "1250/1250 [==============================] - 5s 4ms/step - loss: 0.0115 - acc: 0.9961 - val_loss: 0.7349 - val_acc: 0.9129\n",
      "Epoch 88/100\n",
      "1250/1250 [==============================] - 5s 4ms/step - loss: 0.0113 - acc: 0.9959 - val_loss: 0.7328 - val_acc: 0.9143\n",
      "Epoch 89/100\n",
      "1250/1250 [==============================] - 5s 4ms/step - loss: 0.0099 - acc: 0.9965 - val_loss: 0.7562 - val_acc: 0.9133\n",
      "Epoch 90/100\n",
      "1250/1250 [==============================] - 5s 4ms/step - loss: 0.0105 - acc: 0.9964 - val_loss: 0.7485 - val_acc: 0.9140\n",
      "Epoch 91/100\n",
      "1250/1250 [==============================] - 5s 4ms/step - loss: 0.0117 - acc: 0.9960 - val_loss: 0.7516 - val_acc: 0.9139\n",
      "Epoch 92/100\n",
      "1250/1250 [==============================] - 5s 4ms/step - loss: 0.0093 - acc: 0.9968 - val_loss: 0.7534 - val_acc: 0.9129\n",
      "Epoch 93/100\n",
      "1250/1250 [==============================] - 5s 4ms/step - loss: 0.0110 - acc: 0.9961 - val_loss: 0.7551 - val_acc: 0.9128\n",
      "Epoch 94/100\n",
      "1250/1250 [==============================] - 5s 4ms/step - loss: 0.0089 - acc: 0.9970 - val_loss: 0.8132 - val_acc: 0.9075\n",
      "Epoch 95/100\n",
      "1250/1250 [==============================] - 5s 4ms/step - loss: 0.0110 - acc: 0.9962 - val_loss: 0.7922 - val_acc: 0.9085\n",
      "Epoch 96/100\n",
      "1250/1250 [==============================] - 5s 4ms/step - loss: 0.0093 - acc: 0.9971 - val_loss: 0.7669 - val_acc: 0.9132\n",
      "Epoch 97/100\n",
      "1250/1250 [==============================] - 5s 4ms/step - loss: 0.0090 - acc: 0.9968 - val_loss: 0.7903 - val_acc: 0.9134\n",
      "Epoch 98/100\n",
      "1250/1250 [==============================] - 5s 4ms/step - loss: 0.0087 - acc: 0.9967 - val_loss: 0.8086 - val_acc: 0.9133\n",
      "Epoch 99/100\n",
      "1250/1250 [==============================] - 5s 4ms/step - loss: 0.0103 - acc: 0.9964 - val_loss: 0.7906 - val_acc: 0.9151\n",
      "Epoch 100/100\n",
      "1250/1250 [==============================] - 5s 4ms/step - loss: 0.0085 - acc: 0.9971 - val_loss: 0.8207 - val_acc: 0.9161\n"
     ]
    }
   ],
   "source": [
    "args = Args({'id': 'MLP - capacity', 'architecture': '128^5', 'norm': 'minmax', 'trans': 'plain',\n",
    "             'nodes1': 128, 'nodes2': 128, 'nodes3': 128, 'nodes4': 128, 'nodes5': 128,\n",
    "             'dropout1': 0, 'dropout2': 0, 'dropout3': 0, 'dropout4': 0, 'dropout5': 0,\n",
    "             'activation': 'relu', 'batch_size': 64,\n",
    "             'shift_phi': False, 'flip_eta': False}, verbose=True, wandb_init=True)\n",
    "\n",
    "# read train and validation data\n",
    "train_df, val_df, features, target = load_data('data', trans=args.trans, norm=args.norm)\n",
    "\n",
    "model = build_architecture(args, input_shape=(len(features),))\n",
    "train_batch_generator = BatchCreator2(train_df, features, target, balance_classes=False,\n",
    "                                      shift_phi=args.shift_phi, flip_eta=args.flip_eta,\n",
    "                                      batch_size=args.batch_size)\n",
    "\n",
    "# train the model\n",
    "history = model.fit(train_batch_generator.flow(), \n",
    "                    steps_per_epoch = train_batch_generator.n // train_batch_generator.batch_size,\n",
    "                    validation_data=(val_df[features].values, val_df[target].values),\n",
    "                    epochs=args.epochs, verbose=1, callbacks=[WandbCallback()])"
   ]
  },
  {
   "cell_type": "code",
   "execution_count": 23,
   "metadata": {
    "colab": {
     "base_uri": "https://localhost:8080/",
     "height": 528
    },
    "colab_type": "code",
    "executionInfo": {
     "elapsed": 1713,
     "status": "ok",
     "timestamp": 1585264259187,
     "user": {
      "displayName": "Joeran Bosma",
      "photoUrl": "https://lh3.googleusercontent.com/a-/AOh14GiEvCunvq33iGZ3RU-P9BMF7L60e8LoQ3Y1AfZJ4Q=s64",
      "userId": "05378465311079003812"
     },
     "user_tz": -60
    },
    "id": "vf6pGF-OFw3h",
    "outputId": "1d1423e4-b45a-44c5-fe7e-d75d4b069e45"
   },
   "outputs": [
    {
     "data": {
      "image/png": "[encoded data removed]",
      "text/plain": [
       "<Figure size 1080x576 with 1 Axes>"
      ]
     },
     "metadata": {
      "tags": []
     },
     "output_type": "display_data"
    }
   ],
   "source": [
    "plot_history(history, limits=True)"
   ]
  },
  {
   "cell_type": "markdown",
   "metadata": {
    "colab_type": "text",
    "id": "jT6lxUXF5Zss"
   },
   "source": [
    "## Cross-validation setup with generator"
   ]
  },
  {
   "cell_type": "code",
   "execution_count": 0,
   "metadata": {
    "colab": {},
    "colab_type": "code",
    "id": "cBtmfFLP5MJy"
   },
   "outputs": [],
   "source": [
    "def train_net_gen(args, train_iterator, val_features, val_labels, model=None, keras_verbose=0, \n",
    "                  verbose=True, evaluate=True, prediction_threshold='infer'):\n",
    "\n",
    "    # Set up the model, if not provided\n",
    "    if model == None:\n",
    "        model = build_architecture(args, input_shape=(train_iterator.n_classes,))\n",
    "    \n",
    "    if verbose:\n",
    "        model.summary()\n",
    "    \n",
    "    callbacks = []\n",
    "    if args.lr_decay > 0:\n",
    "        reduce_lr = ReduceLROnPlateau(monitor='val_loss', factor=args.lr_decay,\n",
    "                              patience=7, min_lr=1e-6)\n",
    "        callbacks.append(reduce_lr)\n",
    "    \n",
    "    if 'callbacks' in args.keys():\n",
    "        callbacks.extend(args.callbacks)\n",
    "    callbacks.append(WandbCallback())\n",
    "\n",
    "    # train the model\n",
    "    history = model.fit(train_iterator.flow(),\n",
    "                        steps_per_epoch = train_iterator.n // train_iterator.batch_size,\n",
    "                        validation_data=(val_features, val_labels), \n",
    "                        epochs=args.epochs, verbose=keras_verbose, callbacks=callbacks)\n",
    "    \n",
    "    # save model online\n",
    "    model.save(os.path.join(wandb.run.dir, \"model-final.h5\"))\n",
    "\n",
    "    if evaluate:\n",
    "        # evaluate model performance\n",
    "        # if prediction threshold needs to be inferred, try different values for\n",
    "        # the training set and use the optimal value for the validation predictions\n",
    "        if prediction_threshold == 'infer':\n",
    "            print(\"Inferring optimal prediction threshold..\")\n",
    "            accs = [] \n",
    "            # skip unlikely values <0.2 and >0.8\n",
    "            search_space = np.linspace(0.2, 0.8, num=31)\n",
    "            for threshold in tqdm(search_space):\n",
    "                # calculate predictions for the validation data\n",
    "                ypred = model.predict(train_features)\n",
    "                pred = (ypred > threshold)\n",
    "\n",
    "                # calculate (and show) metrics\n",
    "                conf_mat, accuracy = metrics(train_labels, pred, verbose=False)\n",
    "                accs.append(accuracy)\n",
    "            # select optimal value for train set as threshold\n",
    "            prediction_threshold = search_space[np.argmax(accs)]\n",
    "            if verbose:\n",
    "                print(\"Optimal threshold: {}\".format(prediction_threshold))\n",
    "\n",
    "        # calculate predictions for the validation data\n",
    "        ypred = model.predict(validation[features])\n",
    "        pred = (ypred > prediction_threshold)\n",
    "\n",
    "        # calculate (and show) metrics\n",
    "        conf_mat, accuracy = metrics(validation[target], pred, verbose=True)\n",
    "\n",
    "    return model, history"
   ]
  },
  {
   "cell_type": "code",
   "execution_count": 0,
   "metadata": {
    "colab": {},
    "colab_type": "code",
    "id": "rCbM06tm4f_0"
   },
   "outputs": [],
   "source": [
    "def aug_cv_test(args, cv_splits=5, split_test_set=False, random_state=576, \n",
    "                return_histories=False, return_models=False, return_test_set=False,\n",
    "                verbose=True, wandb_init=True):\n",
    "    # read train and validation data\n",
    "    train_df, val_df, features, target = load_data('data', trans=args.trans, norm=args.norm)\n",
    "    \n",
    "    # combine train and validation data (for we will perform our own splits)\n",
    "    data_df = train_df.append(val_df, ignore_index=True)\n",
    "\n",
    "    if split_test_set:\n",
    "        # select test set\n",
    "        kf = KFold(n_splits=cv_splits+1, shuffle=True, random_state=random_state)\n",
    "        train_val_indices, test_indices = next(kf.split(data_df))\n",
    "\n",
    "        # redefine train&validation and test sets\n",
    "        data_df, test_df = data_df.iloc[train_val_indices], data_df.iloc[test_indices]\n",
    "    \n",
    "    print(\"Performing {}-fold cross validation with {} samples\".format(\n",
    "        cv_splits, data_df.index.size))\n",
    "    \n",
    "    cv_train_accuracies = []\n",
    "    cv_val_accuracies = []\n",
    "    cv_max_val_accuracies = []\n",
    "    cv_histories = []\n",
    "    cv_models = []\n",
    "    for cv_it in range(1, 1+cv_splits):\n",
    "        # employ cross validation splits\n",
    "        kf = KFold(n_splits=cv_splits, shuffle=True, random_state=random_state)\n",
    "        # bit wacky, but this selects the cv-th set of train/test indices (with cv starting at ONE)\n",
    "        for i in range(cv_it):\n",
    "            train_indices, val_indices = next(kf.split(data_df))\n",
    "        \n",
    "        # (re)define train and validation sets\n",
    "        train_df, val_df = data_df.iloc[train_indices], data_df.iloc[val_indices]\n",
    "        print(\"Starting fold {}/{} with {} train samples and {} validation samples\".format(\n",
    "            cv_it, cv_splits, len(train_indices), len(val_indices)\n",
    "        ))\n",
    "        \n",
    "        # save cross-validation settings to arguments, and as a result to W&B\n",
    "        args['cv_splits'] = cv_splits\n",
    "        args['cv_iteration'] = cv_it\n",
    "\n",
    "        # start Weights & Biases run\n",
    "        if wandb_init:\n",
    "            wandb.init(project='ml4ppa', name=args.id, config=dict(args))\n",
    "\n",
    "        # get generators\n",
    "        train_batch_generator = BatchCreator2(train_df, features, target, balance_classes=False,\n",
    "                                              shift_phi=args.shift_phi, flip_eta=args.flip_eta,\n",
    "                                              batch_size=args.batch_size)\n",
    "        \n",
    "        # train and evaluate model\n",
    "        model, history = train_net_gen(args, train_batch_generator, val_df[features].values, val_df[target].values, \n",
    "                                       keras_verbose=0, verbose=False, evaluate=False)\n",
    "        \n",
    "        # save results\n",
    "        cv_models.append(model)\n",
    "        cv_histories.append(history)\n",
    "        cv_train_accuracies.append(history.history['acc'][-1])\n",
    "        cv_val_accuracies.append(history.history['val_acc'][-1])\n",
    "        cv_max_val_accuracies.append(np.max(history.history['val_acc']))\n",
    "\n",
    "    if verbose:\n",
    "        train_mean, train_std = np.mean(cv_train_accuracies), np.std(cv_train_accuracies)\n",
    "        val_mean, val_std = np.mean(cv_val_accuracies), np.std(cv_val_accuracies)\n",
    "        print(\"{} train acc: {:.5f}±{:.5f}, val acc: {:.5f}±{:.5f}\".format(\n",
    "            args.id, train_mean, train_std, val_mean, val_std))\n",
    "    \n",
    "    # accumulate returns\n",
    "    returns = [cv_train_accuracies, cv_val_accuracies, cv_max_val_accuracies]\n",
    "    if return_histories:\n",
    "        returns.append(cv_histories)\n",
    "    if return_models:\n",
    "        returns.append(cv_models)\n",
    "    if return_test_set:\n",
    "        returns.append(test_df)\n",
    "    \n",
    "    return returns"
   ]
  },
  {
   "cell_type": "markdown",
   "metadata": {
    "colab_type": "text",
    "id": "ioA5DZ7Q7beH"
   },
   "source": [
    "## Test 1: Baseline"
   ]
  },
  {
   "cell_type": "code",
   "execution_count": 24,
   "metadata": {
    "colab": {
     "base_uri": "https://localhost:8080/",
     "height": 1000
    },
    "colab_type": "code",
    "executionInfo": {
     "elapsed": 2437380,
     "status": "ok",
     "timestamp": 1585266722175,
     "user": {
      "displayName": "Joeran Bosma",
      "photoUrl": "https://lh3.googleusercontent.com/a-/AOh14GiEvCunvq33iGZ3RU-P9BMF7L60e8LoQ3Y1AfZJ4Q=s64",
      "userId": "05378465311079003812"
     },
     "user_tz": -60
    },
    "id": "bf9NWLER7Bo7",
    "outputId": "68b363e0-87f1-4843-e1fa-d09a5c462882"
   },
   "outputs": [
    {
     "name": "stdout",
     "output_type": "stream",
     "text": [
      "id                       MLP - baseline\n",
      "architecture                      128^5\n",
      "loss                binary_crossentropy\n",
      "activation                         relu\n",
      "final_activation                sigmoid\n",
      "epochs                              100\n",
      "batch_size                           64\n",
      "optimizer                          adam\n",
      "lr                               0.0001\n",
      "lr_decay                              0\n",
      "norm                             minmax\n",
      "trans                             plain\n",
      "nodes1                              128\n",
      "nodes2                              128\n",
      "nodes3                              128\n",
      "nodes4                              128\n",
      "nodes5                              128\n",
      "dropout1                              0\n",
      "dropout2                              0\n",
      "dropout3                              0\n",
      "dropout4                              0\n",
      "dropout5                              0\n",
      "batch_norm                           []\n",
      "shift_phi                         False\n",
      "flip_eta                          False\n",
      "dtype: object\n",
      "Performing 5-fold cross validation with 100000 samples\n",
      "Starting fold 1/5 with 80000 train samples and 20000 validation samples\n"
     ]
    },
    {
     "data": {
      "text/html": [
       "\n",
       "                Logging results to <a href=\"https://wandb.com\" target=\"_blank\">Weights & Biases</a> <a href=\"https://docs.wandb.com/integrations/jupyter.html\" target=\"_blank\">(Documentation)</a>.<br/>\n",
       "                Project page: <a href=\"https://app.wandb.ai/joeranbosma/ml4ppa\" target=\"_blank\">https://app.wandb.ai/joeranbosma/ml4ppa</a><br/>\n",
       "                Run page: <a href=\"https://app.wandb.ai/joeranbosma/ml4ppa/runs/1eu3odcd\" target=\"_blank\">https://app.wandb.ai/joeranbosma/ml4ppa/runs/1eu3odcd</a><br/>\n",
       "            "
      ],
      "text/plain": [
       "<IPython.core.display.HTML object>"
      ]
     },
     "metadata": {
      "tags": []
     },
     "output_type": "display_data"
    },
    {
     "name": "stdout",
     "output_type": "stream",
     "text": [
      "Starting fold 2/5 with 80000 train samples and 20000 validation samples\n"
     ]
    },
    {
     "data": {
      "text/html": [
       "\n",
       "                Logging results to <a href=\"https://wandb.com\" target=\"_blank\">Weights & Biases</a> <a href=\"https://docs.wandb.com/integrations/jupyter.html\" target=\"_blank\">(Documentation)</a>.<br/>\n",
       "                Project page: <a href=\"https://app.wandb.ai/joeranbosma/ml4ppa\" target=\"_blank\">https://app.wandb.ai/joeranbosma/ml4ppa</a><br/>\n",
       "                Run page: <a href=\"https://app.wandb.ai/joeranbosma/ml4ppa/runs/1nrwkg1m\" target=\"_blank\">https://app.wandb.ai/joeranbosma/ml4ppa/runs/1nrwkg1m</a><br/>\n",
       "            "
      ],
      "text/plain": [
       "<IPython.core.display.HTML object>"
      ]
     },
     "metadata": {
      "tags": []
     },
     "output_type": "display_data"
    },
    {
     "name": "stderr",
     "output_type": "stream",
     "text": [
      "Retry attempt failed:\n",
      "Traceback (most recent call last):\n",
      "  File \"/usr/local/lib/python3.6/dist-packages/urllib3/connectionpool.py\", line 384, in _make_request\n",
      "    six.raise_from(e, None)\n",
      "  File \"<string>\", line 2, in raise_from\n",
      "  File \"/usr/local/lib/python3.6/dist-packages/urllib3/connectionpool.py\", line 380, in _make_request\n",
      "    httplib_response = conn.getresponse()\n",
      "  File \"/usr/lib/python3.6/http/client.py\", line 1346, in getresponse\n",
      "    response.begin()\n",
      "  File \"/usr/lib/python3.6/http/client.py\", line 307, in begin\n",
      "    version, status, reason = self._read_status()\n",
      "  File \"/usr/lib/python3.6/http/client.py\", line 268, in _read_status\n",
      "    line = str(self.fp.readline(_MAXLINE + 1), \"iso-8859-1\")\n",
      "  File \"/usr/lib/python3.6/socket.py\", line 586, in readinto\n",
      "    return self._sock.recv_into(b)\n",
      "  File \"/usr/lib/python3.6/ssl.py\", line 1012, in recv_into\n",
      "    return self.read(nbytes, buffer)\n",
      "  File \"/usr/lib/python3.6/ssl.py\", line 874, in read\n",
      "    return self._sslobj.read(len, buffer)\n",
      "  File \"/usr/lib/python3.6/ssl.py\", line 631, in read\n",
      "    v = self._sslobj.read(len, buffer)\n",
      "socket.timeout: The read operation timed out\n",
      "\n",
      "During handling of the above exception, another exception occurred:\n",
      "\n",
      "Traceback (most recent call last):\n",
      "  File \"/usr/local/lib/python3.6/dist-packages/requests/adapters.py\", line 449, in send\n",
      "    timeout=timeout\n",
      "  File \"/usr/local/lib/python3.6/dist-packages/urllib3/connectionpool.py\", line 638, in urlopen\n",
      "    _stacktrace=sys.exc_info()[2])\n",
      "  File \"/usr/local/lib/python3.6/dist-packages/urllib3/util/retry.py\", line 368, in increment\n",
      "    raise six.reraise(type(error), error, _stacktrace)\n",
      "  File \"/usr/local/lib/python3.6/dist-packages/urllib3/packages/six.py\", line 686, in reraise\n",
      "    raise value\n",
      "  File \"/usr/local/lib/python3.6/dist-packages/urllib3/connectionpool.py\", line 600, in urlopen\n",
      "    chunked=chunked)\n",
      "  File \"/usr/local/lib/python3.6/dist-packages/urllib3/connectionpool.py\", line 386, in _make_request\n",
      "    self._raise_timeout(err=e, url=url, timeout_value=read_timeout)\n",
      "  File \"/usr/local/lib/python3.6/dist-packages/urllib3/connectionpool.py\", line 306, in _raise_timeout\n",
      "    raise ReadTimeoutError(self, url, \"Read timed out. (read timeout=%s)\" % timeout_value)\n",
      "urllib3.exceptions.ReadTimeoutError: HTTPSConnectionPool(host='api.wandb.ai', port=443): Read timed out. (read timeout=10)\n",
      "\n",
      "During handling of the above exception, another exception occurred:\n",
      "\n",
      "Traceback (most recent call last):\n",
      "  File \"/usr/local/lib/python3.6/dist-packages/wandb/retry.py\", line 95, in __call__\n",
      "    result = self._call_fn(*args, **kwargs)\n",
      "  File \"/usr/local/lib/python3.6/dist-packages/wandb/apis/internal.py\", line 110, in execute\n",
      "    return self.client.execute(*args, **kwargs)\n",
      "  File \"/usr/local/lib/python3.6/dist-packages/gql/client.py\", line 52, in execute\n",
      "    result = self._get_result(document, *args, **kwargs)\n",
      "  File \"/usr/local/lib/python3.6/dist-packages/gql/client.py\", line 60, in _get_result\n",
      "    return self.transport.execute(document, *args, **kwargs)\n",
      "  File \"/usr/local/lib/python3.6/dist-packages/gql/transport/requests.py\", line 38, in execute\n",
      "    request = requests.post(self.url, **post_args)\n",
      "  File \"/usr/local/lib/python3.6/dist-packages/requests/api.py\", line 116, in post\n",
      "    return request('post', url, data=data, json=json, **kwargs)\n",
      "  File \"/usr/local/lib/python3.6/dist-packages/requests/api.py\", line 60, in request\n",
      "    return session.request(method=method, url=url, **kwargs)\n",
      "  File \"/usr/local/lib/python3.6/dist-packages/requests/sessions.py\", line 533, in request\n",
      "    resp = self.send(prep, **send_kwargs)\n",
      "  File \"/usr/local/lib/python3.6/dist-packages/requests/sessions.py\", line 646, in send\n",
      "    r = adapter.send(request, **kwargs)\n",
      "  File \"/usr/local/lib/python3.6/dist-packages/requests/adapters.py\", line 529, in send\n",
      "    raise ReadTimeout(e, request=request)\n",
      "requests.exceptions.ReadTimeout: HTTPSConnectionPool(host='api.wandb.ai', port=443): Read timed out. (read timeout=10)\n",
      "\u001b[34m\u001b[1mwandb\u001b[0m: Network error (ReadTimeout), entering retry loop. See /gdrive/My Drive/Universiteit/ML4PP/Final/wandb/debug.log for full traceback.\n",
      "\u001b[34m\u001b[1mwandb\u001b[0m: Network error resolved after 0:00:59.078509, resuming normal operation.\n"
     ]
    },
    {
     "name": "stdout",
     "output_type": "stream",
     "text": [
      "Starting fold 3/5 with 80000 train samples and 20000 validation samples\n"
     ]
    },
    {
     "data": {
      "text/html": [
       "\n",
       "                Logging results to <a href=\"https://wandb.com\" target=\"_blank\">Weights & Biases</a> <a href=\"https://docs.wandb.com/integrations/jupyter.html\" target=\"_blank\">(Documentation)</a>.<br/>\n",
       "                Project page: <a href=\"https://app.wandb.ai/joeranbosma/ml4ppa\" target=\"_blank\">https://app.wandb.ai/joeranbosma/ml4ppa</a><br/>\n",
       "                Run page: <a href=\"https://app.wandb.ai/joeranbosma/ml4ppa/runs/3v8mm3w5\" target=\"_blank\">https://app.wandb.ai/joeranbosma/ml4ppa/runs/3v8mm3w5</a><br/>\n",
       "            "
      ],
      "text/plain": [
       "<IPython.core.display.HTML object>"
      ]
     },
     "metadata": {
      "tags": []
     },
     "output_type": "display_data"
    },
    {
     "name": "stdout",
     "output_type": "stream",
     "text": [
      "Starting fold 4/5 with 80000 train samples and 20000 validation samples\n"
     ]
    },
    {
     "data": {
      "text/html": [
       "\n",
       "                Logging results to <a href=\"https://wandb.com\" target=\"_blank\">Weights & Biases</a> <a href=\"https://docs.wandb.com/integrations/jupyter.html\" target=\"_blank\">(Documentation)</a>.<br/>\n",
       "                Project page: <a href=\"https://app.wandb.ai/joeranbosma/ml4ppa\" target=\"_blank\">https://app.wandb.ai/joeranbosma/ml4ppa</a><br/>\n",
       "                Run page: <a href=\"https://app.wandb.ai/joeranbosma/ml4ppa/runs/14lbl3y0\" target=\"_blank\">https://app.wandb.ai/joeranbosma/ml4ppa/runs/14lbl3y0</a><br/>\n",
       "            "
      ],
      "text/plain": [
       "<IPython.core.display.HTML object>"
      ]
     },
     "metadata": {
      "tags": []
     },
     "output_type": "display_data"
    },
    {
     "name": "stdout",
     "output_type": "stream",
     "text": [
      "Starting fold 5/5 with 80000 train samples and 20000 validation samples\n"
     ]
    },
    {
     "data": {
      "text/html": [
       "\n",
       "                Logging results to <a href=\"https://wandb.com\" target=\"_blank\">Weights & Biases</a> <a href=\"https://docs.wandb.com/integrations/jupyter.html\" target=\"_blank\">(Documentation)</a>.<br/>\n",
       "                Project page: <a href=\"https://app.wandb.ai/joeranbosma/ml4ppa\" target=\"_blank\">https://app.wandb.ai/joeranbosma/ml4ppa</a><br/>\n",
       "                Run page: <a href=\"https://app.wandb.ai/joeranbosma/ml4ppa/runs/tlr39wxq\" target=\"_blank\">https://app.wandb.ai/joeranbosma/ml4ppa/runs/tlr39wxq</a><br/>\n",
       "            "
      ],
      "text/plain": [
       "<IPython.core.display.HTML object>"
      ]
     },
     "metadata": {
      "tags": []
     },
     "output_type": "display_data"
    },
    {
     "name": "stdout",
     "output_type": "stream",
     "text": [
      "MLP - baseline train acc: 0.99672±0.00045, val acc: 0.91422±0.00241\n"
     ]
    }
   ],
   "source": [
    "args = Args({'id': 'MLP - baseline', 'architecture': '128^5', 'norm': 'minmax', 'trans': 'plain',\n",
    "             'nodes1': 128, 'nodes2': 128, 'nodes3': 128, 'nodes4': 128, 'nodes5': 128,\n",
    "             'dropout1': 0, 'dropout2': 0, 'dropout3': 0, 'dropout4': 0, 'dropout5': 0,\n",
    "             'activation': 'relu', 'batch_size': 64,\n",
    "             'shift_phi': False, 'flip_eta': False}, verbose=True, wandb_init=False)\n",
    "\n",
    "cv_train_accuracies, cv_val_accuracies, cv_max_val_accuracies = aug_cv_test(args)"
   ]
  },
  {
   "cell_type": "code",
   "execution_count": 0,
   "metadata": {
    "colab": {},
    "colab_type": "code",
    "id": "BuZLnDJY7zWF"
   },
   "outputs": [],
   "source": [
    "save_metrics(cv_train_accuracies, cv_val_accuracies, cv_max_val_accuracies, name=\"baseline\")"
   ]
  },
  {
   "cell_type": "markdown",
   "metadata": {
    "colab_type": "text",
    "id": "jCsrhzwe-abi"
   },
   "source": [
    "## Test 2: data augmentation of phi angles\n",
    "Investigate rotational symmetry of the system."
   ]
  },
  {
   "cell_type": "code",
   "execution_count": 26,
   "metadata": {
    "colab": {
     "base_uri": "https://localhost:8080/",
     "height": 833
    },
    "colab_type": "code",
    "executionInfo": {
     "elapsed": 2465105,
     "status": "ok",
     "timestamp": 1585269187303,
     "user": {
      "displayName": "Joeran Bosma",
      "photoUrl": "https://lh3.googleusercontent.com/a-/AOh14GiEvCunvq33iGZ3RU-P9BMF7L60e8LoQ3Y1AfZJ4Q=s64",
      "userId": "05378465311079003812"
     },
     "user_tz": -60
    },
    "id": "KXNTztFdDmSx",
    "outputId": "c8bfc6ee-630f-4047-c5bf-c1ce1ac6cbee"
   },
   "outputs": [
    {
     "name": "stdout",
     "output_type": "stream",
     "text": [
      "id                        MLP - phi aug\n",
      "architecture                      128^5\n",
      "loss                binary_crossentropy\n",
      "activation                         relu\n",
      "final_activation                sigmoid\n",
      "epochs                              100\n",
      "batch_size                           64\n",
      "optimizer                          adam\n",
      "lr                               0.0001\n",
      "lr_decay                              0\n",
      "norm                             minmax\n",
      "trans                             plain\n",
      "nodes1                              128\n",
      "nodes2                              128\n",
      "nodes3                              128\n",
      "nodes4                              128\n",
      "nodes5                              128\n",
      "dropout1                              0\n",
      "dropout2                              0\n",
      "dropout3                              0\n",
      "dropout4                              0\n",
      "dropout5                              0\n",
      "batch_norm                           []\n",
      "shift_phi                          True\n",
      "flip_eta                          False\n",
      "dtype: object\n",
      "Performing 5-fold cross validation with 100000 samples\n",
      "Starting fold 1/5 with 80000 train samples and 20000 validation samples\n"
     ]
    },
    {
     "data": {
      "text/html": [
       "\n",
       "                Logging results to <a href=\"https://wandb.com\" target=\"_blank\">Weights & Biases</a> <a href=\"https://docs.wandb.com/integrations/jupyter.html\" target=\"_blank\">(Documentation)</a>.<br/>\n",
       "                Project page: <a href=\"https://app.wandb.ai/joeranbosma/ml4ppa\" target=\"_blank\">https://app.wandb.ai/joeranbosma/ml4ppa</a><br/>\n",
       "                Run page: <a href=\"https://app.wandb.ai/joeranbosma/ml4ppa/runs/2z9ex2tw\" target=\"_blank\">https://app.wandb.ai/joeranbosma/ml4ppa/runs/2z9ex2tw</a><br/>\n",
       "            "
      ],
      "text/plain": [
       "<IPython.core.display.HTML object>"
      ]
     },
     "metadata": {
      "tags": []
     },
     "output_type": "display_data"
    },
    {
     "name": "stdout",
     "output_type": "stream",
     "text": [
      "Starting fold 2/5 with 80000 train samples and 20000 validation samples\n"
     ]
    },
    {
     "data": {
      "text/html": [
       "\n",
       "                Logging results to <a href=\"https://wandb.com\" target=\"_blank\">Weights & Biases</a> <a href=\"https://docs.wandb.com/integrations/jupyter.html\" target=\"_blank\">(Documentation)</a>.<br/>\n",
       "                Project page: <a href=\"https://app.wandb.ai/joeranbosma/ml4ppa\" target=\"_blank\">https://app.wandb.ai/joeranbosma/ml4ppa</a><br/>\n",
       "                Run page: <a href=\"https://app.wandb.ai/joeranbosma/ml4ppa/runs/3iu1le13\" target=\"_blank\">https://app.wandb.ai/joeranbosma/ml4ppa/runs/3iu1le13</a><br/>\n",
       "            "
      ],
      "text/plain": [
       "<IPython.core.display.HTML object>"
      ]
     },
     "metadata": {
      "tags": []
     },
     "output_type": "display_data"
    },
    {
     "name": "stdout",
     "output_type": "stream",
     "text": [
      "Starting fold 3/5 with 80000 train samples and 20000 validation samples\n"
     ]
    },
    {
     "data": {
      "text/html": [
       "\n",
       "                Logging results to <a href=\"https://wandb.com\" target=\"_blank\">Weights & Biases</a> <a href=\"https://docs.wandb.com/integrations/jupyter.html\" target=\"_blank\">(Documentation)</a>.<br/>\n",
       "                Project page: <a href=\"https://app.wandb.ai/joeranbosma/ml4ppa\" target=\"_blank\">https://app.wandb.ai/joeranbosma/ml4ppa</a><br/>\n",
       "                Run page: <a href=\"https://app.wandb.ai/joeranbosma/ml4ppa/runs/3lhm1u2o\" target=\"_blank\">https://app.wandb.ai/joeranbosma/ml4ppa/runs/3lhm1u2o</a><br/>\n",
       "            "
      ],
      "text/plain": [
       "<IPython.core.display.HTML object>"
      ]
     },
     "metadata": {
      "tags": []
     },
     "output_type": "display_data"
    },
    {
     "name": "stdout",
     "output_type": "stream",
     "text": [
      "Starting fold 4/5 with 80000 train samples and 20000 validation samples\n"
     ]
    },
    {
     "data": {
      "text/html": [
       "\n",
       "                Logging results to <a href=\"https://wandb.com\" target=\"_blank\">Weights & Biases</a> <a href=\"https://docs.wandb.com/integrations/jupyter.html\" target=\"_blank\">(Documentation)</a>.<br/>\n",
       "                Project page: <a href=\"https://app.wandb.ai/joeranbosma/ml4ppa\" target=\"_blank\">https://app.wandb.ai/joeranbosma/ml4ppa</a><br/>\n",
       "                Run page: <a href=\"https://app.wandb.ai/joeranbosma/ml4ppa/runs/emb9cusu\" target=\"_blank\">https://app.wandb.ai/joeranbosma/ml4ppa/runs/emb9cusu</a><br/>\n",
       "            "
      ],
      "text/plain": [
       "<IPython.core.display.HTML object>"
      ]
     },
     "metadata": {
      "tags": []
     },
     "output_type": "display_data"
    },
    {
     "name": "stdout",
     "output_type": "stream",
     "text": [
      "Starting fold 5/5 with 80000 train samples and 20000 validation samples\n"
     ]
    },
    {
     "data": {
      "text/html": [
       "\n",
       "                Logging results to <a href=\"https://wandb.com\" target=\"_blank\">Weights & Biases</a> <a href=\"https://docs.wandb.com/integrations/jupyter.html\" target=\"_blank\">(Documentation)</a>.<br/>\n",
       "                Project page: <a href=\"https://app.wandb.ai/joeranbosma/ml4ppa\" target=\"_blank\">https://app.wandb.ai/joeranbosma/ml4ppa</a><br/>\n",
       "                Run page: <a href=\"https://app.wandb.ai/joeranbosma/ml4ppa/runs/22r1ruj7\" target=\"_blank\">https://app.wandb.ai/joeranbosma/ml4ppa/runs/22r1ruj7</a><br/>\n",
       "            "
      ],
      "text/plain": [
       "<IPython.core.display.HTML object>"
      ]
     },
     "metadata": {
      "tags": []
     },
     "output_type": "display_data"
    },
    {
     "name": "stdout",
     "output_type": "stream",
     "text": [
      "MLP - phi aug train acc: 0.95237±0.00047, val acc: 0.93534±0.00138\n"
     ]
    }
   ],
   "source": [
    "args = Args({'id': 'MLP - phi aug', 'architecture': '128^5', 'norm': 'minmax', 'trans': 'plain',\n",
    "             'nodes1': 128, 'nodes2': 128, 'nodes3': 128, 'nodes4': 128, 'nodes5': 128,\n",
    "             'dropout1': 0, 'dropout2': 0, 'dropout3': 0, 'dropout4': 0, 'dropout5': 0,\n",
    "             'activation': 'relu', 'batch_size': 64,\n",
    "             'shift_phi': True, 'flip_eta': False}, verbose=True, wandb_init=False)\n",
    "\n",
    "cv_train_accuracies, cv_val_accuracies, cv_max_val_accuracies = aug_cv_test(args)\n",
    "save_metrics(cv_train_accuracies, cv_val_accuracies, cv_max_val_accuracies, name=\"phi_aug\")"
   ]
  },
  {
   "cell_type": "markdown",
   "metadata": {
    "colab_type": "text",
    "id": "mYwuQG3Vd3GU"
   },
   "source": [
    "**Result**: generalization error reduced significantly, validation accuracy increased."
   ]
  },
  {
   "cell_type": "markdown",
   "metadata": {
    "colab_type": "text",
    "id": "Skc4eKzB-ad2"
   },
   "source": [
    "## Test 3: data augmentation of eta angles\n",
    "Investigate inversion data augmentation of pseudorapidities."
   ]
  },
  {
   "cell_type": "code",
   "execution_count": 27,
   "metadata": {
    "colab": {
     "base_uri": "https://localhost:8080/",
     "height": 833
    },
    "colab_type": "code",
    "executionInfo": {
     "elapsed": 4939719,
     "status": "ok",
     "timestamp": 1585271661919,
     "user": {
      "displayName": "Joeran Bosma",
      "photoUrl": "https://lh3.googleusercontent.com/a-/AOh14GiEvCunvq33iGZ3RU-P9BMF7L60e8LoQ3Y1AfZJ4Q=s64",
      "userId": "05378465311079003812"
     },
     "user_tz": -60
    },
    "id": "HiWOqMPcDsqj",
    "outputId": "55b2282e-5241-4f34-df82-05377c967d07"
   },
   "outputs": [
    {
     "name": "stdout",
     "output_type": "stream",
     "text": [
      "id                        MLP - eta aug\n",
      "architecture                      128^5\n",
      "loss                binary_crossentropy\n",
      "activation                         relu\n",
      "final_activation                sigmoid\n",
      "epochs                              100\n",
      "batch_size                           64\n",
      "optimizer                          adam\n",
      "lr                               0.0001\n",
      "lr_decay                              0\n",
      "norm                             minmax\n",
      "trans                             plain\n",
      "nodes1                              128\n",
      "nodes2                              128\n",
      "nodes3                              128\n",
      "nodes4                              128\n",
      "nodes5                              128\n",
      "dropout1                              0\n",
      "dropout2                              0\n",
      "dropout3                              0\n",
      "dropout4                              0\n",
      "dropout5                              0\n",
      "batch_norm                           []\n",
      "shift_phi                          True\n",
      "flip_eta                           True\n",
      "dtype: object\n",
      "Performing 5-fold cross validation with 100000 samples\n",
      "Starting fold 1/5 with 80000 train samples and 20000 validation samples\n"
     ]
    },
    {
     "data": {
      "text/html": [
       "\n",
       "                Logging results to <a href=\"https://wandb.com\" target=\"_blank\">Weights & Biases</a> <a href=\"https://docs.wandb.com/integrations/jupyter.html\" target=\"_blank\">(Documentation)</a>.<br/>\n",
       "                Project page: <a href=\"https://app.wandb.ai/joeranbosma/ml4ppa\" target=\"_blank\">https://app.wandb.ai/joeranbosma/ml4ppa</a><br/>\n",
       "                Run page: <a href=\"https://app.wandb.ai/joeranbosma/ml4ppa/runs/hc48bcur\" target=\"_blank\">https://app.wandb.ai/joeranbosma/ml4ppa/runs/hc48bcur</a><br/>\n",
       "            "
      ],
      "text/plain": [
       "<IPython.core.display.HTML object>"
      ]
     },
     "metadata": {
      "tags": []
     },
     "output_type": "display_data"
    },
    {
     "name": "stdout",
     "output_type": "stream",
     "text": [
      "Starting fold 2/5 with 80000 train samples and 20000 validation samples\n"
     ]
    },
    {
     "data": {
      "text/html": [
       "\n",
       "                Logging results to <a href=\"https://wandb.com\" target=\"_blank\">Weights & Biases</a> <a href=\"https://docs.wandb.com/integrations/jupyter.html\" target=\"_blank\">(Documentation)</a>.<br/>\n",
       "                Project page: <a href=\"https://app.wandb.ai/joeranbosma/ml4ppa\" target=\"_blank\">https://app.wandb.ai/joeranbosma/ml4ppa</a><br/>\n",
       "                Run page: <a href=\"https://app.wandb.ai/joeranbosma/ml4ppa/runs/1xnlf2nn\" target=\"_blank\">https://app.wandb.ai/joeranbosma/ml4ppa/runs/1xnlf2nn</a><br/>\n",
       "            "
      ],
      "text/plain": [
       "<IPython.core.display.HTML object>"
      ]
     },
     "metadata": {
      "tags": []
     },
     "output_type": "display_data"
    },
    {
     "name": "stdout",
     "output_type": "stream",
     "text": [
      "Starting fold 3/5 with 80000 train samples and 20000 validation samples\n"
     ]
    },
    {
     "data": {
      "text/html": [
       "\n",
       "                Logging results to <a href=\"https://wandb.com\" target=\"_blank\">Weights & Biases</a> <a href=\"https://docs.wandb.com/integrations/jupyter.html\" target=\"_blank\">(Documentation)</a>.<br/>\n",
       "                Project page: <a href=\"https://app.wandb.ai/joeranbosma/ml4ppa\" target=\"_blank\">https://app.wandb.ai/joeranbosma/ml4ppa</a><br/>\n",
       "                Run page: <a href=\"https://app.wandb.ai/joeranbosma/ml4ppa/runs/1wb5k3jr\" target=\"_blank\">https://app.wandb.ai/joeranbosma/ml4ppa/runs/1wb5k3jr</a><br/>\n",
       "            "
      ],
      "text/plain": [
       "<IPython.core.display.HTML object>"
      ]
     },
     "metadata": {
      "tags": []
     },
     "output_type": "display_data"
    },
    {
     "name": "stdout",
     "output_type": "stream",
     "text": [
      "Starting fold 4/5 with 80000 train samples and 20000 validation samples\n"
     ]
    },
    {
     "data": {
      "text/html": [
       "\n",
       "                Logging results to <a href=\"https://wandb.com\" target=\"_blank\">Weights & Biases</a> <a href=\"https://docs.wandb.com/integrations/jupyter.html\" target=\"_blank\">(Documentation)</a>.<br/>\n",
       "                Project page: <a href=\"https://app.wandb.ai/joeranbosma/ml4ppa\" target=\"_blank\">https://app.wandb.ai/joeranbosma/ml4ppa</a><br/>\n",
       "                Run page: <a href=\"https://app.wandb.ai/joeranbosma/ml4ppa/runs/1u2v7fh3\" target=\"_blank\">https://app.wandb.ai/joeranbosma/ml4ppa/runs/1u2v7fh3</a><br/>\n",
       "            "
      ],
      "text/plain": [
       "<IPython.core.display.HTML object>"
      ]
     },
     "metadata": {
      "tags": []
     },
     "output_type": "display_data"
    },
    {
     "name": "stdout",
     "output_type": "stream",
     "text": [
      "Starting fold 5/5 with 80000 train samples and 20000 validation samples\n"
     ]
    },
    {
     "data": {
      "text/html": [
       "\n",
       "                Logging results to <a href=\"https://wandb.com\" target=\"_blank\">Weights & Biases</a> <a href=\"https://docs.wandb.com/integrations/jupyter.html\" target=\"_blank\">(Documentation)</a>.<br/>\n",
       "                Project page: <a href=\"https://app.wandb.ai/joeranbosma/ml4ppa\" target=\"_blank\">https://app.wandb.ai/joeranbosma/ml4ppa</a><br/>\n",
       "                Run page: <a href=\"https://app.wandb.ai/joeranbosma/ml4ppa/runs/oviphbdw\" target=\"_blank\">https://app.wandb.ai/joeranbosma/ml4ppa/runs/oviphbdw</a><br/>\n",
       "            "
      ],
      "text/plain": [
       "<IPython.core.display.HTML object>"
      ]
     },
     "metadata": {
      "tags": []
     },
     "output_type": "display_data"
    },
    {
     "name": "stdout",
     "output_type": "stream",
     "text": [
      "MLP - eta aug train acc: 0.94528±0.00131, val acc: 0.93899±0.00054\n"
     ]
    }
   ],
   "source": [
    "args = Args({'id': 'MLP - eta aug', 'architecture': '128^5', 'norm': 'minmax', 'trans': 'plain',\n",
    "             'nodes1': 128, 'nodes2': 128, 'nodes3': 128, 'nodes4': 128, 'nodes5': 128,\n",
    "             'dropout1': 0, 'dropout2': 0, 'dropout3': 0, 'dropout4': 0, 'dropout5': 0,\n",
    "             'activation': 'relu',  'batch_size': 64,\n",
    "             'shift_phi': True, 'flip_eta': True}, verbose=True, wandb_init=False)\n",
    "\n",
    "cv_train_accuracies, cv_val_accuracies, cv_max_val_accuracies = aug_cv_test(args)\n",
    "save_metrics(cv_train_accuracies, cv_val_accuracies, cv_max_val_accuracies, name=\"eta_aug\")"
   ]
  },
  {
   "cell_type": "code",
   "execution_count": 28,
   "metadata": {
    "colab": {
     "base_uri": "https://localhost:8080/",
     "height": 34
    },
    "colab_type": "code",
    "executionInfo": {
     "elapsed": 4939715,
     "status": "ok",
     "timestamp": 1585271661921,
     "user": {
      "displayName": "Joeran Bosma",
      "photoUrl": "https://lh3.googleusercontent.com/a-/AOh14GiEvCunvq33iGZ3RU-P9BMF7L60e8LoQ3Y1AfZJ4Q=s64",
      "userId": "05378465311079003812"
     },
     "user_tz": -60
    },
    "id": "U1cpGr3eJ9lt",
    "outputId": "25976e2d-c29d-4a9d-99f7-d5719345ef1e"
   },
   "outputs": [
    {
     "name": "stdout",
     "output_type": "stream",
     "text": [
      "Max. val. accuracies: 94.05% ± 0.02%\n"
     ]
    }
   ],
   "source": [
    "print(\"Max. val. accuracies: {:.2%} ± {:.2%}\".format(np.mean(cv_max_val_accuracies), np.std(cv_max_val_accuracies)))"
   ]
  },
  {
   "cell_type": "markdown",
   "metadata": {
    "colab_type": "text",
    "id": "22TYkPNFeEq_"
   },
   "source": [
    "**Result**: generalization error reduced further, validation accuracy increased. In contrast to the runs of Test 1 and 2, training longer could actually further improve validation accuracy. "
   ]
  },
  {
   "cell_type": "markdown",
   "metadata": {
    "colab_type": "text",
    "id": "LDbfHy8H-ais"
   },
   "source": [
    "## Test 4: dropout\n",
    "Investigate dropout of 10%-20%-30%-40% after each dense layer. "
   ]
  },
  {
   "cell_type": "code",
   "execution_count": 17,
   "metadata": {
    "colab": {
     "base_uri": "https://localhost:8080/",
     "height": 1000
    },
    "colab_type": "code",
    "executionInfo": {
     "elapsed": 14688374,
     "status": "ok",
     "timestamp": 1585320778277,
     "user": {
      "displayName": "Joeran Bosma",
      "photoUrl": "https://lh3.googleusercontent.com/a-/AOh14GiEvCunvq33iGZ3RU-P9BMF7L60e8LoQ3Y1AfZJ4Q=s64",
      "userId": "05378465311079003812"
     },
     "user_tz": -60
    },
    "id": "vLUM50eFKWEm",
    "outputId": "f1874078-b6e8-4398-c155-192ae670e143"
   },
   "outputs": [
    {
     "name": "stdout",
     "output_type": "stream",
     "text": [
      "id                  MLP - dropout - 0.10\n",
      "architecture           128^5 + drop 0.10\n",
      "loss                 binary_crossentropy\n",
      "activation                          relu\n",
      "final_activation                 sigmoid\n",
      "epochs                               100\n",
      "batch_size                            64\n",
      "optimizer                           adam\n",
      "lr                                0.0001\n",
      "lr_decay                               0\n",
      "norm                              minmax\n",
      "trans                              plain\n",
      "nodes1                               128\n",
      "nodes2                               128\n",
      "nodes3                               128\n",
      "nodes4                               128\n",
      "nodes5                               128\n",
      "dropout1                             0.1\n",
      "dropout2                             0.1\n",
      "dropout3                             0.1\n",
      "dropout4                             0.1\n",
      "dropout5                             0.1\n",
      "batch_norm                            []\n",
      "shift_phi                           True\n",
      "flip_eta                            True\n",
      "dtype: object\n",
      "Performing 5-fold cross validation with 100000 samples\n",
      "Starting fold 1/5 with 80000 train samples and 20000 validation samples\n"
     ]
    },
    {
     "data": {
      "text/html": [
       "\n",
       "                Logging results to <a href=\"https://wandb.com\" target=\"_blank\">Weights & Biases</a> <a href=\"https://docs.wandb.com/integrations/jupyter.html\" target=\"_blank\">(Documentation)</a>.<br/>\n",
       "                Project page: <a href=\"https://app.wandb.ai/joeranbosma/ml4ppa\" target=\"_blank\">https://app.wandb.ai/joeranbosma/ml4ppa</a><br/>\n",
       "                Run page: <a href=\"https://app.wandb.ai/joeranbosma/ml4ppa/runs/3rk0x3bi\" target=\"_blank\">https://app.wandb.ai/joeranbosma/ml4ppa/runs/3rk0x3bi</a><br/>\n",
       "            "
      ],
      "text/plain": [
       "<IPython.core.display.HTML object>"
      ]
     },
     "metadata": {
      "tags": []
     },
     "output_type": "display_data"
    },
    {
     "name": "stdout",
     "output_type": "stream",
     "text": [
      "Starting fold 2/5 with 80000 train samples and 20000 validation samples\n"
     ]
    },
    {
     "data": {
      "text/html": [
       "\n",
       "                Logging results to <a href=\"https://wandb.com\" target=\"_blank\">Weights & Biases</a> <a href=\"https://docs.wandb.com/integrations/jupyter.html\" target=\"_blank\">(Documentation)</a>.<br/>\n",
       "                Project page: <a href=\"https://app.wandb.ai/joeranbosma/ml4ppa\" target=\"_blank\">https://app.wandb.ai/joeranbosma/ml4ppa</a><br/>\n",
       "                Run page: <a href=\"https://app.wandb.ai/joeranbosma/ml4ppa/runs/1az0a116\" target=\"_blank\">https://app.wandb.ai/joeranbosma/ml4ppa/runs/1az0a116</a><br/>\n",
       "            "
      ],
      "text/plain": [
       "<IPython.core.display.HTML object>"
      ]
     },
     "metadata": {
      "tags": []
     },
     "output_type": "display_data"
    },
    {
     "name": "stdout",
     "output_type": "stream",
     "text": [
      "Starting fold 3/5 with 80000 train samples and 20000 validation samples\n"
     ]
    },
    {
     "data": {
      "text/html": [
       "\n",
       "                Logging results to <a href=\"https://wandb.com\" target=\"_blank\">Weights & Biases</a> <a href=\"https://docs.wandb.com/integrations/jupyter.html\" target=\"_blank\">(Documentation)</a>.<br/>\n",
       "                Project page: <a href=\"https://app.wandb.ai/joeranbosma/ml4ppa\" target=\"_blank\">https://app.wandb.ai/joeranbosma/ml4ppa</a><br/>\n",
       "                Run page: <a href=\"https://app.wandb.ai/joeranbosma/ml4ppa/runs/9w29rmfz\" target=\"_blank\">https://app.wandb.ai/joeranbosma/ml4ppa/runs/9w29rmfz</a><br/>\n",
       "            "
      ],
      "text/plain": [
       "<IPython.core.display.HTML object>"
      ]
     },
     "metadata": {
      "tags": []
     },
     "output_type": "display_data"
    },
    {
     "name": "stdout",
     "output_type": "stream",
     "text": [
      "Starting fold 4/5 with 80000 train samples and 20000 validation samples\n"
     ]
    },
    {
     "data": {
      "text/html": [
       "\n",
       "                Logging results to <a href=\"https://wandb.com\" target=\"_blank\">Weights & Biases</a> <a href=\"https://docs.wandb.com/integrations/jupyter.html\" target=\"_blank\">(Documentation)</a>.<br/>\n",
       "                Project page: <a href=\"https://app.wandb.ai/joeranbosma/ml4ppa\" target=\"_blank\">https://app.wandb.ai/joeranbosma/ml4ppa</a><br/>\n",
       "                Run page: <a href=\"https://app.wandb.ai/joeranbosma/ml4ppa/runs/gf4lo8kf\" target=\"_blank\">https://app.wandb.ai/joeranbosma/ml4ppa/runs/gf4lo8kf</a><br/>\n",
       "            "
      ],
      "text/plain": [
       "<IPython.core.display.HTML object>"
      ]
     },
     "metadata": {
      "tags": []
     },
     "output_type": "display_data"
    },
    {
     "name": "stdout",
     "output_type": "stream",
     "text": [
      "Starting fold 5/5 with 80000 train samples and 20000 validation samples\n"
     ]
    },
    {
     "data": {
      "text/html": [
       "\n",
       "                Logging results to <a href=\"https://wandb.com\" target=\"_blank\">Weights & Biases</a> <a href=\"https://docs.wandb.com/integrations/jupyter.html\" target=\"_blank\">(Documentation)</a>.<br/>\n",
       "                Project page: <a href=\"https://app.wandb.ai/joeranbosma/ml4ppa\" target=\"_blank\">https://app.wandb.ai/joeranbosma/ml4ppa</a><br/>\n",
       "                Run page: <a href=\"https://app.wandb.ai/joeranbosma/ml4ppa/runs/nire1zdx\" target=\"_blank\">https://app.wandb.ai/joeranbosma/ml4ppa/runs/nire1zdx</a><br/>\n",
       "            "
      ],
      "text/plain": [
       "<IPython.core.display.HTML object>"
      ]
     },
     "metadata": {
      "tags": []
     },
     "output_type": "display_data"
    },
    {
     "name": "stdout",
     "output_type": "stream",
     "text": [
      "MLP - dropout - 0.10 train acc: 0.94410±0.00056, val acc: 0.93980±0.00044\n",
      "Dropout 0.10, max. val. accuracies: 94.07% ± 0.04%\n",
      "id                  MLP - dropout - 0.20\n",
      "architecture           128^5 + drop 0.20\n",
      "loss                 binary_crossentropy\n",
      "activation                          relu\n",
      "final_activation                 sigmoid\n",
      "epochs                               100\n",
      "batch_size                            64\n",
      "optimizer                           adam\n",
      "lr                                0.0001\n",
      "lr_decay                               0\n",
      "norm                              minmax\n",
      "trans                              plain\n",
      "nodes1                               128\n",
      "nodes2                               128\n",
      "nodes3                               128\n",
      "nodes4                               128\n",
      "nodes5                               128\n",
      "dropout1                             0.2\n",
      "dropout2                             0.2\n",
      "dropout3                             0.2\n",
      "dropout4                             0.2\n",
      "dropout5                             0.2\n",
      "batch_norm                            []\n",
      "shift_phi                           True\n",
      "flip_eta                            True\n",
      "cv_splits                              5\n",
      "cv_iteration                           5\n",
      "dtype: object\n",
      "Performing 5-fold cross validation with 100000 samples\n",
      "Starting fold 1/5 with 80000 train samples and 20000 validation samples\n"
     ]
    },
    {
     "data": {
      "text/html": [
       "\n",
       "                Logging results to <a href=\"https://wandb.com\" target=\"_blank\">Weights & Biases</a> <a href=\"https://docs.wandb.com/integrations/jupyter.html\" target=\"_blank\">(Documentation)</a>.<br/>\n",
       "                Project page: <a href=\"https://app.wandb.ai/joeranbosma/ml4ppa\" target=\"_blank\">https://app.wandb.ai/joeranbosma/ml4ppa</a><br/>\n",
       "                Run page: <a href=\"https://app.wandb.ai/joeranbosma/ml4ppa/runs/1yivtouw\" target=\"_blank\">https://app.wandb.ai/joeranbosma/ml4ppa/runs/1yivtouw</a><br/>\n",
       "            "
      ],
      "text/plain": [
       "<IPython.core.display.HTML object>"
      ]
     },
     "metadata": {
      "tags": []
     },
     "output_type": "display_data"
    },
    {
     "name": "stdout",
     "output_type": "stream",
     "text": [
      "Starting fold 2/5 with 80000 train samples and 20000 validation samples\n"
     ]
    },
    {
     "data": {
      "text/html": [
       "\n",
       "                Logging results to <a href=\"https://wandb.com\" target=\"_blank\">Weights & Biases</a> <a href=\"https://docs.wandb.com/integrations/jupyter.html\" target=\"_blank\">(Documentation)</a>.<br/>\n",
       "                Project page: <a href=\"https://app.wandb.ai/joeranbosma/ml4ppa\" target=\"_blank\">https://app.wandb.ai/joeranbosma/ml4ppa</a><br/>\n",
       "                Run page: <a href=\"https://app.wandb.ai/joeranbosma/ml4ppa/runs/23ub5t9t\" target=\"_blank\">https://app.wandb.ai/joeranbosma/ml4ppa/runs/23ub5t9t</a><br/>\n",
       "            "
      ],
      "text/plain": [
       "<IPython.core.display.HTML object>"
      ]
     },
     "metadata": {
      "tags": []
     },
     "output_type": "display_data"
    },
    {
     "name": "stdout",
     "output_type": "stream",
     "text": [
      "Starting fold 3/5 with 80000 train samples and 20000 validation samples\n"
     ]
    },
    {
     "data": {
      "text/html": [
       "\n",
       "                Logging results to <a href=\"https://wandb.com\" target=\"_blank\">Weights & Biases</a> <a href=\"https://docs.wandb.com/integrations/jupyter.html\" target=\"_blank\">(Documentation)</a>.<br/>\n",
       "                Project page: <a href=\"https://app.wandb.ai/joeranbosma/ml4ppa\" target=\"_blank\">https://app.wandb.ai/joeranbosma/ml4ppa</a><br/>\n",
       "                Run page: <a href=\"https://app.wandb.ai/joeranbosma/ml4ppa/runs/jenm6yx5\" target=\"_blank\">https://app.wandb.ai/joeranbosma/ml4ppa/runs/jenm6yx5</a><br/>\n",
       "            "
      ],
      "text/plain": [
       "<IPython.core.display.HTML object>"
      ]
     },
     "metadata": {
      "tags": []
     },
     "output_type": "display_data"
    },
    {
     "name": "stdout",
     "output_type": "stream",
     "text": [
      "Starting fold 4/5 with 80000 train samples and 20000 validation samples\n"
     ]
    },
    {
     "data": {
      "text/html": [
       "\n",
       "                Logging results to <a href=\"https://wandb.com\" target=\"_blank\">Weights & Biases</a> <a href=\"https://docs.wandb.com/integrations/jupyter.html\" target=\"_blank\">(Documentation)</a>.<br/>\n",
       "                Project page: <a href=\"https://app.wandb.ai/joeranbosma/ml4ppa\" target=\"_blank\">https://app.wandb.ai/joeranbosma/ml4ppa</a><br/>\n",
       "                Run page: <a href=\"https://app.wandb.ai/joeranbosma/ml4ppa/runs/2viqwe0p\" target=\"_blank\">https://app.wandb.ai/joeranbosma/ml4ppa/runs/2viqwe0p</a><br/>\n",
       "            "
      ],
      "text/plain": [
       "<IPython.core.display.HTML object>"
      ]
     },
     "metadata": {
      "tags": []
     },
     "output_type": "display_data"
    },
    {
     "name": "stdout",
     "output_type": "stream",
     "text": [
      "Starting fold 5/5 with 80000 train samples and 20000 validation samples\n"
     ]
    },
    {
     "data": {
      "text/html": [
       "\n",
       "                Logging results to <a href=\"https://wandb.com\" target=\"_blank\">Weights & Biases</a> <a href=\"https://docs.wandb.com/integrations/jupyter.html\" target=\"_blank\">(Documentation)</a>.<br/>\n",
       "                Project page: <a href=\"https://app.wandb.ai/joeranbosma/ml4ppa\" target=\"_blank\">https://app.wandb.ai/joeranbosma/ml4ppa</a><br/>\n",
       "                Run page: <a href=\"https://app.wandb.ai/joeranbosma/ml4ppa/runs/3n6dnvsb\" target=\"_blank\">https://app.wandb.ai/joeranbosma/ml4ppa/runs/3n6dnvsb</a><br/>\n",
       "            "
      ],
      "text/plain": [
       "<IPython.core.display.HTML object>"
      ]
     },
     "metadata": {
      "tags": []
     },
     "output_type": "display_data"
    },
    {
     "name": "stdout",
     "output_type": "stream",
     "text": [
      "MLP - dropout - 0.20 train acc: 0.94491±0.00062, val acc: 0.93997±0.00048\n",
      "Dropout 0.20, max. val. accuracies: 94.11% ± 0.04%\n",
      "id                  MLP - dropout - 0.30\n",
      "architecture           128^5 + drop 0.30\n",
      "loss                 binary_crossentropy\n",
      "activation                          relu\n",
      "final_activation                 sigmoid\n",
      "epochs                               100\n",
      "batch_size                            64\n",
      "optimizer                           adam\n",
      "lr                                0.0001\n",
      "lr_decay                               0\n",
      "norm                              minmax\n",
      "trans                              plain\n",
      "nodes1                               128\n",
      "nodes2                               128\n",
      "nodes3                               128\n",
      "nodes4                               128\n",
      "nodes5                               128\n",
      "dropout1                             0.3\n",
      "dropout2                             0.3\n",
      "dropout3                             0.3\n",
      "dropout4                             0.3\n",
      "dropout5                             0.3\n",
      "batch_norm                            []\n",
      "shift_phi                           True\n",
      "flip_eta                            True\n",
      "cv_splits                              5\n",
      "cv_iteration                           5\n",
      "dtype: object\n",
      "Performing 5-fold cross validation with 100000 samples\n",
      "Starting fold 1/5 with 80000 train samples and 20000 validation samples\n"
     ]
    },
    {
     "data": {
      "text/html": [
       "\n",
       "                Logging results to <a href=\"https://wandb.com\" target=\"_blank\">Weights & Biases</a> <a href=\"https://docs.wandb.com/integrations/jupyter.html\" target=\"_blank\">(Documentation)</a>.<br/>\n",
       "                Project page: <a href=\"https://app.wandb.ai/joeranbosma/ml4ppa\" target=\"_blank\">https://app.wandb.ai/joeranbosma/ml4ppa</a><br/>\n",
       "                Run page: <a href=\"https://app.wandb.ai/joeranbosma/ml4ppa/runs/2ve9uhan\" target=\"_blank\">https://app.wandb.ai/joeranbosma/ml4ppa/runs/2ve9uhan</a><br/>\n",
       "            "
      ],
      "text/plain": [
       "<IPython.core.display.HTML object>"
      ]
     },
     "metadata": {
      "tags": []
     },
     "output_type": "display_data"
    },
    {
     "name": "stdout",
     "output_type": "stream",
     "text": [
      "Starting fold 2/5 with 80000 train samples and 20000 validation samples\n"
     ]
    },
    {
     "data": {
      "text/html": [
       "\n",
       "                Logging results to <a href=\"https://wandb.com\" target=\"_blank\">Weights & Biases</a> <a href=\"https://docs.wandb.com/integrations/jupyter.html\" target=\"_blank\">(Documentation)</a>.<br/>\n",
       "                Project page: <a href=\"https://app.wandb.ai/joeranbosma/ml4ppa\" target=\"_blank\">https://app.wandb.ai/joeranbosma/ml4ppa</a><br/>\n",
       "                Run page: <a href=\"https://app.wandb.ai/joeranbosma/ml4ppa/runs/4913vukb\" target=\"_blank\">https://app.wandb.ai/joeranbosma/ml4ppa/runs/4913vukb</a><br/>\n",
       "            "
      ],
      "text/plain": [
       "<IPython.core.display.HTML object>"
      ]
     },
     "metadata": {
      "tags": []
     },
     "output_type": "display_data"
    },
    {
     "name": "stdout",
     "output_type": "stream",
     "text": [
      "Starting fold 3/5 with 80000 train samples and 20000 validation samples\n"
     ]
    },
    {
     "data": {
      "text/html": [
       "\n",
       "                Logging results to <a href=\"https://wandb.com\" target=\"_blank\">Weights & Biases</a> <a href=\"https://docs.wandb.com/integrations/jupyter.html\" target=\"_blank\">(Documentation)</a>.<br/>\n",
       "                Project page: <a href=\"https://app.wandb.ai/joeranbosma/ml4ppa\" target=\"_blank\">https://app.wandb.ai/joeranbosma/ml4ppa</a><br/>\n",
       "                Run page: <a href=\"https://app.wandb.ai/joeranbosma/ml4ppa/runs/29y0t7pc\" target=\"_blank\">https://app.wandb.ai/joeranbosma/ml4ppa/runs/29y0t7pc</a><br/>\n",
       "            "
      ],
      "text/plain": [
       "<IPython.core.display.HTML object>"
      ]
     },
     "metadata": {
      "tags": []
     },
     "output_type": "display_data"
    },
    {
     "name": "stdout",
     "output_type": "stream",
     "text": [
      "Starting fold 4/5 with 80000 train samples and 20000 validation samples\n"
     ]
    },
    {
     "data": {
      "text/html": [
       "\n",
       "                Logging results to <a href=\"https://wandb.com\" target=\"_blank\">Weights & Biases</a> <a href=\"https://docs.wandb.com/integrations/jupyter.html\" target=\"_blank\">(Documentation)</a>.<br/>\n",
       "                Project page: <a href=\"https://app.wandb.ai/joeranbosma/ml4ppa\" target=\"_blank\">https://app.wandb.ai/joeranbosma/ml4ppa</a><br/>\n",
       "                Run page: <a href=\"https://app.wandb.ai/joeranbosma/ml4ppa/runs/1e47xyzd\" target=\"_blank\">https://app.wandb.ai/joeranbosma/ml4ppa/runs/1e47xyzd</a><br/>\n",
       "            "
      ],
      "text/plain": [
       "<IPython.core.display.HTML object>"
      ]
     },
     "metadata": {
      "tags": []
     },
     "output_type": "display_data"
    },
    {
     "name": "stdout",
     "output_type": "stream",
     "text": [
      "Starting fold 5/5 with 80000 train samples and 20000 validation samples\n"
     ]
    },
    {
     "data": {
      "text/html": [
       "\n",
       "                Logging results to <a href=\"https://wandb.com\" target=\"_blank\">Weights & Biases</a> <a href=\"https://docs.wandb.com/integrations/jupyter.html\" target=\"_blank\">(Documentation)</a>.<br/>\n",
       "                Project page: <a href=\"https://app.wandb.ai/joeranbosma/ml4ppa\" target=\"_blank\">https://app.wandb.ai/joeranbosma/ml4ppa</a><br/>\n",
       "                Run page: <a href=\"https://app.wandb.ai/joeranbosma/ml4ppa/runs/h8sz0txa\" target=\"_blank\">https://app.wandb.ai/joeranbosma/ml4ppa/runs/h8sz0txa</a><br/>\n",
       "            "
      ],
      "text/plain": [
       "<IPython.core.display.HTML object>"
      ]
     },
     "metadata": {
      "tags": []
     },
     "output_type": "display_data"
    },
    {
     "name": "stdout",
     "output_type": "stream",
     "text": [
      "MLP - dropout - 0.30 train acc: 0.94351±0.00024, val acc: 0.93958±0.00044\n",
      "Dropout 0.30, max. val. accuracies: 94.08% ± 0.04%\n",
      "id                  MLP - dropout - 0.40\n",
      "architecture           128^5 + drop 0.40\n",
      "loss                 binary_crossentropy\n",
      "activation                          relu\n",
      "final_activation                 sigmoid\n",
      "epochs                               100\n",
      "batch_size                            64\n",
      "optimizer                           adam\n",
      "lr                                0.0001\n",
      "lr_decay                               0\n",
      "norm                              minmax\n",
      "trans                              plain\n",
      "nodes1                               128\n",
      "nodes2                               128\n",
      "nodes3                               128\n",
      "nodes4                               128\n",
      "nodes5                               128\n",
      "dropout1                             0.4\n",
      "dropout2                             0.4\n",
      "dropout3                             0.4\n",
      "dropout4                             0.4\n",
      "dropout5                             0.4\n",
      "batch_norm                            []\n",
      "shift_phi                           True\n",
      "flip_eta                            True\n",
      "cv_splits                              5\n",
      "cv_iteration                           5\n",
      "dtype: object\n",
      "Performing 5-fold cross validation with 100000 samples\n",
      "Starting fold 1/5 with 80000 train samples and 20000 validation samples\n"
     ]
    },
    {
     "data": {
      "text/html": [
       "\n",
       "                Logging results to <a href=\"https://wandb.com\" target=\"_blank\">Weights & Biases</a> <a href=\"https://docs.wandb.com/integrations/jupyter.html\" target=\"_blank\">(Documentation)</a>.<br/>\n",
       "                Project page: <a href=\"https://app.wandb.ai/joeranbosma/ml4ppa\" target=\"_blank\">https://app.wandb.ai/joeranbosma/ml4ppa</a><br/>\n",
       "                Run page: <a href=\"https://app.wandb.ai/joeranbosma/ml4ppa/runs/1yivwfj1\" target=\"_blank\">https://app.wandb.ai/joeranbosma/ml4ppa/runs/1yivwfj1</a><br/>\n",
       "            "
      ],
      "text/plain": [
       "<IPython.core.display.HTML object>"
      ]
     },
     "metadata": {
      "tags": []
     },
     "output_type": "display_data"
    },
    {
     "name": "stdout",
     "output_type": "stream",
     "text": [
      "Starting fold 2/5 with 80000 train samples and 20000 validation samples\n"
     ]
    },
    {
     "data": {
      "text/html": [
       "\n",
       "                Logging results to <a href=\"https://wandb.com\" target=\"_blank\">Weights & Biases</a> <a href=\"https://docs.wandb.com/integrations/jupyter.html\" target=\"_blank\">(Documentation)</a>.<br/>\n",
       "                Project page: <a href=\"https://app.wandb.ai/joeranbosma/ml4ppa\" target=\"_blank\">https://app.wandb.ai/joeranbosma/ml4ppa</a><br/>\n",
       "                Run page: <a href=\"https://app.wandb.ai/joeranbosma/ml4ppa/runs/1i2oz5et\" target=\"_blank\">https://app.wandb.ai/joeranbosma/ml4ppa/runs/1i2oz5et</a><br/>\n",
       "            "
      ],
      "text/plain": [
       "<IPython.core.display.HTML object>"
      ]
     },
     "metadata": {
      "tags": []
     },
     "output_type": "display_data"
    },
    {
     "name": "stdout",
     "output_type": "stream",
     "text": [
      "Starting fold 3/5 with 80000 train samples and 20000 validation samples\n"
     ]
    },
    {
     "data": {
      "text/html": [
       "\n",
       "                Logging results to <a href=\"https://wandb.com\" target=\"_blank\">Weights & Biases</a> <a href=\"https://docs.wandb.com/integrations/jupyter.html\" target=\"_blank\">(Documentation)</a>.<br/>\n",
       "                Project page: <a href=\"https://app.wandb.ai/joeranbosma/ml4ppa\" target=\"_blank\">https://app.wandb.ai/joeranbosma/ml4ppa</a><br/>\n",
       "                Run page: <a href=\"https://app.wandb.ai/joeranbosma/ml4ppa/runs/25yn1cfi\" target=\"_blank\">https://app.wandb.ai/joeranbosma/ml4ppa/runs/25yn1cfi</a><br/>\n",
       "            "
      ],
      "text/plain": [
       "<IPython.core.display.HTML object>"
      ]
     },
     "metadata": {
      "tags": []
     },
     "output_type": "display_data"
    },
    {
     "name": "stdout",
     "output_type": "stream",
     "text": [
      "Starting fold 4/5 with 80000 train samples and 20000 validation samples\n"
     ]
    },
    {
     "data": {
      "text/html": [
       "\n",
       "                Logging results to <a href=\"https://wandb.com\" target=\"_blank\">Weights & Biases</a> <a href=\"https://docs.wandb.com/integrations/jupyter.html\" target=\"_blank\">(Documentation)</a>.<br/>\n",
       "                Project page: <a href=\"https://app.wandb.ai/joeranbosma/ml4ppa\" target=\"_blank\">https://app.wandb.ai/joeranbosma/ml4ppa</a><br/>\n",
       "                Run page: <a href=\"https://app.wandb.ai/joeranbosma/ml4ppa/runs/36gvsp4t\" target=\"_blank\">https://app.wandb.ai/joeranbosma/ml4ppa/runs/36gvsp4t</a><br/>\n",
       "            "
      ],
      "text/plain": [
       "<IPython.core.display.HTML object>"
      ]
     },
     "metadata": {
      "tags": []
     },
     "output_type": "display_data"
    },
    {
     "name": "stdout",
     "output_type": "stream",
     "text": [
      "Starting fold 5/5 with 80000 train samples and 20000 validation samples\n"
     ]
    },
    {
     "data": {
      "text/html": [
       "\n",
       "                Logging results to <a href=\"https://wandb.com\" target=\"_blank\">Weights & Biases</a> <a href=\"https://docs.wandb.com/integrations/jupyter.html\" target=\"_blank\">(Documentation)</a>.<br/>\n",
       "                Project page: <a href=\"https://app.wandb.ai/joeranbosma/ml4ppa\" target=\"_blank\">https://app.wandb.ai/joeranbosma/ml4ppa</a><br/>\n",
       "                Run page: <a href=\"https://app.wandb.ai/joeranbosma/ml4ppa/runs/4u66phz1\" target=\"_blank\">https://app.wandb.ai/joeranbosma/ml4ppa/runs/4u66phz1</a><br/>\n",
       "            "
      ],
      "text/plain": [
       "<IPython.core.display.HTML object>"
      ]
     },
     "metadata": {
      "tags": []
     },
     "output_type": "display_data"
    },
    {
     "name": "stdout",
     "output_type": "stream",
     "text": [
      "MLP - dropout - 0.40 train acc: 0.94232±0.00138, val acc: 0.93918±0.00114\n",
      "Dropout 0.40, max. val. accuracies: 94.06% ± 0.04%\n"
     ]
    }
   ],
   "source": [
    "# current baseline options\n",
    "args = Args({'id': 'MLP', 'architecture': '128^5', 'norm': 'minmax', 'trans': 'plain',\n",
    "             'nodes1': 128, 'nodes2': 128, 'nodes3': 128, 'nodes4': 128, 'nodes5': 128,\n",
    "             'dropout1': 0, 'dropout2': 0, 'dropout3': 0, 'dropout4': 0, 'dropout5': 0,\n",
    "             'activation': 'relu',  'batch_size': 64,\n",
    "             'shift_phi': True, 'flip_eta': True}, verbose=False, wandb_init=False)\n",
    "\n",
    "# investigation options\n",
    "dropout_options = np.arange(0.1, 0.4+0.00001, 0.1)\n",
    "\n",
    "for i, drop_rate in enumerate(dropout_options):\n",
    "    # set deviations from current baseline\n",
    "    args.set_args({'id': 'MLP - dropout - {:.2f}'.format(drop_rate), \n",
    "                   'architecture': '128^5 + drop {:.2f}'.format(drop_rate),\n",
    "                   'dropout1': drop_rate, 'dropout2': drop_rate, 'dropout3': drop_rate, \n",
    "                   'dropout4': drop_rate, 'dropout5': drop_rate},\n",
    "                  verbose=True, wandb_init=False)\n",
    "\n",
    "    cv_train_accuracies, cv_val_accuracies, cv_max_val_accuracies = aug_cv_test(args)\n",
    "    save_metrics(cv_train_accuracies, cv_val_accuracies, cv_max_val_accuracies, \n",
    "                 name=\"drop_{:.2f}\".format(drop_rate))\n",
    "    print(\"Dropout {:.2f}, max. val. accuracies: {:.2%} ± {:.2%}\".format(\n",
    "        drop_rate, np.mean(cv_max_val_accuracies), np.std(cv_max_val_accuracies)))"
   ]
  },
  {
   "cell_type": "markdown",
   "metadata": {
    "colab_type": "text",
    "id": "_r31_JLqRaad"
   },
   "source": [
    "**Result**: Dropout performs best, with 94.11% ± 0.04% max. validation accuracy. A slight increase from the 94.05% ± 0.02% without dropout."
   ]
  },
  {
   "cell_type": "markdown",
   "metadata": {
    "colab_type": "text",
    "id": "ig9XXg1U621e"
   },
   "source": [
    "## Test 5: width"
   ]
  },
  {
   "cell_type": "code",
   "execution_count": 34,
   "metadata": {
    "colab": {
     "base_uri": "https://localhost:8080/",
     "height": 1000
    },
    "colab_type": "code",
    "executionInfo": {
     "elapsed": 10781861,
     "status": "ok",
     "timestamp": 1585331949141,
     "user": {
      "displayName": "Joeran Bosma",
      "photoUrl": "https://lh3.googleusercontent.com/a-/AOh14GiEvCunvq33iGZ3RU-P9BMF7L60e8LoQ3Y1AfZJ4Q=s64",
      "userId": "05378465311079003812"
     },
     "user_tz": -60
    },
    "id": "kXKpDC76RT4m",
    "outputId": "91b98193-7229-461f-c3c8-39a312158ec1"
   },
   "outputs": [
    {
     "name": "stdout",
     "output_type": "stream",
     "text": [
      "id                     MLP - width - 32\n",
      "architecture            32^5 + drop 0.2\n",
      "loss                binary_crossentropy\n",
      "activation                         relu\n",
      "final_activation                sigmoid\n",
      "epochs                              100\n",
      "batch_size                           64\n",
      "optimizer                          adam\n",
      "lr                               0.0001\n",
      "lr_decay                              0\n",
      "norm                             minmax\n",
      "trans                             plain\n",
      "nodes1                               32\n",
      "nodes2                               32\n",
      "nodes3                               32\n",
      "nodes4                               32\n",
      "nodes5                               32\n",
      "dropout1                            0.2\n",
      "dropout2                            0.2\n",
      "dropout3                            0.2\n",
      "dropout4                            0.2\n",
      "dropout5                            0.2\n",
      "batch_norm                           []\n",
      "shift_phi                          True\n",
      "flip_eta                           True\n",
      "dtype: object\n",
      "ERROR! Session/line number was not unique in database. History logging moved to new session 60\n",
      "Performing 5-fold cross validation with 100000 samples\n",
      "Starting fold 1/5 with 80000 train samples and 20000 validation samples\n"
     ]
    },
    {
     "data": {
      "text/html": [
       "\n",
       "                Logging results to <a href=\"https://wandb.com\" target=\"_blank\">Weights & Biases</a> <a href=\"https://docs.wandb.com/integrations/jupyter.html\" target=\"_blank\">(Documentation)</a>.<br/>\n",
       "                Project page: <a href=\"https://app.wandb.ai/joeranbosma/ml4ppa\" target=\"_blank\">https://app.wandb.ai/joeranbosma/ml4ppa</a><br/>\n",
       "                Run page: <a href=\"https://app.wandb.ai/joeranbosma/ml4ppa/runs/13lqvpkr\" target=\"_blank\">https://app.wandb.ai/joeranbosma/ml4ppa/runs/13lqvpkr</a><br/>\n",
       "            "
      ],
      "text/plain": [
       "<IPython.core.display.HTML object>"
      ]
     },
     "metadata": {
      "tags": []
     },
     "output_type": "display_data"
    },
    {
     "name": "stdout",
     "output_type": "stream",
     "text": [
      "Starting fold 2/5 with 80000 train samples and 20000 validation samples\n"
     ]
    },
    {
     "data": {
      "text/html": [
       "\n",
       "                Logging results to <a href=\"https://wandb.com\" target=\"_blank\">Weights & Biases</a> <a href=\"https://docs.wandb.com/integrations/jupyter.html\" target=\"_blank\">(Documentation)</a>.<br/>\n",
       "                Project page: <a href=\"https://app.wandb.ai/joeranbosma/ml4ppa\" target=\"_blank\">https://app.wandb.ai/joeranbosma/ml4ppa</a><br/>\n",
       "                Run page: <a href=\"https://app.wandb.ai/joeranbosma/ml4ppa/runs/3h9v9rtp\" target=\"_blank\">https://app.wandb.ai/joeranbosma/ml4ppa/runs/3h9v9rtp</a><br/>\n",
       "            "
      ],
      "text/plain": [
       "<IPython.core.display.HTML object>"
      ]
     },
     "metadata": {
      "tags": []
     },
     "output_type": "display_data"
    },
    {
     "name": "stdout",
     "output_type": "stream",
     "text": [
      "Starting fold 3/5 with 80000 train samples and 20000 validation samples\n"
     ]
    },
    {
     "data": {
      "text/html": [
       "\n",
       "                Logging results to <a href=\"https://wandb.com\" target=\"_blank\">Weights & Biases</a> <a href=\"https://docs.wandb.com/integrations/jupyter.html\" target=\"_blank\">(Documentation)</a>.<br/>\n",
       "                Project page: <a href=\"https://app.wandb.ai/joeranbosma/ml4ppa\" target=\"_blank\">https://app.wandb.ai/joeranbosma/ml4ppa</a><br/>\n",
       "                Run page: <a href=\"https://app.wandb.ai/joeranbosma/ml4ppa/runs/3khtqx3q\" target=\"_blank\">https://app.wandb.ai/joeranbosma/ml4ppa/runs/3khtqx3q</a><br/>\n",
       "            "
      ],
      "text/plain": [
       "<IPython.core.display.HTML object>"
      ]
     },
     "metadata": {
      "tags": []
     },
     "output_type": "display_data"
    },
    {
     "name": "stdout",
     "output_type": "stream",
     "text": [
      "Starting fold 4/5 with 80000 train samples and 20000 validation samples\n"
     ]
    },
    {
     "data": {
      "text/html": [
       "\n",
       "                Logging results to <a href=\"https://wandb.com\" target=\"_blank\">Weights & Biases</a> <a href=\"https://docs.wandb.com/integrations/jupyter.html\" target=\"_blank\">(Documentation)</a>.<br/>\n",
       "                Project page: <a href=\"https://app.wandb.ai/joeranbosma/ml4ppa\" target=\"_blank\">https://app.wandb.ai/joeranbosma/ml4ppa</a><br/>\n",
       "                Run page: <a href=\"https://app.wandb.ai/joeranbosma/ml4ppa/runs/19ytem4i\" target=\"_blank\">https://app.wandb.ai/joeranbosma/ml4ppa/runs/19ytem4i</a><br/>\n",
       "            "
      ],
      "text/plain": [
       "<IPython.core.display.HTML object>"
      ]
     },
     "metadata": {
      "tags": []
     },
     "output_type": "display_data"
    },
    {
     "name": "stderr",
     "output_type": "stream",
     "text": [
      "\u001b[34m\u001b[1mwandb\u001b[0m: Wandb version 0.8.31 is available!  To upgrade, please run:\n",
      "\u001b[34m\u001b[1mwandb\u001b[0m:  $ pip install wandb --upgrade\n"
     ]
    },
    {
     "name": "stdout",
     "output_type": "stream",
     "text": [
      "Starting fold 5/5 with 80000 train samples and 20000 validation samples\n"
     ]
    },
    {
     "data": {
      "text/html": [
       "\n",
       "                Logging results to <a href=\"https://wandb.com\" target=\"_blank\">Weights & Biases</a> <a href=\"https://docs.wandb.com/integrations/jupyter.html\" target=\"_blank\">(Documentation)</a>.<br/>\n",
       "                Project page: <a href=\"https://app.wandb.ai/joeranbosma/ml4ppa\" target=\"_blank\">https://app.wandb.ai/joeranbosma/ml4ppa</a><br/>\n",
       "                Run page: <a href=\"https://app.wandb.ai/joeranbosma/ml4ppa/runs/2p55mqnf\" target=\"_blank\">https://app.wandb.ai/joeranbosma/ml4ppa/runs/2p55mqnf</a><br/>\n",
       "            "
      ],
      "text/plain": [
       "<IPython.core.display.HTML object>"
      ]
     },
     "metadata": {
      "tags": []
     },
     "output_type": "display_data"
    },
    {
     "name": "stderr",
     "output_type": "stream",
     "text": [
      "\u001b[34m\u001b[1mwandb\u001b[0m: Wandb version 0.8.31 is available!  To upgrade, please run:\n",
      "\u001b[34m\u001b[1mwandb\u001b[0m:  $ pip install wandb --upgrade\n"
     ]
    },
    {
     "name": "stdout",
     "output_type": "stream",
     "text": [
      "MLP - width - 32 train acc: 0.94105±0.00094, val acc: 0.93962±0.00071\n",
      "Width 32, max. val. accuracies: 94.06% ± 0.04%\n",
      "id                     MLP - width - 64\n",
      "architecture            64^5 + drop 0.2\n",
      "loss                binary_crossentropy\n",
      "activation                         relu\n",
      "final_activation                sigmoid\n",
      "epochs                              100\n",
      "batch_size                           64\n",
      "optimizer                          adam\n",
      "lr                               0.0001\n",
      "lr_decay                              0\n",
      "norm                             minmax\n",
      "trans                             plain\n",
      "nodes1                               64\n",
      "nodes2                               64\n",
      "nodes3                               64\n",
      "nodes4                               64\n",
      "nodes5                               64\n",
      "dropout1                            0.2\n",
      "dropout2                            0.2\n",
      "dropout3                            0.2\n",
      "dropout4                            0.2\n",
      "dropout5                            0.2\n",
      "batch_norm                           []\n",
      "shift_phi                          True\n",
      "flip_eta                           True\n",
      "cv_splits                             5\n",
      "cv_iteration                          5\n",
      "dtype: object\n",
      "Performing 5-fold cross validation with 100000 samples\n",
      "Starting fold 1/5 with 80000 train samples and 20000 validation samples\n"
     ]
    },
    {
     "data": {
      "text/html": [
       "\n",
       "                Logging results to <a href=\"https://wandb.com\" target=\"_blank\">Weights & Biases</a> <a href=\"https://docs.wandb.com/integrations/jupyter.html\" target=\"_blank\">(Documentation)</a>.<br/>\n",
       "                Project page: <a href=\"https://app.wandb.ai/joeranbosma/ml4ppa\" target=\"_blank\">https://app.wandb.ai/joeranbosma/ml4ppa</a><br/>\n",
       "                Run page: <a href=\"https://app.wandb.ai/joeranbosma/ml4ppa/runs/2uogvz5l\" target=\"_blank\">https://app.wandb.ai/joeranbosma/ml4ppa/runs/2uogvz5l</a><br/>\n",
       "            "
      ],
      "text/plain": [
       "<IPython.core.display.HTML object>"
      ]
     },
     "metadata": {
      "tags": []
     },
     "output_type": "display_data"
    },
    {
     "name": "stderr",
     "output_type": "stream",
     "text": [
      "\u001b[34m\u001b[1mwandb\u001b[0m: Wandb version 0.8.31 is available!  To upgrade, please run:\n",
      "\u001b[34m\u001b[1mwandb\u001b[0m:  $ pip install wandb --upgrade\n"
     ]
    },
    {
     "name": "stdout",
     "output_type": "stream",
     "text": [
      "Starting fold 2/5 with 80000 train samples and 20000 validation samples\n"
     ]
    },
    {
     "data": {
      "text/html": [
       "\n",
       "                Logging results to <a href=\"https://wandb.com\" target=\"_blank\">Weights & Biases</a> <a href=\"https://docs.wandb.com/integrations/jupyter.html\" target=\"_blank\">(Documentation)</a>.<br/>\n",
       "                Project page: <a href=\"https://app.wandb.ai/joeranbosma/ml4ppa\" target=\"_blank\">https://app.wandb.ai/joeranbosma/ml4ppa</a><br/>\n",
       "                Run page: <a href=\"https://app.wandb.ai/joeranbosma/ml4ppa/runs/383c860z\" target=\"_blank\">https://app.wandb.ai/joeranbosma/ml4ppa/runs/383c860z</a><br/>\n",
       "            "
      ],
      "text/plain": [
       "<IPython.core.display.HTML object>"
      ]
     },
     "metadata": {
      "tags": []
     },
     "output_type": "display_data"
    },
    {
     "name": "stderr",
     "output_type": "stream",
     "text": [
      "\u001b[34m\u001b[1mwandb\u001b[0m: Wandb version 0.8.31 is available!  To upgrade, please run:\n",
      "\u001b[34m\u001b[1mwandb\u001b[0m:  $ pip install wandb --upgrade\n"
     ]
    },
    {
     "name": "stdout",
     "output_type": "stream",
     "text": [
      "Starting fold 3/5 with 80000 train samples and 20000 validation samples\n"
     ]
    },
    {
     "data": {
      "text/html": [
       "\n",
       "                Logging results to <a href=\"https://wandb.com\" target=\"_blank\">Weights & Biases</a> <a href=\"https://docs.wandb.com/integrations/jupyter.html\" target=\"_blank\">(Documentation)</a>.<br/>\n",
       "                Project page: <a href=\"https://app.wandb.ai/joeranbosma/ml4ppa\" target=\"_blank\">https://app.wandb.ai/joeranbosma/ml4ppa</a><br/>\n",
       "                Run page: <a href=\"https://app.wandb.ai/joeranbosma/ml4ppa/runs/3dbcryrb\" target=\"_blank\">https://app.wandb.ai/joeranbosma/ml4ppa/runs/3dbcryrb</a><br/>\n",
       "            "
      ],
      "text/plain": [
       "<IPython.core.display.HTML object>"
      ]
     },
     "metadata": {
      "tags": []
     },
     "output_type": "display_data"
    },
    {
     "name": "stderr",
     "output_type": "stream",
     "text": [
      "\u001b[34m\u001b[1mwandb\u001b[0m: Wandb version 0.8.31 is available!  To upgrade, please run:\n",
      "\u001b[34m\u001b[1mwandb\u001b[0m:  $ pip install wandb --upgrade\n"
     ]
    },
    {
     "name": "stdout",
     "output_type": "stream",
     "text": [
      "Starting fold 4/5 with 80000 train samples and 20000 validation samples\n"
     ]
    },
    {
     "data": {
      "text/html": [
       "\n",
       "                Logging results to <a href=\"https://wandb.com\" target=\"_blank\">Weights & Biases</a> <a href=\"https://docs.wandb.com/integrations/jupyter.html\" target=\"_blank\">(Documentation)</a>.<br/>\n",
       "                Project page: <a href=\"https://app.wandb.ai/joeranbosma/ml4ppa\" target=\"_blank\">https://app.wandb.ai/joeranbosma/ml4ppa</a><br/>\n",
       "                Run page: <a href=\"https://app.wandb.ai/joeranbosma/ml4ppa/runs/1v5ocj1p\" target=\"_blank\">https://app.wandb.ai/joeranbosma/ml4ppa/runs/1v5ocj1p</a><br/>\n",
       "            "
      ],
      "text/plain": [
       "<IPython.core.display.HTML object>"
      ]
     },
     "metadata": {
      "tags": []
     },
     "output_type": "display_data"
    },
    {
     "name": "stderr",
     "output_type": "stream",
     "text": [
      "\u001b[34m\u001b[1mwandb\u001b[0m: Wandb version 0.8.31 is available!  To upgrade, please run:\n",
      "\u001b[34m\u001b[1mwandb\u001b[0m:  $ pip install wandb --upgrade\n"
     ]
    },
    {
     "name": "stdout",
     "output_type": "stream",
     "text": [
      "Starting fold 5/5 with 80000 train samples and 20000 validation samples\n"
     ]
    },
    {
     "data": {
      "text/html": [
       "\n",
       "                Logging results to <a href=\"https://wandb.com\" target=\"_blank\">Weights & Biases</a> <a href=\"https://docs.wandb.com/integrations/jupyter.html\" target=\"_blank\">(Documentation)</a>.<br/>\n",
       "                Project page: <a href=\"https://app.wandb.ai/joeranbosma/ml4ppa\" target=\"_blank\">https://app.wandb.ai/joeranbosma/ml4ppa</a><br/>\n",
       "                Run page: <a href=\"https://app.wandb.ai/joeranbosma/ml4ppa/runs/xrkchba4\" target=\"_blank\">https://app.wandb.ai/joeranbosma/ml4ppa/runs/xrkchba4</a><br/>\n",
       "            "
      ],
      "text/plain": [
       "<IPython.core.display.HTML object>"
      ]
     },
     "metadata": {
      "tags": []
     },
     "output_type": "display_data"
    },
    {
     "name": "stderr",
     "output_type": "stream",
     "text": [
      "\u001b[34m\u001b[1mwandb\u001b[0m: Wandb version 0.8.31 is available!  To upgrade, please run:\n",
      "\u001b[34m\u001b[1mwandb\u001b[0m:  $ pip install wandb --upgrade\n"
     ]
    },
    {
     "name": "stdout",
     "output_type": "stream",
     "text": [
      "MLP - width - 64 train acc: 0.94273±0.00045, val acc: 0.93910±0.00066\n",
      "Width 64, max. val. accuracies: 94.03% ± 0.04%\n",
      "id                     MLP - width - 96\n",
      "architecture            96^5 + drop 0.2\n",
      "loss                binary_crossentropy\n",
      "activation                         relu\n",
      "final_activation                sigmoid\n",
      "epochs                              100\n",
      "batch_size                           64\n",
      "optimizer                          adam\n",
      "lr                               0.0001\n",
      "lr_decay                              0\n",
      "norm                             minmax\n",
      "trans                             plain\n",
      "nodes1                               96\n",
      "nodes2                               96\n",
      "nodes3                               96\n",
      "nodes4                               96\n",
      "nodes5                               96\n",
      "dropout1                            0.2\n",
      "dropout2                            0.2\n",
      "dropout3                            0.2\n",
      "dropout4                            0.2\n",
      "dropout5                            0.2\n",
      "batch_norm                           []\n",
      "shift_phi                          True\n",
      "flip_eta                           True\n",
      "cv_splits                             5\n",
      "cv_iteration                          5\n",
      "dtype: object\n",
      "Performing 5-fold cross validation with 100000 samples\n",
      "Starting fold 1/5 with 80000 train samples and 20000 validation samples\n"
     ]
    },
    {
     "data": {
      "text/html": [
       "\n",
       "                Logging results to <a href=\"https://wandb.com\" target=\"_blank\">Weights & Biases</a> <a href=\"https://docs.wandb.com/integrations/jupyter.html\" target=\"_blank\">(Documentation)</a>.<br/>\n",
       "                Project page: <a href=\"https://app.wandb.ai/joeranbosma/ml4ppa\" target=\"_blank\">https://app.wandb.ai/joeranbosma/ml4ppa</a><br/>\n",
       "                Run page: <a href=\"https://app.wandb.ai/joeranbosma/ml4ppa/runs/2d21nmqe\" target=\"_blank\">https://app.wandb.ai/joeranbosma/ml4ppa/runs/2d21nmqe</a><br/>\n",
       "            "
      ],
      "text/plain": [
       "<IPython.core.display.HTML object>"
      ]
     },
     "metadata": {
      "tags": []
     },
     "output_type": "display_data"
    },
    {
     "name": "stderr",
     "output_type": "stream",
     "text": [
      "\u001b[34m\u001b[1mwandb\u001b[0m: Wandb version 0.8.31 is available!  To upgrade, please run:\n",
      "\u001b[34m\u001b[1mwandb\u001b[0m:  $ pip install wandb --upgrade\n"
     ]
    },
    {
     "name": "stdout",
     "output_type": "stream",
     "text": [
      "Starting fold 2/5 with 80000 train samples and 20000 validation samples\n"
     ]
    },
    {
     "data": {
      "text/html": [
       "\n",
       "                Logging results to <a href=\"https://wandb.com\" target=\"_blank\">Weights & Biases</a> <a href=\"https://docs.wandb.com/integrations/jupyter.html\" target=\"_blank\">(Documentation)</a>.<br/>\n",
       "                Project page: <a href=\"https://app.wandb.ai/joeranbosma/ml4ppa\" target=\"_blank\">https://app.wandb.ai/joeranbosma/ml4ppa</a><br/>\n",
       "                Run page: <a href=\"https://app.wandb.ai/joeranbosma/ml4ppa/runs/crkizei8\" target=\"_blank\">https://app.wandb.ai/joeranbosma/ml4ppa/runs/crkizei8</a><br/>\n",
       "            "
      ],
      "text/plain": [
       "<IPython.core.display.HTML object>"
      ]
     },
     "metadata": {
      "tags": []
     },
     "output_type": "display_data"
    },
    {
     "name": "stderr",
     "output_type": "stream",
     "text": [
      "\u001b[34m\u001b[1mwandb\u001b[0m: Wandb version 0.8.31 is available!  To upgrade, please run:\n",
      "\u001b[34m\u001b[1mwandb\u001b[0m:  $ pip install wandb --upgrade\n"
     ]
    },
    {
     "name": "stdout",
     "output_type": "stream",
     "text": [
      "Starting fold 3/5 with 80000 train samples and 20000 validation samples\n"
     ]
    },
    {
     "data": {
      "text/html": [
       "\n",
       "                Logging results to <a href=\"https://wandb.com\" target=\"_blank\">Weights & Biases</a> <a href=\"https://docs.wandb.com/integrations/jupyter.html\" target=\"_blank\">(Documentation)</a>.<br/>\n",
       "                Project page: <a href=\"https://app.wandb.ai/joeranbosma/ml4ppa\" target=\"_blank\">https://app.wandb.ai/joeranbosma/ml4ppa</a><br/>\n",
       "                Run page: <a href=\"https://app.wandb.ai/joeranbosma/ml4ppa/runs/koul6ep3\" target=\"_blank\">https://app.wandb.ai/joeranbosma/ml4ppa/runs/koul6ep3</a><br/>\n",
       "            "
      ],
      "text/plain": [
       "<IPython.core.display.HTML object>"
      ]
     },
     "metadata": {
      "tags": []
     },
     "output_type": "display_data"
    },
    {
     "name": "stderr",
     "output_type": "stream",
     "text": [
      "\u001b[34m\u001b[1mwandb\u001b[0m: Wandb version 0.8.31 is available!  To upgrade, please run:\n",
      "\u001b[34m\u001b[1mwandb\u001b[0m:  $ pip install wandb --upgrade\n"
     ]
    },
    {
     "name": "stdout",
     "output_type": "stream",
     "text": [
      "Starting fold 4/5 with 80000 train samples and 20000 validation samples\n"
     ]
    },
    {
     "data": {
      "text/html": [
       "\n",
       "                Logging results to <a href=\"https://wandb.com\" target=\"_blank\">Weights & Biases</a> <a href=\"https://docs.wandb.com/integrations/jupyter.html\" target=\"_blank\">(Documentation)</a>.<br/>\n",
       "                Project page: <a href=\"https://app.wandb.ai/joeranbosma/ml4ppa\" target=\"_blank\">https://app.wandb.ai/joeranbosma/ml4ppa</a><br/>\n",
       "                Run page: <a href=\"https://app.wandb.ai/joeranbosma/ml4ppa/runs/15bzl89v\" target=\"_blank\">https://app.wandb.ai/joeranbosma/ml4ppa/runs/15bzl89v</a><br/>\n",
       "            "
      ],
      "text/plain": [
       "<IPython.core.display.HTML object>"
      ]
     },
     "metadata": {
      "tags": []
     },
     "output_type": "display_data"
    },
    {
     "name": "stderr",
     "output_type": "stream",
     "text": [
      "\u001b[34m\u001b[1mwandb\u001b[0m: Wandb version 0.8.31 is available!  To upgrade, please run:\n",
      "\u001b[34m\u001b[1mwandb\u001b[0m:  $ pip install wandb --upgrade\n"
     ]
    },
    {
     "name": "stdout",
     "output_type": "stream",
     "text": [
      "Starting fold 5/5 with 80000 train samples and 20000 validation samples\n"
     ]
    },
    {
     "data": {
      "text/html": [
       "\n",
       "                Logging results to <a href=\"https://wandb.com\" target=\"_blank\">Weights & Biases</a> <a href=\"https://docs.wandb.com/integrations/jupyter.html\" target=\"_blank\">(Documentation)</a>.<br/>\n",
       "                Project page: <a href=\"https://app.wandb.ai/joeranbosma/ml4ppa\" target=\"_blank\">https://app.wandb.ai/joeranbosma/ml4ppa</a><br/>\n",
       "                Run page: <a href=\"https://app.wandb.ai/joeranbosma/ml4ppa/runs/1j78vpa8\" target=\"_blank\">https://app.wandb.ai/joeranbosma/ml4ppa/runs/1j78vpa8</a><br/>\n",
       "            "
      ],
      "text/plain": [
       "<IPython.core.display.HTML object>"
      ]
     },
     "metadata": {
      "tags": []
     },
     "output_type": "display_data"
    },
    {
     "name": "stderr",
     "output_type": "stream",
     "text": [
      "\u001b[34m\u001b[1mwandb\u001b[0m: Wandb version 0.8.31 is available!  To upgrade, please run:\n",
      "\u001b[34m\u001b[1mwandb\u001b[0m:  $ pip install wandb --upgrade\n",
      "\u001b[34m\u001b[1mwandb\u001b[0m: Network error resolved after 0:00:18.155827, resuming normal operation.\n"
     ]
    },
    {
     "name": "stdout",
     "output_type": "stream",
     "text": [
      "MLP - width - 96 train acc: 0.94321±0.00119, val acc: 0.93967±0.00061\n",
      "Width 96, max. val. accuracies: 94.09% ± 0.04%\n"
     ]
    },
    {
     "name": "stderr",
     "output_type": "stream",
     "text": [
      "Exception in thread Thread-554:\n",
      "Traceback (most recent call last):\n",
      "  File \"/usr/local/lib/python3.6/dist-packages/wandb/file_pusher.py\", line 81, in run\n",
      "    self.prepare_file()\n",
      "  File \"/usr/local/lib/python3.6/dist-packages/wandb/file_pusher.py\", line 72, in prepare_file\n",
      "    shutil.copy2(self.path, self.save_path)\n",
      "  File \"/usr/lib/python3.6/shutil.py\", line 263, in copy2\n",
      "    copyfile(src, dst, follow_symlinks=follow_symlinks)\n",
      "  File \"/usr/lib/python3.6/shutil.py\", line 120, in copyfile\n",
      "    with open(src, 'rb') as fsrc:\n",
      "FileNotFoundError: [Errno 2] No such file or directory: '/tmp/tmpqgyeq27kwandb/batch-2.tgz'\n",
      "\n",
      "During handling of the above exception, another exception occurred:\n",
      "\n",
      "Traceback (most recent call last):\n",
      "  File \"/usr/lib/python3.6/threading.py\", line 916, in _bootstrap_inner\n",
      "    self.run()\n",
      "  File \"/usr/local/lib/python3.6/dist-packages/wandb/file_pusher.py\", line 85, in run\n",
      "    self.cleanup_file()\n",
      "  File \"/usr/local/lib/python3.6/dist-packages/wandb/file_pusher.py\", line 154, in cleanup_file\n",
      "    os.unlink(self.tgz_path)\n",
      "FileNotFoundError: [Errno 2] No such file or directory: '/tmp/tmpqgyeq27kwandb/batch-2.tgz'\n",
      "\n",
      "Exception in thread Thread-561:\n",
      "Traceback (most recent call last):\n",
      "  File \"/usr/local/lib/python3.6/dist-packages/wandb/file_pusher.py\", line 81, in run\n",
      "    self.prepare_file()\n",
      "  File \"/usr/local/lib/python3.6/dist-packages/wandb/file_pusher.py\", line 72, in prepare_file\n",
      "    shutil.copy2(self.path, self.save_path)\n",
      "  File \"/usr/lib/python3.6/shutil.py\", line 263, in copy2\n",
      "    copyfile(src, dst, follow_symlinks=follow_symlinks)\n",
      "  File \"/usr/lib/python3.6/shutil.py\", line 120, in copyfile\n",
      "    with open(src, 'rb') as fsrc:\n",
      "FileNotFoundError: [Errno 2] No such file or directory: '/tmp/tmpqgyeq27kwandb/batch-2.tgz'\n",
      "\n",
      "During handling of the above exception, another exception occurred:\n",
      "\n",
      "Traceback (most recent call last):\n",
      "  File \"/usr/lib/python3.6/threading.py\", line 916, in _bootstrap_inner\n",
      "    self.run()\n",
      "  File \"/usr/local/lib/python3.6/dist-packages/wandb/file_pusher.py\", line 85, in run\n",
      "    self.cleanup_file()\n",
      "  File \"/usr/local/lib/python3.6/dist-packages/wandb/file_pusher.py\", line 154, in cleanup_file\n",
      "    os.unlink(self.tgz_path)\n",
      "FileNotFoundError: [Errno 2] No such file or directory: '/tmp/tmpqgyeq27kwandb/batch-2.tgz'\n",
      "\n",
      "Exception in thread Thread-562:\n",
      "Traceback (most recent call last):\n",
      "  File \"/usr/local/lib/python3.6/dist-packages/wandb/file_pusher.py\", line 81, in run\n",
      "    self.prepare_file()\n",
      "  File \"/usr/local/lib/python3.6/dist-packages/wandb/file_pusher.py\", line 72, in prepare_file\n",
      "    shutil.copy2(self.path, self.save_path)\n",
      "  File \"/usr/lib/python3.6/shutil.py\", line 263, in copy2\n",
      "    copyfile(src, dst, follow_symlinks=follow_symlinks)\n",
      "  File \"/usr/lib/python3.6/shutil.py\", line 120, in copyfile\n",
      "    with open(src, 'rb') as fsrc:\n",
      "FileNotFoundError: [Errno 2] No such file or directory: '/tmp/tmpqgyeq27kwandb/batch-2.tgz'\n",
      "\n",
      "During handling of the above exception, another exception occurred:\n",
      "\n",
      "Traceback (most recent call last):\n",
      "  File \"/usr/lib/python3.6/threading.py\", line 916, in _bootstrap_inner\n",
      "    self.run()\n",
      "  File \"/usr/local/lib/python3.6/dist-packages/wandb/file_pusher.py\", line 85, in run\n",
      "    self.cleanup_file()\n",
      "  File \"/usr/local/lib/python3.6/dist-packages/wandb/file_pusher.py\", line 154, in cleanup_file\n",
      "    os.unlink(self.tgz_path)\n",
      "FileNotFoundError: [Errno 2] No such file or directory: '/tmp/tmpqgyeq27kwandb/batch-2.tgz'\n",
      "\n"
     ]
    }
   ],
   "source": [
    "# current baseline options\n",
    "args = Args({'id': 'MLP', 'architecture': '128^5 + drop 0.2', 'norm': 'minmax', 'trans': 'plain',\n",
    "             'nodes1': 128, 'nodes2': 128, 'nodes3': 128, 'nodes4': 128, 'nodes5': 128,\n",
    "             'dropout1': 0.2, 'dropout2': 0.2, 'dropout3': 0.2, 'dropout4': 0.2, 'dropout5': 0.2,\n",
    "             'activation': 'relu',  'batch_size': 64,\n",
    "             'shift_phi': True, 'flip_eta': True}, verbose=False, wandb_init=False)\n",
    "\n",
    "# investigation options\n",
    "width_options = [32, 64, 96]\n",
    "\n",
    "for i, width in enumerate(width_options):\n",
    "    # set deviations from current baseline\n",
    "    args.set_args({'id': 'MLP - width - {}'.format(width), \n",
    "                   'architecture': '{}^5 + drop 0.2'.format(width),\n",
    "                   'nodes1': width, 'nodes2': width, 'nodes3': width, \n",
    "                   'nodes4': width, 'nodes5': width},\n",
    "                  verbose=True, wandb_init=False)\n",
    "\n",
    "    cv_train_accuracies, cv_val_accuracies, cv_max_val_accuracies = aug_cv_test(args)\n",
    "    save_metrics(cv_train_accuracies, cv_val_accuracies, cv_max_val_accuracies, \n",
    "                 name=\"width_{}\".format(width))\n",
    "    print(\"Width {}, max. val. accuracies: {:.2%} ± {:.2%}\".format(\n",
    "        width, np.mean(cv_max_val_accuracies), np.std(cv_max_val_accuracies)))"
   ]
  },
  {
   "cell_type": "markdown",
   "metadata": {
    "colab_type": "text",
    "id": "OfcXpvUp65RT"
   },
   "source": [
    "## Test 6: depth"
   ]
  },
  {
   "cell_type": "code",
   "execution_count": 35,
   "metadata": {
    "colab": {
     "base_uri": "https://localhost:8080/",
     "height": 1000
    },
    "colab_type": "code",
    "executionInfo": {
     "elapsed": 10295675,
     "status": "ok",
     "timestamp": 1585345310899,
     "user": {
      "displayName": "Joeran Bosma",
      "photoUrl": "https://lh3.googleusercontent.com/a-/AOh14GiEvCunvq33iGZ3RU-P9BMF7L60e8LoQ3Y1AfZJ4Q=s64",
      "userId": "05378465311079003812"
     },
     "user_tz": -60
    },
    "id": "xDKbzZ3mlakN",
    "outputId": "10c767cb-4383-4b71-8cb6-b37cab5b95ca"
   },
   "outputs": [
    {
     "name": "stdout",
     "output_type": "stream",
     "text": [
      "id                      MLP - depth - 2\n",
      "architecture           128^2 + drop 0.2\n",
      "loss                binary_crossentropy\n",
      "activation                         relu\n",
      "final_activation                sigmoid\n",
      "epochs                              100\n",
      "batch_size                           64\n",
      "optimizer                          adam\n",
      "lr                               0.0001\n",
      "lr_decay                              0\n",
      "norm                             minmax\n",
      "trans                             plain\n",
      "nodes1                              128\n",
      "nodes2                              128\n",
      "nodes3                                0\n",
      "nodes4                                0\n",
      "nodes5                                0\n",
      "dropout1                            0.2\n",
      "dropout2                            0.2\n",
      "dropout3                            0.2\n",
      "dropout4                            0.2\n",
      "dropout5                            0.2\n",
      "batch_norm                           []\n",
      "shift_phi                          True\n",
      "flip_eta                           True\n",
      "dtype: object\n",
      "Performing 5-fold cross validation with 100000 samples\n",
      "Starting fold 1/5 with 80000 train samples and 20000 validation samples\n"
     ]
    },
    {
     "data": {
      "text/html": [
       "\n",
       "                Logging results to <a href=\"https://wandb.com\" target=\"_blank\">Weights & Biases</a> <a href=\"https://docs.wandb.com/integrations/jupyter.html\" target=\"_blank\">(Documentation)</a>.<br/>\n",
       "                Project page: <a href=\"https://app.wandb.ai/joeranbosma/ml4ppa\" target=\"_blank\">https://app.wandb.ai/joeranbosma/ml4ppa</a><br/>\n",
       "                Run page: <a href=\"https://app.wandb.ai/joeranbosma/ml4ppa/runs/3gf4nbx5\" target=\"_blank\">https://app.wandb.ai/joeranbosma/ml4ppa/runs/3gf4nbx5</a><br/>\n",
       "            "
      ],
      "text/plain": [
       "<IPython.core.display.HTML object>"
      ]
     },
     "metadata": {
      "tags": []
     },
     "output_type": "display_data"
    },
    {
     "name": "stderr",
     "output_type": "stream",
     "text": [
      "\u001b[34m\u001b[1mwandb\u001b[0m: Wandb version 0.8.31 is available!  To upgrade, please run:\n",
      "\u001b[34m\u001b[1mwandb\u001b[0m:  $ pip install wandb --upgrade\n",
      "\u001b[34m\u001b[1mwandb\u001b[0m: Network error resolved after 0:00:31.706760, resuming normal operation.\n"
     ]
    },
    {
     "name": "stdout",
     "output_type": "stream",
     "text": [
      "Starting fold 2/5 with 80000 train samples and 20000 validation samples\n"
     ]
    },
    {
     "data": {
      "text/html": [
       "\n",
       "                Logging results to <a href=\"https://wandb.com\" target=\"_blank\">Weights & Biases</a> <a href=\"https://docs.wandb.com/integrations/jupyter.html\" target=\"_blank\">(Documentation)</a>.<br/>\n",
       "                Project page: <a href=\"https://app.wandb.ai/joeranbosma/ml4ppa\" target=\"_blank\">https://app.wandb.ai/joeranbosma/ml4ppa</a><br/>\n",
       "                Run page: <a href=\"https://app.wandb.ai/joeranbosma/ml4ppa/runs/1pqpmm1i\" target=\"_blank\">https://app.wandb.ai/joeranbosma/ml4ppa/runs/1pqpmm1i</a><br/>\n",
       "            "
      ],
      "text/plain": [
       "<IPython.core.display.HTML object>"
      ]
     },
     "metadata": {
      "tags": []
     },
     "output_type": "display_data"
    },
    {
     "name": "stderr",
     "output_type": "stream",
     "text": [
      "\u001b[34m\u001b[1mwandb\u001b[0m: Wandb version 0.8.31 is available!  To upgrade, please run:\n",
      "\u001b[34m\u001b[1mwandb\u001b[0m:  $ pip install wandb --upgrade\n"
     ]
    },
    {
     "name": "stdout",
     "output_type": "stream",
     "text": [
      "Starting fold 3/5 with 80000 train samples and 20000 validation samples\n"
     ]
    },
    {
     "data": {
      "text/html": [
       "\n",
       "                Logging results to <a href=\"https://wandb.com\" target=\"_blank\">Weights & Biases</a> <a href=\"https://docs.wandb.com/integrations/jupyter.html\" target=\"_blank\">(Documentation)</a>.<br/>\n",
       "                Project page: <a href=\"https://app.wandb.ai/joeranbosma/ml4ppa\" target=\"_blank\">https://app.wandb.ai/joeranbosma/ml4ppa</a><br/>\n",
       "                Run page: <a href=\"https://app.wandb.ai/joeranbosma/ml4ppa/runs/nbizltyt\" target=\"_blank\">https://app.wandb.ai/joeranbosma/ml4ppa/runs/nbizltyt</a><br/>\n",
       "            "
      ],
      "text/plain": [
       "<IPython.core.display.HTML object>"
      ]
     },
     "metadata": {
      "tags": []
     },
     "output_type": "display_data"
    },
    {
     "name": "stderr",
     "output_type": "stream",
     "text": [
      "\u001b[34m\u001b[1mwandb\u001b[0m: Wandb version 0.8.31 is available!  To upgrade, please run:\n",
      "\u001b[34m\u001b[1mwandb\u001b[0m:  $ pip install wandb --upgrade\n"
     ]
    },
    {
     "name": "stdout",
     "output_type": "stream",
     "text": [
      "Starting fold 4/5 with 80000 train samples and 20000 validation samples\n"
     ]
    },
    {
     "data": {
      "text/html": [
       "\n",
       "                Logging results to <a href=\"https://wandb.com\" target=\"_blank\">Weights & Biases</a> <a href=\"https://docs.wandb.com/integrations/jupyter.html\" target=\"_blank\">(Documentation)</a>.<br/>\n",
       "                Project page: <a href=\"https://app.wandb.ai/joeranbosma/ml4ppa\" target=\"_blank\">https://app.wandb.ai/joeranbosma/ml4ppa</a><br/>\n",
       "                Run page: <a href=\"https://app.wandb.ai/joeranbosma/ml4ppa/runs/95vngbly\" target=\"_blank\">https://app.wandb.ai/joeranbosma/ml4ppa/runs/95vngbly</a><br/>\n",
       "            "
      ],
      "text/plain": [
       "<IPython.core.display.HTML object>"
      ]
     },
     "metadata": {
      "tags": []
     },
     "output_type": "display_data"
    },
    {
     "name": "stderr",
     "output_type": "stream",
     "text": [
      "\u001b[34m\u001b[1mwandb\u001b[0m: Wandb version 0.8.31 is available!  To upgrade, please run:\n",
      "\u001b[34m\u001b[1mwandb\u001b[0m:  $ pip install wandb --upgrade\n"
     ]
    },
    {
     "name": "stdout",
     "output_type": "stream",
     "text": [
      "Starting fold 5/5 with 80000 train samples and 20000 validation samples\n"
     ]
    },
    {
     "data": {
      "text/html": [
       "\n",
       "                Logging results to <a href=\"https://wandb.com\" target=\"_blank\">Weights & Biases</a> <a href=\"https://docs.wandb.com/integrations/jupyter.html\" target=\"_blank\">(Documentation)</a>.<br/>\n",
       "                Project page: <a href=\"https://app.wandb.ai/joeranbosma/ml4ppa\" target=\"_blank\">https://app.wandb.ai/joeranbosma/ml4ppa</a><br/>\n",
       "                Run page: <a href=\"https://app.wandb.ai/joeranbosma/ml4ppa/runs/3f2ujdok\" target=\"_blank\">https://app.wandb.ai/joeranbosma/ml4ppa/runs/3f2ujdok</a><br/>\n",
       "            "
      ],
      "text/plain": [
       "<IPython.core.display.HTML object>"
      ]
     },
     "metadata": {
      "tags": []
     },
     "output_type": "display_data"
    },
    {
     "name": "stderr",
     "output_type": "stream",
     "text": [
      "\u001b[34m\u001b[1mwandb\u001b[0m: Wandb version 0.8.31 is available!  To upgrade, please run:\n",
      "\u001b[34m\u001b[1mwandb\u001b[0m:  $ pip install wandb --upgrade\n"
     ]
    },
    {
     "name": "stdout",
     "output_type": "stream",
     "text": [
      "MLP - depth - 2 train acc: 0.94368±0.00093, val acc: 0.94017±0.00050\n",
      "Depth 2, max. val. accuracies: 94.12% ± 0.02%\n",
      "id                      MLP - depth - 3\n",
      "architecture           128^3 + drop 0.2\n",
      "loss                binary_crossentropy\n",
      "activation                         relu\n",
      "final_activation                sigmoid\n",
      "epochs                              100\n",
      "batch_size                           64\n",
      "optimizer                          adam\n",
      "lr                               0.0001\n",
      "lr_decay                              0\n",
      "norm                             minmax\n",
      "trans                             plain\n",
      "nodes1                              128\n",
      "nodes2                              128\n",
      "nodes3                              128\n",
      "nodes4                                0\n",
      "nodes5                                0\n",
      "dropout1                            0.2\n",
      "dropout2                            0.2\n",
      "dropout3                            0.2\n",
      "dropout4                            0.2\n",
      "dropout5                            0.2\n",
      "batch_norm                           []\n",
      "shift_phi                          True\n",
      "flip_eta                           True\n",
      "cv_splits                             5\n",
      "cv_iteration                          5\n",
      "dtype: object\n",
      "Performing 5-fold cross validation with 100000 samples\n",
      "Starting fold 1/5 with 80000 train samples and 20000 validation samples\n"
     ]
    },
    {
     "data": {
      "text/html": [
       "\n",
       "                Logging results to <a href=\"https://wandb.com\" target=\"_blank\">Weights & Biases</a> <a href=\"https://docs.wandb.com/integrations/jupyter.html\" target=\"_blank\">(Documentation)</a>.<br/>\n",
       "                Project page: <a href=\"https://app.wandb.ai/joeranbosma/ml4ppa\" target=\"_blank\">https://app.wandb.ai/joeranbosma/ml4ppa</a><br/>\n",
       "                Run page: <a href=\"https://app.wandb.ai/joeranbosma/ml4ppa/runs/3a16nrht\" target=\"_blank\">https://app.wandb.ai/joeranbosma/ml4ppa/runs/3a16nrht</a><br/>\n",
       "            "
      ],
      "text/plain": [
       "<IPython.core.display.HTML object>"
      ]
     },
     "metadata": {
      "tags": []
     },
     "output_type": "display_data"
    },
    {
     "name": "stderr",
     "output_type": "stream",
     "text": [
      "\u001b[34m\u001b[1mwandb\u001b[0m: Wandb version 0.8.31 is available!  To upgrade, please run:\n",
      "\u001b[34m\u001b[1mwandb\u001b[0m:  $ pip install wandb --upgrade\n"
     ]
    },
    {
     "name": "stdout",
     "output_type": "stream",
     "text": [
      "Starting fold 2/5 with 80000 train samples and 20000 validation samples\n"
     ]
    },
    {
     "data": {
      "text/html": [
       "\n",
       "                Logging results to <a href=\"https://wandb.com\" target=\"_blank\">Weights & Biases</a> <a href=\"https://docs.wandb.com/integrations/jupyter.html\" target=\"_blank\">(Documentation)</a>.<br/>\n",
       "                Project page: <a href=\"https://app.wandb.ai/joeranbosma/ml4ppa\" target=\"_blank\">https://app.wandb.ai/joeranbosma/ml4ppa</a><br/>\n",
       "                Run page: <a href=\"https://app.wandb.ai/joeranbosma/ml4ppa/runs/3eit4f9t\" target=\"_blank\">https://app.wandb.ai/joeranbosma/ml4ppa/runs/3eit4f9t</a><br/>\n",
       "            "
      ],
      "text/plain": [
       "<IPython.core.display.HTML object>"
      ]
     },
     "metadata": {
      "tags": []
     },
     "output_type": "display_data"
    },
    {
     "name": "stderr",
     "output_type": "stream",
     "text": [
      "\u001b[34m\u001b[1mwandb\u001b[0m: Wandb version 0.8.31 is available!  To upgrade, please run:\n",
      "\u001b[34m\u001b[1mwandb\u001b[0m:  $ pip install wandb --upgrade\n"
     ]
    },
    {
     "name": "stdout",
     "output_type": "stream",
     "text": [
      "Starting fold 3/5 with 80000 train samples and 20000 validation samples\n"
     ]
    },
    {
     "data": {
      "text/html": [
       "\n",
       "                Logging results to <a href=\"https://wandb.com\" target=\"_blank\">Weights & Biases</a> <a href=\"https://docs.wandb.com/integrations/jupyter.html\" target=\"_blank\">(Documentation)</a>.<br/>\n",
       "                Project page: <a href=\"https://app.wandb.ai/joeranbosma/ml4ppa\" target=\"_blank\">https://app.wandb.ai/joeranbosma/ml4ppa</a><br/>\n",
       "                Run page: <a href=\"https://app.wandb.ai/joeranbosma/ml4ppa/runs/2qr7sqgn\" target=\"_blank\">https://app.wandb.ai/joeranbosma/ml4ppa/runs/2qr7sqgn</a><br/>\n",
       "            "
      ],
      "text/plain": [
       "<IPython.core.display.HTML object>"
      ]
     },
     "metadata": {
      "tags": []
     },
     "output_type": "display_data"
    },
    {
     "name": "stderr",
     "output_type": "stream",
     "text": [
      "\u001b[34m\u001b[1mwandb\u001b[0m: Wandb version 0.8.31 is available!  To upgrade, please run:\n",
      "\u001b[34m\u001b[1mwandb\u001b[0m:  $ pip install wandb --upgrade\n"
     ]
    },
    {
     "name": "stdout",
     "output_type": "stream",
     "text": [
      "Starting fold 4/5 with 80000 train samples and 20000 validation samples\n"
     ]
    },
    {
     "data": {
      "text/html": [
       "\n",
       "                Logging results to <a href=\"https://wandb.com\" target=\"_blank\">Weights & Biases</a> <a href=\"https://docs.wandb.com/integrations/jupyter.html\" target=\"_blank\">(Documentation)</a>.<br/>\n",
       "                Project page: <a href=\"https://app.wandb.ai/joeranbosma/ml4ppa\" target=\"_blank\">https://app.wandb.ai/joeranbosma/ml4ppa</a><br/>\n",
       "                Run page: <a href=\"https://app.wandb.ai/joeranbosma/ml4ppa/runs/m05pzcug\" target=\"_blank\">https://app.wandb.ai/joeranbosma/ml4ppa/runs/m05pzcug</a><br/>\n",
       "            "
      ],
      "text/plain": [
       "<IPython.core.display.HTML object>"
      ]
     },
     "metadata": {
      "tags": []
     },
     "output_type": "display_data"
    },
    {
     "name": "stderr",
     "output_type": "stream",
     "text": [
      "\u001b[34m\u001b[1mwandb\u001b[0m: Wandb version 0.8.31 is available!  To upgrade, please run:\n",
      "\u001b[34m\u001b[1mwandb\u001b[0m:  $ pip install wandb --upgrade\n"
     ]
    },
    {
     "name": "stdout",
     "output_type": "stream",
     "text": [
      "Starting fold 5/5 with 80000 train samples and 20000 validation samples\n"
     ]
    },
    {
     "data": {
      "text/html": [
       "\n",
       "                Logging results to <a href=\"https://wandb.com\" target=\"_blank\">Weights & Biases</a> <a href=\"https://docs.wandb.com/integrations/jupyter.html\" target=\"_blank\">(Documentation)</a>.<br/>\n",
       "                Project page: <a href=\"https://app.wandb.ai/joeranbosma/ml4ppa\" target=\"_blank\">https://app.wandb.ai/joeranbosma/ml4ppa</a><br/>\n",
       "                Run page: <a href=\"https://app.wandb.ai/joeranbosma/ml4ppa/runs/3bvrgn5q\" target=\"_blank\">https://app.wandb.ai/joeranbosma/ml4ppa/runs/3bvrgn5q</a><br/>\n",
       "            "
      ],
      "text/plain": [
       "<IPython.core.display.HTML object>"
      ]
     },
     "metadata": {
      "tags": []
     },
     "output_type": "display_data"
    },
    {
     "name": "stderr",
     "output_type": "stream",
     "text": [
      "\u001b[34m\u001b[1mwandb\u001b[0m: Wandb version 0.8.31 is available!  To upgrade, please run:\n",
      "\u001b[34m\u001b[1mwandb\u001b[0m:  $ pip install wandb --upgrade\n"
     ]
    },
    {
     "name": "stdout",
     "output_type": "stream",
     "text": [
      "MLP - depth - 3 train acc: 0.94423±0.00060, val acc: 0.94026±0.00041\n",
      "Depth 3, max. val. accuracies: 94.13% ± 0.04%\n",
      "id                      MLP - depth - 4\n",
      "architecture           128^4 + drop 0.2\n",
      "loss                binary_crossentropy\n",
      "activation                         relu\n",
      "final_activation                sigmoid\n",
      "epochs                              100\n",
      "batch_size                           64\n",
      "optimizer                          adam\n",
      "lr                               0.0001\n",
      "lr_decay                              0\n",
      "norm                             minmax\n",
      "trans                             plain\n",
      "nodes1                              128\n",
      "nodes2                              128\n",
      "nodes3                              128\n",
      "nodes4                              128\n",
      "nodes5                                0\n",
      "dropout1                            0.2\n",
      "dropout2                            0.2\n",
      "dropout3                            0.2\n",
      "dropout4                            0.2\n",
      "dropout5                            0.2\n",
      "batch_norm                           []\n",
      "shift_phi                          True\n",
      "flip_eta                           True\n",
      "cv_splits                             5\n",
      "cv_iteration                          5\n",
      "dtype: object\n",
      "Performing 5-fold cross validation with 100000 samples\n",
      "Starting fold 1/5 with 80000 train samples and 20000 validation samples\n"
     ]
    },
    {
     "data": {
      "text/html": [
       "\n",
       "                Logging results to <a href=\"https://wandb.com\" target=\"_blank\">Weights & Biases</a> <a href=\"https://docs.wandb.com/integrations/jupyter.html\" target=\"_blank\">(Documentation)</a>.<br/>\n",
       "                Project page: <a href=\"https://app.wandb.ai/joeranbosma/ml4ppa\" target=\"_blank\">https://app.wandb.ai/joeranbosma/ml4ppa</a><br/>\n",
       "                Run page: <a href=\"https://app.wandb.ai/joeranbosma/ml4ppa/runs/27ja8kku\" target=\"_blank\">https://app.wandb.ai/joeranbosma/ml4ppa/runs/27ja8kku</a><br/>\n",
       "            "
      ],
      "text/plain": [
       "<IPython.core.display.HTML object>"
      ]
     },
     "metadata": {
      "tags": []
     },
     "output_type": "display_data"
    },
    {
     "name": "stderr",
     "output_type": "stream",
     "text": [
      "\u001b[34m\u001b[1mwandb\u001b[0m: Wandb version 0.8.31 is available!  To upgrade, please run:\n",
      "\u001b[34m\u001b[1mwandb\u001b[0m:  $ pip install wandb --upgrade\n"
     ]
    },
    {
     "name": "stdout",
     "output_type": "stream",
     "text": [
      "Starting fold 2/5 with 80000 train samples and 20000 validation samples\n"
     ]
    },
    {
     "data": {
      "text/html": [
       "\n",
       "                Logging results to <a href=\"https://wandb.com\" target=\"_blank\">Weights & Biases</a> <a href=\"https://docs.wandb.com/integrations/jupyter.html\" target=\"_blank\">(Documentation)</a>.<br/>\n",
       "                Project page: <a href=\"https://app.wandb.ai/joeranbosma/ml4ppa\" target=\"_blank\">https://app.wandb.ai/joeranbosma/ml4ppa</a><br/>\n",
       "                Run page: <a href=\"https://app.wandb.ai/joeranbosma/ml4ppa/runs/34tpvky4\" target=\"_blank\">https://app.wandb.ai/joeranbosma/ml4ppa/runs/34tpvky4</a><br/>\n",
       "            "
      ],
      "text/plain": [
       "<IPython.core.display.HTML object>"
      ]
     },
     "metadata": {
      "tags": []
     },
     "output_type": "display_data"
    },
    {
     "name": "stderr",
     "output_type": "stream",
     "text": [
      "\u001b[34m\u001b[1mwandb\u001b[0m: Wandb version 0.8.31 is available!  To upgrade, please run:\n",
      "\u001b[34m\u001b[1mwandb\u001b[0m:  $ pip install wandb --upgrade\n",
      "Retry attempt failed:\n",
      "Traceback (most recent call last):\n",
      "  File \"/usr/local/lib/python3.6/dist-packages/urllib3/connectionpool.py\", line 384, in _make_request\n",
      "    six.raise_from(e, None)\n",
      "  File \"<string>\", line 2, in raise_from\n",
      "  File \"/usr/local/lib/python3.6/dist-packages/urllib3/connectionpool.py\", line 380, in _make_request\n",
      "    httplib_response = conn.getresponse()\n",
      "  File \"/usr/lib/python3.6/http/client.py\", line 1346, in getresponse\n",
      "    response.begin()\n",
      "  File \"/usr/lib/python3.6/http/client.py\", line 307, in begin\n",
      "    version, status, reason = self._read_status()\n",
      "  File \"/usr/lib/python3.6/http/client.py\", line 268, in _read_status\n",
      "    line = str(self.fp.readline(_MAXLINE + 1), \"iso-8859-1\")\n",
      "  File \"/usr/lib/python3.6/socket.py\", line 586, in readinto\n",
      "    return self._sock.recv_into(b)\n",
      "  File \"/usr/lib/python3.6/ssl.py\", line 1012, in recv_into\n",
      "    return self.read(nbytes, buffer)\n",
      "  File \"/usr/lib/python3.6/ssl.py\", line 874, in read\n",
      "    return self._sslobj.read(len, buffer)\n",
      "  File \"/usr/lib/python3.6/ssl.py\", line 631, in read\n",
      "    v = self._sslobj.read(len, buffer)\n",
      "socket.timeout: The read operation timed out\n",
      "\n",
      "During handling of the above exception, another exception occurred:\n",
      "\n",
      "Traceback (most recent call last):\n",
      "  File \"/usr/local/lib/python3.6/dist-packages/requests/adapters.py\", line 449, in send\n",
      "    timeout=timeout\n",
      "  File \"/usr/local/lib/python3.6/dist-packages/urllib3/connectionpool.py\", line 638, in urlopen\n",
      "    _stacktrace=sys.exc_info()[2])\n",
      "  File \"/usr/local/lib/python3.6/dist-packages/urllib3/util/retry.py\", line 368, in increment\n",
      "    raise six.reraise(type(error), error, _stacktrace)\n",
      "  File \"/usr/local/lib/python3.6/dist-packages/urllib3/packages/six.py\", line 686, in reraise\n",
      "    raise value\n",
      "  File \"/usr/local/lib/python3.6/dist-packages/urllib3/connectionpool.py\", line 600, in urlopen\n",
      "    chunked=chunked)\n",
      "  File \"/usr/local/lib/python3.6/dist-packages/urllib3/connectionpool.py\", line 386, in _make_request\n",
      "    self._raise_timeout(err=e, url=url, timeout_value=read_timeout)\n",
      "  File \"/usr/local/lib/python3.6/dist-packages/urllib3/connectionpool.py\", line 306, in _raise_timeout\n",
      "    raise ReadTimeoutError(self, url, \"Read timed out. (read timeout=%s)\" % timeout_value)\n",
      "urllib3.exceptions.ReadTimeoutError: HTTPSConnectionPool(host='api.wandb.ai', port=443): Read timed out. (read timeout=10)\n",
      "\n",
      "During handling of the above exception, another exception occurred:\n",
      "\n",
      "Traceback (most recent call last):\n",
      "  File \"/usr/local/lib/python3.6/dist-packages/wandb/retry.py\", line 95, in __call__\n",
      "    result = self._call_fn(*args, **kwargs)\n",
      "  File \"/usr/local/lib/python3.6/dist-packages/wandb/apis/internal.py\", line 110, in execute\n",
      "    return self.client.execute(*args, **kwargs)\n",
      "  File \"/usr/local/lib/python3.6/dist-packages/gql/client.py\", line 52, in execute\n",
      "    result = self._get_result(document, *args, **kwargs)\n",
      "  File \"/usr/local/lib/python3.6/dist-packages/gql/client.py\", line 60, in _get_result\n",
      "    return self.transport.execute(document, *args, **kwargs)\n",
      "  File \"/usr/local/lib/python3.6/dist-packages/gql/transport/requests.py\", line 38, in execute\n",
      "    request = requests.post(self.url, **post_args)\n",
      "  File \"/usr/local/lib/python3.6/dist-packages/requests/api.py\", line 116, in post\n",
      "    return request('post', url, data=data, json=json, **kwargs)\n",
      "  File \"/usr/local/lib/python3.6/dist-packages/requests/api.py\", line 60, in request\n",
      "    return session.request(method=method, url=url, **kwargs)\n",
      "  File \"/usr/local/lib/python3.6/dist-packages/requests/sessions.py\", line 533, in request\n",
      "    resp = self.send(prep, **send_kwargs)\n",
      "  File \"/usr/local/lib/python3.6/dist-packages/requests/sessions.py\", line 646, in send\n",
      "    r = adapter.send(request, **kwargs)\n",
      "  File \"/usr/local/lib/python3.6/dist-packages/requests/adapters.py\", line 529, in send\n",
      "    raise ReadTimeout(e, request=request)\n",
      "requests.exceptions.ReadTimeout: HTTPSConnectionPool(host='api.wandb.ai', port=443): Read timed out. (read timeout=10)\n",
      "\u001b[34m\u001b[1mwandb\u001b[0m: Network error (ReadTimeout), entering retry loop. See /gdrive/My Drive/Universiteit/ML4PP/Final/wandb/debug.log for full traceback.\n",
      "\u001b[34m\u001b[1mwandb\u001b[0m: Network error resolved after 0:02:17.707028, resuming normal operation.\n"
     ]
    },
    {
     "name": "stdout",
     "output_type": "stream",
     "text": [
      "Starting fold 3/5 with 80000 train samples and 20000 validation samples\n"
     ]
    },
    {
     "data": {
      "text/html": [
       "\n",
       "                Logging results to <a href=\"https://wandb.com\" target=\"_blank\">Weights & Biases</a> <a href=\"https://docs.wandb.com/integrations/jupyter.html\" target=\"_blank\">(Documentation)</a>.<br/>\n",
       "                Project page: <a href=\"https://app.wandb.ai/joeranbosma/ml4ppa\" target=\"_blank\">https://app.wandb.ai/joeranbosma/ml4ppa</a><br/>\n",
       "                Run page: <a href=\"https://app.wandb.ai/joeranbosma/ml4ppa/runs/1kzbca4b\" target=\"_blank\">https://app.wandb.ai/joeranbosma/ml4ppa/runs/1kzbca4b</a><br/>\n",
       "            "
      ],
      "text/plain": [
       "<IPython.core.display.HTML object>"
      ]
     },
     "metadata": {
      "tags": []
     },
     "output_type": "display_data"
    },
    {
     "name": "stderr",
     "output_type": "stream",
     "text": [
      "\u001b[34m\u001b[1mwandb\u001b[0m: Wandb version 0.8.31 is available!  To upgrade, please run:\n",
      "\u001b[34m\u001b[1mwandb\u001b[0m:  $ pip install wandb --upgrade\n"
     ]
    },
    {
     "name": "stdout",
     "output_type": "stream",
     "text": [
      "Starting fold 4/5 with 80000 train samples and 20000 validation samples\n"
     ]
    },
    {
     "data": {
      "text/html": [
       "\n",
       "                Logging results to <a href=\"https://wandb.com\" target=\"_blank\">Weights & Biases</a> <a href=\"https://docs.wandb.com/integrations/jupyter.html\" target=\"_blank\">(Documentation)</a>.<br/>\n",
       "                Project page: <a href=\"https://app.wandb.ai/joeranbosma/ml4ppa\" target=\"_blank\">https://app.wandb.ai/joeranbosma/ml4ppa</a><br/>\n",
       "                Run page: <a href=\"https://app.wandb.ai/joeranbosma/ml4ppa/runs/3ijkb5lz\" target=\"_blank\">https://app.wandb.ai/joeranbosma/ml4ppa/runs/3ijkb5lz</a><br/>\n",
       "            "
      ],
      "text/plain": [
       "<IPython.core.display.HTML object>"
      ]
     },
     "metadata": {
      "tags": []
     },
     "output_type": "display_data"
    },
    {
     "name": "stderr",
     "output_type": "stream",
     "text": [
      "\u001b[34m\u001b[1mwandb\u001b[0m: Wandb version 0.8.31 is available!  To upgrade, please run:\n",
      "\u001b[34m\u001b[1mwandb\u001b[0m:  $ pip install wandb --upgrade\n"
     ]
    },
    {
     "name": "stdout",
     "output_type": "stream",
     "text": [
      "Starting fold 5/5 with 80000 train samples and 20000 validation samples\n"
     ]
    },
    {
     "data": {
      "text/html": [
       "\n",
       "                Logging results to <a href=\"https://wandb.com\" target=\"_blank\">Weights & Biases</a> <a href=\"https://docs.wandb.com/integrations/jupyter.html\" target=\"_blank\">(Documentation)</a>.<br/>\n",
       "                Project page: <a href=\"https://app.wandb.ai/joeranbosma/ml4ppa\" target=\"_blank\">https://app.wandb.ai/joeranbosma/ml4ppa</a><br/>\n",
       "                Run page: <a href=\"https://app.wandb.ai/joeranbosma/ml4ppa/runs/1ap1qivy\" target=\"_blank\">https://app.wandb.ai/joeranbosma/ml4ppa/runs/1ap1qivy</a><br/>\n",
       "            "
      ],
      "text/plain": [
       "<IPython.core.display.HTML object>"
      ]
     },
     "metadata": {
      "tags": []
     },
     "output_type": "display_data"
    },
    {
     "name": "stderr",
     "output_type": "stream",
     "text": [
      "\u001b[34m\u001b[1mwandb\u001b[0m: Wandb version 0.8.31 is available!  To upgrade, please run:\n",
      "\u001b[34m\u001b[1mwandb\u001b[0m:  $ pip install wandb --upgrade\n"
     ]
    },
    {
     "name": "stdout",
     "output_type": "stream",
     "text": [
      "MLP - depth - 4 train acc: 0.94404±0.00085, val acc: 0.94031±0.00034\n",
      "Depth 4, max. val. accuracies: 94.12% ± 0.04%\n"
     ]
    },
    {
     "name": "stderr",
     "output_type": "stream",
     "text": [
      "Exception in thread Thread-754:\n",
      "Traceback (most recent call last):\n",
      "  File \"/usr/local/lib/python3.6/dist-packages/wandb/file_pusher.py\", line 81, in run\n",
      "    self.prepare_file()\n",
      "  File \"/usr/local/lib/python3.6/dist-packages/wandb/file_pusher.py\", line 72, in prepare_file\n",
      "    shutil.copy2(self.path, self.save_path)\n",
      "  File \"/usr/lib/python3.6/shutil.py\", line 263, in copy2\n",
      "    copyfile(src, dst, follow_symlinks=follow_symlinks)\n",
      "  File \"/usr/lib/python3.6/shutil.py\", line 120, in copyfile\n",
      "    with open(src, 'rb') as fsrc:\n",
      "FileNotFoundError: [Errno 2] No such file or directory: '/tmp/tmpqgyeq27kwandb/batch-2.tgz'\n",
      "\n",
      "During handling of the above exception, another exception occurred:\n",
      "\n",
      "Traceback (most recent call last):\n",
      "  File \"/usr/lib/python3.6/threading.py\", line 916, in _bootstrap_inner\n",
      "    self.run()\n",
      "  File \"/usr/local/lib/python3.6/dist-packages/wandb/file_pusher.py\", line 85, in run\n",
      "    self.cleanup_file()\n",
      "  File \"/usr/local/lib/python3.6/dist-packages/wandb/file_pusher.py\", line 154, in cleanup_file\n",
      "    os.unlink(self.tgz_path)\n",
      "FileNotFoundError: [Errno 2] No such file or directory: '/tmp/tmpqgyeq27kwandb/batch-2.tgz'\n",
      "\n",
      "Exception in thread Thread-759:\n",
      "Traceback (most recent call last):\n",
      "  File \"/usr/local/lib/python3.6/dist-packages/wandb/file_pusher.py\", line 81, in run\n",
      "    self.prepare_file()\n",
      "  File \"/usr/local/lib/python3.6/dist-packages/wandb/file_pusher.py\", line 72, in prepare_file\n",
      "    shutil.copy2(self.path, self.save_path)\n",
      "  File \"/usr/lib/python3.6/shutil.py\", line 263, in copy2\n",
      "    copyfile(src, dst, follow_symlinks=follow_symlinks)\n",
      "  File \"/usr/lib/python3.6/shutil.py\", line 120, in copyfile\n",
      "    with open(src, 'rb') as fsrc:\n",
      "FileNotFoundError: [Errno 2] No such file or directory: '/tmp/tmpqgyeq27kwandb/batch-2.tgz'\n",
      "\n",
      "During handling of the above exception, another exception occurred:\n",
      "\n",
      "Traceback (most recent call last):\n",
      "  File \"/usr/lib/python3.6/threading.py\", line 916, in _bootstrap_inner\n",
      "    self.run()\n",
      "  File \"/usr/local/lib/python3.6/dist-packages/wandb/file_pusher.py\", line 85, in run\n",
      "    self.cleanup_file()\n",
      "  File \"/usr/local/lib/python3.6/dist-packages/wandb/file_pusher.py\", line 154, in cleanup_file\n",
      "    os.unlink(self.tgz_path)\n",
      "FileNotFoundError: [Errno 2] No such file or directory: '/tmp/tmpqgyeq27kwandb/batch-2.tgz'\n",
      "\n",
      "Exception in thread Thread-765:\n",
      "Traceback (most recent call last):\n",
      "  File \"/usr/local/lib/python3.6/dist-packages/wandb/file_pusher.py\", line 81, in run\n",
      "    self.prepare_file()\n",
      "  File \"/usr/local/lib/python3.6/dist-packages/wandb/file_pusher.py\", line 72, in prepare_file\n",
      "    shutil.copy2(self.path, self.save_path)\n",
      "  File \"/usr/lib/python3.6/shutil.py\", line 263, in copy2\n",
      "    copyfile(src, dst, follow_symlinks=follow_symlinks)\n",
      "  File \"/usr/lib/python3.6/shutil.py\", line 120, in copyfile\n",
      "    with open(src, 'rb') as fsrc:\n",
      "FileNotFoundError: [Errno 2] No such file or directory: '/tmp/tmpqgyeq27kwandb/batch-2.tgz'\n",
      "\n",
      "During handling of the above exception, another exception occurred:\n",
      "\n",
      "Traceback (most recent call last):\n",
      "  File \"/usr/lib/python3.6/threading.py\", line 916, in _bootstrap_inner\n",
      "    self.run()\n",
      "  File \"/usr/local/lib/python3.6/dist-packages/wandb/file_pusher.py\", line 85, in run\n",
      "    self.cleanup_file()\n",
      "  File \"/usr/local/lib/python3.6/dist-packages/wandb/file_pusher.py\", line 154, in cleanup_file\n",
      "    os.unlink(self.tgz_path)\n",
      "FileNotFoundError: [Errno 2] No such file or directory: '/tmp/tmpqgyeq27kwandb/batch-2.tgz'\n",
      "\n"
     ]
    }
   ],
   "source": [
    "# current baseline options\n",
    "args = Args({'id': 'MLP', 'architecture': '128^5 + drop 0.2', 'norm': 'minmax', 'trans': 'plain',\n",
    "             'nodes1': 128, 'nodes2': 128, 'nodes3': 128, 'nodes4': 128, 'nodes5': 128,\n",
    "             'dropout1': 0.2, 'dropout2': 0.2, 'dropout3': 0.2, 'dropout4': 0.2, 'dropout5': 0.2,\n",
    "             'activation': 'relu',  'batch_size': 64,\n",
    "             'shift_phi': True, 'flip_eta': True}, verbose=False, wandb_init=False)\n",
    "\n",
    "# investigation options\n",
    "depth_options = [2, 3, 4]\n",
    "\n",
    "for i, depth in enumerate(depth_options):\n",
    "    # set deviations from current baseline\n",
    "    nodes = 128\n",
    "    args.set_args({'id': 'MLP - depth - {}'.format(depth), \n",
    "                   'architecture': '{}^{} + drop 0.2'.format(nodes, depth),\n",
    "                   'nodes1': nodes, 'nodes2': nodes, 'nodes3': nodes if depth >= 3 else 0, \n",
    "                   'nodes4': nodes if depth >= 4 else 0, 'nodes5': 0},\n",
    "                  verbose=True, wandb_init=False)\n",
    "\n",
    "    cv_train_accuracies, cv_val_accuracies, cv_max_val_accuracies = aug_cv_test(args)\n",
    "    save_metrics(cv_train_accuracies, cv_val_accuracies, cv_max_val_accuracies, \n",
    "                 name=\"depth_{}\".format(depth))\n",
    "    print(\"Depth {}, max. val. accuracies: {:.2%} ± {:.2%}\".format(\n",
    "        depth, np.mean(cv_max_val_accuracies), np.std(cv_max_val_accuracies)))"
   ]
  },
  {
   "cell_type": "markdown",
   "metadata": {
    "colab_type": "text",
    "id": "1WSWp_o639ep"
   },
   "source": [
    "**Result**: differences were very small, choosing one as winner is difficult. A depth of three layers was perhaps best, but two layers performed very similar. Runs grouped by settings: https://app.wandb.ai/joeranbosma/ml4ppa/reports/Depth--Vmlldzo3MDgxMA (shows mean ± std)"
   ]
  },
  {
   "cell_type": "markdown",
   "metadata": {
    "colab_type": "text",
    "id": "I4CMl9re8niV"
   },
   "source": [
    "## Test 7: transformation of features\n",
    "Log-transformation learns slower, but generalization error is lower. After ~100 epochs the validation accuracy is very similar, but generalization error is lower. Because of this, the number of epochs is extended to 150. "
   ]
  },
  {
   "cell_type": "code",
   "execution_count": 15,
   "metadata": {
    "colab": {
     "base_uri": "https://localhost:8080/",
     "height": 1000
    },
    "colab_type": "code",
    "executionInfo": {
     "elapsed": 6945338,
     "status": "ok",
     "timestamp": 1585405528839,
     "user": {
      "displayName": "Joeran Bosma",
      "photoUrl": "https://lh3.googleusercontent.com/a-/AOh14GiEvCunvq33iGZ3RU-P9BMF7L60e8LoQ3Y1AfZJ4Q=s64",
      "userId": "05378465311079003812"
     },
     "user_tz": -60
    },
    "id": "g8ylffwZOXZC",
    "outputId": "4c633c18-d397-4416-ee42-5bdee66319bd"
   },
   "outputs": [
    {
     "name": "stdout",
     "output_type": "stream",
     "text": [
      "id                    MLP - trans - log\n",
      "architecture           128^3 + drop 0.2\n",
      "loss                binary_crossentropy\n",
      "activation                         relu\n",
      "final_activation                sigmoid\n",
      "epochs                              150\n",
      "batch_size                           64\n",
      "optimizer                          adam\n",
      "lr                               0.0001\n",
      "lr_decay                              0\n",
      "norm                             minmax\n",
      "trans                               log\n",
      "nodes1                              128\n",
      "nodes2                              128\n",
      "nodes3                              128\n",
      "nodes4                                0\n",
      "nodes5                                0\n",
      "dropout1                            0.2\n",
      "dropout2                            0.2\n",
      "dropout3                            0.2\n",
      "dropout4                            0.2\n",
      "dropout5                            0.2\n",
      "batch_norm                           []\n",
      "shift_phi                          True\n",
      "flip_eta                           True\n",
      "dtype: object\n",
      "ERROR! Session/line number was not unique in database. History logging moved to new session 59\n",
      "Performing 5-fold cross validation with 100000 samples\n",
      "Starting fold 1/5 with 80000 train samples and 20000 validation samples\n"
     ]
    },
    {
     "data": {
      "text/html": [
       "\n",
       "                Logging results to <a href=\"https://wandb.com\" target=\"_blank\">Weights & Biases</a> <a href=\"https://docs.wandb.com/integrations/jupyter.html\" target=\"_blank\">(Documentation)</a>.<br/>\n",
       "                Project page: <a href=\"https://app.wandb.ai/joeranbosma/ml4ppa\" target=\"_blank\">https://app.wandb.ai/joeranbosma/ml4ppa</a><br/>\n",
       "                Run page: <a href=\"https://app.wandb.ai/joeranbosma/ml4ppa/runs/2vov1lu1\" target=\"_blank\">https://app.wandb.ai/joeranbosma/ml4ppa/runs/2vov1lu1</a><br/>\n",
       "            "
      ],
      "text/plain": [
       "<IPython.core.display.HTML object>"
      ]
     },
     "metadata": {
      "tags": []
     },
     "output_type": "display_data"
    },
    {
     "name": "stdout",
     "output_type": "stream",
     "text": [
      "Starting fold 2/5 with 80000 train samples and 20000 validation samples\n"
     ]
    },
    {
     "data": {
      "text/html": [
       "\n",
       "                Logging results to <a href=\"https://wandb.com\" target=\"_blank\">Weights & Biases</a> <a href=\"https://docs.wandb.com/integrations/jupyter.html\" target=\"_blank\">(Documentation)</a>.<br/>\n",
       "                Project page: <a href=\"https://app.wandb.ai/joeranbosma/ml4ppa\" target=\"_blank\">https://app.wandb.ai/joeranbosma/ml4ppa</a><br/>\n",
       "                Run page: <a href=\"https://app.wandb.ai/joeranbosma/ml4ppa/runs/1ohxav1c\" target=\"_blank\">https://app.wandb.ai/joeranbosma/ml4ppa/runs/1ohxav1c</a><br/>\n",
       "            "
      ],
      "text/plain": [
       "<IPython.core.display.HTML object>"
      ]
     },
     "metadata": {
      "tags": []
     },
     "output_type": "display_data"
    },
    {
     "name": "stdout",
     "output_type": "stream",
     "text": [
      "Starting fold 3/5 with 80000 train samples and 20000 validation samples\n"
     ]
    },
    {
     "data": {
      "text/html": [
       "\n",
       "                Logging results to <a href=\"https://wandb.com\" target=\"_blank\">Weights & Biases</a> <a href=\"https://docs.wandb.com/integrations/jupyter.html\" target=\"_blank\">(Documentation)</a>.<br/>\n",
       "                Project page: <a href=\"https://app.wandb.ai/joeranbosma/ml4ppa\" target=\"_blank\">https://app.wandb.ai/joeranbosma/ml4ppa</a><br/>\n",
       "                Run page: <a href=\"https://app.wandb.ai/joeranbosma/ml4ppa/runs/z3f075p5\" target=\"_blank\">https://app.wandb.ai/joeranbosma/ml4ppa/runs/z3f075p5</a><br/>\n",
       "            "
      ],
      "text/plain": [
       "<IPython.core.display.HTML object>"
      ]
     },
     "metadata": {
      "tags": []
     },
     "output_type": "display_data"
    },
    {
     "name": "stdout",
     "output_type": "stream",
     "text": [
      "Starting fold 4/5 with 80000 train samples and 20000 validation samples\n"
     ]
    },
    {
     "data": {
      "text/html": [
       "\n",
       "                Logging results to <a href=\"https://wandb.com\" target=\"_blank\">Weights & Biases</a> <a href=\"https://docs.wandb.com/integrations/jupyter.html\" target=\"_blank\">(Documentation)</a>.<br/>\n",
       "                Project page: <a href=\"https://app.wandb.ai/joeranbosma/ml4ppa\" target=\"_blank\">https://app.wandb.ai/joeranbosma/ml4ppa</a><br/>\n",
       "                Run page: <a href=\"https://app.wandb.ai/joeranbosma/ml4ppa/runs/ft427s46\" target=\"_blank\">https://app.wandb.ai/joeranbosma/ml4ppa/runs/ft427s46</a><br/>\n",
       "            "
      ],
      "text/plain": [
       "<IPython.core.display.HTML object>"
      ]
     },
     "metadata": {
      "tags": []
     },
     "output_type": "display_data"
    },
    {
     "name": "stdout",
     "output_type": "stream",
     "text": [
      "Starting fold 5/5 with 80000 train samples and 20000 validation samples\n"
     ]
    },
    {
     "data": {
      "text/html": [
       "\n",
       "                Logging results to <a href=\"https://wandb.com\" target=\"_blank\">Weights & Biases</a> <a href=\"https://docs.wandb.com/integrations/jupyter.html\" target=\"_blank\">(Documentation)</a>.<br/>\n",
       "                Project page: <a href=\"https://app.wandb.ai/joeranbosma/ml4ppa\" target=\"_blank\">https://app.wandb.ai/joeranbosma/ml4ppa</a><br/>\n",
       "                Run page: <a href=\"https://app.wandb.ai/joeranbosma/ml4ppa/runs/1grt0pwh\" target=\"_blank\">https://app.wandb.ai/joeranbosma/ml4ppa/runs/1grt0pwh</a><br/>\n",
       "            "
      ],
      "text/plain": [
       "<IPython.core.display.HTML object>"
      ]
     },
     "metadata": {
      "tags": []
     },
     "output_type": "display_data"
    },
    {
     "name": "stdout",
     "output_type": "stream",
     "text": [
      "MLP - trans - log train acc: 0.94197±0.00098, val acc: 0.93789±0.00117\n",
      "Transformation log, max. val. accuracies: 94.00% ± 0.06%\n",
      "id                   MLP - trans - both\n",
      "architecture           128^3 + drop 0.2\n",
      "loss                binary_crossentropy\n",
      "activation                         relu\n",
      "final_activation                sigmoid\n",
      "epochs                              150\n",
      "batch_size                           64\n",
      "optimizer                          adam\n",
      "lr                               0.0001\n",
      "lr_decay                              0\n",
      "norm                             minmax\n",
      "trans                              both\n",
      "nodes1                              128\n",
      "nodes2                              128\n",
      "nodes3                              128\n",
      "nodes4                                0\n",
      "nodes5                                0\n",
      "dropout1                            0.2\n",
      "dropout2                            0.2\n",
      "dropout3                            0.2\n",
      "dropout4                            0.2\n",
      "dropout5                            0.2\n",
      "batch_norm                           []\n",
      "shift_phi                          True\n",
      "flip_eta                           True\n",
      "cv_splits                             5\n",
      "cv_iteration                          5\n",
      "dtype: object\n",
      "Performing 5-fold cross validation with 100000 samples\n",
      "Starting fold 1/5 with 80000 train samples and 20000 validation samples\n"
     ]
    },
    {
     "data": {
      "text/html": [
       "\n",
       "                Logging results to <a href=\"https://wandb.com\" target=\"_blank\">Weights & Biases</a> <a href=\"https://docs.wandb.com/integrations/jupyter.html\" target=\"_blank\">(Documentation)</a>.<br/>\n",
       "                Project page: <a href=\"https://app.wandb.ai/joeranbosma/ml4ppa\" target=\"_blank\">https://app.wandb.ai/joeranbosma/ml4ppa</a><br/>\n",
       "                Run page: <a href=\"https://app.wandb.ai/joeranbosma/ml4ppa/runs/2t8froqu\" target=\"_blank\">https://app.wandb.ai/joeranbosma/ml4ppa/runs/2t8froqu</a><br/>\n",
       "            "
      ],
      "text/plain": [
       "<IPython.core.display.HTML object>"
      ]
     },
     "metadata": {
      "tags": []
     },
     "output_type": "display_data"
    },
    {
     "name": "stdout",
     "output_type": "stream",
     "text": [
      "Starting fold 2/5 with 80000 train samples and 20000 validation samples\n"
     ]
    },
    {
     "data": {
      "text/html": [
       "\n",
       "                Logging results to <a href=\"https://wandb.com\" target=\"_blank\">Weights & Biases</a> <a href=\"https://docs.wandb.com/integrations/jupyter.html\" target=\"_blank\">(Documentation)</a>.<br/>\n",
       "                Project page: <a href=\"https://app.wandb.ai/joeranbosma/ml4ppa\" target=\"_blank\">https://app.wandb.ai/joeranbosma/ml4ppa</a><br/>\n",
       "                Run page: <a href=\"https://app.wandb.ai/joeranbosma/ml4ppa/runs/hjxj36zl\" target=\"_blank\">https://app.wandb.ai/joeranbosma/ml4ppa/runs/hjxj36zl</a><br/>\n",
       "            "
      ],
      "text/plain": [
       "<IPython.core.display.HTML object>"
      ]
     },
     "metadata": {
      "tags": []
     },
     "output_type": "display_data"
    },
    {
     "name": "stdout",
     "output_type": "stream",
     "text": [
      "Starting fold 3/5 with 80000 train samples and 20000 validation samples\n"
     ]
    },
    {
     "data": {
      "text/html": [
       "\n",
       "                Logging results to <a href=\"https://wandb.com\" target=\"_blank\">Weights & Biases</a> <a href=\"https://docs.wandb.com/integrations/jupyter.html\" target=\"_blank\">(Documentation)</a>.<br/>\n",
       "                Project page: <a href=\"https://app.wandb.ai/joeranbosma/ml4ppa\" target=\"_blank\">https://app.wandb.ai/joeranbosma/ml4ppa</a><br/>\n",
       "                Run page: <a href=\"https://app.wandb.ai/joeranbosma/ml4ppa/runs/338h2efq\" target=\"_blank\">https://app.wandb.ai/joeranbosma/ml4ppa/runs/338h2efq</a><br/>\n",
       "            "
      ],
      "text/plain": [
       "<IPython.core.display.HTML object>"
      ]
     },
     "metadata": {
      "tags": []
     },
     "output_type": "display_data"
    },
    {
     "name": "stdout",
     "output_type": "stream",
     "text": [
      "Starting fold 4/5 with 80000 train samples and 20000 validation samples\n"
     ]
    },
    {
     "data": {
      "text/html": [
       "\n",
       "                Logging results to <a href=\"https://wandb.com\" target=\"_blank\">Weights & Biases</a> <a href=\"https://docs.wandb.com/integrations/jupyter.html\" target=\"_blank\">(Documentation)</a>.<br/>\n",
       "                Project page: <a href=\"https://app.wandb.ai/joeranbosma/ml4ppa\" target=\"_blank\">https://app.wandb.ai/joeranbosma/ml4ppa</a><br/>\n",
       "                Run page: <a href=\"https://app.wandb.ai/joeranbosma/ml4ppa/runs/1cd0hf0t\" target=\"_blank\">https://app.wandb.ai/joeranbosma/ml4ppa/runs/1cd0hf0t</a><br/>\n",
       "            "
      ],
      "text/plain": [
       "<IPython.core.display.HTML object>"
      ]
     },
     "metadata": {
      "tags": []
     },
     "output_type": "display_data"
    },
    {
     "name": "stdout",
     "output_type": "stream",
     "text": [
      "Starting fold 5/5 with 80000 train samples and 20000 validation samples\n"
     ]
    },
    {
     "data": {
      "text/html": [
       "\n",
       "                Logging results to <a href=\"https://wandb.com\" target=\"_blank\">Weights & Biases</a> <a href=\"https://docs.wandb.com/integrations/jupyter.html\" target=\"_blank\">(Documentation)</a>.<br/>\n",
       "                Project page: <a href=\"https://app.wandb.ai/joeranbosma/ml4ppa\" target=\"_blank\">https://app.wandb.ai/joeranbosma/ml4ppa</a><br/>\n",
       "                Run page: <a href=\"https://app.wandb.ai/joeranbosma/ml4ppa/runs/1cy1gkw0\" target=\"_blank\">https://app.wandb.ai/joeranbosma/ml4ppa/runs/1cy1gkw0</a><br/>\n",
       "            "
      ],
      "text/plain": [
       "<IPython.core.display.HTML object>"
      ]
     },
     "metadata": {
      "tags": []
     },
     "output_type": "display_data"
    },
    {
     "name": "stdout",
     "output_type": "stream",
     "text": [
      "MLP - trans - both train acc: 0.94462±0.00086, val acc: 0.93986±0.00057\n",
      "Transformation both, max. val. accuracies: 94.19% ± 0.04%\n"
     ]
    },
    {
     "name": "stderr",
     "output_type": "stream",
     "text": [
      "Exception in thread Thread-177:\n",
      "Traceback (most recent call last):\n",
      "  File \"/usr/local/lib/python3.6/dist-packages/wandb/file_pusher.py\", line 81, in run\n",
      "    self.prepare_file()\n",
      "  File \"/usr/local/lib/python3.6/dist-packages/wandb/file_pusher.py\", line 72, in prepare_file\n",
      "    shutil.copy2(self.path, self.save_path)\n",
      "  File \"/usr/lib/python3.6/shutil.py\", line 263, in copy2\n",
      "    copyfile(src, dst, follow_symlinks=follow_symlinks)\n",
      "  File \"/usr/lib/python3.6/shutil.py\", line 120, in copyfile\n",
      "    with open(src, 'rb') as fsrc:\n",
      "FileNotFoundError: [Errno 2] No such file or directory: '/tmp/tmpweacrk4jwandb/batch-2.tgz'\n",
      "\n",
      "During handling of the above exception, another exception occurred:\n",
      "\n",
      "Traceback (most recent call last):\n",
      "  File \"/usr/lib/python3.6/threading.py\", line 916, in _bootstrap_inner\n",
      "    self.run()\n",
      "  File \"/usr/local/lib/python3.6/dist-packages/wandb/file_pusher.py\", line 85, in run\n",
      "    self.cleanup_file()\n",
      "  File \"/usr/local/lib/python3.6/dist-packages/wandb/file_pusher.py\", line 154, in cleanup_file\n",
      "    os.unlink(self.tgz_path)\n",
      "FileNotFoundError: [Errno 2] No such file or directory: '/tmp/tmpweacrk4jwandb/batch-2.tgz'\n",
      "\n",
      "Exception in thread Thread-179:\n",
      "Traceback (most recent call last):\n",
      "  File \"/usr/local/lib/python3.6/dist-packages/wandb/file_pusher.py\", line 81, in run\n",
      "    self.prepare_file()\n",
      "  File \"/usr/local/lib/python3.6/dist-packages/wandb/file_pusher.py\", line 72, in prepare_file\n",
      "    shutil.copy2(self.path, self.save_path)\n",
      "  File \"/usr/lib/python3.6/shutil.py\", line 263, in copy2\n",
      "    copyfile(src, dst, follow_symlinks=follow_symlinks)\n",
      "  File \"/usr/lib/python3.6/shutil.py\", line 120, in copyfile\n",
      "    with open(src, 'rb') as fsrc:\n",
      "FileNotFoundError: [Errno 2] No such file or directory: '/tmp/tmpweacrk4jwandb/batch-2.tgz'\n",
      "\n",
      "During handling of the above exception, another exception occurred:\n",
      "\n",
      "Traceback (most recent call last):\n",
      "  File \"/usr/lib/python3.6/threading.py\", line 916, in _bootstrap_inner\n",
      "    self.run()\n",
      "  File \"/usr/local/lib/python3.6/dist-packages/wandb/file_pusher.py\", line 85, in run\n",
      "    self.cleanup_file()\n",
      "  File \"/usr/local/lib/python3.6/dist-packages/wandb/file_pusher.py\", line 154, in cleanup_file\n",
      "    os.unlink(self.tgz_path)\n",
      "FileNotFoundError: [Errno 2] No such file or directory: '/tmp/tmpweacrk4jwandb/batch-2.tgz'\n",
      "\n",
      "Exception in thread Thread-181:\n",
      "Traceback (most recent call last):\n",
      "  File \"/usr/local/lib/python3.6/dist-packages/wandb/file_pusher.py\", line 81, in run\n",
      "    self.prepare_file()\n",
      "  File \"/usr/local/lib/python3.6/dist-packages/wandb/file_pusher.py\", line 72, in prepare_file\n",
      "    shutil.copy2(self.path, self.save_path)\n",
      "  File \"/usr/lib/python3.6/shutil.py\", line 263, in copy2\n",
      "    copyfile(src, dst, follow_symlinks=follow_symlinks)\n",
      "  File \"/usr/lib/python3.6/shutil.py\", line 120, in copyfile\n",
      "    with open(src, 'rb') as fsrc:\n",
      "FileNotFoundError: [Errno 2] No such file or directory: '/tmp/tmpweacrk4jwandb/batch-2.tgz'\n",
      "\n",
      "During handling of the above exception, another exception occurred:\n",
      "\n",
      "Traceback (most recent call last):\n",
      "  File \"/usr/lib/python3.6/threading.py\", line 916, in _bootstrap_inner\n",
      "    self.run()\n",
      "  File \"/usr/local/lib/python3.6/dist-packages/wandb/file_pusher.py\", line 85, in run\n",
      "    self.cleanup_file()\n",
      "  File \"/usr/local/lib/python3.6/dist-packages/wandb/file_pusher.py\", line 154, in cleanup_file\n",
      "    os.unlink(self.tgz_path)\n",
      "FileNotFoundError: [Errno 2] No such file or directory: '/tmp/tmpweacrk4jwandb/batch-2.tgz'\n",
      "\n",
      "Exception in thread Thread-183:\n",
      "Traceback (most recent call last):\n",
      "  File \"/usr/local/lib/python3.6/dist-packages/wandb/file_pusher.py\", line 81, in run\n",
      "    self.prepare_file()\n",
      "  File \"/usr/local/lib/python3.6/dist-packages/wandb/file_pusher.py\", line 72, in prepare_file\n",
      "    shutil.copy2(self.path, self.save_path)\n",
      "  File \"/usr/lib/python3.6/shutil.py\", line 263, in copy2\n",
      "    copyfile(src, dst, follow_symlinks=follow_symlinks)\n",
      "  File \"/usr/lib/python3.6/shutil.py\", line 120, in copyfile\n",
      "    with open(src, 'rb') as fsrc:\n",
      "FileNotFoundError: [Errno 2] No such file or directory: '/tmp/tmpweacrk4jwandb/batch-2.tgz'\n",
      "\n",
      "During handling of the above exception, another exception occurred:\n",
      "\n",
      "Traceback (most recent call last):\n",
      "  File \"/usr/lib/python3.6/threading.py\", line 916, in _bootstrap_inner\n",
      "    self.run()\n",
      "  File \"/usr/local/lib/python3.6/dist-packages/wandb/file_pusher.py\", line 85, in run\n",
      "    self.cleanup_file()\n",
      "  File \"/usr/local/lib/python3.6/dist-packages/wandb/file_pusher.py\", line 154, in cleanup_file\n",
      "    os.unlink(self.tgz_path)\n",
      "FileNotFoundError: [Errno 2] No such file or directory: '/tmp/tmpweacrk4jwandb/batch-2.tgz'\n",
      "\n"
     ]
    }
   ],
   "source": [
    "# current baseline options\n",
    "args = Args({'id': 'MLP', 'architecture': '128^3 + drop 0.2', 'norm': 'minmax', 'trans': 'plain',\n",
    "             'nodes1': 128, 'nodes2': 128, 'nodes3': 128, 'nodes4': 0, 'nodes5': 0,\n",
    "             'dropout1': 0.2, 'dropout2': 0.2, 'dropout3': 0.2, 'dropout4': 0.2, 'dropout5': 0.2,\n",
    "             'activation': 'relu',  'batch_size': 64, 'epochs': 150,\n",
    "             'shift_phi': True, 'flip_eta': True}, verbose=False, wandb_init=False)\n",
    "\n",
    "# investigation options\n",
    "transformation_options = ['log', 'both']\n",
    "\n",
    "for i, trans in enumerate(transformation_options):\n",
    "    # set deviations from current baseline\n",
    "    args.set_args({'id': 'MLP - trans - {}'.format(trans), \n",
    "                   'trans': trans}, \n",
    "                  verbose=True, wandb_init=False)\n",
    "    \n",
    "    cv_train_accuracies, cv_val_accuracies, cv_max_val_accuracies = aug_cv_test(args)\n",
    "    save_metrics(cv_train_accuracies, cv_val_accuracies, cv_max_val_accuracies, \n",
    "                 name=\"trans_{}\".format(trans))\n",
    "    print(\"Transformation {}, max. val. accuracies: {:.2%} ± {:.2%}\".format(\n",
    "        trans, np.mean(cv_max_val_accuracies), np.std(cv_max_val_accuracies)))"
   ]
  },
  {
   "cell_type": "markdown",
   "metadata": {
    "colab_type": "text",
    "id": "da88tnNNVgpA"
   },
   "source": [
    "**Results**: Including both transformations yield 94.19% ± 0.04%, a small improvement from 94.13% ± 0.04% with only plain. Log transformation only is bad. "
   ]
  },
  {
   "cell_type": "markdown",
   "metadata": {
    "colab_type": "text",
    "id": "X0G8RjZImD0p"
   },
   "source": [
    "## Test 8: nonlinearity"
   ]
  },
  {
   "cell_type": "code",
   "execution_count": 17,
   "metadata": {
    "colab": {
     "base_uri": "https://localhost:8080/",
     "height": 1000
    },
    "colab_type": "code",
    "executionInfo": {
     "elapsed": 21681331,
     "status": "ok",
     "timestamp": 1585428950617,
     "user": {
      "displayName": "Joeran Bosma",
      "photoUrl": "https://lh3.googleusercontent.com/a-/AOh14GiEvCunvq33iGZ3RU-P9BMF7L60e8LoQ3Y1AfZJ4Q=s64",
      "userId": "05378465311079003812"
     },
     "user_tz": -60
    },
    "id": "SCW-igUSmD0y",
    "outputId": "41d7519e-645e-454f-b2f8-366d5918788f"
   },
   "outputs": [
    {
     "name": "stdout",
     "output_type": "stream",
     "text": [
      "id                  MLP - activation - tanh\n",
      "architecture               128^3 + drop 0.2\n",
      "loss                    binary_crossentropy\n",
      "activation                             tanh\n",
      "final_activation                    sigmoid\n",
      "epochs                                  100\n",
      "batch_size                               64\n",
      "optimizer                              adam\n",
      "lr                                   0.0001\n",
      "lr_decay                                  0\n",
      "norm                                 minmax\n",
      "trans                                  both\n",
      "nodes1                                  128\n",
      "nodes2                                  128\n",
      "nodes3                                  128\n",
      "nodes4                                    0\n",
      "nodes5                                    0\n",
      "dropout1                                0.2\n",
      "dropout2                                0.2\n",
      "dropout3                                0.2\n",
      "dropout4                                0.2\n",
      "dropout5                                0.2\n",
      "batch_norm                               []\n",
      "shift_phi                              True\n",
      "flip_eta                               True\n",
      "dtype: object\n",
      "Performing 5-fold cross validation with 100000 samples\n",
      "Starting fold 1/5 with 80000 train samples and 20000 validation samples\n"
     ]
    },
    {
     "data": {
      "text/html": [
       "\n",
       "                Logging results to <a href=\"https://wandb.com\" target=\"_blank\">Weights & Biases</a> <a href=\"https://docs.wandb.com/integrations/jupyter.html\" target=\"_blank\">(Documentation)</a>.<br/>\n",
       "                Project page: <a href=\"https://app.wandb.ai/joeranbosma/ml4ppa\" target=\"_blank\">https://app.wandb.ai/joeranbosma/ml4ppa</a><br/>\n",
       "                Run page: <a href=\"https://app.wandb.ai/joeranbosma/ml4ppa/runs/2sknyd8t\" target=\"_blank\">https://app.wandb.ai/joeranbosma/ml4ppa/runs/2sknyd8t</a><br/>\n",
       "            "
      ],
      "text/plain": [
       "<IPython.core.display.HTML object>"
      ]
     },
     "metadata": {
      "tags": []
     },
     "output_type": "display_data"
    },
    {
     "name": "stdout",
     "output_type": "stream",
     "text": [
      "Starting fold 2/5 with 80000 train samples and 20000 validation samples\n"
     ]
    },
    {
     "data": {
      "text/html": [
       "\n",
       "                Logging results to <a href=\"https://wandb.com\" target=\"_blank\">Weights & Biases</a> <a href=\"https://docs.wandb.com/integrations/jupyter.html\" target=\"_blank\">(Documentation)</a>.<br/>\n",
       "                Project page: <a href=\"https://app.wandb.ai/joeranbosma/ml4ppa\" target=\"_blank\">https://app.wandb.ai/joeranbosma/ml4ppa</a><br/>\n",
       "                Run page: <a href=\"https://app.wandb.ai/joeranbosma/ml4ppa/runs/13d951ld\" target=\"_blank\">https://app.wandb.ai/joeranbosma/ml4ppa/runs/13d951ld</a><br/>\n",
       "            "
      ],
      "text/plain": [
       "<IPython.core.display.HTML object>"
      ]
     },
     "metadata": {
      "tags": []
     },
     "output_type": "display_data"
    },
    {
     "name": "stdout",
     "output_type": "stream",
     "text": [
      "Starting fold 3/5 with 80000 train samples and 20000 validation samples\n"
     ]
    },
    {
     "data": {
      "text/html": [
       "\n",
       "                Logging results to <a href=\"https://wandb.com\" target=\"_blank\">Weights & Biases</a> <a href=\"https://docs.wandb.com/integrations/jupyter.html\" target=\"_blank\">(Documentation)</a>.<br/>\n",
       "                Project page: <a href=\"https://app.wandb.ai/joeranbosma/ml4ppa\" target=\"_blank\">https://app.wandb.ai/joeranbosma/ml4ppa</a><br/>\n",
       "                Run page: <a href=\"https://app.wandb.ai/joeranbosma/ml4ppa/runs/15anafir\" target=\"_blank\">https://app.wandb.ai/joeranbosma/ml4ppa/runs/15anafir</a><br/>\n",
       "            "
      ],
      "text/plain": [
       "<IPython.core.display.HTML object>"
      ]
     },
     "metadata": {
      "tags": []
     },
     "output_type": "display_data"
    },
    {
     "name": "stdout",
     "output_type": "stream",
     "text": [
      "Starting fold 4/5 with 80000 train samples and 20000 validation samples\n"
     ]
    },
    {
     "data": {
      "text/html": [
       "\n",
       "                Logging results to <a href=\"https://wandb.com\" target=\"_blank\">Weights & Biases</a> <a href=\"https://docs.wandb.com/integrations/jupyter.html\" target=\"_blank\">(Documentation)</a>.<br/>\n",
       "                Project page: <a href=\"https://app.wandb.ai/joeranbosma/ml4ppa\" target=\"_blank\">https://app.wandb.ai/joeranbosma/ml4ppa</a><br/>\n",
       "                Run page: <a href=\"https://app.wandb.ai/joeranbosma/ml4ppa/runs/33pv4ev2\" target=\"_blank\">https://app.wandb.ai/joeranbosma/ml4ppa/runs/33pv4ev2</a><br/>\n",
       "            "
      ],
      "text/plain": [
       "<IPython.core.display.HTML object>"
      ]
     },
     "metadata": {
      "tags": []
     },
     "output_type": "display_data"
    },
    {
     "name": "stdout",
     "output_type": "stream",
     "text": [
      "Starting fold 5/5 with 80000 train samples and 20000 validation samples\n"
     ]
    },
    {
     "data": {
      "text/html": [
       "\n",
       "                Logging results to <a href=\"https://wandb.com\" target=\"_blank\">Weights & Biases</a> <a href=\"https://docs.wandb.com/integrations/jupyter.html\" target=\"_blank\">(Documentation)</a>.<br/>\n",
       "                Project page: <a href=\"https://app.wandb.ai/joeranbosma/ml4ppa\" target=\"_blank\">https://app.wandb.ai/joeranbosma/ml4ppa</a><br/>\n",
       "                Run page: <a href=\"https://app.wandb.ai/joeranbosma/ml4ppa/runs/k6750nh9\" target=\"_blank\">https://app.wandb.ai/joeranbosma/ml4ppa/runs/k6750nh9</a><br/>\n",
       "            "
      ],
      "text/plain": [
       "<IPython.core.display.HTML object>"
      ]
     },
     "metadata": {
      "tags": []
     },
     "output_type": "display_data"
    },
    {
     "name": "stdout",
     "output_type": "stream",
     "text": [
      "MLP - activation - tanh train acc: 0.93892±0.00090, val acc: 0.93992±0.00055\n",
      "Nonlinearity tanh, max. val. accuracies: 94.10% ± 0.00%\n",
      "id                                           MLP - activation - LReLU\n",
      "architecture                                         128^3 + drop 0.2\n",
      "loss                                              binary_crossentropy\n",
      "activation          <tensorflow.python.keras.layers.advanced_activ...\n",
      "final_activation                                              sigmoid\n",
      "epochs                                                            100\n",
      "batch_size                                                         64\n",
      "optimizer                                                        adam\n",
      "lr                                                             0.0001\n",
      "lr_decay                                                            0\n",
      "norm                                                           minmax\n",
      "trans                                                            both\n",
      "nodes1                                                            128\n",
      "nodes2                                                            128\n",
      "nodes3                                                            128\n",
      "nodes4                                                              0\n",
      "nodes5                                                              0\n",
      "dropout1                                                          0.2\n",
      "dropout2                                                          0.2\n",
      "dropout3                                                          0.2\n",
      "dropout4                                                          0.2\n",
      "dropout5                                                          0.2\n",
      "batch_norm                                                         []\n",
      "shift_phi                                                        True\n",
      "flip_eta                                                         True\n",
      "cv_splits                                                           5\n",
      "cv_iteration                                                        5\n",
      "dtype: object\n",
      "Performing 5-fold cross validation with 100000 samples\n",
      "Starting fold 1/5 with 80000 train samples and 20000 validation samples\n"
     ]
    },
    {
     "data": {
      "text/html": [
       "\n",
       "                Logging results to <a href=\"https://wandb.com\" target=\"_blank\">Weights & Biases</a> <a href=\"https://docs.wandb.com/integrations/jupyter.html\" target=\"_blank\">(Documentation)</a>.<br/>\n",
       "                Project page: <a href=\"https://app.wandb.ai/joeranbosma/ml4ppa\" target=\"_blank\">https://app.wandb.ai/joeranbosma/ml4ppa</a><br/>\n",
       "                Run page: <a href=\"https://app.wandb.ai/joeranbosma/ml4ppa/runs/28pwbrdm\" target=\"_blank\">https://app.wandb.ai/joeranbosma/ml4ppa/runs/28pwbrdm</a><br/>\n",
       "            "
      ],
      "text/plain": [
       "<IPython.core.display.HTML object>"
      ]
     },
     "metadata": {
      "tags": []
     },
     "output_type": "display_data"
    },
    {
     "name": "stdout",
     "output_type": "stream",
     "text": [
      "Starting fold 2/5 with 80000 train samples and 20000 validation samples\n"
     ]
    },
    {
     "data": {
      "text/html": [
       "\n",
       "                Logging results to <a href=\"https://wandb.com\" target=\"_blank\">Weights & Biases</a> <a href=\"https://docs.wandb.com/integrations/jupyter.html\" target=\"_blank\">(Documentation)</a>.<br/>\n",
       "                Project page: <a href=\"https://app.wandb.ai/joeranbosma/ml4ppa\" target=\"_blank\">https://app.wandb.ai/joeranbosma/ml4ppa</a><br/>\n",
       "                Run page: <a href=\"https://app.wandb.ai/joeranbosma/ml4ppa/runs/28eyyb8u\" target=\"_blank\">https://app.wandb.ai/joeranbosma/ml4ppa/runs/28eyyb8u</a><br/>\n",
       "            "
      ],
      "text/plain": [
       "<IPython.core.display.HTML object>"
      ]
     },
     "metadata": {
      "tags": []
     },
     "output_type": "display_data"
    },
    {
     "name": "stdout",
     "output_type": "stream",
     "text": [
      "Starting fold 3/5 with 80000 train samples and 20000 validation samples\n"
     ]
    },
    {
     "data": {
      "text/html": [
       "\n",
       "                Logging results to <a href=\"https://wandb.com\" target=\"_blank\">Weights & Biases</a> <a href=\"https://docs.wandb.com/integrations/jupyter.html\" target=\"_blank\">(Documentation)</a>.<br/>\n",
       "                Project page: <a href=\"https://app.wandb.ai/joeranbosma/ml4ppa\" target=\"_blank\">https://app.wandb.ai/joeranbosma/ml4ppa</a><br/>\n",
       "                Run page: <a href=\"https://app.wandb.ai/joeranbosma/ml4ppa/runs/29mvqx6j\" target=\"_blank\">https://app.wandb.ai/joeranbosma/ml4ppa/runs/29mvqx6j</a><br/>\n",
       "            "
      ],
      "text/plain": [
       "<IPython.core.display.HTML object>"
      ]
     },
     "metadata": {
      "tags": []
     },
     "output_type": "display_data"
    },
    {
     "name": "stdout",
     "output_type": "stream",
     "text": [
      "Starting fold 4/5 with 80000 train samples and 20000 validation samples\n"
     ]
    },
    {
     "data": {
      "text/html": [
       "\n",
       "                Logging results to <a href=\"https://wandb.com\" target=\"_blank\">Weights & Biases</a> <a href=\"https://docs.wandb.com/integrations/jupyter.html\" target=\"_blank\">(Documentation)</a>.<br/>\n",
       "                Project page: <a href=\"https://app.wandb.ai/joeranbosma/ml4ppa\" target=\"_blank\">https://app.wandb.ai/joeranbosma/ml4ppa</a><br/>\n",
       "                Run page: <a href=\"https://app.wandb.ai/joeranbosma/ml4ppa/runs/12cn5706\" target=\"_blank\">https://app.wandb.ai/joeranbosma/ml4ppa/runs/12cn5706</a><br/>\n",
       "            "
      ],
      "text/plain": [
       "<IPython.core.display.HTML object>"
      ]
     },
     "metadata": {
      "tags": []
     },
     "output_type": "display_data"
    },
    {
     "name": "stdout",
     "output_type": "stream",
     "text": [
      "Starting fold 5/5 with 80000 train samples and 20000 validation samples\n"
     ]
    },
    {
     "data": {
      "text/html": [
       "\n",
       "                Logging results to <a href=\"https://wandb.com\" target=\"_blank\">Weights & Biases</a> <a href=\"https://docs.wandb.com/integrations/jupyter.html\" target=\"_blank\">(Documentation)</a>.<br/>\n",
       "                Project page: <a href=\"https://app.wandb.ai/joeranbosma/ml4ppa\" target=\"_blank\">https://app.wandb.ai/joeranbosma/ml4ppa</a><br/>\n",
       "                Run page: <a href=\"https://app.wandb.ai/joeranbosma/ml4ppa/runs/1bmvc5kz\" target=\"_blank\">https://app.wandb.ai/joeranbosma/ml4ppa/runs/1bmvc5kz</a><br/>\n",
       "            "
      ],
      "text/plain": [
       "<IPython.core.display.HTML object>"
      ]
     },
     "metadata": {
      "tags": []
     },
     "output_type": "display_data"
    },
    {
     "name": "stdout",
     "output_type": "stream",
     "text": [
      "MLP - activation - LReLU train acc: 0.94407±0.00117, val acc: 0.94073±0.00052\n",
      "Nonlinearity LReLU, max. val. accuracies: 94.17% ± 0.03%\n",
      "id                                      MLP - activation - KindaLReLU\n",
      "architecture                                         128^3 + drop 0.2\n",
      "loss                                              binary_crossentropy\n",
      "activation          <tensorflow.python.keras.layers.advanced_activ...\n",
      "final_activation                                              sigmoid\n",
      "epochs                                                            100\n",
      "batch_size                                                         64\n",
      "optimizer                                                        adam\n",
      "lr                                                             0.0001\n",
      "lr_decay                                                            0\n",
      "norm                                                           minmax\n",
      "trans                                                            both\n",
      "nodes1                                                            128\n",
      "nodes2                                                            128\n",
      "nodes3                                                            128\n",
      "nodes4                                                              0\n",
      "nodes5                                                              0\n",
      "dropout1                                                          0.2\n",
      "dropout2                                                          0.2\n",
      "dropout3                                                          0.2\n",
      "dropout4                                                          0.2\n",
      "dropout5                                                          0.2\n",
      "batch_norm                                                         []\n",
      "shift_phi                                                        True\n",
      "flip_eta                                                         True\n",
      "cv_splits                                                           5\n",
      "cv_iteration                                                        5\n",
      "dtype: object\n",
      "Performing 5-fold cross validation with 100000 samples\n",
      "Starting fold 1/5 with 80000 train samples and 20000 validation samples\n"
     ]
    },
    {
     "data": {
      "text/html": [
       "\n",
       "                Logging results to <a href=\"https://wandb.com\" target=\"_blank\">Weights & Biases</a> <a href=\"https://docs.wandb.com/integrations/jupyter.html\" target=\"_blank\">(Documentation)</a>.<br/>\n",
       "                Project page: <a href=\"https://app.wandb.ai/joeranbosma/ml4ppa\" target=\"_blank\">https://app.wandb.ai/joeranbosma/ml4ppa</a><br/>\n",
       "                Run page: <a href=\"https://app.wandb.ai/joeranbosma/ml4ppa/runs/20jdzc63\" target=\"_blank\">https://app.wandb.ai/joeranbosma/ml4ppa/runs/20jdzc63</a><br/>\n",
       "            "
      ],
      "text/plain": [
       "<IPython.core.display.HTML object>"
      ]
     },
     "metadata": {
      "tags": []
     },
     "output_type": "display_data"
    },
    {
     "name": "stdout",
     "output_type": "stream",
     "text": [
      "Starting fold 2/5 with 80000 train samples and 20000 validation samples\n"
     ]
    },
    {
     "data": {
      "text/html": [
       "\n",
       "                Logging results to <a href=\"https://wandb.com\" target=\"_blank\">Weights & Biases</a> <a href=\"https://docs.wandb.com/integrations/jupyter.html\" target=\"_blank\">(Documentation)</a>.<br/>\n",
       "                Project page: <a href=\"https://app.wandb.ai/joeranbosma/ml4ppa\" target=\"_blank\">https://app.wandb.ai/joeranbosma/ml4ppa</a><br/>\n",
       "                Run page: <a href=\"https://app.wandb.ai/joeranbosma/ml4ppa/runs/17n4hzfy\" target=\"_blank\">https://app.wandb.ai/joeranbosma/ml4ppa/runs/17n4hzfy</a><br/>\n",
       "            "
      ],
      "text/plain": [
       "<IPython.core.display.HTML object>"
      ]
     },
     "metadata": {
      "tags": []
     },
     "output_type": "display_data"
    },
    {
     "name": "stdout",
     "output_type": "stream",
     "text": [
      "Starting fold 3/5 with 80000 train samples and 20000 validation samples\n"
     ]
    },
    {
     "data": {
      "text/html": [
       "\n",
       "                Logging results to <a href=\"https://wandb.com\" target=\"_blank\">Weights & Biases</a> <a href=\"https://docs.wandb.com/integrations/jupyter.html\" target=\"_blank\">(Documentation)</a>.<br/>\n",
       "                Project page: <a href=\"https://app.wandb.ai/joeranbosma/ml4ppa\" target=\"_blank\">https://app.wandb.ai/joeranbosma/ml4ppa</a><br/>\n",
       "                Run page: <a href=\"https://app.wandb.ai/joeranbosma/ml4ppa/runs/ldpytjm5\" target=\"_blank\">https://app.wandb.ai/joeranbosma/ml4ppa/runs/ldpytjm5</a><br/>\n",
       "            "
      ],
      "text/plain": [
       "<IPython.core.display.HTML object>"
      ]
     },
     "metadata": {
      "tags": []
     },
     "output_type": "display_data"
    },
    {
     "name": "stdout",
     "output_type": "stream",
     "text": [
      "Starting fold 4/5 with 80000 train samples and 20000 validation samples\n"
     ]
    },
    {
     "data": {
      "text/html": [
       "\n",
       "                Logging results to <a href=\"https://wandb.com\" target=\"_blank\">Weights & Biases</a> <a href=\"https://docs.wandb.com/integrations/jupyter.html\" target=\"_blank\">(Documentation)</a>.<br/>\n",
       "                Project page: <a href=\"https://app.wandb.ai/joeranbosma/ml4ppa\" target=\"_blank\">https://app.wandb.ai/joeranbosma/ml4ppa</a><br/>\n",
       "                Run page: <a href=\"https://app.wandb.ai/joeranbosma/ml4ppa/runs/ga905rdf\" target=\"_blank\">https://app.wandb.ai/joeranbosma/ml4ppa/runs/ga905rdf</a><br/>\n",
       "            "
      ],
      "text/plain": [
       "<IPython.core.display.HTML object>"
      ]
     },
     "metadata": {
      "tags": []
     },
     "output_type": "display_data"
    },
    {
     "name": "stdout",
     "output_type": "stream",
     "text": [
      "Starting fold 5/5 with 80000 train samples and 20000 validation samples\n"
     ]
    },
    {
     "data": {
      "text/html": [
       "\n",
       "                Logging results to <a href=\"https://wandb.com\" target=\"_blank\">Weights & Biases</a> <a href=\"https://docs.wandb.com/integrations/jupyter.html\" target=\"_blank\">(Documentation)</a>.<br/>\n",
       "                Project page: <a href=\"https://app.wandb.ai/joeranbosma/ml4ppa\" target=\"_blank\">https://app.wandb.ai/joeranbosma/ml4ppa</a><br/>\n",
       "                Run page: <a href=\"https://app.wandb.ai/joeranbosma/ml4ppa/runs/1vrrr4y2\" target=\"_blank\">https://app.wandb.ai/joeranbosma/ml4ppa/runs/1vrrr4y2</a><br/>\n",
       "            "
      ],
      "text/plain": [
       "<IPython.core.display.HTML object>"
      ]
     },
     "metadata": {
      "tags": []
     },
     "output_type": "display_data"
    },
    {
     "name": "stdout",
     "output_type": "stream",
     "text": [
      "MLP - activation - KindaLReLU train acc: 0.94317±0.00069, val acc: 0.94115±0.00061\n",
      "Nonlinearity KindaLReLU, max. val. accuracies: 94.19% ± 0.03%\n",
      "id                                          MLP - activation - VLReLU\n",
      "architecture                                         128^3 + drop 0.2\n",
      "loss                                              binary_crossentropy\n",
      "activation          <tensorflow.python.keras.layers.advanced_activ...\n",
      "final_activation                                              sigmoid\n",
      "epochs                                                            100\n",
      "batch_size                                                         64\n",
      "optimizer                                                        adam\n",
      "lr                                                             0.0001\n",
      "lr_decay                                                            0\n",
      "norm                                                           minmax\n",
      "trans                                                            both\n",
      "nodes1                                                            128\n",
      "nodes2                                                            128\n",
      "nodes3                                                            128\n",
      "nodes4                                                              0\n",
      "nodes5                                                              0\n",
      "dropout1                                                          0.2\n",
      "dropout2                                                          0.2\n",
      "dropout3                                                          0.2\n",
      "dropout4                                                          0.2\n",
      "dropout5                                                          0.2\n",
      "batch_norm                                                         []\n",
      "shift_phi                                                        True\n",
      "flip_eta                                                         True\n",
      "cv_splits                                                           5\n",
      "cv_iteration                                                        5\n",
      "dtype: object\n",
      "Performing 5-fold cross validation with 100000 samples\n",
      "Starting fold 1/5 with 80000 train samples and 20000 validation samples\n"
     ]
    },
    {
     "data": {
      "text/html": [
       "\n",
       "                Logging results to <a href=\"https://wandb.com\" target=\"_blank\">Weights & Biases</a> <a href=\"https://docs.wandb.com/integrations/jupyter.html\" target=\"_blank\">(Documentation)</a>.<br/>\n",
       "                Project page: <a href=\"https://app.wandb.ai/joeranbosma/ml4ppa\" target=\"_blank\">https://app.wandb.ai/joeranbosma/ml4ppa</a><br/>\n",
       "                Run page: <a href=\"https://app.wandb.ai/joeranbosma/ml4ppa/runs/35gyha0c\" target=\"_blank\">https://app.wandb.ai/joeranbosma/ml4ppa/runs/35gyha0c</a><br/>\n",
       "            "
      ],
      "text/plain": [
       "<IPython.core.display.HTML object>"
      ]
     },
     "metadata": {
      "tags": []
     },
     "output_type": "display_data"
    },
    {
     "name": "stdout",
     "output_type": "stream",
     "text": [
      "Starting fold 2/5 with 80000 train samples and 20000 validation samples\n"
     ]
    },
    {
     "data": {
      "text/html": [
       "\n",
       "                Logging results to <a href=\"https://wandb.com\" target=\"_blank\">Weights & Biases</a> <a href=\"https://docs.wandb.com/integrations/jupyter.html\" target=\"_blank\">(Documentation)</a>.<br/>\n",
       "                Project page: <a href=\"https://app.wandb.ai/joeranbosma/ml4ppa\" target=\"_blank\">https://app.wandb.ai/joeranbosma/ml4ppa</a><br/>\n",
       "                Run page: <a href=\"https://app.wandb.ai/joeranbosma/ml4ppa/runs/ktza3j3f\" target=\"_blank\">https://app.wandb.ai/joeranbosma/ml4ppa/runs/ktza3j3f</a><br/>\n",
       "            "
      ],
      "text/plain": [
       "<IPython.core.display.HTML object>"
      ]
     },
     "metadata": {
      "tags": []
     },
     "output_type": "display_data"
    },
    {
     "name": "stdout",
     "output_type": "stream",
     "text": [
      "Starting fold 3/5 with 80000 train samples and 20000 validation samples\n"
     ]
    },
    {
     "data": {
      "text/html": [
       "\n",
       "                Logging results to <a href=\"https://wandb.com\" target=\"_blank\">Weights & Biases</a> <a href=\"https://docs.wandb.com/integrations/jupyter.html\" target=\"_blank\">(Documentation)</a>.<br/>\n",
       "                Project page: <a href=\"https://app.wandb.ai/joeranbosma/ml4ppa\" target=\"_blank\">https://app.wandb.ai/joeranbosma/ml4ppa</a><br/>\n",
       "                Run page: <a href=\"https://app.wandb.ai/joeranbosma/ml4ppa/runs/1a96tmea\" target=\"_blank\">https://app.wandb.ai/joeranbosma/ml4ppa/runs/1a96tmea</a><br/>\n",
       "            "
      ],
      "text/plain": [
       "<IPython.core.display.HTML object>"
      ]
     },
     "metadata": {
      "tags": []
     },
     "output_type": "display_data"
    },
    {
     "name": "stdout",
     "output_type": "stream",
     "text": [
      "Starting fold 4/5 with 80000 train samples and 20000 validation samples\n"
     ]
    },
    {
     "data": {
      "text/html": [
       "\n",
       "                Logging results to <a href=\"https://wandb.com\" target=\"_blank\">Weights & Biases</a> <a href=\"https://docs.wandb.com/integrations/jupyter.html\" target=\"_blank\">(Documentation)</a>.<br/>\n",
       "                Project page: <a href=\"https://app.wandb.ai/joeranbosma/ml4ppa\" target=\"_blank\">https://app.wandb.ai/joeranbosma/ml4ppa</a><br/>\n",
       "                Run page: <a href=\"https://app.wandb.ai/joeranbosma/ml4ppa/runs/1ewn4ah5\" target=\"_blank\">https://app.wandb.ai/joeranbosma/ml4ppa/runs/1ewn4ah5</a><br/>\n",
       "            "
      ],
      "text/plain": [
       "<IPython.core.display.HTML object>"
      ]
     },
     "metadata": {
      "tags": []
     },
     "output_type": "display_data"
    },
    {
     "name": "stdout",
     "output_type": "stream",
     "text": [
      "Starting fold 5/5 with 80000 train samples and 20000 validation samples\n"
     ]
    },
    {
     "data": {
      "text/html": [
       "\n",
       "                Logging results to <a href=\"https://wandb.com\" target=\"_blank\">Weights & Biases</a> <a href=\"https://docs.wandb.com/integrations/jupyter.html\" target=\"_blank\">(Documentation)</a>.<br/>\n",
       "                Project page: <a href=\"https://app.wandb.ai/joeranbosma/ml4ppa\" target=\"_blank\">https://app.wandb.ai/joeranbosma/ml4ppa</a><br/>\n",
       "                Run page: <a href=\"https://app.wandb.ai/joeranbosma/ml4ppa/runs/3b8olaff\" target=\"_blank\">https://app.wandb.ai/joeranbosma/ml4ppa/runs/3b8olaff</a><br/>\n",
       "            "
      ],
      "text/plain": [
       "<IPython.core.display.HTML object>"
      ]
     },
     "metadata": {
      "tags": []
     },
     "output_type": "display_data"
    },
    {
     "name": "stdout",
     "output_type": "stream",
     "text": [
      "MLP - activation - VLReLU train acc: 0.94216±0.00075, val acc: 0.94086±0.00049\n",
      "Nonlinearity VLReLU, max. val. accuracies: 94.21% ± 0.02%\n",
      "id                  MLP - activation - PReLU\n",
      "architecture                128^3 + drop 0.2\n",
      "loss                     binary_crossentropy\n",
      "activation                             PReLU\n",
      "final_activation                     sigmoid\n",
      "epochs                                   100\n",
      "batch_size                                64\n",
      "optimizer                               adam\n",
      "lr                                    0.0001\n",
      "lr_decay                                   0\n",
      "norm                                  minmax\n",
      "trans                                   both\n",
      "nodes1                                   128\n",
      "nodes2                                   128\n",
      "nodes3                                   128\n",
      "nodes4                                     0\n",
      "nodes5                                     0\n",
      "dropout1                                 0.2\n",
      "dropout2                                 0.2\n",
      "dropout3                                 0.2\n",
      "dropout4                                 0.2\n",
      "dropout5                                 0.2\n",
      "batch_norm                                []\n",
      "shift_phi                               True\n",
      "flip_eta                                True\n",
      "cv_splits                                  5\n",
      "cv_iteration                               5\n",
      "dtype: object\n",
      "Performing 5-fold cross validation with 100000 samples\n",
      "Starting fold 1/5 with 80000 train samples and 20000 validation samples\n"
     ]
    },
    {
     "data": {
      "text/html": [
       "\n",
       "                Logging results to <a href=\"https://wandb.com\" target=\"_blank\">Weights & Biases</a> <a href=\"https://docs.wandb.com/integrations/jupyter.html\" target=\"_blank\">(Documentation)</a>.<br/>\n",
       "                Project page: <a href=\"https://app.wandb.ai/joeranbosma/ml4ppa\" target=\"_blank\">https://app.wandb.ai/joeranbosma/ml4ppa</a><br/>\n",
       "                Run page: <a href=\"https://app.wandb.ai/joeranbosma/ml4ppa/runs/1lxlbhk1\" target=\"_blank\">https://app.wandb.ai/joeranbosma/ml4ppa/runs/1lxlbhk1</a><br/>\n",
       "            "
      ],
      "text/plain": [
       "<IPython.core.display.HTML object>"
      ]
     },
     "metadata": {
      "tags": []
     },
     "output_type": "display_data"
    },
    {
     "name": "stdout",
     "output_type": "stream",
     "text": [
      "Starting fold 2/5 with 80000 train samples and 20000 validation samples\n"
     ]
    },
    {
     "data": {
      "text/html": [
       "\n",
       "                Logging results to <a href=\"https://wandb.com\" target=\"_blank\">Weights & Biases</a> <a href=\"https://docs.wandb.com/integrations/jupyter.html\" target=\"_blank\">(Documentation)</a>.<br/>\n",
       "                Project page: <a href=\"https://app.wandb.ai/joeranbosma/ml4ppa\" target=\"_blank\">https://app.wandb.ai/joeranbosma/ml4ppa</a><br/>\n",
       "                Run page: <a href=\"https://app.wandb.ai/joeranbosma/ml4ppa/runs/t6i1ebal\" target=\"_blank\">https://app.wandb.ai/joeranbosma/ml4ppa/runs/t6i1ebal</a><br/>\n",
       "            "
      ],
      "text/plain": [
       "<IPython.core.display.HTML object>"
      ]
     },
     "metadata": {
      "tags": []
     },
     "output_type": "display_data"
    },
    {
     "name": "stdout",
     "output_type": "stream",
     "text": [
      "Starting fold 3/5 with 80000 train samples and 20000 validation samples\n"
     ]
    },
    {
     "data": {
      "text/html": [
       "\n",
       "                Logging results to <a href=\"https://wandb.com\" target=\"_blank\">Weights & Biases</a> <a href=\"https://docs.wandb.com/integrations/jupyter.html\" target=\"_blank\">(Documentation)</a>.<br/>\n",
       "                Project page: <a href=\"https://app.wandb.ai/joeranbosma/ml4ppa\" target=\"_blank\">https://app.wandb.ai/joeranbosma/ml4ppa</a><br/>\n",
       "                Run page: <a href=\"https://app.wandb.ai/joeranbosma/ml4ppa/runs/13gftccm\" target=\"_blank\">https://app.wandb.ai/joeranbosma/ml4ppa/runs/13gftccm</a><br/>\n",
       "            "
      ],
      "text/plain": [
       "<IPython.core.display.HTML object>"
      ]
     },
     "metadata": {
      "tags": []
     },
     "output_type": "display_data"
    },
    {
     "name": "stdout",
     "output_type": "stream",
     "text": [
      "Starting fold 4/5 with 80000 train samples and 20000 validation samples\n"
     ]
    },
    {
     "data": {
      "text/html": [
       "\n",
       "                Logging results to <a href=\"https://wandb.com\" target=\"_blank\">Weights & Biases</a> <a href=\"https://docs.wandb.com/integrations/jupyter.html\" target=\"_blank\">(Documentation)</a>.<br/>\n",
       "                Project page: <a href=\"https://app.wandb.ai/joeranbosma/ml4ppa\" target=\"_blank\">https://app.wandb.ai/joeranbosma/ml4ppa</a><br/>\n",
       "                Run page: <a href=\"https://app.wandb.ai/joeranbosma/ml4ppa/runs/wt71451x\" target=\"_blank\">https://app.wandb.ai/joeranbosma/ml4ppa/runs/wt71451x</a><br/>\n",
       "            "
      ],
      "text/plain": [
       "<IPython.core.display.HTML object>"
      ]
     },
     "metadata": {
      "tags": []
     },
     "output_type": "display_data"
    },
    {
     "name": "stdout",
     "output_type": "stream",
     "text": [
      "Starting fold 5/5 with 80000 train samples and 20000 validation samples\n"
     ]
    },
    {
     "data": {
      "text/html": [
       "\n",
       "                Logging results to <a href=\"https://wandb.com\" target=\"_blank\">Weights & Biases</a> <a href=\"https://docs.wandb.com/integrations/jupyter.html\" target=\"_blank\">(Documentation)</a>.<br/>\n",
       "                Project page: <a href=\"https://app.wandb.ai/joeranbosma/ml4ppa\" target=\"_blank\">https://app.wandb.ai/joeranbosma/ml4ppa</a><br/>\n",
       "                Run page: <a href=\"https://app.wandb.ai/joeranbosma/ml4ppa/runs/rwq8vps4\" target=\"_blank\">https://app.wandb.ai/joeranbosma/ml4ppa/runs/rwq8vps4</a><br/>\n",
       "            "
      ],
      "text/plain": [
       "<IPython.core.display.HTML object>"
      ]
     },
     "metadata": {
      "tags": []
     },
     "output_type": "display_data"
    },
    {
     "name": "stdout",
     "output_type": "stream",
     "text": [
      "MLP - activation - PReLU train acc: 0.94389±0.00075, val acc: 0.94058±0.00048\n",
      "Nonlinearity PReLU, max. val. accuracies: 94.20% ± 0.00%\n",
      "id                                             MLP - activation - ELU\n",
      "architecture                                         128^3 + drop 0.2\n",
      "loss                                              binary_crossentropy\n",
      "activation          <tensorflow.python.keras.layers.advanced_activ...\n",
      "final_activation                                              sigmoid\n",
      "epochs                                                            100\n",
      "batch_size                                                         64\n",
      "optimizer                                                        adam\n",
      "lr                                                             0.0001\n",
      "lr_decay                                                            0\n",
      "norm                                                           minmax\n",
      "trans                                                            both\n",
      "nodes1                                                            128\n",
      "nodes2                                                            128\n",
      "nodes3                                                            128\n",
      "nodes4                                                              0\n",
      "nodes5                                                              0\n",
      "dropout1                                                          0.2\n",
      "dropout2                                                          0.2\n",
      "dropout3                                                          0.2\n",
      "dropout4                                                          0.2\n",
      "dropout5                                                          0.2\n",
      "batch_norm                                                         []\n",
      "shift_phi                                                        True\n",
      "flip_eta                                                         True\n",
      "cv_splits                                                           5\n",
      "cv_iteration                                                        5\n",
      "dtype: object\n",
      "Performing 5-fold cross validation with 100000 samples\n",
      "Starting fold 1/5 with 80000 train samples and 20000 validation samples\n"
     ]
    },
    {
     "data": {
      "text/html": [
       "\n",
       "                Logging results to <a href=\"https://wandb.com\" target=\"_blank\">Weights & Biases</a> <a href=\"https://docs.wandb.com/integrations/jupyter.html\" target=\"_blank\">(Documentation)</a>.<br/>\n",
       "                Project page: <a href=\"https://app.wandb.ai/joeranbosma/ml4ppa\" target=\"_blank\">https://app.wandb.ai/joeranbosma/ml4ppa</a><br/>\n",
       "                Run page: <a href=\"https://app.wandb.ai/joeranbosma/ml4ppa/runs/gj9u7xcq\" target=\"_blank\">https://app.wandb.ai/joeranbosma/ml4ppa/runs/gj9u7xcq</a><br/>\n",
       "            "
      ],
      "text/plain": [
       "<IPython.core.display.HTML object>"
      ]
     },
     "metadata": {
      "tags": []
     },
     "output_type": "display_data"
    },
    {
     "name": "stdout",
     "output_type": "stream",
     "text": [
      "Starting fold 2/5 with 80000 train samples and 20000 validation samples\n"
     ]
    },
    {
     "data": {
      "text/html": [
       "\n",
       "                Logging results to <a href=\"https://wandb.com\" target=\"_blank\">Weights & Biases</a> <a href=\"https://docs.wandb.com/integrations/jupyter.html\" target=\"_blank\">(Documentation)</a>.<br/>\n",
       "                Project page: <a href=\"https://app.wandb.ai/joeranbosma/ml4ppa\" target=\"_blank\">https://app.wandb.ai/joeranbosma/ml4ppa</a><br/>\n",
       "                Run page: <a href=\"https://app.wandb.ai/joeranbosma/ml4ppa/runs/3o280hir\" target=\"_blank\">https://app.wandb.ai/joeranbosma/ml4ppa/runs/3o280hir</a><br/>\n",
       "            "
      ],
      "text/plain": [
       "<IPython.core.display.HTML object>"
      ]
     },
     "metadata": {
      "tags": []
     },
     "output_type": "display_data"
    },
    {
     "name": "stdout",
     "output_type": "stream",
     "text": [
      "Starting fold 3/5 with 80000 train samples and 20000 validation samples\n"
     ]
    },
    {
     "data": {
      "text/html": [
       "\n",
       "                Logging results to <a href=\"https://wandb.com\" target=\"_blank\">Weights & Biases</a> <a href=\"https://docs.wandb.com/integrations/jupyter.html\" target=\"_blank\">(Documentation)</a>.<br/>\n",
       "                Project page: <a href=\"https://app.wandb.ai/joeranbosma/ml4ppa\" target=\"_blank\">https://app.wandb.ai/joeranbosma/ml4ppa</a><br/>\n",
       "                Run page: <a href=\"https://app.wandb.ai/joeranbosma/ml4ppa/runs/3bl7ggob\" target=\"_blank\">https://app.wandb.ai/joeranbosma/ml4ppa/runs/3bl7ggob</a><br/>\n",
       "            "
      ],
      "text/plain": [
       "<IPython.core.display.HTML object>"
      ]
     },
     "metadata": {
      "tags": []
     },
     "output_type": "display_data"
    },
    {
     "name": "stdout",
     "output_type": "stream",
     "text": [
      "Starting fold 4/5 with 80000 train samples and 20000 validation samples\n"
     ]
    },
    {
     "data": {
      "text/html": [
       "\n",
       "                Logging results to <a href=\"https://wandb.com\" target=\"_blank\">Weights & Biases</a> <a href=\"https://docs.wandb.com/integrations/jupyter.html\" target=\"_blank\">(Documentation)</a>.<br/>\n",
       "                Project page: <a href=\"https://app.wandb.ai/joeranbosma/ml4ppa\" target=\"_blank\">https://app.wandb.ai/joeranbosma/ml4ppa</a><br/>\n",
       "                Run page: <a href=\"https://app.wandb.ai/joeranbosma/ml4ppa/runs/j7rcr0vv\" target=\"_blank\">https://app.wandb.ai/joeranbosma/ml4ppa/runs/j7rcr0vv</a><br/>\n",
       "            "
      ],
      "text/plain": [
       "<IPython.core.display.HTML object>"
      ]
     },
     "metadata": {
      "tags": []
     },
     "output_type": "display_data"
    },
    {
     "name": "stdout",
     "output_type": "stream",
     "text": [
      "Starting fold 5/5 with 80000 train samples and 20000 validation samples\n"
     ]
    },
    {
     "data": {
      "text/html": [
       "\n",
       "                Logging results to <a href=\"https://wandb.com\" target=\"_blank\">Weights & Biases</a> <a href=\"https://docs.wandb.com/integrations/jupyter.html\" target=\"_blank\">(Documentation)</a>.<br/>\n",
       "                Project page: <a href=\"https://app.wandb.ai/joeranbosma/ml4ppa\" target=\"_blank\">https://app.wandb.ai/joeranbosma/ml4ppa</a><br/>\n",
       "                Run page: <a href=\"https://app.wandb.ai/joeranbosma/ml4ppa/runs/1amdxxwt\" target=\"_blank\">https://app.wandb.ai/joeranbosma/ml4ppa/runs/1amdxxwt</a><br/>\n",
       "            "
      ],
      "text/plain": [
       "<IPython.core.display.HTML object>"
      ]
     },
     "metadata": {
      "tags": []
     },
     "output_type": "display_data"
    },
    {
     "name": "stdout",
     "output_type": "stream",
     "text": [
      "MLP - activation - ELU train acc: 0.93959±0.00078, val acc: 0.94054±0.00023\n",
      "Nonlinearity ELU, max. val. accuracies: 94.12% ± 0.02%\n"
     ]
    },
    {
     "name": "stderr",
     "output_type": "stream",
     "text": [
      "\u001b[34m\u001b[1mwandb\u001b[0m: \u001b[32m\u001b[41mERROR\u001b[0m Error uploading \"___batch_archive_2.tgz\": CommError, /tmp/tmpweacrk4jwandb/___batch_archive_2.tgz is an empty file\n",
      "Exception in thread Thread-562:\n",
      "Traceback (most recent call last):\n",
      "  File \"/usr/local/lib/python3.6/dist-packages/wandb/file_pusher.py\", line 81, in run\n",
      "    self.prepare_file()\n",
      "  File \"/usr/local/lib/python3.6/dist-packages/wandb/file_pusher.py\", line 72, in prepare_file\n",
      "    shutil.copy2(self.path, self.save_path)\n",
      "  File \"/usr/lib/python3.6/shutil.py\", line 263, in copy2\n",
      "    copyfile(src, dst, follow_symlinks=follow_symlinks)\n",
      "  File \"/usr/lib/python3.6/shutil.py\", line 120, in copyfile\n",
      "    with open(src, 'rb') as fsrc:\n",
      "FileNotFoundError: [Errno 2] No such file or directory: '/tmp/tmpweacrk4jwandb/batch-2.tgz'\n",
      "\n",
      "During handling of the above exception, another exception occurred:\n",
      "\n",
      "Traceback (most recent call last):\n",
      "  File \"/usr/lib/python3.6/threading.py\", line 916, in _bootstrap_inner\n",
      "    self.run()\n",
      "  File \"/usr/local/lib/python3.6/dist-packages/wandb/file_pusher.py\", line 85, in run\n",
      "    self.cleanup_file()\n",
      "  File \"/usr/local/lib/python3.6/dist-packages/wandb/file_pusher.py\", line 154, in cleanup_file\n",
      "    os.unlink(self.tgz_path)\n",
      "FileNotFoundError: [Errno 2] No such file or directory: '/tmp/tmpweacrk4jwandb/batch-2.tgz'\n",
      "\n",
      "Exception in thread Thread-564:\n",
      "Traceback (most recent call last):\n",
      "  File \"/usr/local/lib/python3.6/dist-packages/wandb/file_pusher.py\", line 81, in run\n",
      "    self.prepare_file()\n",
      "  File \"/usr/local/lib/python3.6/dist-packages/wandb/file_pusher.py\", line 72, in prepare_file\n",
      "    shutil.copy2(self.path, self.save_path)\n",
      "  File \"/usr/lib/python3.6/shutil.py\", line 263, in copy2\n",
      "    copyfile(src, dst, follow_symlinks=follow_symlinks)\n",
      "  File \"/usr/lib/python3.6/shutil.py\", line 120, in copyfile\n",
      "    with open(src, 'rb') as fsrc:\n",
      "FileNotFoundError: [Errno 2] No such file or directory: '/tmp/tmpweacrk4jwandb/batch-2.tgz'\n",
      "\n",
      "During handling of the above exception, another exception occurred:\n",
      "\n",
      "Traceback (most recent call last):\n",
      "  File \"/usr/lib/python3.6/threading.py\", line 916, in _bootstrap_inner\n",
      "    self.run()\n",
      "  File \"/usr/local/lib/python3.6/dist-packages/wandb/file_pusher.py\", line 85, in run\n",
      "    self.cleanup_file()\n",
      "  File \"/usr/local/lib/python3.6/dist-packages/wandb/file_pusher.py\", line 154, in cleanup_file\n",
      "    os.unlink(self.tgz_path)\n",
      "FileNotFoundError: [Errno 2] No such file or directory: '/tmp/tmpweacrk4jwandb/batch-2.tgz'\n",
      "\n",
      "Exception in thread Thread-566:\n",
      "Traceback (most recent call last):\n",
      "  File \"/usr/local/lib/python3.6/dist-packages/wandb/file_pusher.py\", line 81, in run\n",
      "    self.prepare_file()\n",
      "  File \"/usr/local/lib/python3.6/dist-packages/wandb/file_pusher.py\", line 72, in prepare_file\n",
      "    shutil.copy2(self.path, self.save_path)\n",
      "  File \"/usr/lib/python3.6/shutil.py\", line 263, in copy2\n",
      "    copyfile(src, dst, follow_symlinks=follow_symlinks)\n",
      "  File \"/usr/lib/python3.6/shutil.py\", line 120, in copyfile\n",
      "    with open(src, 'rb') as fsrc:\n",
      "FileNotFoundError: [Errno 2] No such file or directory: '/tmp/tmpweacrk4jwandb/batch-2.tgz'\n",
      "\n",
      "During handling of the above exception, another exception occurred:\n",
      "\n",
      "Traceback (most recent call last):\n",
      "  File \"/usr/lib/python3.6/threading.py\", line 916, in _bootstrap_inner\n",
      "    self.run()\n",
      "  File \"/usr/local/lib/python3.6/dist-packages/wandb/file_pusher.py\", line 85, in run\n",
      "    self.cleanup_file()\n",
      "  File \"/usr/local/lib/python3.6/dist-packages/wandb/file_pusher.py\", line 154, in cleanup_file\n",
      "    os.unlink(self.tgz_path)\n",
      "FileNotFoundError: [Errno 2] No such file or directory: '/tmp/tmpweacrk4jwandb/batch-2.tgz'\n",
      "\n",
      "Exception in thread Thread-571:\n",
      "Traceback (most recent call last):\n",
      "  File \"/usr/local/lib/python3.6/dist-packages/wandb/file_pusher.py\", line 81, in run\n",
      "    self.prepare_file()\n",
      "  File \"/usr/local/lib/python3.6/dist-packages/wandb/file_pusher.py\", line 72, in prepare_file\n",
      "    shutil.copy2(self.path, self.save_path)\n",
      "  File \"/usr/lib/python3.6/shutil.py\", line 263, in copy2\n",
      "    copyfile(src, dst, follow_symlinks=follow_symlinks)\n",
      "  File \"/usr/lib/python3.6/shutil.py\", line 120, in copyfile\n",
      "    with open(src, 'rb') as fsrc:\n",
      "FileNotFoundError: [Errno 2] No such file or directory: '/tmp/tmpweacrk4jwandb/batch-2.tgz'\n",
      "\n",
      "During handling of the above exception, another exception occurred:\n",
      "\n",
      "Traceback (most recent call last):\n",
      "  File \"/usr/lib/python3.6/threading.py\", line 916, in _bootstrap_inner\n",
      "    self.run()\n",
      "  File \"/usr/local/lib/python3.6/dist-packages/wandb/file_pusher.py\", line 85, in run\n",
      "    self.cleanup_file()\n",
      "  File \"/usr/local/lib/python3.6/dist-packages/wandb/file_pusher.py\", line 154, in cleanup_file\n",
      "    os.unlink(self.tgz_path)\n",
      "FileNotFoundError: [Errno 2] No such file or directory: '/tmp/tmpweacrk4jwandb/batch-2.tgz'\n",
      "\n",
      "Exception in thread Thread-573:\n",
      "Traceback (most recent call last):\n",
      "  File \"/usr/local/lib/python3.6/dist-packages/wandb/file_pusher.py\", line 81, in run\n",
      "    self.prepare_file()\n",
      "  File \"/usr/local/lib/python3.6/dist-packages/wandb/file_pusher.py\", line 72, in prepare_file\n",
      "    shutil.copy2(self.path, self.save_path)\n",
      "  File \"/usr/lib/python3.6/shutil.py\", line 263, in copy2\n",
      "    copyfile(src, dst, follow_symlinks=follow_symlinks)\n",
      "  File \"/usr/lib/python3.6/shutil.py\", line 120, in copyfile\n",
      "    with open(src, 'rb') as fsrc:\n",
      "FileNotFoundError: [Errno 2] No such file or directory: '/tmp/tmpweacrk4jwandb/batch-2.tgz'\n",
      "\n",
      "During handling of the above exception, another exception occurred:\n",
      "\n",
      "Traceback (most recent call last):\n",
      "  File \"/usr/lib/python3.6/threading.py\", line 916, in _bootstrap_inner\n",
      "    self.run()\n",
      "  File \"/usr/local/lib/python3.6/dist-packages/wandb/file_pusher.py\", line 85, in run\n",
      "    self.cleanup_file()\n",
      "  File \"/usr/local/lib/python3.6/dist-packages/wandb/file_pusher.py\", line 154, in cleanup_file\n",
      "    os.unlink(self.tgz_path)\n",
      "FileNotFoundError: [Errno 2] No such file or directory: '/tmp/tmpweacrk4jwandb/batch-2.tgz'\n",
      "\n",
      "Exception in thread Thread-575:\n",
      "Traceback (most recent call last):\n",
      "  File \"/usr/local/lib/python3.6/dist-packages/wandb/file_pusher.py\", line 81, in run\n",
      "    self.prepare_file()\n",
      "  File \"/usr/local/lib/python3.6/dist-packages/wandb/file_pusher.py\", line 72, in prepare_file\n",
      "    shutil.copy2(self.path, self.save_path)\n",
      "  File \"/usr/lib/python3.6/shutil.py\", line 263, in copy2\n",
      "    copyfile(src, dst, follow_symlinks=follow_symlinks)\n",
      "  File \"/usr/lib/python3.6/shutil.py\", line 120, in copyfile\n",
      "    with open(src, 'rb') as fsrc:\n",
      "FileNotFoundError: [Errno 2] No such file or directory: '/tmp/tmpweacrk4jwandb/batch-2.tgz'\n",
      "\n",
      "During handling of the above exception, another exception occurred:\n",
      "\n",
      "Traceback (most recent call last):\n",
      "  File \"/usr/lib/python3.6/threading.py\", line 916, in _bootstrap_inner\n",
      "    self.run()\n",
      "  File \"/usr/local/lib/python3.6/dist-packages/wandb/file_pusher.py\", line 85, in run\n",
      "    self.cleanup_file()\n",
      "  File \"/usr/local/lib/python3.6/dist-packages/wandb/file_pusher.py\", line 154, in cleanup_file\n",
      "    os.unlink(self.tgz_path)\n",
      "FileNotFoundError: [Errno 2] No such file or directory: '/tmp/tmpweacrk4jwandb/batch-2.tgz'\n",
      "\n",
      "Exception in thread Thread-577:\n",
      "Traceback (most recent call last):\n",
      "  File \"/usr/local/lib/python3.6/dist-packages/wandb/file_pusher.py\", line 81, in run\n",
      "    self.prepare_file()\n",
      "  File \"/usr/local/lib/python3.6/dist-packages/wandb/file_pusher.py\", line 72, in prepare_file\n",
      "    shutil.copy2(self.path, self.save_path)\n",
      "  File \"/usr/lib/python3.6/shutil.py\", line 263, in copy2\n",
      "    copyfile(src, dst, follow_symlinks=follow_symlinks)\n",
      "  File \"/usr/lib/python3.6/shutil.py\", line 120, in copyfile\n",
      "    with open(src, 'rb') as fsrc:\n",
      "FileNotFoundError: [Errno 2] No such file or directory: '/tmp/tmpweacrk4jwandb/batch-2.tgz'\n",
      "\n",
      "During handling of the above exception, another exception occurred:\n",
      "\n",
      "Traceback (most recent call last):\n",
      "  File \"/usr/lib/python3.6/threading.py\", line 916, in _bootstrap_inner\n",
      "    self.run()\n",
      "  File \"/usr/local/lib/python3.6/dist-packages/wandb/file_pusher.py\", line 85, in run\n",
      "    self.cleanup_file()\n",
      "  File \"/usr/local/lib/python3.6/dist-packages/wandb/file_pusher.py\", line 154, in cleanup_file\n",
      "    os.unlink(self.tgz_path)\n",
      "FileNotFoundError: [Errno 2] No such file or directory: '/tmp/tmpweacrk4jwandb/batch-2.tgz'\n",
      "\n",
      "Exception in thread Thread-579:\n",
      "Traceback (most recent call last):\n",
      "  File \"/usr/local/lib/python3.6/dist-packages/wandb/file_pusher.py\", line 81, in run\n",
      "    self.prepare_file()\n",
      "  File \"/usr/local/lib/python3.6/dist-packages/wandb/file_pusher.py\", line 72, in prepare_file\n",
      "    shutil.copy2(self.path, self.save_path)\n",
      "  File \"/usr/lib/python3.6/shutil.py\", line 263, in copy2\n",
      "    copyfile(src, dst, follow_symlinks=follow_symlinks)\n",
      "  File \"/usr/lib/python3.6/shutil.py\", line 120, in copyfile\n",
      "    with open(src, 'rb') as fsrc:\n",
      "FileNotFoundError: [Errno 2] No such file or directory: '/tmp/tmpweacrk4jwandb/batch-2.tgz'\n",
      "\n",
      "During handling of the above exception, another exception occurred:\n",
      "\n",
      "Traceback (most recent call last):\n",
      "  File \"/usr/lib/python3.6/threading.py\", line 916, in _bootstrap_inner\n",
      "    self.run()\n",
      "  File \"/usr/local/lib/python3.6/dist-packages/wandb/file_pusher.py\", line 85, in run\n",
      "    self.cleanup_file()\n",
      "  File \"/usr/local/lib/python3.6/dist-packages/wandb/file_pusher.py\", line 154, in cleanup_file\n",
      "    os.unlink(self.tgz_path)\n",
      "FileNotFoundError: [Errno 2] No such file or directory: '/tmp/tmpweacrk4jwandb/batch-2.tgz'\n",
      "\n",
      "\u001b[34m\u001b[1mwandb\u001b[0m: \u001b[32m\u001b[41mERROR\u001b[0m Error uploading \"___batch_archive_1.tgz\": CommError, /tmp/tmpweacrk4jwandb/___batch_archive_1.tgz is an empty file\n",
      "Exception in thread Thread-582:\n",
      "Traceback (most recent call last):\n",
      "  File \"/usr/local/lib/python3.6/dist-packages/wandb/file_pusher.py\", line 81, in run\n",
      "    self.prepare_file()\n",
      "  File \"/usr/local/lib/python3.6/dist-packages/wandb/file_pusher.py\", line 72, in prepare_file\n",
      "    shutil.copy2(self.path, self.save_path)\n",
      "  File \"/usr/lib/python3.6/shutil.py\", line 263, in copy2\n",
      "    copyfile(src, dst, follow_symlinks=follow_symlinks)\n",
      "  File \"/usr/lib/python3.6/shutil.py\", line 120, in copyfile\n",
      "    with open(src, 'rb') as fsrc:\n",
      "FileNotFoundError: [Errno 2] No such file or directory: '/tmp/tmpweacrk4jwandb/batch-1.tgz'\n",
      "\n",
      "During handling of the above exception, another exception occurred:\n",
      "\n",
      "Traceback (most recent call last):\n",
      "  File \"/usr/lib/python3.6/threading.py\", line 916, in _bootstrap_inner\n",
      "    self.run()\n",
      "  File \"/usr/local/lib/python3.6/dist-packages/wandb/file_pusher.py\", line 85, in run\n",
      "    self.cleanup_file()\n",
      "  File \"/usr/local/lib/python3.6/dist-packages/wandb/file_pusher.py\", line 154, in cleanup_file\n",
      "    os.unlink(self.tgz_path)\n",
      "FileNotFoundError: [Errno 2] No such file or directory: '/tmp/tmpweacrk4jwandb/batch-1.tgz'\n",
      "\n",
      "Exception in thread Thread-584:\n",
      "Traceback (most recent call last):\n",
      "  File \"/usr/local/lib/python3.6/dist-packages/wandb/file_pusher.py\", line 81, in run\n",
      "    self.prepare_file()\n",
      "  File \"/usr/local/lib/python3.6/dist-packages/wandb/file_pusher.py\", line 72, in prepare_file\n",
      "    shutil.copy2(self.path, self.save_path)\n",
      "  File \"/usr/lib/python3.6/shutil.py\", line 263, in copy2\n",
      "    copyfile(src, dst, follow_symlinks=follow_symlinks)\n",
      "  File \"/usr/lib/python3.6/shutil.py\", line 120, in copyfile\n",
      "    with open(src, 'rb') as fsrc:\n",
      "FileNotFoundError: [Errno 2] No such file or directory: '/tmp/tmpweacrk4jwandb/batch-1.tgz'\n",
      "\n",
      "During handling of the above exception, another exception occurred:\n",
      "\n",
      "Traceback (most recent call last):\n",
      "  File \"/usr/lib/python3.6/threading.py\", line 916, in _bootstrap_inner\n",
      "    self.run()\n",
      "  File \"/usr/local/lib/python3.6/dist-packages/wandb/file_pusher.py\", line 85, in run\n",
      "    self.cleanup_file()\n",
      "  File \"/usr/local/lib/python3.6/dist-packages/wandb/file_pusher.py\", line 154, in cleanup_file\n",
      "    os.unlink(self.tgz_path)\n",
      "FileNotFoundError: [Errno 2] No such file or directory: '/tmp/tmpweacrk4jwandb/batch-1.tgz'\n",
      "\n",
      "Exception in thread Thread-587:\n",
      "Traceback (most recent call last):\n",
      "  File \"/usr/local/lib/python3.6/dist-packages/wandb/file_pusher.py\", line 81, in run\n",
      "    self.prepare_file()\n",
      "  File \"/usr/local/lib/python3.6/dist-packages/wandb/file_pusher.py\", line 72, in prepare_file\n",
      "    shutil.copy2(self.path, self.save_path)\n",
      "  File \"/usr/lib/python3.6/shutil.py\", line 263, in copy2\n",
      "    copyfile(src, dst, follow_symlinks=follow_symlinks)\n",
      "  File \"/usr/lib/python3.6/shutil.py\", line 120, in copyfile\n",
      "    with open(src, 'rb') as fsrc:\n",
      "FileNotFoundError: [Errno 2] No such file or directory: '/tmp/tmpweacrk4jwandb/batch-2.tgz'\n",
      "\n",
      "During handling of the above exception, another exception occurred:\n",
      "\n",
      "Traceback (most recent call last):\n",
      "  File \"/usr/lib/python3.6/threading.py\", line 916, in _bootstrap_inner\n",
      "    self.run()\n",
      "  File \"/usr/local/lib/python3.6/dist-packages/wandb/file_pusher.py\", line 85, in run\n",
      "    self.cleanup_file()\n",
      "  File \"/usr/local/lib/python3.6/dist-packages/wandb/file_pusher.py\", line 154, in cleanup_file\n",
      "    os.unlink(self.tgz_path)\n",
      "FileNotFoundError: [Errno 2] No such file or directory: '/tmp/tmpweacrk4jwandb/batch-2.tgz'\n",
      "\n"
     ]
    }
   ],
   "source": [
    "from tensorflow.keras.layers import ReLU, LeakyReLU, PReLU, ELU\n",
    "\n",
    "# current baseline options\n",
    "args = Args({'id': 'MLP', 'architecture': '128^3 + drop 0.2', 'norm': 'minmax', 'trans': 'both',\n",
    "             'nodes1': 128, 'nodes2': 128, 'nodes3': 128, 'nodes4': 0, 'nodes5': 0,\n",
    "             'dropout1': 0.2, 'dropout2': 0.2, 'dropout3': 0.2, 'dropout4': 0.2, 'dropout5': 0.2,\n",
    "             'activation': 'relu',  'batch_size': 64,\n",
    "             'shift_phi': True, 'flip_eta': True}, verbose=False, wandb_init=False)\n",
    "\n",
    "# investigation options\n",
    "labels = ['tanh', 'LReLU', 'KindaLReLU', 'VLReLU', 'PReLU', 'ELU']\n",
    "activation_options = ['tanh', LeakyReLU(alpha=0.01), LeakyReLU(alpha=0.1), LeakyReLU(alpha=0.3), 'PReLU', ELU()]\n",
    "\n",
    "for i, act in enumerate(activation_options):\n",
    "    # set deviations from current baseline\n",
    "    args.set_args({'id': 'MLP - activation - {}'.format(labels[i]), \n",
    "                   'activation': act}, \n",
    "                  verbose=True, wandb_init=False)\n",
    "    \n",
    "    cv_train_accuracies, cv_val_accuracies, cv_max_val_accuracies = aug_cv_test(args)\n",
    "    save_metrics(cv_train_accuracies, cv_val_accuracies, cv_max_val_accuracies, \n",
    "                 name=\"nonlinearity_{}\".format(labels[i]))\n",
    "    print(\"Nonlinearity {}, max. val. accuracies: {:.2%} ± {:.2%}\".format(\n",
    "        labels[i], np.mean(cv_max_val_accuracies), np.std(cv_max_val_accuracies)))"
   ]
  },
  {
   "cell_type": "markdown",
   "metadata": {
    "colab_type": "text",
    "id": "z0EiZ_imV_hm"
   },
   "source": [
    "**Result**: 94.21% ± 0.02% for LeakyReLU with $\\alpha=0.3$. "
   ]
  },
  {
   "cell_type": "markdown",
   "metadata": {
    "colab_type": "text",
    "id": "3cJRj59S-aky"
   },
   "source": [
    "## Test 9: optimizer"
   ]
  },
  {
   "cell_type": "code",
   "execution_count": 19,
   "metadata": {
    "colab": {
     "base_uri": "https://localhost:8080/",
     "height": 1000
    },
    "colab_type": "code",
    "executionInfo": {
     "elapsed": 10131450,
     "status": "ok",
     "timestamp": 1585439203310,
     "user": {
      "displayName": "Joeran Bosma",
      "photoUrl": "https://lh3.googleusercontent.com/a-/AOh14GiEvCunvq33iGZ3RU-P9BMF7L60e8LoQ3Y1AfZJ4Q=s64",
      "userId": "05378465311079003812"
     },
     "user_tz": -60
    },
    "id": "qAX0_YcX-Yf-",
    "outputId": "88ca97a4-1576-4f24-d91b-e96326e8f9e5"
   },
   "outputs": [
    {
     "name": "stdout",
     "output_type": "stream",
     "text": [
      "id                                          MLP - optimizer - RMSprop\n",
      "architecture                                         128^3 + drop 0.2\n",
      "loss                                              binary_crossentropy\n",
      "activation          <tensorflow.python.keras.layers.advanced_activ...\n",
      "final_activation                                              sigmoid\n",
      "epochs                                                            100\n",
      "batch_size                                                         64\n",
      "optimizer                                                     RMSprop\n",
      "lr                                                             0.0001\n",
      "lr_decay                                                            0\n",
      "norm                                                           minmax\n",
      "trans                                                            both\n",
      "nodes1                                                            128\n",
      "nodes2                                                            128\n",
      "nodes3                                                            128\n",
      "nodes4                                                              0\n",
      "nodes5                                                              0\n",
      "dropout1                                                          0.2\n",
      "dropout2                                                          0.2\n",
      "dropout3                                                          0.2\n",
      "dropout4                                                          0.2\n",
      "dropout5                                                          0.2\n",
      "batch_norm                                                         []\n",
      "shift_phi                                                        True\n",
      "flip_eta                                                         True\n",
      "dtype: object\n",
      "Performing 5-fold cross validation with 100000 samples\n",
      "Starting fold 1/5 with 80000 train samples and 20000 validation samples\n"
     ]
    },
    {
     "data": {
      "text/html": [
       "\n",
       "                Logging results to <a href=\"https://wandb.com\" target=\"_blank\">Weights & Biases</a> <a href=\"https://docs.wandb.com/integrations/jupyter.html\" target=\"_blank\">(Documentation)</a>.<br/>\n",
       "                Project page: <a href=\"https://app.wandb.ai/joeranbosma/ml4ppa\" target=\"_blank\">https://app.wandb.ai/joeranbosma/ml4ppa</a><br/>\n",
       "                Run page: <a href=\"https://app.wandb.ai/joeranbosma/ml4ppa/runs/3u8nuchv\" target=\"_blank\">https://app.wandb.ai/joeranbosma/ml4ppa/runs/3u8nuchv</a><br/>\n",
       "            "
      ],
      "text/plain": [
       "<IPython.core.display.HTML object>"
      ]
     },
     "metadata": {
      "tags": []
     },
     "output_type": "display_data"
    },
    {
     "name": "stdout",
     "output_type": "stream",
     "text": [
      "Starting fold 2/5 with 80000 train samples and 20000 validation samples\n"
     ]
    },
    {
     "data": {
      "text/html": [
       "\n",
       "                Logging results to <a href=\"https://wandb.com\" target=\"_blank\">Weights & Biases</a> <a href=\"https://docs.wandb.com/integrations/jupyter.html\" target=\"_blank\">(Documentation)</a>.<br/>\n",
       "                Project page: <a href=\"https://app.wandb.ai/joeranbosma/ml4ppa\" target=\"_blank\">https://app.wandb.ai/joeranbosma/ml4ppa</a><br/>\n",
       "                Run page: <a href=\"https://app.wandb.ai/joeranbosma/ml4ppa/runs/1fsqkhcu\" target=\"_blank\">https://app.wandb.ai/joeranbosma/ml4ppa/runs/1fsqkhcu</a><br/>\n",
       "            "
      ],
      "text/plain": [
       "<IPython.core.display.HTML object>"
      ]
     },
     "metadata": {
      "tags": []
     },
     "output_type": "display_data"
    },
    {
     "name": "stdout",
     "output_type": "stream",
     "text": [
      "Starting fold 3/5 with 80000 train samples and 20000 validation samples\n"
     ]
    },
    {
     "data": {
      "text/html": [
       "\n",
       "                Logging results to <a href=\"https://wandb.com\" target=\"_blank\">Weights & Biases</a> <a href=\"https://docs.wandb.com/integrations/jupyter.html\" target=\"_blank\">(Documentation)</a>.<br/>\n",
       "                Project page: <a href=\"https://app.wandb.ai/joeranbosma/ml4ppa\" target=\"_blank\">https://app.wandb.ai/joeranbosma/ml4ppa</a><br/>\n",
       "                Run page: <a href=\"https://app.wandb.ai/joeranbosma/ml4ppa/runs/2buodpwz\" target=\"_blank\">https://app.wandb.ai/joeranbosma/ml4ppa/runs/2buodpwz</a><br/>\n",
       "            "
      ],
      "text/plain": [
       "<IPython.core.display.HTML object>"
      ]
     },
     "metadata": {
      "tags": []
     },
     "output_type": "display_data"
    },
    {
     "name": "stdout",
     "output_type": "stream",
     "text": [
      "Starting fold 4/5 with 80000 train samples and 20000 validation samples\n"
     ]
    },
    {
     "data": {
      "text/html": [
       "\n",
       "                Logging results to <a href=\"https://wandb.com\" target=\"_blank\">Weights & Biases</a> <a href=\"https://docs.wandb.com/integrations/jupyter.html\" target=\"_blank\">(Documentation)</a>.<br/>\n",
       "                Project page: <a href=\"https://app.wandb.ai/joeranbosma/ml4ppa\" target=\"_blank\">https://app.wandb.ai/joeranbosma/ml4ppa</a><br/>\n",
       "                Run page: <a href=\"https://app.wandb.ai/joeranbosma/ml4ppa/runs/27p90cf3\" target=\"_blank\">https://app.wandb.ai/joeranbosma/ml4ppa/runs/27p90cf3</a><br/>\n",
       "            "
      ],
      "text/plain": [
       "<IPython.core.display.HTML object>"
      ]
     },
     "metadata": {
      "tags": []
     },
     "output_type": "display_data"
    },
    {
     "name": "stdout",
     "output_type": "stream",
     "text": [
      "Starting fold 5/5 with 80000 train samples and 20000 validation samples\n"
     ]
    },
    {
     "data": {
      "text/html": [
       "\n",
       "                Logging results to <a href=\"https://wandb.com\" target=\"_blank\">Weights & Biases</a> <a href=\"https://docs.wandb.com/integrations/jupyter.html\" target=\"_blank\">(Documentation)</a>.<br/>\n",
       "                Project page: <a href=\"https://app.wandb.ai/joeranbosma/ml4ppa\" target=\"_blank\">https://app.wandb.ai/joeranbosma/ml4ppa</a><br/>\n",
       "                Run page: <a href=\"https://app.wandb.ai/joeranbosma/ml4ppa/runs/1ybtwy5k\" target=\"_blank\">https://app.wandb.ai/joeranbosma/ml4ppa/runs/1ybtwy5k</a><br/>\n",
       "            "
      ],
      "text/plain": [
       "<IPython.core.display.HTML object>"
      ]
     },
     "metadata": {
      "tags": []
     },
     "output_type": "display_data"
    },
    {
     "name": "stdout",
     "output_type": "stream",
     "text": [
      "MLP - optimizer - RMSprop train acc: 0.93804±0.00055, val acc: 0.93860±0.00082\n",
      "Optimizer RMSprop, max. val. accuracies: 94.00% ± 0.02%\n",
      "id                                          MLP - optimizer - Adagrad\n",
      "architecture                                         128^3 + drop 0.2\n",
      "loss                                              binary_crossentropy\n",
      "activation          <tensorflow.python.keras.layers.advanced_activ...\n",
      "final_activation                                              sigmoid\n",
      "epochs                                                            100\n",
      "batch_size                                                         64\n",
      "optimizer                                                     Adagrad\n",
      "lr                                                             0.0001\n",
      "lr_decay                                                            0\n",
      "norm                                                           minmax\n",
      "trans                                                            both\n",
      "nodes1                                                            128\n",
      "nodes2                                                            128\n",
      "nodes3                                                            128\n",
      "nodes4                                                              0\n",
      "nodes5                                                              0\n",
      "dropout1                                                          0.2\n",
      "dropout2                                                          0.2\n",
      "dropout3                                                          0.2\n",
      "dropout4                                                          0.2\n",
      "dropout5                                                          0.2\n",
      "batch_norm                                                         []\n",
      "shift_phi                                                        True\n",
      "flip_eta                                                         True\n",
      "cv_splits                                                           5\n",
      "cv_iteration                                                        5\n",
      "dtype: object\n",
      "Performing 5-fold cross validation with 100000 samples\n",
      "Starting fold 1/5 with 80000 train samples and 20000 validation samples\n"
     ]
    },
    {
     "data": {
      "text/html": [
       "\n",
       "                Logging results to <a href=\"https://wandb.com\" target=\"_blank\">Weights & Biases</a> <a href=\"https://docs.wandb.com/integrations/jupyter.html\" target=\"_blank\">(Documentation)</a>.<br/>\n",
       "                Project page: <a href=\"https://app.wandb.ai/joeranbosma/ml4ppa\" target=\"_blank\">https://app.wandb.ai/joeranbosma/ml4ppa</a><br/>\n",
       "                Run page: <a href=\"https://app.wandb.ai/joeranbosma/ml4ppa/runs/186uzckk\" target=\"_blank\">https://app.wandb.ai/joeranbosma/ml4ppa/runs/186uzckk</a><br/>\n",
       "            "
      ],
      "text/plain": [
       "<IPython.core.display.HTML object>"
      ]
     },
     "metadata": {
      "tags": []
     },
     "output_type": "display_data"
    },
    {
     "name": "stdout",
     "output_type": "stream",
     "text": [
      "Starting fold 2/5 with 80000 train samples and 20000 validation samples\n"
     ]
    },
    {
     "data": {
      "text/html": [
       "\n",
       "                Logging results to <a href=\"https://wandb.com\" target=\"_blank\">Weights & Biases</a> <a href=\"https://docs.wandb.com/integrations/jupyter.html\" target=\"_blank\">(Documentation)</a>.<br/>\n",
       "                Project page: <a href=\"https://app.wandb.ai/joeranbosma/ml4ppa\" target=\"_blank\">https://app.wandb.ai/joeranbosma/ml4ppa</a><br/>\n",
       "                Run page: <a href=\"https://app.wandb.ai/joeranbosma/ml4ppa/runs/1vfzylu6\" target=\"_blank\">https://app.wandb.ai/joeranbosma/ml4ppa/runs/1vfzylu6</a><br/>\n",
       "            "
      ],
      "text/plain": [
       "<IPython.core.display.HTML object>"
      ]
     },
     "metadata": {
      "tags": []
     },
     "output_type": "display_data"
    },
    {
     "name": "stdout",
     "output_type": "stream",
     "text": [
      "Starting fold 3/5 with 80000 train samples and 20000 validation samples\n"
     ]
    },
    {
     "data": {
      "text/html": [
       "\n",
       "                Logging results to <a href=\"https://wandb.com\" target=\"_blank\">Weights & Biases</a> <a href=\"https://docs.wandb.com/integrations/jupyter.html\" target=\"_blank\">(Documentation)</a>.<br/>\n",
       "                Project page: <a href=\"https://app.wandb.ai/joeranbosma/ml4ppa\" target=\"_blank\">https://app.wandb.ai/joeranbosma/ml4ppa</a><br/>\n",
       "                Run page: <a href=\"https://app.wandb.ai/joeranbosma/ml4ppa/runs/2fkaunxp\" target=\"_blank\">https://app.wandb.ai/joeranbosma/ml4ppa/runs/2fkaunxp</a><br/>\n",
       "            "
      ],
      "text/plain": [
       "<IPython.core.display.HTML object>"
      ]
     },
     "metadata": {
      "tags": []
     },
     "output_type": "display_data"
    },
    {
     "name": "stdout",
     "output_type": "stream",
     "text": [
      "Starting fold 4/5 with 80000 train samples and 20000 validation samples\n"
     ]
    },
    {
     "data": {
      "text/html": [
       "\n",
       "                Logging results to <a href=\"https://wandb.com\" target=\"_blank\">Weights & Biases</a> <a href=\"https://docs.wandb.com/integrations/jupyter.html\" target=\"_blank\">(Documentation)</a>.<br/>\n",
       "                Project page: <a href=\"https://app.wandb.ai/joeranbosma/ml4ppa\" target=\"_blank\">https://app.wandb.ai/joeranbosma/ml4ppa</a><br/>\n",
       "                Run page: <a href=\"https://app.wandb.ai/joeranbosma/ml4ppa/runs/1roxj80x\" target=\"_blank\">https://app.wandb.ai/joeranbosma/ml4ppa/runs/1roxj80x</a><br/>\n",
       "            "
      ],
      "text/plain": [
       "<IPython.core.display.HTML object>"
      ]
     },
     "metadata": {
      "tags": []
     },
     "output_type": "display_data"
    },
    {
     "name": "stdout",
     "output_type": "stream",
     "text": [
      "Starting fold 5/5 with 80000 train samples and 20000 validation samples\n"
     ]
    },
    {
     "data": {
      "text/html": [
       "\n",
       "                Logging results to <a href=\"https://wandb.com\" target=\"_blank\">Weights & Biases</a> <a href=\"https://docs.wandb.com/integrations/jupyter.html\" target=\"_blank\">(Documentation)</a>.<br/>\n",
       "                Project page: <a href=\"https://app.wandb.ai/joeranbosma/ml4ppa\" target=\"_blank\">https://app.wandb.ai/joeranbosma/ml4ppa</a><br/>\n",
       "                Run page: <a href=\"https://app.wandb.ai/joeranbosma/ml4ppa/runs/25wxctq1\" target=\"_blank\">https://app.wandb.ai/joeranbosma/ml4ppa/runs/25wxctq1</a><br/>\n",
       "            "
      ],
      "text/plain": [
       "<IPython.core.display.HTML object>"
      ]
     },
     "metadata": {
      "tags": []
     },
     "output_type": "display_data"
    },
    {
     "name": "stdout",
     "output_type": "stream",
     "text": [
      "MLP - optimizer - Adagrad train acc: 0.93619±0.00031, val acc: 0.93809±0.00029\n",
      "Optimizer Adagrad, max. val. accuracies: 93.82% ± 0.03%\n",
      "id                                              MLP - optimizer - SGD\n",
      "architecture                                         128^3 + drop 0.2\n",
      "loss                                              binary_crossentropy\n",
      "activation          <tensorflow.python.keras.layers.advanced_activ...\n",
      "final_activation                                              sigmoid\n",
      "epochs                                                            100\n",
      "batch_size                                                         64\n",
      "optimizer                                                         SGD\n",
      "lr                                                             0.0001\n",
      "lr_decay                                                            0\n",
      "norm                                                           minmax\n",
      "trans                                                            both\n",
      "nodes1                                                            128\n",
      "nodes2                                                            128\n",
      "nodes3                                                            128\n",
      "nodes4                                                              0\n",
      "nodes5                                                              0\n",
      "dropout1                                                          0.2\n",
      "dropout2                                                          0.2\n",
      "dropout3                                                          0.2\n",
      "dropout4                                                          0.2\n",
      "dropout5                                                          0.2\n",
      "batch_norm                                                         []\n",
      "shift_phi                                                        True\n",
      "flip_eta                                                         True\n",
      "cv_splits                                                           5\n",
      "cv_iteration                                                        5\n",
      "dtype: object\n",
      "Performing 5-fold cross validation with 100000 samples\n",
      "Starting fold 1/5 with 80000 train samples and 20000 validation samples\n"
     ]
    },
    {
     "data": {
      "text/html": [
       "\n",
       "                Logging results to <a href=\"https://wandb.com\" target=\"_blank\">Weights & Biases</a> <a href=\"https://docs.wandb.com/integrations/jupyter.html\" target=\"_blank\">(Documentation)</a>.<br/>\n",
       "                Project page: <a href=\"https://app.wandb.ai/joeranbosma/ml4ppa\" target=\"_blank\">https://app.wandb.ai/joeranbosma/ml4ppa</a><br/>\n",
       "                Run page: <a href=\"https://app.wandb.ai/joeranbosma/ml4ppa/runs/pfgrygxa\" target=\"_blank\">https://app.wandb.ai/joeranbosma/ml4ppa/runs/pfgrygxa</a><br/>\n",
       "            "
      ],
      "text/plain": [
       "<IPython.core.display.HTML object>"
      ]
     },
     "metadata": {
      "tags": []
     },
     "output_type": "display_data"
    },
    {
     "name": "stdout",
     "output_type": "stream",
     "text": [
      "Starting fold 2/5 with 80000 train samples and 20000 validation samples\n"
     ]
    },
    {
     "data": {
      "text/html": [
       "\n",
       "                Logging results to <a href=\"https://wandb.com\" target=\"_blank\">Weights & Biases</a> <a href=\"https://docs.wandb.com/integrations/jupyter.html\" target=\"_blank\">(Documentation)</a>.<br/>\n",
       "                Project page: <a href=\"https://app.wandb.ai/joeranbosma/ml4ppa\" target=\"_blank\">https://app.wandb.ai/joeranbosma/ml4ppa</a><br/>\n",
       "                Run page: <a href=\"https://app.wandb.ai/joeranbosma/ml4ppa/runs/2haxipll\" target=\"_blank\">https://app.wandb.ai/joeranbosma/ml4ppa/runs/2haxipll</a><br/>\n",
       "            "
      ],
      "text/plain": [
       "<IPython.core.display.HTML object>"
      ]
     },
     "metadata": {
      "tags": []
     },
     "output_type": "display_data"
    },
    {
     "name": "stdout",
     "output_type": "stream",
     "text": [
      "Starting fold 3/5 with 80000 train samples and 20000 validation samples\n"
     ]
    },
    {
     "data": {
      "text/html": [
       "\n",
       "                Logging results to <a href=\"https://wandb.com\" target=\"_blank\">Weights & Biases</a> <a href=\"https://docs.wandb.com/integrations/jupyter.html\" target=\"_blank\">(Documentation)</a>.<br/>\n",
       "                Project page: <a href=\"https://app.wandb.ai/joeranbosma/ml4ppa\" target=\"_blank\">https://app.wandb.ai/joeranbosma/ml4ppa</a><br/>\n",
       "                Run page: <a href=\"https://app.wandb.ai/joeranbosma/ml4ppa/runs/3e57u7gt\" target=\"_blank\">https://app.wandb.ai/joeranbosma/ml4ppa/runs/3e57u7gt</a><br/>\n",
       "            "
      ],
      "text/plain": [
       "<IPython.core.display.HTML object>"
      ]
     },
     "metadata": {
      "tags": []
     },
     "output_type": "display_data"
    },
    {
     "name": "stdout",
     "output_type": "stream",
     "text": [
      "Starting fold 4/5 with 80000 train samples and 20000 validation samples\n"
     ]
    },
    {
     "data": {
      "text/html": [
       "\n",
       "                Logging results to <a href=\"https://wandb.com\" target=\"_blank\">Weights & Biases</a> <a href=\"https://docs.wandb.com/integrations/jupyter.html\" target=\"_blank\">(Documentation)</a>.<br/>\n",
       "                Project page: <a href=\"https://app.wandb.ai/joeranbosma/ml4ppa\" target=\"_blank\">https://app.wandb.ai/joeranbosma/ml4ppa</a><br/>\n",
       "                Run page: <a href=\"https://app.wandb.ai/joeranbosma/ml4ppa/runs/1biskslo\" target=\"_blank\">https://app.wandb.ai/joeranbosma/ml4ppa/runs/1biskslo</a><br/>\n",
       "            "
      ],
      "text/plain": [
       "<IPython.core.display.HTML object>"
      ]
     },
     "metadata": {
      "tags": []
     },
     "output_type": "display_data"
    },
    {
     "name": "stdout",
     "output_type": "stream",
     "text": [
      "Starting fold 5/5 with 80000 train samples and 20000 validation samples\n"
     ]
    },
    {
     "data": {
      "text/html": [
       "\n",
       "                Logging results to <a href=\"https://wandb.com\" target=\"_blank\">Weights & Biases</a> <a href=\"https://docs.wandb.com/integrations/jupyter.html\" target=\"_blank\">(Documentation)</a>.<br/>\n",
       "                Project page: <a href=\"https://app.wandb.ai/joeranbosma/ml4ppa\" target=\"_blank\">https://app.wandb.ai/joeranbosma/ml4ppa</a><br/>\n",
       "                Run page: <a href=\"https://app.wandb.ai/joeranbosma/ml4ppa/runs/1qum83q4\" target=\"_blank\">https://app.wandb.ai/joeranbosma/ml4ppa/runs/1qum83q4</a><br/>\n",
       "            "
      ],
      "text/plain": [
       "<IPython.core.display.HTML object>"
      ]
     },
     "metadata": {
      "tags": []
     },
     "output_type": "display_data"
    },
    {
     "name": "stdout",
     "output_type": "stream",
     "text": [
      "MLP - optimizer - SGD train acc: 0.93977±0.00097, val acc: 0.94055±0.00071\n",
      "Optimizer SGD, max. val. accuracies: 94.10% ± 0.03%\n"
     ]
    },
    {
     "name": "stderr",
     "output_type": "stream",
     "text": [
      "Exception in thread Thread-787:\n",
      "Traceback (most recent call last):\n",
      "  File \"/usr/local/lib/python3.6/dist-packages/wandb/file_pusher.py\", line 81, in run\n",
      "    self.prepare_file()\n",
      "  File \"/usr/local/lib/python3.6/dist-packages/wandb/file_pusher.py\", line 72, in prepare_file\n",
      "    shutil.copy2(self.path, self.save_path)\n",
      "  File \"/usr/lib/python3.6/shutil.py\", line 263, in copy2\n",
      "    copyfile(src, dst, follow_symlinks=follow_symlinks)\n",
      "  File \"/usr/lib/python3.6/shutil.py\", line 120, in copyfile\n",
      "    with open(src, 'rb') as fsrc:\n",
      "FileNotFoundError: [Errno 2] No such file or directory: '/tmp/tmpweacrk4jwandb/batch-2.tgz'\n",
      "\n",
      "During handling of the above exception, another exception occurred:\n",
      "\n",
      "Traceback (most recent call last):\n",
      "  File \"/usr/lib/python3.6/threading.py\", line 916, in _bootstrap_inner\n",
      "    self.run()\n",
      "  File \"/usr/local/lib/python3.6/dist-packages/wandb/file_pusher.py\", line 85, in run\n",
      "    self.cleanup_file()\n",
      "  File \"/usr/local/lib/python3.6/dist-packages/wandb/file_pusher.py\", line 154, in cleanup_file\n",
      "    os.unlink(self.tgz_path)\n",
      "FileNotFoundError: [Errno 2] No such file or directory: '/tmp/tmpweacrk4jwandb/batch-2.tgz'\n",
      "\n",
      "Exception in thread Thread-789:\n",
      "Traceback (most recent call last):\n",
      "  File \"/usr/local/lib/python3.6/dist-packages/wandb/file_pusher.py\", line 81, in run\n",
      "    self.prepare_file()\n",
      "  File \"/usr/local/lib/python3.6/dist-packages/wandb/file_pusher.py\", line 72, in prepare_file\n",
      "    shutil.copy2(self.path, self.save_path)\n",
      "  File \"/usr/lib/python3.6/shutil.py\", line 263, in copy2\n",
      "    copyfile(src, dst, follow_symlinks=follow_symlinks)\n",
      "  File \"/usr/lib/python3.6/shutil.py\", line 120, in copyfile\n",
      "    with open(src, 'rb') as fsrc:\n",
      "FileNotFoundError: [Errno 2] No such file or directory: '/tmp/tmpweacrk4jwandb/batch-2.tgz'\n",
      "\n",
      "During handling of the above exception, another exception occurred:\n",
      "\n",
      "Traceback (most recent call last):\n",
      "  File \"/usr/lib/python3.6/threading.py\", line 916, in _bootstrap_inner\n",
      "    self.run()\n",
      "  File \"/usr/local/lib/python3.6/dist-packages/wandb/file_pusher.py\", line 85, in run\n",
      "    self.cleanup_file()\n",
      "  File \"/usr/local/lib/python3.6/dist-packages/wandb/file_pusher.py\", line 154, in cleanup_file\n",
      "    os.unlink(self.tgz_path)\n",
      "FileNotFoundError: [Errno 2] No such file or directory: '/tmp/tmpweacrk4jwandb/batch-2.tgz'\n",
      "\n",
      "\u001b[34m\u001b[1mwandb\u001b[0m: \u001b[32m\u001b[41mERROR\u001b[0m Error uploading \"___batch_archive_2.tgz\": CommError, /tmp/tmpweacrk4jwandb/___batch_archive_2.tgz is an empty file\n",
      "\u001b[34m\u001b[1mwandb\u001b[0m: \u001b[32m\u001b[41mERROR\u001b[0m Error uploading \"___batch_archive_2.tgz\": CommError, /tmp/tmpweacrk4jwandb/___batch_archive_2.tgz is an empty file\n",
      "Exception in thread Thread-795:\n",
      "Traceback (most recent call last):\n",
      "  File \"/usr/lib/python3.6/threading.py\", line 916, in _bootstrap_inner\n",
      "    self.run()\n",
      "  File \"/usr/local/lib/python3.6/dist-packages/wandb/file_pusher.py\", line 85, in run\n",
      "    self.cleanup_file()\n",
      "  File \"/usr/local/lib/python3.6/dist-packages/wandb/file_pusher.py\", line 154, in cleanup_file\n",
      "    os.unlink(self.tgz_path)\n",
      "FileNotFoundError: [Errno 2] No such file or directory: '/tmp/tmpweacrk4jwandb/batch-2.tgz'\n",
      "\n",
      "Exception in thread Thread-796:\n",
      "Traceback (most recent call last):\n",
      "  File \"/usr/local/lib/python3.6/dist-packages/wandb/file_pusher.py\", line 81, in run\n",
      "    self.prepare_file()\n",
      "  File \"/usr/local/lib/python3.6/dist-packages/wandb/file_pusher.py\", line 72, in prepare_file\n",
      "    shutil.copy2(self.path, self.save_path)\n",
      "  File \"/usr/lib/python3.6/shutil.py\", line 263, in copy2\n",
      "    copyfile(src, dst, follow_symlinks=follow_symlinks)\n",
      "  File \"/usr/lib/python3.6/shutil.py\", line 120, in copyfile\n",
      "    with open(src, 'rb') as fsrc:\n",
      "FileNotFoundError: [Errno 2] No such file or directory: '/tmp/tmpweacrk4jwandb/batch-2.tgz'\n",
      "\n",
      "During handling of the above exception, another exception occurred:\n",
      "\n",
      "Traceback (most recent call last):\n",
      "  File \"/usr/lib/python3.6/threading.py\", line 916, in _bootstrap_inner\n",
      "    self.run()\n",
      "  File \"/usr/local/lib/python3.6/dist-packages/wandb/file_pusher.py\", line 85, in run\n",
      "    self.cleanup_file()\n",
      "  File \"/usr/local/lib/python3.6/dist-packages/wandb/file_pusher.py\", line 154, in cleanup_file\n",
      "    os.unlink(self.tgz_path)\n",
      "FileNotFoundError: [Errno 2] No such file or directory: '/tmp/tmpweacrk4jwandb/batch-2.tgz'\n",
      "\n",
      "Exception in thread Thread-798:\n",
      "Traceback (most recent call last):\n",
      "  File \"/usr/local/lib/python3.6/dist-packages/wandb/file_pusher.py\", line 81, in run\n",
      "    self.prepare_file()\n",
      "  File \"/usr/local/lib/python3.6/dist-packages/wandb/file_pusher.py\", line 72, in prepare_file\n",
      "    shutil.copy2(self.path, self.save_path)\n",
      "  File \"/usr/lib/python3.6/shutil.py\", line 263, in copy2\n",
      "    copyfile(src, dst, follow_symlinks=follow_symlinks)\n",
      "  File \"/usr/lib/python3.6/shutil.py\", line 120, in copyfile\n",
      "    with open(src, 'rb') as fsrc:\n",
      "FileNotFoundError: [Errno 2] No such file or directory: '/tmp/tmpweacrk4jwandb/batch-2.tgz'\n",
      "\n",
      "During handling of the above exception, another exception occurred:\n",
      "\n",
      "Traceback (most recent call last):\n",
      "  File \"/usr/lib/python3.6/threading.py\", line 916, in _bootstrap_inner\n",
      "    self.run()\n",
      "  File \"/usr/local/lib/python3.6/dist-packages/wandb/file_pusher.py\", line 85, in run\n",
      "    self.cleanup_file()\n",
      "  File \"/usr/local/lib/python3.6/dist-packages/wandb/file_pusher.py\", line 154, in cleanup_file\n",
      "    os.unlink(self.tgz_path)\n",
      "FileNotFoundError: [Errno 2] No such file or directory: '/tmp/tmpweacrk4jwandb/batch-2.tgz'\n",
      "\n"
     ]
    }
   ],
   "source": [
    "# current baseline options\n",
    "args = Args({'id': 'MLP', 'architecture': '128^3 + drop 0.2', 'norm': 'minmax', 'trans': 'both',\n",
    "             'nodes1': 128, 'nodes2': 128, 'nodes3': 128, 'nodes4': 0, 'nodes5': 0,\n",
    "             'dropout1': 0.2, 'dropout2': 0.2, 'dropout3': 0.2, 'dropout4': 0.2, 'dropout5': 0.2,\n",
    "             'activation': LeakyReLU(alpha=0.3),  'batch_size': 64,\n",
    "             'shift_phi': True, 'flip_eta': True}, verbose=False, wandb_init=False)\n",
    "\n",
    "# investigation options\n",
    "optimizer_options = ['RMSprop', 'Adagrad', 'SGD']\n",
    "\n",
    "for i, opt in enumerate(optimizer_options):\n",
    "    # set deviations from current baseline\n",
    "    args.set_args({'id': 'MLP - optimizer - {}'.format(opt), \n",
    "                   'optimizer': opt}, \n",
    "                  verbose=True, wandb_init=False)\n",
    "    \n",
    "    cv_train_accuracies, cv_val_accuracies, cv_max_val_accuracies = aug_cv_test(args)\n",
    "    save_metrics(cv_train_accuracies, cv_val_accuracies, cv_max_val_accuracies, \n",
    "                 name=\"optimizer_{}\".format(opt))\n",
    "    print(\"Optimizer {}, max. val. accuracies: {:.2%} ± {:.2%}\".format(\n",
    "        opt, np.mean(cv_max_val_accuracies), np.std(cv_max_val_accuracies)))"
   ]
  },
  {
   "cell_type": "markdown",
   "metadata": {
    "colab_type": "text",
    "id": "e2kukOOwiqg6"
   },
   "source": [
    "**Result**: Adam performed better"
   ]
  },
  {
   "cell_type": "markdown",
   "metadata": {
    "colab_type": "text",
    "id": "mvsDBSfjWGww"
   },
   "source": [
    "## Test 10: batch size\n",
    "With a batch size of 64 and 100 epochs, the model gets $80.000/64\\cdot 100 = 125.000$ weight updates.  \n",
    "To ensure the models are not receiving worse results due to too little weight updates, the number of epochs is set to:  \n",
    "- 32: 100\n",
    "- 128: 200\n",
    "- 256: 300\n",
    "- 500: 400\n",
    "- 1000: 500 \n",
    "\n",
    "Note: 100 epochs done in 3 min with BS 1000, compared to 12 min with BS 64. \n"
   ]
  },
  {
   "cell_type": "code",
   "execution_count": 21,
   "metadata": {
    "colab": {
     "base_uri": "https://localhost:8080/",
     "height": 1000
    },
    "colab_type": "code",
    "executionInfo": {
     "elapsed": 25231826,
     "status": "ok",
     "timestamp": 1585464506631,
     "user": {
      "displayName": "Joeran Bosma",
      "photoUrl": "https://lh3.googleusercontent.com/a-/AOh14GiEvCunvq33iGZ3RU-P9BMF7L60e8LoQ3Y1AfZJ4Q=s64",
      "userId": "05378465311079003812"
     },
     "user_tz": -120
    },
    "id": "pTgxDxSpWKYP",
    "outputId": "02774a77-d014-41e0-ab60-f95275f3bb7d"
   },
   "outputs": [
    {
     "name": "stdout",
     "output_type": "stream",
     "text": [
      "id                                            MLP - batch size - 1000\n",
      "architecture                                         128^3 + drop 0.2\n",
      "loss                                              binary_crossentropy\n",
      "activation          <tensorflow.python.keras.layers.advanced_activ...\n",
      "final_activation                                              sigmoid\n",
      "epochs                                                            500\n",
      "batch_size                                                       1000\n",
      "optimizer                                                        adam\n",
      "lr                                                             0.0001\n",
      "lr_decay                                                            0\n",
      "norm                                                           minmax\n",
      "trans                                                            both\n",
      "nodes1                                                            128\n",
      "nodes2                                                            128\n",
      "nodes3                                                            128\n",
      "nodes4                                                              0\n",
      "nodes5                                                              0\n",
      "dropout1                                                          0.2\n",
      "dropout2                                                          0.2\n",
      "dropout3                                                          0.2\n",
      "dropout4                                                          0.2\n",
      "dropout5                                                          0.2\n",
      "batch_norm                                                         []\n",
      "shift_phi                                                        True\n",
      "flip_eta                                                         True\n",
      "dtype: object\n",
      "Performing 5-fold cross validation with 100000 samples\n",
      "Starting fold 1/5 with 80000 train samples and 20000 validation samples\n"
     ]
    },
    {
     "data": {
      "text/html": [
       "\n",
       "                Logging results to <a href=\"https://wandb.com\" target=\"_blank\">Weights & Biases</a> <a href=\"https://docs.wandb.com/integrations/jupyter.html\" target=\"_blank\">(Documentation)</a>.<br/>\n",
       "                Project page: <a href=\"https://app.wandb.ai/joeranbosma/ml4ppa\" target=\"_blank\">https://app.wandb.ai/joeranbosma/ml4ppa</a><br/>\n",
       "                Run page: <a href=\"https://app.wandb.ai/joeranbosma/ml4ppa/runs/2qo8mugv\" target=\"_blank\">https://app.wandb.ai/joeranbosma/ml4ppa/runs/2qo8mugv</a><br/>\n",
       "            "
      ],
      "text/plain": [
       "<IPython.core.display.HTML object>"
      ]
     },
     "metadata": {
      "tags": []
     },
     "output_type": "display_data"
    },
    {
     "name": "stdout",
     "output_type": "stream",
     "text": [
      "Starting fold 2/5 with 80000 train samples and 20000 validation samples\n"
     ]
    },
    {
     "data": {
      "text/html": [
       "\n",
       "                Logging results to <a href=\"https://wandb.com\" target=\"_blank\">Weights & Biases</a> <a href=\"https://docs.wandb.com/integrations/jupyter.html\" target=\"_blank\">(Documentation)</a>.<br/>\n",
       "                Project page: <a href=\"https://app.wandb.ai/joeranbosma/ml4ppa\" target=\"_blank\">https://app.wandb.ai/joeranbosma/ml4ppa</a><br/>\n",
       "                Run page: <a href=\"https://app.wandb.ai/joeranbosma/ml4ppa/runs/2a642b1j\" target=\"_blank\">https://app.wandb.ai/joeranbosma/ml4ppa/runs/2a642b1j</a><br/>\n",
       "            "
      ],
      "text/plain": [
       "<IPython.core.display.HTML object>"
      ]
     },
     "metadata": {
      "tags": []
     },
     "output_type": "display_data"
    },
    {
     "name": "stdout",
     "output_type": "stream",
     "text": [
      "Starting fold 3/5 with 80000 train samples and 20000 validation samples\n"
     ]
    },
    {
     "data": {
      "text/html": [
       "\n",
       "                Logging results to <a href=\"https://wandb.com\" target=\"_blank\">Weights & Biases</a> <a href=\"https://docs.wandb.com/integrations/jupyter.html\" target=\"_blank\">(Documentation)</a>.<br/>\n",
       "                Project page: <a href=\"https://app.wandb.ai/joeranbosma/ml4ppa\" target=\"_blank\">https://app.wandb.ai/joeranbosma/ml4ppa</a><br/>\n",
       "                Run page: <a href=\"https://app.wandb.ai/joeranbosma/ml4ppa/runs/3jk58lhb\" target=\"_blank\">https://app.wandb.ai/joeranbosma/ml4ppa/runs/3jk58lhb</a><br/>\n",
       "            "
      ],
      "text/plain": [
       "<IPython.core.display.HTML object>"
      ]
     },
     "metadata": {
      "tags": []
     },
     "output_type": "display_data"
    },
    {
     "name": "stdout",
     "output_type": "stream",
     "text": [
      "Starting fold 4/5 with 80000 train samples and 20000 validation samples\n"
     ]
    },
    {
     "data": {
      "text/html": [
       "\n",
       "                Logging results to <a href=\"https://wandb.com\" target=\"_blank\">Weights & Biases</a> <a href=\"https://docs.wandb.com/integrations/jupyter.html\" target=\"_blank\">(Documentation)</a>.<br/>\n",
       "                Project page: <a href=\"https://app.wandb.ai/joeranbosma/ml4ppa\" target=\"_blank\">https://app.wandb.ai/joeranbosma/ml4ppa</a><br/>\n",
       "                Run page: <a href=\"https://app.wandb.ai/joeranbosma/ml4ppa/runs/3cxum5fq\" target=\"_blank\">https://app.wandb.ai/joeranbosma/ml4ppa/runs/3cxum5fq</a><br/>\n",
       "            "
      ],
      "text/plain": [
       "<IPython.core.display.HTML object>"
      ]
     },
     "metadata": {
      "tags": []
     },
     "output_type": "display_data"
    },
    {
     "name": "stdout",
     "output_type": "stream",
     "text": [
      "Starting fold 5/5 with 80000 train samples and 20000 validation samples\n"
     ]
    },
    {
     "data": {
      "text/html": [
       "\n",
       "                Logging results to <a href=\"https://wandb.com\" target=\"_blank\">Weights & Biases</a> <a href=\"https://docs.wandb.com/integrations/jupyter.html\" target=\"_blank\">(Documentation)</a>.<br/>\n",
       "                Project page: <a href=\"https://app.wandb.ai/joeranbosma/ml4ppa\" target=\"_blank\">https://app.wandb.ai/joeranbosma/ml4ppa</a><br/>\n",
       "                Run page: <a href=\"https://app.wandb.ai/joeranbosma/ml4ppa/runs/2n9x4r8z\" target=\"_blank\">https://app.wandb.ai/joeranbosma/ml4ppa/runs/2n9x4r8z</a><br/>\n",
       "            "
      ],
      "text/plain": [
       "<IPython.core.display.HTML object>"
      ]
     },
     "metadata": {
      "tags": []
     },
     "output_type": "display_data"
    },
    {
     "name": "stdout",
     "output_type": "stream",
     "text": [
      "MLP - batch size - 1000 train acc: 0.94374±0.00042, val acc: 0.94161±0.00036\n",
      "Batch size 1000, max. val. accuracies: 94.24% ± 0.03%\n",
      "id                                             MLP - batch size - 500\n",
      "architecture                                         128^3 + drop 0.2\n",
      "loss                                              binary_crossentropy\n",
      "activation          <tensorflow.python.keras.layers.advanced_activ...\n",
      "final_activation                                              sigmoid\n",
      "epochs                                                            400\n",
      "batch_size                                                        500\n",
      "optimizer                                                        adam\n",
      "lr                                                             0.0001\n",
      "lr_decay                                                            0\n",
      "norm                                                           minmax\n",
      "trans                                                            both\n",
      "nodes1                                                            128\n",
      "nodes2                                                            128\n",
      "nodes3                                                            128\n",
      "nodes4                                                              0\n",
      "nodes5                                                              0\n",
      "dropout1                                                          0.2\n",
      "dropout2                                                          0.2\n",
      "dropout3                                                          0.2\n",
      "dropout4                                                          0.2\n",
      "dropout5                                                          0.2\n",
      "batch_norm                                                         []\n",
      "shift_phi                                                        True\n",
      "flip_eta                                                         True\n",
      "cv_splits                                                           5\n",
      "cv_iteration                                                        5\n",
      "dtype: object\n",
      "Performing 5-fold cross validation with 100000 samples\n",
      "Starting fold 1/5 with 80000 train samples and 20000 validation samples\n"
     ]
    },
    {
     "data": {
      "text/html": [
       "\n",
       "                Logging results to <a href=\"https://wandb.com\" target=\"_blank\">Weights & Biases</a> <a href=\"https://docs.wandb.com/integrations/jupyter.html\" target=\"_blank\">(Documentation)</a>.<br/>\n",
       "                Project page: <a href=\"https://app.wandb.ai/joeranbosma/ml4ppa\" target=\"_blank\">https://app.wandb.ai/joeranbosma/ml4ppa</a><br/>\n",
       "                Run page: <a href=\"https://app.wandb.ai/joeranbosma/ml4ppa/runs/2xm51ysr\" target=\"_blank\">https://app.wandb.ai/joeranbosma/ml4ppa/runs/2xm51ysr</a><br/>\n",
       "            "
      ],
      "text/plain": [
       "<IPython.core.display.HTML object>"
      ]
     },
     "metadata": {
      "tags": []
     },
     "output_type": "display_data"
    },
    {
     "name": "stderr",
     "output_type": "stream",
     "text": [
      "\u001b[34m\u001b[1mwandb\u001b[0m: Network error resolved after 0:00:11.365544, resuming normal operation.\n"
     ]
    },
    {
     "name": "stdout",
     "output_type": "stream",
     "text": [
      "Starting fold 2/5 with 80000 train samples and 20000 validation samples\n"
     ]
    },
    {
     "data": {
      "text/html": [
       "\n",
       "                Logging results to <a href=\"https://wandb.com\" target=\"_blank\">Weights & Biases</a> <a href=\"https://docs.wandb.com/integrations/jupyter.html\" target=\"_blank\">(Documentation)</a>.<br/>\n",
       "                Project page: <a href=\"https://app.wandb.ai/joeranbosma/ml4ppa\" target=\"_blank\">https://app.wandb.ai/joeranbosma/ml4ppa</a><br/>\n",
       "                Run page: <a href=\"https://app.wandb.ai/joeranbosma/ml4ppa/runs/8lozjkoj\" target=\"_blank\">https://app.wandb.ai/joeranbosma/ml4ppa/runs/8lozjkoj</a><br/>\n",
       "            "
      ],
      "text/plain": [
       "<IPython.core.display.HTML object>"
      ]
     },
     "metadata": {
      "tags": []
     },
     "output_type": "display_data"
    },
    {
     "name": "stdout",
     "output_type": "stream",
     "text": [
      "Starting fold 3/5 with 80000 train samples and 20000 validation samples\n"
     ]
    },
    {
     "data": {
      "text/html": [
       "\n",
       "                Logging results to <a href=\"https://wandb.com\" target=\"_blank\">Weights & Biases</a> <a href=\"https://docs.wandb.com/integrations/jupyter.html\" target=\"_blank\">(Documentation)</a>.<br/>\n",
       "                Project page: <a href=\"https://app.wandb.ai/joeranbosma/ml4ppa\" target=\"_blank\">https://app.wandb.ai/joeranbosma/ml4ppa</a><br/>\n",
       "                Run page: <a href=\"https://app.wandb.ai/joeranbosma/ml4ppa/runs/2j9ewtjg\" target=\"_blank\">https://app.wandb.ai/joeranbosma/ml4ppa/runs/2j9ewtjg</a><br/>\n",
       "            "
      ],
      "text/plain": [
       "<IPython.core.display.HTML object>"
      ]
     },
     "metadata": {
      "tags": []
     },
     "output_type": "display_data"
    },
    {
     "name": "stdout",
     "output_type": "stream",
     "text": [
      "Starting fold 4/5 with 80000 train samples and 20000 validation samples\n"
     ]
    },
    {
     "data": {
      "text/html": [
       "\n",
       "                Logging results to <a href=\"https://wandb.com\" target=\"_blank\">Weights & Biases</a> <a href=\"https://docs.wandb.com/integrations/jupyter.html\" target=\"_blank\">(Documentation)</a>.<br/>\n",
       "                Project page: <a href=\"https://app.wandb.ai/joeranbosma/ml4ppa\" target=\"_blank\">https://app.wandb.ai/joeranbosma/ml4ppa</a><br/>\n",
       "                Run page: <a href=\"https://app.wandb.ai/joeranbosma/ml4ppa/runs/3smwyqm1\" target=\"_blank\">https://app.wandb.ai/joeranbosma/ml4ppa/runs/3smwyqm1</a><br/>\n",
       "            "
      ],
      "text/plain": [
       "<IPython.core.display.HTML object>"
      ]
     },
     "metadata": {
      "tags": []
     },
     "output_type": "display_data"
    },
    {
     "name": "stdout",
     "output_type": "stream",
     "text": [
      "Starting fold 5/5 with 80000 train samples and 20000 validation samples\n"
     ]
    },
    {
     "data": {
      "text/html": [
       "\n",
       "                Logging results to <a href=\"https://wandb.com\" target=\"_blank\">Weights & Biases</a> <a href=\"https://docs.wandb.com/integrations/jupyter.html\" target=\"_blank\">(Documentation)</a>.<br/>\n",
       "                Project page: <a href=\"https://app.wandb.ai/joeranbosma/ml4ppa\" target=\"_blank\">https://app.wandb.ai/joeranbosma/ml4ppa</a><br/>\n",
       "                Run page: <a href=\"https://app.wandb.ai/joeranbosma/ml4ppa/runs/2gutaw8s\" target=\"_blank\">https://app.wandb.ai/joeranbosma/ml4ppa/runs/2gutaw8s</a><br/>\n",
       "            "
      ],
      "text/plain": [
       "<IPython.core.display.HTML object>"
      ]
     },
     "metadata": {
      "tags": []
     },
     "output_type": "display_data"
    },
    {
     "name": "stdout",
     "output_type": "stream",
     "text": [
      "MLP - batch size - 500 train acc: 0.94365±0.00101, val acc: 0.94125±0.00031\n",
      "Batch size 500, max. val. accuracies: 94.27% ± 0.03%\n",
      "id                                             MLP - batch size - 256\n",
      "architecture                                         128^3 + drop 0.2\n",
      "loss                                              binary_crossentropy\n",
      "activation          <tensorflow.python.keras.layers.advanced_activ...\n",
      "final_activation                                              sigmoid\n",
      "epochs                                                            300\n",
      "batch_size                                                        256\n",
      "optimizer                                                        adam\n",
      "lr                                                             0.0001\n",
      "lr_decay                                                            0\n",
      "norm                                                           minmax\n",
      "trans                                                            both\n",
      "nodes1                                                            128\n",
      "nodes2                                                            128\n",
      "nodes3                                                            128\n",
      "nodes4                                                              0\n",
      "nodes5                                                              0\n",
      "dropout1                                                          0.2\n",
      "dropout2                                                          0.2\n",
      "dropout3                                                          0.2\n",
      "dropout4                                                          0.2\n",
      "dropout5                                                          0.2\n",
      "batch_norm                                                         []\n",
      "shift_phi                                                        True\n",
      "flip_eta                                                         True\n",
      "cv_splits                                                           5\n",
      "cv_iteration                                                        5\n",
      "dtype: object\n",
      "Performing 5-fold cross validation with 100000 samples\n",
      "Starting fold 1/5 with 80000 train samples and 20000 validation samples\n"
     ]
    },
    {
     "data": {
      "text/html": [
       "\n",
       "                Logging results to <a href=\"https://wandb.com\" target=\"_blank\">Weights & Biases</a> <a href=\"https://docs.wandb.com/integrations/jupyter.html\" target=\"_blank\">(Documentation)</a>.<br/>\n",
       "                Project page: <a href=\"https://app.wandb.ai/joeranbosma/ml4ppa\" target=\"_blank\">https://app.wandb.ai/joeranbosma/ml4ppa</a><br/>\n",
       "                Run page: <a href=\"https://app.wandb.ai/joeranbosma/ml4ppa/runs/1artkjah\" target=\"_blank\">https://app.wandb.ai/joeranbosma/ml4ppa/runs/1artkjah</a><br/>\n",
       "            "
      ],
      "text/plain": [
       "<IPython.core.display.HTML object>"
      ]
     },
     "metadata": {
      "tags": []
     },
     "output_type": "display_data"
    },
    {
     "name": "stdout",
     "output_type": "stream",
     "text": [
      "Starting fold 2/5 with 80000 train samples and 20000 validation samples\n"
     ]
    },
    {
     "data": {
      "text/html": [
       "\n",
       "                Logging results to <a href=\"https://wandb.com\" target=\"_blank\">Weights & Biases</a> <a href=\"https://docs.wandb.com/integrations/jupyter.html\" target=\"_blank\">(Documentation)</a>.<br/>\n",
       "                Project page: <a href=\"https://app.wandb.ai/joeranbosma/ml4ppa\" target=\"_blank\">https://app.wandb.ai/joeranbosma/ml4ppa</a><br/>\n",
       "                Run page: <a href=\"https://app.wandb.ai/joeranbosma/ml4ppa/runs/t23idy9z\" target=\"_blank\">https://app.wandb.ai/joeranbosma/ml4ppa/runs/t23idy9z</a><br/>\n",
       "            "
      ],
      "text/plain": [
       "<IPython.core.display.HTML object>"
      ]
     },
     "metadata": {
      "tags": []
     },
     "output_type": "display_data"
    },
    {
     "name": "stderr",
     "output_type": "stream",
     "text": [
      "\u001b[34m\u001b[1mwandb\u001b[0m: Network error resolved after 0:00:30.262558, resuming normal operation.\n"
     ]
    },
    {
     "name": "stdout",
     "output_type": "stream",
     "text": [
      "Starting fold 3/5 with 80000 train samples and 20000 validation samples\n"
     ]
    },
    {
     "data": {
      "text/html": [
       "\n",
       "                Logging results to <a href=\"https://wandb.com\" target=\"_blank\">Weights & Biases</a> <a href=\"https://docs.wandb.com/integrations/jupyter.html\" target=\"_blank\">(Documentation)</a>.<br/>\n",
       "                Project page: <a href=\"https://app.wandb.ai/joeranbosma/ml4ppa\" target=\"_blank\">https://app.wandb.ai/joeranbosma/ml4ppa</a><br/>\n",
       "                Run page: <a href=\"https://app.wandb.ai/joeranbosma/ml4ppa/runs/1evv5m8c\" target=\"_blank\">https://app.wandb.ai/joeranbosma/ml4ppa/runs/1evv5m8c</a><br/>\n",
       "            "
      ],
      "text/plain": [
       "<IPython.core.display.HTML object>"
      ]
     },
     "metadata": {
      "tags": []
     },
     "output_type": "display_data"
    },
    {
     "name": "stdout",
     "output_type": "stream",
     "text": [
      "Starting fold 4/5 with 80000 train samples and 20000 validation samples\n"
     ]
    },
    {
     "data": {
      "text/html": [
       "\n",
       "                Logging results to <a href=\"https://wandb.com\" target=\"_blank\">Weights & Biases</a> <a href=\"https://docs.wandb.com/integrations/jupyter.html\" target=\"_blank\">(Documentation)</a>.<br/>\n",
       "                Project page: <a href=\"https://app.wandb.ai/joeranbosma/ml4ppa\" target=\"_blank\">https://app.wandb.ai/joeranbosma/ml4ppa</a><br/>\n",
       "                Run page: <a href=\"https://app.wandb.ai/joeranbosma/ml4ppa/runs/2nhut6l3\" target=\"_blank\">https://app.wandb.ai/joeranbosma/ml4ppa/runs/2nhut6l3</a><br/>\n",
       "            "
      ],
      "text/plain": [
       "<IPython.core.display.HTML object>"
      ]
     },
     "metadata": {
      "tags": []
     },
     "output_type": "display_data"
    },
    {
     "name": "stdout",
     "output_type": "stream",
     "text": [
      "Starting fold 5/5 with 80000 train samples and 20000 validation samples\n"
     ]
    },
    {
     "data": {
      "text/html": [
       "\n",
       "                Logging results to <a href=\"https://wandb.com\" target=\"_blank\">Weights & Biases</a> <a href=\"https://docs.wandb.com/integrations/jupyter.html\" target=\"_blank\">(Documentation)</a>.<br/>\n",
       "                Project page: <a href=\"https://app.wandb.ai/joeranbosma/ml4ppa\" target=\"_blank\">https://app.wandb.ai/joeranbosma/ml4ppa</a><br/>\n",
       "                Run page: <a href=\"https://app.wandb.ai/joeranbosma/ml4ppa/runs/1dhmopll\" target=\"_blank\">https://app.wandb.ai/joeranbosma/ml4ppa/runs/1dhmopll</a><br/>\n",
       "            "
      ],
      "text/plain": [
       "<IPython.core.display.HTML object>"
      ]
     },
     "metadata": {
      "tags": []
     },
     "output_type": "display_data"
    },
    {
     "name": "stdout",
     "output_type": "stream",
     "text": [
      "MLP - batch size - 256 train acc: 0.94353±0.00101, val acc: 0.94134±0.00054\n",
      "Batch size 256, max. val. accuracies: 94.26% ± 0.02%\n",
      "id                                             MLP - batch size - 128\n",
      "architecture                                         128^3 + drop 0.2\n",
      "loss                                              binary_crossentropy\n",
      "activation          <tensorflow.python.keras.layers.advanced_activ...\n",
      "final_activation                                              sigmoid\n",
      "epochs                                                            200\n",
      "batch_size                                                        128\n",
      "optimizer                                                        adam\n",
      "lr                                                             0.0001\n",
      "lr_decay                                                            0\n",
      "norm                                                           minmax\n",
      "trans                                                            both\n",
      "nodes1                                                            128\n",
      "nodes2                                                            128\n",
      "nodes3                                                            128\n",
      "nodes4                                                              0\n",
      "nodes5                                                              0\n",
      "dropout1                                                          0.2\n",
      "dropout2                                                          0.2\n",
      "dropout3                                                          0.2\n",
      "dropout4                                                          0.2\n",
      "dropout5                                                          0.2\n",
      "batch_norm                                                         []\n",
      "shift_phi                                                        True\n",
      "flip_eta                                                         True\n",
      "cv_splits                                                           5\n",
      "cv_iteration                                                        5\n",
      "dtype: object\n",
      "Performing 5-fold cross validation with 100000 samples\n",
      "Starting fold 1/5 with 80000 train samples and 20000 validation samples\n"
     ]
    },
    {
     "data": {
      "text/html": [
       "\n",
       "                Logging results to <a href=\"https://wandb.com\" target=\"_blank\">Weights & Biases</a> <a href=\"https://docs.wandb.com/integrations/jupyter.html\" target=\"_blank\">(Documentation)</a>.<br/>\n",
       "                Project page: <a href=\"https://app.wandb.ai/joeranbosma/ml4ppa\" target=\"_blank\">https://app.wandb.ai/joeranbosma/ml4ppa</a><br/>\n",
       "                Run page: <a href=\"https://app.wandb.ai/joeranbosma/ml4ppa/runs/3udu5mwx\" target=\"_blank\">https://app.wandb.ai/joeranbosma/ml4ppa/runs/3udu5mwx</a><br/>\n",
       "            "
      ],
      "text/plain": [
       "<IPython.core.display.HTML object>"
      ]
     },
     "metadata": {
      "tags": []
     },
     "output_type": "display_data"
    },
    {
     "name": "stdout",
     "output_type": "stream",
     "text": [
      "Starting fold 2/5 with 80000 train samples and 20000 validation samples\n"
     ]
    },
    {
     "data": {
      "text/html": [
       "\n",
       "                Logging results to <a href=\"https://wandb.com\" target=\"_blank\">Weights & Biases</a> <a href=\"https://docs.wandb.com/integrations/jupyter.html\" target=\"_blank\">(Documentation)</a>.<br/>\n",
       "                Project page: <a href=\"https://app.wandb.ai/joeranbosma/ml4ppa\" target=\"_blank\">https://app.wandb.ai/joeranbosma/ml4ppa</a><br/>\n",
       "                Run page: <a href=\"https://app.wandb.ai/joeranbosma/ml4ppa/runs/qos7hnmc\" target=\"_blank\">https://app.wandb.ai/joeranbosma/ml4ppa/runs/qos7hnmc</a><br/>\n",
       "            "
      ],
      "text/plain": [
       "<IPython.core.display.HTML object>"
      ]
     },
     "metadata": {
      "tags": []
     },
     "output_type": "display_data"
    },
    {
     "name": "stdout",
     "output_type": "stream",
     "text": [
      "Starting fold 3/5 with 80000 train samples and 20000 validation samples\n"
     ]
    },
    {
     "data": {
      "text/html": [
       "\n",
       "                Logging results to <a href=\"https://wandb.com\" target=\"_blank\">Weights & Biases</a> <a href=\"https://docs.wandb.com/integrations/jupyter.html\" target=\"_blank\">(Documentation)</a>.<br/>\n",
       "                Project page: <a href=\"https://app.wandb.ai/joeranbosma/ml4ppa\" target=\"_blank\">https://app.wandb.ai/joeranbosma/ml4ppa</a><br/>\n",
       "                Run page: <a href=\"https://app.wandb.ai/joeranbosma/ml4ppa/runs/2szkgqvh\" target=\"_blank\">https://app.wandb.ai/joeranbosma/ml4ppa/runs/2szkgqvh</a><br/>\n",
       "            "
      ],
      "text/plain": [
       "<IPython.core.display.HTML object>"
      ]
     },
     "metadata": {
      "tags": []
     },
     "output_type": "display_data"
    },
    {
     "name": "stdout",
     "output_type": "stream",
     "text": [
      "Starting fold 4/5 with 80000 train samples and 20000 validation samples\n"
     ]
    },
    {
     "data": {
      "text/html": [
       "\n",
       "                Logging results to <a href=\"https://wandb.com\" target=\"_blank\">Weights & Biases</a> <a href=\"https://docs.wandb.com/integrations/jupyter.html\" target=\"_blank\">(Documentation)</a>.<br/>\n",
       "                Project page: <a href=\"https://app.wandb.ai/joeranbosma/ml4ppa\" target=\"_blank\">https://app.wandb.ai/joeranbosma/ml4ppa</a><br/>\n",
       "                Run page: <a href=\"https://app.wandb.ai/joeranbosma/ml4ppa/runs/2jzqmfx3\" target=\"_blank\">https://app.wandb.ai/joeranbosma/ml4ppa/runs/2jzqmfx3</a><br/>\n",
       "            "
      ],
      "text/plain": [
       "<IPython.core.display.HTML object>"
      ]
     },
     "metadata": {
      "tags": []
     },
     "output_type": "display_data"
    },
    {
     "name": "stdout",
     "output_type": "stream",
     "text": [
      "Starting fold 5/5 with 80000 train samples and 20000 validation samples\n"
     ]
    },
    {
     "data": {
      "text/html": [
       "\n",
       "                Logging results to <a href=\"https://wandb.com\" target=\"_blank\">Weights & Biases</a> <a href=\"https://docs.wandb.com/integrations/jupyter.html\" target=\"_blank\">(Documentation)</a>.<br/>\n",
       "                Project page: <a href=\"https://app.wandb.ai/joeranbosma/ml4ppa\" target=\"_blank\">https://app.wandb.ai/joeranbosma/ml4ppa</a><br/>\n",
       "                Run page: <a href=\"https://app.wandb.ai/joeranbosma/ml4ppa/runs/2imv1ne3\" target=\"_blank\">https://app.wandb.ai/joeranbosma/ml4ppa/runs/2imv1ne3</a><br/>\n",
       "            "
      ],
      "text/plain": [
       "<IPython.core.display.HTML object>"
      ]
     },
     "metadata": {
      "tags": []
     },
     "output_type": "display_data"
    },
    {
     "name": "stdout",
     "output_type": "stream",
     "text": [
      "MLP - batch size - 128 train acc: 0.94316±0.00047, val acc: 0.94148±0.00069\n",
      "Batch size 128, max. val. accuracies: 94.24% ± 0.02%\n",
      "id                                              MLP - batch size - 32\n",
      "architecture                                         128^3 + drop 0.2\n",
      "loss                                              binary_crossentropy\n",
      "activation          <tensorflow.python.keras.layers.advanced_activ...\n",
      "final_activation                                              sigmoid\n",
      "epochs                                                            100\n",
      "batch_size                                                         32\n",
      "optimizer                                                        adam\n",
      "lr                                                             0.0001\n",
      "lr_decay                                                            0\n",
      "norm                                                           minmax\n",
      "trans                                                            both\n",
      "nodes1                                                            128\n",
      "nodes2                                                            128\n",
      "nodes3                                                            128\n",
      "nodes4                                                              0\n",
      "nodes5                                                              0\n",
      "dropout1                                                          0.2\n",
      "dropout2                                                          0.2\n",
      "dropout3                                                          0.2\n",
      "dropout4                                                          0.2\n",
      "dropout5                                                          0.2\n",
      "batch_norm                                                         []\n",
      "shift_phi                                                        True\n",
      "flip_eta                                                         True\n",
      "cv_splits                                                           5\n",
      "cv_iteration                                                        5\n",
      "dtype: object\n",
      "Performing 5-fold cross validation with 100000 samples\n",
      "Starting fold 1/5 with 80000 train samples and 20000 validation samples\n"
     ]
    },
    {
     "data": {
      "text/html": [
       "\n",
       "                Logging results to <a href=\"https://wandb.com\" target=\"_blank\">Weights & Biases</a> <a href=\"https://docs.wandb.com/integrations/jupyter.html\" target=\"_blank\">(Documentation)</a>.<br/>\n",
       "                Project page: <a href=\"https://app.wandb.ai/joeranbosma/ml4ppa\" target=\"_blank\">https://app.wandb.ai/joeranbosma/ml4ppa</a><br/>\n",
       "                Run page: <a href=\"https://app.wandb.ai/joeranbosma/ml4ppa/runs/yx4quw2w\" target=\"_blank\">https://app.wandb.ai/joeranbosma/ml4ppa/runs/yx4quw2w</a><br/>\n",
       "            "
      ],
      "text/plain": [
       "<IPython.core.display.HTML object>"
      ]
     },
     "metadata": {
      "tags": []
     },
     "output_type": "display_data"
    },
    {
     "name": "stdout",
     "output_type": "stream",
     "text": [
      "Starting fold 2/5 with 80000 train samples and 20000 validation samples\n"
     ]
    },
    {
     "data": {
      "text/html": [
       "\n",
       "                Logging results to <a href=\"https://wandb.com\" target=\"_blank\">Weights & Biases</a> <a href=\"https://docs.wandb.com/integrations/jupyter.html\" target=\"_blank\">(Documentation)</a>.<br/>\n",
       "                Project page: <a href=\"https://app.wandb.ai/joeranbosma/ml4ppa\" target=\"_blank\">https://app.wandb.ai/joeranbosma/ml4ppa</a><br/>\n",
       "                Run page: <a href=\"https://app.wandb.ai/joeranbosma/ml4ppa/runs/vidrzipc\" target=\"_blank\">https://app.wandb.ai/joeranbosma/ml4ppa/runs/vidrzipc</a><br/>\n",
       "            "
      ],
      "text/plain": [
       "<IPython.core.display.HTML object>"
      ]
     },
     "metadata": {
      "tags": []
     },
     "output_type": "display_data"
    },
    {
     "name": "stdout",
     "output_type": "stream",
     "text": [
      "Starting fold 3/5 with 80000 train samples and 20000 validation samples\n"
     ]
    },
    {
     "data": {
      "text/html": [
       "\n",
       "                Logging results to <a href=\"https://wandb.com\" target=\"_blank\">Weights & Biases</a> <a href=\"https://docs.wandb.com/integrations/jupyter.html\" target=\"_blank\">(Documentation)</a>.<br/>\n",
       "                Project page: <a href=\"https://app.wandb.ai/joeranbosma/ml4ppa\" target=\"_blank\">https://app.wandb.ai/joeranbosma/ml4ppa</a><br/>\n",
       "                Run page: <a href=\"https://app.wandb.ai/joeranbosma/ml4ppa/runs/2zew6rb4\" target=\"_blank\">https://app.wandb.ai/joeranbosma/ml4ppa/runs/2zew6rb4</a><br/>\n",
       "            "
      ],
      "text/plain": [
       "<IPython.core.display.HTML object>"
      ]
     },
     "metadata": {
      "tags": []
     },
     "output_type": "display_data"
    },
    {
     "name": "stdout",
     "output_type": "stream",
     "text": [
      "Starting fold 4/5 with 80000 train samples and 20000 validation samples\n"
     ]
    },
    {
     "data": {
      "text/html": [
       "\n",
       "                Logging results to <a href=\"https://wandb.com\" target=\"_blank\">Weights & Biases</a> <a href=\"https://docs.wandb.com/integrations/jupyter.html\" target=\"_blank\">(Documentation)</a>.<br/>\n",
       "                Project page: <a href=\"https://app.wandb.ai/joeranbosma/ml4ppa\" target=\"_blank\">https://app.wandb.ai/joeranbosma/ml4ppa</a><br/>\n",
       "                Run page: <a href=\"https://app.wandb.ai/joeranbosma/ml4ppa/runs/8gea946z\" target=\"_blank\">https://app.wandb.ai/joeranbosma/ml4ppa/runs/8gea946z</a><br/>\n",
       "            "
      ],
      "text/plain": [
       "<IPython.core.display.HTML object>"
      ]
     },
     "metadata": {
      "tags": []
     },
     "output_type": "display_data"
    },
    {
     "name": "stdout",
     "output_type": "stream",
     "text": [
      "Starting fold 5/5 with 80000 train samples and 20000 validation samples\n"
     ]
    },
    {
     "data": {
      "text/html": [
       "\n",
       "                Logging results to <a href=\"https://wandb.com\" target=\"_blank\">Weights & Biases</a> <a href=\"https://docs.wandb.com/integrations/jupyter.html\" target=\"_blank\">(Documentation)</a>.<br/>\n",
       "                Project page: <a href=\"https://app.wandb.ai/joeranbosma/ml4ppa\" target=\"_blank\">https://app.wandb.ai/joeranbosma/ml4ppa</a><br/>\n",
       "                Run page: <a href=\"https://app.wandb.ai/joeranbosma/ml4ppa/runs/2bvexsal\" target=\"_blank\">https://app.wandb.ai/joeranbosma/ml4ppa/runs/2bvexsal</a><br/>\n",
       "            "
      ],
      "text/plain": [
       "<IPython.core.display.HTML object>"
      ]
     },
     "metadata": {
      "tags": []
     },
     "output_type": "display_data"
    },
    {
     "name": "stdout",
     "output_type": "stream",
     "text": [
      "MLP - batch size - 32 train acc: 0.94327±0.00110, val acc: 0.94120±0.00050\n",
      "Batch size 32, max. val. accuracies: 94.22% ± 0.01%\n"
     ]
    },
    {
     "name": "stderr",
     "output_type": "stream",
     "text": [
      "Exception in thread Thread-1133:\n",
      "Traceback (most recent call last):\n",
      "  File \"/usr/local/lib/python3.6/dist-packages/wandb/file_pusher.py\", line 81, in run\n",
      "    self.prepare_file()\n",
      "  File \"/usr/local/lib/python3.6/dist-packages/wandb/file_pusher.py\", line 72, in prepare_file\n",
      "    shutil.copy2(self.path, self.save_path)\n",
      "  File \"/usr/lib/python3.6/shutil.py\", line 263, in copy2\n",
      "    copyfile(src, dst, follow_symlinks=follow_symlinks)\n",
      "  File \"/usr/lib/python3.6/shutil.py\", line 120, in copyfile\n",
      "    with open(src, 'rb') as fsrc:\n",
      "FileNotFoundError: [Errno 2] No such file or directory: '/tmp/tmpweacrk4jwandb/batch-1.tgz'\n",
      "\n",
      "During handling of the above exception, another exception occurred:\n",
      "\n",
      "Traceback (most recent call last):\n",
      "  File \"/usr/lib/python3.6/threading.py\", line 916, in _bootstrap_inner\n",
      "    self.run()\n",
      "  File \"/usr/local/lib/python3.6/dist-packages/wandb/file_pusher.py\", line 85, in run\n",
      "    self.cleanup_file()\n",
      "  File \"/usr/local/lib/python3.6/dist-packages/wandb/file_pusher.py\", line 154, in cleanup_file\n",
      "    os.unlink(self.tgz_path)\n",
      "FileNotFoundError: [Errno 2] No such file or directory: '/tmp/tmpweacrk4jwandb/batch-1.tgz'\n",
      "\n",
      "Exception in thread Thread-1135:\n",
      "Traceback (most recent call last):\n",
      "  File \"/usr/local/lib/python3.6/dist-packages/wandb/file_pusher.py\", line 81, in run\n",
      "    self.prepare_file()\n",
      "  File \"/usr/local/lib/python3.6/dist-packages/wandb/file_pusher.py\", line 72, in prepare_file\n",
      "    shutil.copy2(self.path, self.save_path)\n",
      "  File \"/usr/lib/python3.6/shutil.py\", line 263, in copy2\n",
      "    copyfile(src, dst, follow_symlinks=follow_symlinks)\n",
      "  File \"/usr/lib/python3.6/shutil.py\", line 120, in copyfile\n",
      "    with open(src, 'rb') as fsrc:\n",
      "FileNotFoundError: [Errno 2] No such file or directory: '/tmp/tmpweacrk4jwandb/batch-1.tgz'\n",
      "\n",
      "During handling of the above exception, another exception occurred:\n",
      "\n",
      "Traceback (most recent call last):\n",
      "  File \"/usr/lib/python3.6/threading.py\", line 916, in _bootstrap_inner\n",
      "    self.run()\n",
      "  File \"/usr/local/lib/python3.6/dist-packages/wandb/file_pusher.py\", line 85, in run\n",
      "    self.cleanup_file()\n",
      "  File \"/usr/local/lib/python3.6/dist-packages/wandb/file_pusher.py\", line 154, in cleanup_file\n",
      "    os.unlink(self.tgz_path)\n",
      "FileNotFoundError: [Errno 2] No such file or directory: '/tmp/tmpweacrk4jwandb/batch-1.tgz'\n",
      "\n",
      "Exception in thread Thread-1137:\n",
      "Traceback (most recent call last):\n",
      "  File \"/usr/local/lib/python3.6/dist-packages/wandb/file_pusher.py\", line 81, in run\n",
      "    self.prepare_file()\n",
      "  File \"/usr/local/lib/python3.6/dist-packages/wandb/file_pusher.py\", line 72, in prepare_file\n",
      "    shutil.copy2(self.path, self.save_path)\n",
      "  File \"/usr/lib/python3.6/shutil.py\", line 263, in copy2\n",
      "    copyfile(src, dst, follow_symlinks=follow_symlinks)\n",
      "  File \"/usr/lib/python3.6/shutil.py\", line 120, in copyfile\n",
      "    with open(src, 'rb') as fsrc:\n",
      "FileNotFoundError: [Errno 2] No such file or directory: '/tmp/tmpweacrk4jwandb/batch-1.tgz'\n",
      "\n",
      "During handling of the above exception, another exception occurred:\n",
      "\n",
      "Traceback (most recent call last):\n",
      "  File \"/usr/lib/python3.6/threading.py\", line 916, in _bootstrap_inner\n",
      "    self.run()\n",
      "  File \"/usr/local/lib/python3.6/dist-packages/wandb/file_pusher.py\", line 85, in run\n",
      "    self.cleanup_file()\n",
      "  File \"/usr/local/lib/python3.6/dist-packages/wandb/file_pusher.py\", line 154, in cleanup_file\n",
      "    os.unlink(self.tgz_path)\n",
      "FileNotFoundError: [Errno 2] No such file or directory: '/tmp/tmpweacrk4jwandb/batch-1.tgz'\n",
      "\n",
      "Exception in thread Thread-1147:\n",
      "Traceback (most recent call last):\n",
      "  File \"/usr/local/lib/python3.6/dist-packages/wandb/file_pusher.py\", line 81, in run\n",
      "    self.prepare_file()\n",
      "  File \"/usr/local/lib/python3.6/dist-packages/wandb/file_pusher.py\", line 72, in prepare_file\n",
      "    shutil.copy2(self.path, self.save_path)\n",
      "  File \"/usr/lib/python3.6/shutil.py\", line 263, in copy2\n",
      "    copyfile(src, dst, follow_symlinks=follow_symlinks)\n",
      "  File \"/usr/lib/python3.6/shutil.py\", line 120, in copyfile\n",
      "    with open(src, 'rb') as fsrc:\n",
      "FileNotFoundError: [Errno 2] No such file or directory: '/tmp/tmpweacrk4jwandb/batch-2.tgz'\n",
      "\n",
      "During handling of the above exception, another exception occurred:\n",
      "\n",
      "Traceback (most recent call last):\n",
      "  File \"/usr/lib/python3.6/threading.py\", line 916, in _bootstrap_inner\n",
      "    self.run()\n",
      "  File \"/usr/local/lib/python3.6/dist-packages/wandb/file_pusher.py\", line 85, in run\n",
      "    self.cleanup_file()\n",
      "  File \"/usr/local/lib/python3.6/dist-packages/wandb/file_pusher.py\", line 154, in cleanup_file\n",
      "    os.unlink(self.tgz_path)\n",
      "FileNotFoundError: [Errno 2] No such file or directory: '/tmp/tmpweacrk4jwandb/batch-2.tgz'\n",
      "\n",
      "Exception in thread Thread-1149:\n",
      "Traceback (most recent call last):\n",
      "  File \"/usr/local/lib/python3.6/dist-packages/wandb/file_pusher.py\", line 81, in run\n",
      "    self.prepare_file()\n",
      "  File \"/usr/local/lib/python3.6/dist-packages/wandb/file_pusher.py\", line 72, in prepare_file\n",
      "    shutil.copy2(self.path, self.save_path)\n",
      "  File \"/usr/lib/python3.6/shutil.py\", line 263, in copy2\n",
      "    copyfile(src, dst, follow_symlinks=follow_symlinks)\n",
      "  File \"/usr/lib/python3.6/shutil.py\", line 120, in copyfile\n",
      "    with open(src, 'rb') as fsrc:\n",
      "FileNotFoundError: [Errno 2] No such file or directory: '/tmp/tmpweacrk4jwandb/batch-2.tgz'\n",
      "\n",
      "During handling of the above exception, another exception occurred:\n",
      "\n",
      "Traceback (most recent call last):\n",
      "  File \"/usr/lib/python3.6/threading.py\", line 916, in _bootstrap_inner\n",
      "    self.run()\n",
      "  File \"/usr/local/lib/python3.6/dist-packages/wandb/file_pusher.py\", line 85, in run\n",
      "    self.cleanup_file()\n",
      "  File \"/usr/local/lib/python3.6/dist-packages/wandb/file_pusher.py\", line 154, in cleanup_file\n",
      "    os.unlink(self.tgz_path)\n",
      "FileNotFoundError: [Errno 2] No such file or directory: '/tmp/tmpweacrk4jwandb/batch-2.tgz'\n",
      "\n",
      "Exception in thread Thread-1151:\n",
      "Traceback (most recent call last):\n",
      "  File \"/usr/local/lib/python3.6/dist-packages/wandb/file_pusher.py\", line 81, in run\n",
      "    self.prepare_file()\n",
      "  File \"/usr/local/lib/python3.6/dist-packages/wandb/file_pusher.py\", line 72, in prepare_file\n",
      "    shutil.copy2(self.path, self.save_path)\n",
      "  File \"/usr/lib/python3.6/shutil.py\", line 263, in copy2\n",
      "    copyfile(src, dst, follow_symlinks=follow_symlinks)\n",
      "  File \"/usr/lib/python3.6/shutil.py\", line 120, in copyfile\n",
      "    with open(src, 'rb') as fsrc:\n",
      "FileNotFoundError: [Errno 2] No such file or directory: '/tmp/tmpweacrk4jwandb/batch-2.tgz'\n",
      "\n",
      "During handling of the above exception, another exception occurred:\n",
      "\n",
      "Traceback (most recent call last):\n",
      "  File \"/usr/lib/python3.6/threading.py\", line 916, in _bootstrap_inner\n",
      "    self.run()\n",
      "  File \"/usr/local/lib/python3.6/dist-packages/wandb/file_pusher.py\", line 85, in run\n",
      "    self.cleanup_file()\n",
      "  File \"/usr/local/lib/python3.6/dist-packages/wandb/file_pusher.py\", line 154, in cleanup_file\n",
      "    os.unlink(self.tgz_path)\n",
      "FileNotFoundError: [Errno 2] No such file or directory: '/tmp/tmpweacrk4jwandb/batch-2.tgz'\n",
      "\n"
     ]
    }
   ],
   "source": [
    "# current baseline options\n",
    "args = Args({'id': 'MLP', 'architecture': '128^3 + drop 0.2', 'norm': 'minmax', 'trans': 'both',\n",
    "             'nodes1': 128, 'nodes2': 128, 'nodes3': 128, 'nodes4': 0, 'nodes5': 0,\n",
    "             'dropout1': 0.2, 'dropout2': 0.2, 'dropout3': 0.2, 'dropout4': 0.2, 'dropout5': 0.2,\n",
    "             'activation': LeakyReLU(alpha=0.3),  'batch_size': 64, \n",
    "             'shift_phi': True, 'flip_eta': True}, verbose=False, wandb_init=False)\n",
    "\n",
    "# investigation options\n",
    "batch_size_options = [32, 128, 256, 500, 1000][::-1]\n",
    "number_of_epochs   = [100, 200, 300, 400, 500][::-1]\n",
    "\n",
    "for i, (batch_size, epochs) in enumerate(zip(batch_size_options, number_of_epochs)):\n",
    "    # set deviations from current baseline\n",
    "\n",
    "    args.set_args({'id': 'MLP - batch size - {}'.format(batch_size), \n",
    "                   'batch_size': batch_size, 'epochs': epochs}, \n",
    "                  verbose=True, wandb_init=False)\n",
    "    \n",
    "    cv_train_accuracies, cv_val_accuracies, cv_max_val_accuracies = aug_cv_test(args)\n",
    "    save_metrics(cv_train_accuracies, cv_val_accuracies, cv_max_val_accuracies, \n",
    "                 name=\"batch_size_{}\".format(batch_size))\n",
    "    print(\"Batch size {}, max. val. accuracies: {:.2%} ± {:.2%}\".format(\n",
    "        batch_size, np.mean(cv_max_val_accuracies), np.std(cv_max_val_accuracies)))"
   ]
  },
  {
   "cell_type": "code",
   "execution_count": 0,
   "metadata": {
    "colab": {},
    "colab_type": "code",
    "id": "6ZQZIWQ6QslQ"
   },
   "outputs": [],
   "source": [
    "# current baseline options\n",
    "args = Args({'id': 'MLP', 'architecture': '128^3 + drop 0.2', 'norm': 'minmax', 'trans': 'both',\n",
    "             'nodes1': 128, 'nodes2': 128, 'nodes3': 0, 'nodes4': 0, 'nodes5': 0,\n",
    "             'dropout1': 0.2, 'dropout2': 0.2, 'dropout3': 0.2, 'dropout4': 0.2, 'dropout5': 0.2,\n",
    "             'activation': LeakyReLU(alpha=0.3),  'batch_size': 256, \n",
    "             'shift_phi': True, 'flip_eta': True}, verbose=False, wandb_init=False)\n",
    "\n",
    "# investigation options\n",
    "width_options = [256, 512]\n",
    "\n",
    "for i, width in enumerate(width_options):\n",
    "    # set deviations from current baseline\n",
    "    args.set_args({'id': 'MLP - width 2 - {}'.format(width), \n",
    "                   'architecture': '{}^2 + drop 0.2'.format(width),\n",
    "                   'nodes1': width, 'nodes2': width},\n",
    "                  verbose=True, wandb_init=False)\n",
    "\n",
    "    cv_train_accuracies, cv_val_accuracies, cv_max_val_accuracies = aug_cv_test(args)\n",
    "    save_metrics(cv_train_accuracies, cv_val_accuracies, cv_max_val_accuracies, \n",
    "                 name=\"width_2_{}\".format(width))\n",
    "    print(\"Width 2 {}, max. val. accuracies: {:.2%} ± {:.2%}\".format(\n",
    "        width, np.mean(cv_max_val_accuracies), np.std(cv_max_val_accuracies)))"
   ]
  },
  {
   "cell_type": "markdown",
   "metadata": {
    "colab_type": "text",
    "id": "8si-RVzqvSY0"
   },
   "source": [
    "## Results"
   ]
  },
  {
   "cell_type": "code",
   "execution_count": 0,
   "metadata": {
    "colab": {},
    "colab_type": "code",
    "id": "TZMr0jx7LXzR"
   },
   "outputs": [],
   "source": [
    "import matplotlib.ticker as mtick\n",
    "\n",
    "def plot_accuracy_gain(acc, labels, baseline, fn, write_accs=False):\n",
    "    f, axes = plt.subplots(1, 1, figsize=(10, 5))\n",
    "    ax = axes\n",
    "\n",
    "    # calculate means and std. between trails\n",
    "    try:\n",
    "        means, stds = np.mean(acc, axis=-1), np.std(acc, axis=-1)\n",
    "    except:\n",
    "        assert isinstance(acc, list), \"Need ndarray or list\"\n",
    "        means, stds = [], []\n",
    "        for acc_row in acc:\n",
    "            means.append(np.mean(acc_row))\n",
    "            stds.append(np.std(acc_row))\n",
    "        means, stds = np.array(means), np.array(stds)\n",
    "\n",
    "    # plot bar plot with height the mean and error bars the deviation\n",
    "    # substract a baseline from all means\n",
    "    y = means - means[baseline]\n",
    "    ax.bar(range(len(labels)), height=y, yerr=stds, capsize=4)\n",
    "    ax.axhline(0, color='k')\n",
    "    ax.set_xticklabels(labels)\n",
    "    ax.set_xticks(range(len(labels)))\n",
    "\n",
    "    # write total accuracy above bars\n",
    "    if write_accs:\n",
    "        for i, (v, mean, std) in enumerate(zip(y, means, stds)):\n",
    "            ax.text(i, v+np.max(stds[i]), f\"{mean:,.2%}\\n±{std:,.2%}\", va='bottom', ha='center', fontweight='bold')\n",
    "\n",
    "    # Set yticks to percentage\n",
    "    ax.set_ylabel(\"Validation accuracy gain\")\n",
    "    ax.yaxis.set_major_formatter(mtick.PercentFormatter(1.0))\n",
    "\n",
    "    # Hide the right and top spines\n",
    "    for loc in ['right', 'top', 'bottom']:\n",
    "        ax.spines[loc].set_visible(False)\n",
    "\n",
    "    f.tight_layout()\n",
    "    f.savefig('results/generated_figs/{fn}'.format(fn=fn))\n",
    "    plt.show()"
   ]
  },
  {
   "cell_type": "code",
   "execution_count": 22,
   "metadata": {
    "colab": {
     "base_uri": "https://localhost:8080/",
     "height": 965
    },
    "colab_type": "code",
    "executionInfo": {
     "elapsed": 7520,
     "status": "ok",
     "timestamp": 1585483354744,
     "user": {
      "displayName": "Joeran Bosma",
      "photoUrl": "https://lh3.googleusercontent.com/a-/AOh14GiEvCunvq33iGZ3RU-P9BMF7L60e8LoQ3Y1AfZJ4Q=s64",
      "userId": "05378465311079003812"
     },
     "user_tz": -120
    },
    "id": "5qKWB_EvvTrq",
    "outputId": "991df77e-66a1-4f80-cb6d-24c4180775fb"
   },
   "outputs": [
    {
     "name": "stderr",
     "output_type": "stream",
     "text": [
      "100%|██████████| 29/29 [00:06<00:00,  4.26it/s]\n"
     ]
    },
    {
     "data": {
      "text/html": [
       "<div>\n",
       "<style scoped>\n",
       "    .dataframe tbody tr th:only-of-type {\n",
       "        vertical-align: middle;\n",
       "    }\n",
       "\n",
       "    .dataframe tbody tr th {\n",
       "        vertical-align: top;\n",
       "    }\n",
       "\n",
       "    .dataframe thead th {\n",
       "        text-align: right;\n",
       "    }\n",
       "</style>\n",
       "<table border=\"1\" class=\"dataframe\">\n",
       "  <thead>\n",
       "    <tr style=\"text-align: right;\">\n",
       "      <th></th>\n",
       "      <th>Fold 1</th>\n",
       "      <th>Fold 2</th>\n",
       "      <th>Fold 3</th>\n",
       "      <th>Fold 4</th>\n",
       "      <th>Fold 5</th>\n",
       "    </tr>\n",
       "  </thead>\n",
       "  <tbody>\n",
       "    <tr>\n",
       "      <th>baseline</th>\n",
       "      <td>0.935</td>\n",
       "      <td>0.9335</td>\n",
       "      <td>0.9353</td>\n",
       "      <td>0.93515</td>\n",
       "      <td>0.93585</td>\n",
       "    </tr>\n",
       "    <tr>\n",
       "      <th>phi_aug</th>\n",
       "      <td>0.93885</td>\n",
       "      <td>0.93955</td>\n",
       "      <td>0.93935</td>\n",
       "      <td>0.93875</td>\n",
       "      <td>0.9389</td>\n",
       "    </tr>\n",
       "    <tr>\n",
       "      <th>eta_aug</th>\n",
       "      <td>0.9406</td>\n",
       "      <td>0.9405</td>\n",
       "      <td>0.94015</td>\n",
       "      <td>0.94075</td>\n",
       "      <td>0.94025</td>\n",
       "    </tr>\n",
       "    <tr>\n",
       "      <th>drop_0.10</th>\n",
       "      <td>0.9406</td>\n",
       "      <td>0.94085</td>\n",
       "      <td>0.94115</td>\n",
       "      <td>0.94085</td>\n",
       "      <td>0.94005</td>\n",
       "    </tr>\n",
       "    <tr>\n",
       "      <th>drop_0.20</th>\n",
       "      <td>0.9415</td>\n",
       "      <td>0.94025</td>\n",
       "      <td>0.94115</td>\n",
       "      <td>0.9412</td>\n",
       "      <td>0.94135</td>\n",
       "    </tr>\n",
       "    <tr>\n",
       "      <th>drop_0.30</th>\n",
       "      <td>0.9402</td>\n",
       "      <td>0.94065</td>\n",
       "      <td>0.94125</td>\n",
       "      <td>0.9412</td>\n",
       "      <td>0.94075</td>\n",
       "    </tr>\n",
       "    <tr>\n",
       "      <th>drop_0.40</th>\n",
       "      <td>0.94</td>\n",
       "      <td>0.9403</td>\n",
       "      <td>0.9411</td>\n",
       "      <td>0.94115</td>\n",
       "      <td>0.94065</td>\n",
       "    </tr>\n",
       "    <tr>\n",
       "      <th>width_32</th>\n",
       "      <td>0.941</td>\n",
       "      <td>0.94015</td>\n",
       "      <td>0.9407</td>\n",
       "      <td>0.93995</td>\n",
       "      <td>0.941</td>\n",
       "    </tr>\n",
       "    <tr>\n",
       "      <th>width_64</th>\n",
       "      <td>0.9401</td>\n",
       "      <td>0.9401</td>\n",
       "      <td>0.9402</td>\n",
       "      <td>0.94105</td>\n",
       "      <td>0.93985</td>\n",
       "    </tr>\n",
       "    <tr>\n",
       "      <th>width_96</th>\n",
       "      <td>0.9405</td>\n",
       "      <td>0.94095</td>\n",
       "      <td>0.9405</td>\n",
       "      <td>0.94105</td>\n",
       "      <td>0.9415</td>\n",
       "    </tr>\n",
       "    <tr>\n",
       "      <th>depth_2</th>\n",
       "      <td>0.94125</td>\n",
       "      <td>0.94105</td>\n",
       "      <td>0.94085</td>\n",
       "      <td>0.9416</td>\n",
       "      <td>0.94125</td>\n",
       "    </tr>\n",
       "    <tr>\n",
       "      <th>depth_3</th>\n",
       "      <td>0.94075</td>\n",
       "      <td>0.9411</td>\n",
       "      <td>0.94185</td>\n",
       "      <td>0.9411</td>\n",
       "      <td>0.94175</td>\n",
       "    </tr>\n",
       "    <tr>\n",
       "      <th>depth_4</th>\n",
       "      <td>0.94165</td>\n",
       "      <td>0.9407</td>\n",
       "      <td>0.9412</td>\n",
       "      <td>0.94095</td>\n",
       "      <td>0.94155</td>\n",
       "    </tr>\n",
       "    <tr>\n",
       "      <th>trans_log</th>\n",
       "      <td>0.93945</td>\n",
       "      <td>0.94015</td>\n",
       "      <td>0.94075</td>\n",
       "      <td>0.9393</td>\n",
       "      <td>0.9404</td>\n",
       "    </tr>\n",
       "    <tr>\n",
       "      <th>trans_both</th>\n",
       "      <td>0.9425</td>\n",
       "      <td>0.94215</td>\n",
       "      <td>0.9415</td>\n",
       "      <td>0.9413</td>\n",
       "      <td>0.94205</td>\n",
       "    </tr>\n",
       "    <tr>\n",
       "      <th>nonlinearity_tanh</th>\n",
       "      <td>0.94105</td>\n",
       "      <td>0.94095</td>\n",
       "      <td>0.94105</td>\n",
       "      <td>0.94095</td>\n",
       "      <td>0.94095</td>\n",
       "    </tr>\n",
       "    <tr>\n",
       "      <th>nonlinearity_LReLU</th>\n",
       "      <td>0.9418</td>\n",
       "      <td>0.94125</td>\n",
       "      <td>0.9417</td>\n",
       "      <td>0.94225</td>\n",
       "      <td>0.94155</td>\n",
       "    </tr>\n",
       "    <tr>\n",
       "      <th>nonlinearity_KindaLReLU</th>\n",
       "      <td>0.94255</td>\n",
       "      <td>0.9419</td>\n",
       "      <td>0.94185</td>\n",
       "      <td>0.9415</td>\n",
       "      <td>0.9419</td>\n",
       "    </tr>\n",
       "    <tr>\n",
       "      <th>nonlinearity_VLReLU</th>\n",
       "      <td>0.94205</td>\n",
       "      <td>0.94205</td>\n",
       "      <td>0.9423</td>\n",
       "      <td>0.9418</td>\n",
       "      <td>0.9423</td>\n",
       "    </tr>\n",
       "    <tr>\n",
       "      <th>nonlinearity_PReLU</th>\n",
       "      <td>0.94195</td>\n",
       "      <td>0.942</td>\n",
       "      <td>0.94195</td>\n",
       "      <td>0.942</td>\n",
       "      <td>0.9419</td>\n",
       "    </tr>\n",
       "    <tr>\n",
       "      <th>nonlinearity_ELU</th>\n",
       "      <td>0.9413</td>\n",
       "      <td>0.94125</td>\n",
       "      <td>0.94115</td>\n",
       "      <td>0.9413</td>\n",
       "      <td>0.9408</td>\n",
       "    </tr>\n",
       "    <tr>\n",
       "      <th>optimizer_SGD</th>\n",
       "      <td>0.94135</td>\n",
       "      <td>0.941</td>\n",
       "      <td>0.9405</td>\n",
       "      <td>0.9413</td>\n",
       "      <td>0.94105</td>\n",
       "    </tr>\n",
       "    <tr>\n",
       "      <th>optimizer_RMSprop</th>\n",
       "      <td>0.9402</td>\n",
       "      <td>0.9404</td>\n",
       "      <td>0.9398</td>\n",
       "      <td>0.94</td>\n",
       "      <td>0.93985</td>\n",
       "    </tr>\n",
       "    <tr>\n",
       "      <th>optimizer_Adagrad</th>\n",
       "      <td>0.93865</td>\n",
       "      <td>0.9383</td>\n",
       "      <td>0.93805</td>\n",
       "      <td>0.9382</td>\n",
       "      <td>0.9379</td>\n",
       "    </tr>\n",
       "    <tr>\n",
       "      <th>batch_size_32</th>\n",
       "      <td>0.942</td>\n",
       "      <td>0.9423</td>\n",
       "      <td>0.94215</td>\n",
       "      <td>0.9424</td>\n",
       "      <td>0.9423</td>\n",
       "    </tr>\n",
       "    <tr>\n",
       "      <th>batch_size_128</th>\n",
       "      <td>0.9423</td>\n",
       "      <td>0.9428</td>\n",
       "      <td>0.9422</td>\n",
       "      <td>0.9422</td>\n",
       "      <td>0.94255</td>\n",
       "    </tr>\n",
       "    <tr>\n",
       "      <th>batch_size_256</th>\n",
       "      <td>0.9427</td>\n",
       "      <td>0.94245</td>\n",
       "      <td>0.94285</td>\n",
       "      <td>0.94265</td>\n",
       "      <td>0.94245</td>\n",
       "    </tr>\n",
       "    <tr>\n",
       "      <th>batch_size_500</th>\n",
       "      <td>0.94265</td>\n",
       "      <td>0.94295</td>\n",
       "      <td>0.9427</td>\n",
       "      <td>0.9428</td>\n",
       "      <td>0.94215</td>\n",
       "    </tr>\n",
       "    <tr>\n",
       "      <th>batch_size_1000</th>\n",
       "      <td>0.94205</td>\n",
       "      <td>0.9423</td>\n",
       "      <td>0.94235</td>\n",
       "      <td>0.94225</td>\n",
       "      <td>0.94295</td>\n",
       "    </tr>\n",
       "  </tbody>\n",
       "</table>\n",
       "</div>"
      ],
      "text/plain": [
       "                          Fold 1   Fold 2   Fold 3   Fold 4   Fold 5\n",
       "baseline                   0.935   0.9335   0.9353  0.93515  0.93585\n",
       "phi_aug                  0.93885  0.93955  0.93935  0.93875   0.9389\n",
       "eta_aug                   0.9406   0.9405  0.94015  0.94075  0.94025\n",
       "drop_0.10                 0.9406  0.94085  0.94115  0.94085  0.94005\n",
       "drop_0.20                 0.9415  0.94025  0.94115   0.9412  0.94135\n",
       "drop_0.30                 0.9402  0.94065  0.94125   0.9412  0.94075\n",
       "drop_0.40                   0.94   0.9403   0.9411  0.94115  0.94065\n",
       "width_32                   0.941  0.94015   0.9407  0.93995    0.941\n",
       "width_64                  0.9401   0.9401   0.9402  0.94105  0.93985\n",
       "width_96                  0.9405  0.94095   0.9405  0.94105   0.9415\n",
       "depth_2                  0.94125  0.94105  0.94085   0.9416  0.94125\n",
       "depth_3                  0.94075   0.9411  0.94185   0.9411  0.94175\n",
       "depth_4                  0.94165   0.9407   0.9412  0.94095  0.94155\n",
       "trans_log                0.93945  0.94015  0.94075   0.9393   0.9404\n",
       "trans_both                0.9425  0.94215   0.9415   0.9413  0.94205\n",
       "nonlinearity_tanh        0.94105  0.94095  0.94105  0.94095  0.94095\n",
       "nonlinearity_LReLU        0.9418  0.94125   0.9417  0.94225  0.94155\n",
       "nonlinearity_KindaLReLU  0.94255   0.9419  0.94185   0.9415   0.9419\n",
       "nonlinearity_VLReLU      0.94205  0.94205   0.9423   0.9418   0.9423\n",
       "nonlinearity_PReLU       0.94195    0.942  0.94195    0.942   0.9419\n",
       "nonlinearity_ELU          0.9413  0.94125  0.94115   0.9413   0.9408\n",
       "optimizer_SGD            0.94135    0.941   0.9405   0.9413  0.94105\n",
       "optimizer_RMSprop         0.9402   0.9404   0.9398     0.94  0.93985\n",
       "optimizer_Adagrad        0.93865   0.9383  0.93805   0.9382   0.9379\n",
       "batch_size_32              0.942   0.9423  0.94215   0.9424   0.9423\n",
       "batch_size_128            0.9423   0.9428   0.9422   0.9422  0.94255\n",
       "batch_size_256            0.9427  0.94245  0.94285  0.94265  0.94245\n",
       "batch_size_500           0.94265  0.94295   0.9427   0.9428  0.94215\n",
       "batch_size_1000          0.94205   0.9423  0.94235  0.94225  0.94295"
      ]
     },
     "execution_count": 22,
     "metadata": {
      "tags": []
     },
     "output_type": "execute_result"
    }
   ],
   "source": [
    "# read metrics\n",
    "# file names\n",
    "names = ['baseline', 'phi_aug', 'eta_aug',\n",
    "         'drop_0.10', 'drop_0.20', 'drop_0.30', 'drop_0.40',\n",
    "         'width_32', 'width_64', 'width_96',\n",
    "         'depth_2', 'depth_3', 'depth_4',\n",
    "         'trans_log', 'trans_both']\n",
    "# # nonlinearities\n",
    "labels = ['tanh', 'LReLU', 'KindaLReLU', 'VLReLU', 'PReLU', 'ELU']\n",
    "[names.append(\"nonlinearity_{}\".format(s)) for s in labels]\n",
    "# # optimizers\n",
    "optimizer_options = ['SGD', 'RMSprop', 'Adagrad']\n",
    "[names.append(\"optimizer_{}\".format(s)) for s in optimizer_options]\n",
    "# # batch sizes\n",
    "batch_size_options = [32, 128, 256, 500, 1000]\n",
    "[names.append(\"batch_size_{}\".format(s)) for s in batch_size_options]\n",
    "\n",
    "# load metrics\n",
    "cols = ['Fold {}'.format(i) for i in range(1, 5+1)]\n",
    "df_train = pd.DataFrame(index=names, columns=cols)\n",
    "df_val_final = pd.DataFrame(index=names, columns=cols)\n",
    "df_val_max = pd.DataFrame(index=names, columns=cols)\n",
    "for name in tqdm(names):\n",
    "    cv_train_accuracies, cv_val_accuracies, cv_max_val_accuracies = load_metrics(name)\n",
    "    df_train.loc[name] = cv_train_accuracies\n",
    "    df_val_final.loc[name] = cv_val_accuracies\n",
    "    df_val_max.loc[name] = cv_max_val_accuracies\n",
    "\n",
    "df_val_max"
   ]
  },
  {
   "cell_type": "code",
   "execution_count": 133,
   "metadata": {
    "colab": {
     "base_uri": "https://localhost:8080/",
     "height": 34
    },
    "colab_type": "code",
    "executionInfo": {
     "elapsed": 497,
     "status": "ok",
     "timestamp": 1585489067671,
     "user": {
      "displayName": "Joeran Bosma",
      "photoUrl": "https://lh3.googleusercontent.com/a-/AOh14GiEvCunvq33iGZ3RU-P9BMF7L60e8LoQ3Y1AfZJ4Q=s64",
      "userId": "05378465311079003812"
     },
     "user_tz": -120
    },
    "id": "SatuOEmrgjqj",
    "outputId": "80fcd05c-49c1-49ff-ba70-b9c184527902"
   },
   "outputs": [
    {
     "name": "stdout",
     "output_type": "stream",
     "text": [
      "Baseline max. val. acc.: 93.50% ± 0.09%\n"
     ]
    }
   ],
   "source": [
    "print(\"Baseline max. val. acc.: {:.2%} ± {:.2%}\".format(df_val_max.loc['baseline'].mean(), df_val_max.loc['baseline'].std()))"
   ]
  },
  {
   "cell_type": "markdown",
   "metadata": {},
   "source": [
    "### Best performing configurations"
   ]
  },
  {
   "cell_type": "code",
   "execution_count": 104,
   "metadata": {
    "colab": {
     "base_uri": "https://localhost:8080/",
     "height": 356
    },
    "colab_type": "code",
    "executionInfo": {
     "elapsed": 703,
     "status": "ok",
     "timestamp": 1585486371572,
     "user": {
      "displayName": "Joeran Bosma",
      "photoUrl": "https://lh3.googleusercontent.com/a-/AOh14GiEvCunvq33iGZ3RU-P9BMF7L60e8LoQ3Y1AfZJ4Q=s64",
      "userId": "05378465311079003812"
     },
     "user_tz": -120
    },
    "id": "skLOBP9GfLgS",
    "outputId": "c4920e79-63a9-4664-b7bf-57d7849a8f27"
   },
   "outputs": [
    {
     "data": {
      "image/png": "[encoded data removed]",
      "text/plain": [
       "<Figure size 720x360 with 1 Axes>"
      ]
     },
     "metadata": {
      "tags": []
     },
     "output_type": "display_data"
    }
   ],
   "source": [
    "cols = ['baseline', 'phi_aug', 'eta_aug', 'drop_0.20', 'depth_3', 'trans_both', 'nonlinearity_VLReLU', 'batch_size_256']\n",
    "accuracies = df_val_max.loc[cols].values.astype(float)\n",
    "labels = ['baseline', 'cyclical\\nazimuth', 'pseudor.\\ninversion', 'dropout\\n20%', 'arch.\\n$128^3$', 'trans.\\nboth', 'LeakyReLU\\n$\\\\alpha=0.3$', 'batch\\nsize 256']\n",
    "plot_accuracy_gain(accuracies, labels, baseline=0, fn='master')"
   ]
  },
  {
   "cell_type": "code",
   "execution_count": 105,
   "metadata": {
    "colab": {
     "base_uri": "https://localhost:8080/",
     "height": 356
    },
    "colab_type": "code",
    "executionInfo": {
     "elapsed": 775,
     "status": "ok",
     "timestamp": 1585486374909,
     "user": {
      "displayName": "Joeran Bosma",
      "photoUrl": "https://lh3.googleusercontent.com/a-/AOh14GiEvCunvq33iGZ3RU-P9BMF7L60e8LoQ3Y1AfZJ4Q=s64",
      "userId": "05378465311079003812"
     },
     "user_tz": -120
    },
    "id": "7vO6ND6WRb--",
    "outputId": "68f1b769-3423-47ea-ad8a-78f96d5176b3"
   },
   "outputs": [
    {
     "data": {
      "image/png": "[encoded data removed]",
      "text/plain": [
       "<Figure size 720x360 with 1 Axes>"
      ]
     },
     "metadata": {
      "tags": []
     },
     "output_type": "display_data"
    }
   ],
   "source": [
    "cols = ['baseline', 'phi_aug', 'eta_aug', 'drop_0.20', 'depth_3']\n",
    "accuracies = df_val_max.loc[cols].values.astype(float)\n",
    "labels = ['baseline', 'cyclical\\nazimuth', 'pseudorapidity\\ninversion', 'dropout\\n20%', 'architecture\\n$128^3$']\n",
    "plot_accuracy_gain(accuracies, labels, baseline=0, fn='master_1')"
   ]
  },
  {
   "cell_type": "code",
   "execution_count": 131,
   "metadata": {
    "colab": {
     "base_uri": "https://localhost:8080/",
     "height": 356
    },
    "colab_type": "code",
    "executionInfo": {
     "elapsed": 767,
     "status": "ok",
     "timestamp": 1585486672419,
     "user": {
      "displayName": "Joeran Bosma",
      "photoUrl": "https://lh3.googleusercontent.com/a-/AOh14GiEvCunvq33iGZ3RU-P9BMF7L60e8LoQ3Y1AfZJ4Q=s64",
      "userId": "05378465311079003812"
     },
     "user_tz": -120
    },
    "id": "hvYBceDlRXkH",
    "outputId": "1a4308da-be42-4497-909b-d4b189507999"
   },
   "outputs": [
    {
     "data": {
      "image/png": "[encoded data removed]",
      "text/plain": [
       "<Figure size 720x360 with 1 Axes>"
      ]
     },
     "metadata": {
      "tags": []
     },
     "output_type": "display_data"
    }
   ],
   "source": [
    "cols = ['depth_3', 'trans_both', 'nonlinearity_VLReLU', 'batch_size_256']\n",
    "accuracies = df_val_max.loc[cols].values.astype(float)\n",
    "labels = ['architecture\\n$128^3$', 'transformation\\nboth', 'nonlinearity\\nLeakyReLU(0.3)', 'batch size\\n256']\n",
    "plot_accuracy_gain(accuracies, labels, baseline=0, fn='master_2')"
   ]
  },
  {
   "cell_type": "markdown",
   "metadata": {
    "colab_type": "text",
    "id": "fdBh0cUpH9oj"
   },
   "source": [
    "### Sweeps: max. validation accuracy"
   ]
  },
  {
   "cell_type": "code",
   "execution_count": 119,
   "metadata": {
    "colab": {
     "base_uri": "https://localhost:8080/",
     "height": 356
    },
    "colab_type": "code",
    "executionInfo": {
     "elapsed": 945,
     "status": "ok",
     "timestamp": 1585486525462,
     "user": {
      "displayName": "Joeran Bosma",
      "photoUrl": "https://lh3.googleusercontent.com/a-/AOh14GiEvCunvq33iGZ3RU-P9BMF7L60e8LoQ3Y1AfZJ4Q=s64",
      "userId": "05378465311079003812"
     },
     "user_tz": -120
    },
    "id": "qrEqWnWEH-ns",
    "outputId": "f2b8cc06-d870-4102-a620-a8a14d095edb"
   },
   "outputs": [
    {
     "data": {
      "image/png": "[encoded data removed]",
      "text/plain": [
       "<Figure size 720x360 with 1 Axes>"
      ]
     },
     "metadata": {
      "tags": []
     },
     "output_type": "display_data"
    }
   ],
   "source": [
    "cols = ['eta_aug', 'drop_0.10', 'drop_0.20', 'drop_0.30', 'drop_0.40']\n",
    "accuracies = df_val_max.loc[cols].values.astype(float)\n",
    "labels = ['no dropout', '$10\\%$', '$20\\%$', '$30\\%$', '$40\\%$']\n",
    "plot_accuracy_gain(accuracies, labels, baseline=0, fn='sweep_dropout')"
   ]
  },
  {
   "cell_type": "code",
   "execution_count": 120,
   "metadata": {
    "colab": {
     "base_uri": "https://localhost:8080/",
     "height": 356
    },
    "colab_type": "code",
    "executionInfo": {
     "elapsed": 1068,
     "status": "ok",
     "timestamp": 1585486525764,
     "user": {
      "displayName": "Joeran Bosma",
      "photoUrl": "https://lh3.googleusercontent.com/a-/AOh14GiEvCunvq33iGZ3RU-P9BMF7L60e8LoQ3Y1AfZJ4Q=s64",
      "userId": "05378465311079003812"
     },
     "user_tz": -120
    },
    "id": "E88hK3SuIyrF",
    "outputId": "9f553b2f-6399-469e-94ef-17b4ea3d49e6"
   },
   "outputs": [
    {
     "data": {
      "image/png": "[encoded data removed]",
      "text/plain": [
       "<Figure size 720x360 with 1 Axes>"
      ]
     },
     "metadata": {
      "tags": []
     },
     "output_type": "display_data"
    }
   ],
   "source": [
    "cols = ['width_32', 'width_64', 'width_96', 'drop_0.20', 'depth_2', 'depth_3', 'depth_4']\n",
    "accuracies = df_val_max.loc[cols].values.astype(float)\n",
    "labels = ['$32^5$', '$64^5$', '$96^5$', '$128^5$', '$128^2$', '$128^3$', '$128^4$']\n",
    "plot_accuracy_gain(accuracies, labels, baseline=3, fn='sweep_architecture')"
   ]
  },
  {
   "cell_type": "code",
   "execution_count": 121,
   "metadata": {
    "colab": {
     "base_uri": "https://localhost:8080/",
     "height": 356
    },
    "colab_type": "code",
    "executionInfo": {
     "elapsed": 1079,
     "status": "ok",
     "timestamp": 1585486526056,
     "user": {
      "displayName": "Joeran Bosma",
      "photoUrl": "https://lh3.googleusercontent.com/a-/AOh14GiEvCunvq33iGZ3RU-P9BMF7L60e8LoQ3Y1AfZJ4Q=s64",
      "userId": "05378465311079003812"
     },
     "user_tz": -120
    },
    "id": "H7RgBiyNJv_4",
    "outputId": "4403be33-ebd8-40f7-b83e-b36cbd6877b3"
   },
   "outputs": [
    {
     "data": {
      "image/png": "[encoded data removed]",
      "text/plain": [
       "<Figure size 720x360 with 1 Axes>"
      ]
     },
     "metadata": {
      "tags": []
     },
     "output_type": "display_data"
    }
   ],
   "source": [
    "cols = ['depth_3', 'trans_log', 'trans_both']\n",
    "accuracies = df_val_max.loc[cols].values.astype(float)\n",
    "labels = ['plain', 'log', 'both']\n",
    "plot_accuracy_gain(accuracies, labels, baseline=0, fn='sweep_transformation')"
   ]
  },
  {
   "cell_type": "code",
   "execution_count": 122,
   "metadata": {
    "colab": {
     "base_uri": "https://localhost:8080/",
     "height": 356
    },
    "colab_type": "code",
    "executionInfo": {
     "elapsed": 1353,
     "status": "ok",
     "timestamp": 1585486526391,
     "user": {
      "displayName": "Joeran Bosma",
      "photoUrl": "https://lh3.googleusercontent.com/a-/AOh14GiEvCunvq33iGZ3RU-P9BMF7L60e8LoQ3Y1AfZJ4Q=s64",
      "userId": "05378465311079003812"
     },
     "user_tz": -120
    },
    "id": "50SaQJpoJ8bU",
    "outputId": "1c8b6092-03ab-42dc-fba0-47e743845ecc"
   },
   "outputs": [
    {
     "data": {
      "image/png": "[encoded data removed]",
      "text/plain": [
       "<Figure size 720x360 with 1 Axes>"
      ]
     },
     "metadata": {
      "tags": []
     },
     "output_type": "display_data"
    }
   ],
   "source": [
    "cols = ['trans_both']\n",
    "[cols.append(\"nonlinearity_{}\".format(s)) for s in ['tanh', 'LReLU', 'KindaLReLU', 'VLReLU', 'PReLU', 'ELU']]\n",
    "accuracies = df_val_max.loc[cols].values.astype(float)\n",
    "labels = ['ReLU', 'tanh', 'LReLU', 'KLReLU', 'VLReLU', 'PReLU', 'ELU']\n",
    "plot_accuracy_gain(accuracies, labels, baseline=0, fn='sweep_nonlinearity')"
   ]
  },
  {
   "cell_type": "code",
   "execution_count": 123,
   "metadata": {
    "colab": {
     "base_uri": "https://localhost:8080/",
     "height": 356
    },
    "colab_type": "code",
    "executionInfo": {
     "elapsed": 1129,
     "status": "ok",
     "timestamp": 1585486526391,
     "user": {
      "displayName": "Joeran Bosma",
      "photoUrl": "https://lh3.googleusercontent.com/a-/AOh14GiEvCunvq33iGZ3RU-P9BMF7L60e8LoQ3Y1AfZJ4Q=s64",
      "userId": "05378465311079003812"
     },
     "user_tz": -120
    },
    "id": "Dl6CHUByNox5",
    "outputId": "50205725-e0db-47d4-805a-926c0abf9131"
   },
   "outputs": [
    {
     "data": {
      "image/png": "[encoded data removed]",
      "text/plain": [
       "<Figure size 720x360 with 1 Axes>"
      ]
     },
     "metadata": {
      "tags": []
     },
     "output_type": "display_data"
    }
   ],
   "source": [
    "\n",
    "cols = ['nonlinearity_VLReLU', 'optimizer_RMSprop', 'optimizer_Adagrad', 'optimizer_SGD']\n",
    "accuracies = df_val_max.loc[cols].values.astype(float)\n",
    "labels = ['Adam', 'RMSprop', 'Adagrad', 'SGD']\n",
    "plot_accuracy_gain(accuracies, labels, baseline=0, fn='sweep_optimizer')"
   ]
  },
  {
   "cell_type": "code",
   "execution_count": 124,
   "metadata": {
    "colab": {
     "base_uri": "https://localhost:8080/",
     "height": 356
    },
    "colab_type": "code",
    "executionInfo": {
     "elapsed": 1295,
     "status": "ok",
     "timestamp": 1585486526667,
     "user": {
      "displayName": "Joeran Bosma",
      "photoUrl": "https://lh3.googleusercontent.com/a-/AOh14GiEvCunvq33iGZ3RU-P9BMF7L60e8LoQ3Y1AfZJ4Q=s64",
      "userId": "05378465311079003812"
     },
     "user_tz": -120
    },
    "id": "bGnkWHPuOnjv",
    "outputId": "5732e085-60a5-4493-b4ae-4c044f32f6e4"
   },
   "outputs": [
    {
     "data": {
      "image/png": "[encoded data removed]",
      "text/plain": [
       "<Figure size 720x360 with 1 Axes>"
      ]
     },
     "metadata": {
      "tags": []
     },
     "output_type": "display_data"
    }
   ],
   "source": [
    "cols = ['batch_size_32', 'nonlinearity_VLReLU', 'batch_size_128', 'batch_size_256', 'batch_size_500', 'batch_size_1000']\n",
    "accuracies = df_val_max.loc[cols].values.astype(float)\n",
    "labels = ['32', '64', '128', '256', '500', '1000']\n",
    "plot_accuracy_gain(accuracies, labels, baseline=0, fn='sweep_batch_size')"
   ]
  },
  {
   "cell_type": "markdown",
   "metadata": {
    "colab_type": "text",
    "id": "HbTLeMKJWw2j"
   },
   "source": [
    "### Sweeps: final epoch validation accuracy"
   ]
  },
  {
   "cell_type": "code",
   "execution_count": 125,
   "metadata": {
    "colab": {
     "base_uri": "https://localhost:8080/",
     "height": 356
    },
    "colab_type": "code",
    "executionInfo": {
     "elapsed": 671,
     "status": "ok",
     "timestamp": 1585486535683,
     "user": {
      "displayName": "Joeran Bosma",
      "photoUrl": "https://lh3.googleusercontent.com/a-/AOh14GiEvCunvq33iGZ3RU-P9BMF7L60e8LoQ3Y1AfZJ4Q=s64",
      "userId": "05378465311079003812"
     },
     "user_tz": -120
    },
    "id": "P1utuMyMWw2l",
    "outputId": "e464cf4d-2645-46bd-abd3-9e308cd4dabf"
   },
   "outputs": [
    {
     "data": {
      "image/png": "[encoded data removed]",
      "text/plain": [
       "<Figure size 720x360 with 1 Axes>"
      ]
     },
     "metadata": {
      "tags": []
     },
     "output_type": "display_data"
    }
   ],
   "source": [
    "cols = ['eta_aug', 'drop_0.10', 'drop_0.20', 'drop_0.30', 'drop_0.40']\n",
    "accuracies = df_val_final.loc[cols].values.astype(float)\n",
    "labels = ['no dropout', '$10\\%$', '$20\\%$', '$30\\%$', '$40\\%$']\n",
    "plot_accuracy_gain(accuracies, labels, baseline=0, fn='sweep_dropout_finalep')"
   ]
  },
  {
   "cell_type": "code",
   "execution_count": 126,
   "metadata": {
    "colab": {
     "base_uri": "https://localhost:8080/",
     "height": 356
    },
    "colab_type": "code",
    "executionInfo": {
     "elapsed": 881,
     "status": "ok",
     "timestamp": 1585486538205,
     "user": {
      "displayName": "Joeran Bosma",
      "photoUrl": "https://lh3.googleusercontent.com/a-/AOh14GiEvCunvq33iGZ3RU-P9BMF7L60e8LoQ3Y1AfZJ4Q=s64",
      "userId": "05378465311079003812"
     },
     "user_tz": -120
    },
    "id": "vLY9VhZPWw2p",
    "outputId": "c101da08-00a3-4880-dd3f-7268d1aceb47"
   },
   "outputs": [
    {
     "data": {
      "image/png": "[encoded data removed]",
      "text/plain": [
       "<Figure size 720x360 with 1 Axes>"
      ]
     },
     "metadata": {
      "tags": []
     },
     "output_type": "display_data"
    }
   ],
   "source": [
    "cols = ['width_32', 'width_64', 'width_96', 'drop_0.20', 'depth_2', 'depth_3', 'depth_4']\n",
    "accuracies = df_val_final.loc[cols].values.astype(float)\n",
    "labels = ['$32^5$', '$64^5$', '$96^5$', '$128^5$', '$128^2$', '$128^3$', '$128^4$']\n",
    "plot_accuracy_gain(accuracies, labels, baseline=3, fn='sweep_architecture_finalep')"
   ]
  },
  {
   "cell_type": "code",
   "execution_count": 127,
   "metadata": {
    "colab": {
     "base_uri": "https://localhost:8080/",
     "height": 356
    },
    "colab_type": "code",
    "executionInfo": {
     "elapsed": 731,
     "status": "ok",
     "timestamp": 1585486540634,
     "user": {
      "displayName": "Joeran Bosma",
      "photoUrl": "https://lh3.googleusercontent.com/a-/AOh14GiEvCunvq33iGZ3RU-P9BMF7L60e8LoQ3Y1AfZJ4Q=s64",
      "userId": "05378465311079003812"
     },
     "user_tz": -120
    },
    "id": "iRwJ9dpbWw2r",
    "outputId": "1bc28854-cde6-4932-deb3-448aeb30aa03"
   },
   "outputs": [
    {
     "data": {
      "image/png": "[encoded data removed]",
      "text/plain": [
       "<Figure size 720x360 with 1 Axes>"
      ]
     },
     "metadata": {
      "tags": []
     },
     "output_type": "display_data"
    }
   ],
   "source": [
    "cols = ['depth_3', 'trans_log', 'trans_both']\n",
    "accuracies = df_val_final.loc[cols].values.astype(float)\n",
    "labels = ['plain', 'log', 'both']\n",
    "plot_accuracy_gain(accuracies, labels, baseline=0, fn='sweep_transformation_finalep')"
   ]
  },
  {
   "cell_type": "code",
   "execution_count": 128,
   "metadata": {
    "colab": {
     "base_uri": "https://localhost:8080/",
     "height": 356
    },
    "colab_type": "code",
    "executionInfo": {
     "elapsed": 682,
     "status": "ok",
     "timestamp": 1585486543319,
     "user": {
      "displayName": "Joeran Bosma",
      "photoUrl": "https://lh3.googleusercontent.com/a-/AOh14GiEvCunvq33iGZ3RU-P9BMF7L60e8LoQ3Y1AfZJ4Q=s64",
      "userId": "05378465311079003812"
     },
     "user_tz": -120
    },
    "id": "uF9giiKKWw2t",
    "outputId": "aee3eac3-f13c-4723-8ce6-37491d25c98b"
   },
   "outputs": [
    {
     "data": {
      "image/png": "[encoded data removed]",
      "text/plain": [
       "<Figure size 720x360 with 1 Axes>"
      ]
     },
     "metadata": {
      "tags": []
     },
     "output_type": "display_data"
    }
   ],
   "source": [
    "cols = ['trans_both']\n",
    "[cols.append(\"nonlinearity_{}\".format(s)) for s in ['tanh', 'LReLU', 'KindaLReLU', 'VLReLU', 'PReLU', 'ELU']]\n",
    "accuracies = df_val_final.loc[cols].values.astype(float)\n",
    "labels = ['ReLU', 'tanh', 'LReLU', 'KLReLU', 'VLReLU', 'PReLU', 'ELU']\n",
    "plot_accuracy_gain(accuracies, labels, baseline=0, fn='sweep_nonlinearity_finalep')"
   ]
  },
  {
   "cell_type": "code",
   "execution_count": 129,
   "metadata": {
    "colab": {
     "base_uri": "https://localhost:8080/",
     "height": 356
    },
    "colab_type": "code",
    "executionInfo": {
     "elapsed": 690,
     "status": "ok",
     "timestamp": 1585486545518,
     "user": {
      "displayName": "Joeran Bosma",
      "photoUrl": "https://lh3.googleusercontent.com/a-/AOh14GiEvCunvq33iGZ3RU-P9BMF7L60e8LoQ3Y1AfZJ4Q=s64",
      "userId": "05378465311079003812"
     },
     "user_tz": -120
    },
    "id": "ern5sAktWw2v",
    "outputId": "293d0151-7edb-4851-8ce0-296d92ce05dd"
   },
   "outputs": [
    {
     "data": {
      "image/png": "[encoded data removed]",
      "text/plain": [
       "<Figure size 720x360 with 1 Axes>"
      ]
     },
     "metadata": {
      "tags": []
     },
     "output_type": "display_data"
    }
   ],
   "source": [
    "cols = ['nonlinearity_VLReLU', 'optimizer_RMSprop', 'optimizer_Adagrad', 'optimizer_SGD']\n",
    "accuracies = df_val_final.loc[cols].values.astype(float)\n",
    "labels = ['Adam', 'RMSprop', 'Adagrad', 'SGD']\n",
    "plot_accuracy_gain(accuracies, labels, baseline=0, fn='sweep_optimizer_finalep')"
   ]
  },
  {
   "cell_type": "code",
   "execution_count": 130,
   "metadata": {
    "colab": {
     "base_uri": "https://localhost:8080/",
     "height": 356
    },
    "colab_type": "code",
    "executionInfo": {
     "elapsed": 689,
     "status": "ok",
     "timestamp": 1585486548035,
     "user": {
      "displayName": "Joeran Bosma",
      "photoUrl": "https://lh3.googleusercontent.com/a-/AOh14GiEvCunvq33iGZ3RU-P9BMF7L60e8LoQ3Y1AfZJ4Q=s64",
      "userId": "05378465311079003812"
     },
     "user_tz": -120
    },
    "id": "BEEeZPj5Ww2x",
    "outputId": "729d6ec9-b2c6-48ea-d1e8-5e1acf7c48f1"
   },
   "outputs": [
    {
     "data": {
      "image/png": "[encoded data removed]",
      "text/plain": [
       "<Figure size 720x360 with 1 Axes>"
      ]
     },
     "metadata": {
      "tags": []
     },
     "output_type": "display_data"
    }
   ],
   "source": [
    "cols = ['batch_size_32', 'nonlinearity_VLReLU', 'batch_size_128', 'batch_size_256', 'batch_size_500', 'batch_size_1000']\n",
    "accuracies = df_val_final.loc[cols].values.astype(float)\n",
    "labels = ['32', '64', '128', '256', '500', '1000']\n",
    "plot_accuracy_gain(accuracies, labels, baseline=0, fn='sweep_batch_size_finalep')"
   ]
  }
 ],
 "metadata": {
  "accelerator": "GPU",
  "colab": {
   "collapsed_sections": [],
   "name": "ML4PPA - Final - Joeran Bosma - Symmetries.ipynb",
   "provenance": [
    {
     "file_id": "1lMw1y4fnw_7L_bfKv-44EAcJu-RGmaYS",
     "timestamp": 1580659165216
    }
   ],
   "toc_visible": true
  },
  "kernelspec": {
   "display_name": "Python 3",
   "language": "python",
   "name": "python3"
  },
  "language_info": {
   "codemirror_mode": {
    "name": "ipython",
    "version": 3
   },
   "file_extension": ".py",
   "mimetype": "text/x-python",
   "name": "python",
   "nbconvert_exporter": "python",
   "pygments_lexer": "ipython3",
   "version": "3.7.6"
  }
 },
 "nbformat": 4,
 "nbformat_minor": 1
}
