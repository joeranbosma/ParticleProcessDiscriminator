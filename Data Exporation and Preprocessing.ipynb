{
 "cells": [
  {
   "cell_type": "markdown",
   "metadata": {
    "colab_type": "text",
    "id": "Rlfob2S5g-_z"
   },
   "source": [
    "#### Preparation"
   ]
  },
  {
   "cell_type": "code",
   "execution_count": 1,
   "metadata": {
    "ExecuteTime": {
     "end_time": "2020-02-01T16:01:58.246237Z",
     "start_time": "2020-02-01T16:01:56.443095Z"
    },
    "colab": {
     "base_uri": "https://localhost:8080/",
     "height": 51
    },
    "colab_type": "code",
    "executionInfo": {
     "elapsed": 1183,
     "status": "ok",
     "timestamp": 1586042181460,
     "user": {
      "displayName": "Joeran Bosma",
      "photoUrl": "https://lh3.googleusercontent.com/a-/AOh14GiEvCunvq33iGZ3RU-P9BMF7L60e8LoQ3Y1AfZJ4Q=s64",
      "userId": "05378465311079003812"
     },
     "user_tz": -120
    },
    "id": "PLOGLG3Gpjpc",
    "outputId": "8f3113a3-231e-4141-8c6d-e3971c184759"
   },
   "outputs": [],
   "source": [
    "# (basic) dependencies\n",
    "import pandas as pd\n",
    "import matplotlib.pyplot as plt\n",
    "import numpy as np\n",
    "import seaborn as sns\n",
    "from tqdm import tqdm as tqdm"
   ]
  },
  {
   "cell_type": "code",
   "execution_count": 2,
   "metadata": {
    "colab": {
     "base_uri": "https://localhost:8080/",
     "height": 34
    },
    "colab_type": "code",
    "executionInfo": {
     "elapsed": 20984,
     "status": "ok",
     "timestamp": 1586042201291,
     "user": {
      "displayName": "Joeran Bosma",
      "photoUrl": "https://lh3.googleusercontent.com/a-/AOh14GiEvCunvq33iGZ3RU-P9BMF7L60e8LoQ3Y1AfZJ4Q=s64",
      "userId": "05378465311079003812"
     },
     "user_tz": -120
    },
    "id": "UoZDXeIxvTrC",
    "outputId": "95c5529b-6c3e-46c3-a754-19a1180b7762"
   },
   "outputs": [
    {
     "name": "stdout",
     "output_type": "stream",
     "text": [
      "Folders ['data', 'models', 'figures', 'results'] are available. \n"
     ]
    }
   ],
   "source": [
    "\"\"\"Create the required folders: `data`, `models`, `figures` and `results`. \"\"\"\n",
    "import os\n",
    "# create required folders\n",
    "folders = ['data', 'models', 'figures', 'results']\n",
    "for folder_path in folders:\n",
    "    if not os.path.exists(folder_path):\n",
    "        os.makedirs(folder_path)\n",
    "print(\"Folders {} are available. \".format(folders))"
   ]
  },
  {
   "cell_type": "markdown",
   "metadata": {
    "colab_type": "text",
    "id": "qmONLkKspjpl"
   },
   "source": [
    "# Particle Process Discriminator - Data Exporation and Preprocessing"
   ]
  },
  {
   "cell_type": "code",
   "execution_count": 3,
   "metadata": {
    "ExecuteTime": {
     "end_time": "2020-02-01T16:02:05.645062Z",
     "start_time": "2020-02-01T16:01:58.251169Z"
    },
    "colab": {
     "base_uri": "https://localhost:8080/",
     "height": 334
    },
    "colab_type": "code",
    "executionInfo": {
     "elapsed": 28267,
     "status": "ok",
     "timestamp": 1586042208584,
     "user": {
      "displayName": "Joeran Bosma",
      "photoUrl": "https://lh3.googleusercontent.com/a-/AOh14GiEvCunvq33iGZ3RU-P9BMF7L60e8LoQ3Y1AfZJ4Q=s64",
      "userId": "05378465311079003812"
     },
     "user_tz": -120
    },
    "id": "iMry22RApjpm",
    "outputId": "2dc3297b-32cb-40d7-83d9-90e80edcc3b3"
   },
   "outputs": [
    {
     "data": {
      "text/html": [
       "<div>\n",
       "<style scoped>\n",
       "    .dataframe tbody tr th:only-of-type {\n",
       "        vertical-align: middle;\n",
       "    }\n",
       "\n",
       "    .dataframe tbody tr th {\n",
       "        vertical-align: top;\n",
       "    }\n",
       "\n",
       "    .dataframe thead th {\n",
       "        text-align: right;\n",
       "    }\n",
       "</style>\n",
       "<table border=\"1\" class=\"dataframe\">\n",
       "  <thead>\n",
       "    <tr style=\"text-align: right;\">\n",
       "      <th></th>\n",
       "      <th>event weight</th>\n",
       "      <th>MET</th>\n",
       "      <th>METphi</th>\n",
       "      <th>E1</th>\n",
       "      <th>pt1</th>\n",
       "      <th>eta1</th>\n",
       "      <th>phi1</th>\n",
       "      <th>E2</th>\n",
       "      <th>pt2</th>\n",
       "      <th>eta2</th>\n",
       "      <th>...</th>\n",
       "      <th>eta16</th>\n",
       "      <th>phi16</th>\n",
       "      <th>E17</th>\n",
       "      <th>pt17</th>\n",
       "      <th>eta17</th>\n",
       "      <th>phi17</th>\n",
       "      <th>E18</th>\n",
       "      <th>pt18</th>\n",
       "      <th>eta18</th>\n",
       "      <th>phi18</th>\n",
       "    </tr>\n",
       "  </thead>\n",
       "  <tbody>\n",
       "    <tr>\n",
       "      <th>count</th>\n",
       "      <td>1.000000e+05</td>\n",
       "      <td>1.000000e+05</td>\n",
       "      <td>100000.000000</td>\n",
       "      <td>9.999700e+04</td>\n",
       "      <td>9.999700e+04</td>\n",
       "      <td>99997.000000</td>\n",
       "      <td>99997.000000</td>\n",
       "      <td>9.992600e+04</td>\n",
       "      <td>9.992600e+04</td>\n",
       "      <td>99926.000000</td>\n",
       "      <td>...</td>\n",
       "      <td>27.000000</td>\n",
       "      <td>27.000000</td>\n",
       "      <td>5.000000</td>\n",
       "      <td>5.000000</td>\n",
       "      <td>5.000000</td>\n",
       "      <td>5.000000</td>\n",
       "      <td>1.0</td>\n",
       "      <td>1.0</td>\n",
       "      <td>1.000000</td>\n",
       "      <td>1.00000</td>\n",
       "    </tr>\n",
       "    <tr>\n",
       "      <th>mean</th>\n",
       "      <td>2.768161e-03</td>\n",
       "      <td>6.555098e+04</td>\n",
       "      <td>-0.002388</td>\n",
       "      <td>3.277655e+05</td>\n",
       "      <td>1.545569e+05</td>\n",
       "      <td>-0.003555</td>\n",
       "      <td>0.007387</td>\n",
       "      <td>2.502158e+05</td>\n",
       "      <td>1.077661e+05</td>\n",
       "      <td>0.002952</td>\n",
       "      <td>...</td>\n",
       "      <td>0.211409</td>\n",
       "      <td>0.035686</td>\n",
       "      <td>156263.780000</td>\n",
       "      <td>50542.640000</td>\n",
       "      <td>-1.153199</td>\n",
       "      <td>0.969473</td>\n",
       "      <td>27954.3</td>\n",
       "      <td>26642.3</td>\n",
       "      <td>0.244475</td>\n",
       "      <td>-1.76296</td>\n",
       "    </tr>\n",
       "    <tr>\n",
       "      <th>std</th>\n",
       "      <td>6.546279e-03</td>\n",
       "      <td>6.264809e+04</td>\n",
       "      <td>1.815031</td>\n",
       "      <td>2.992857e+05</td>\n",
       "      <td>1.123455e+05</td>\n",
       "      <td>1.350584</td>\n",
       "      <td>1.810318</td>\n",
       "      <td>2.563849e+05</td>\n",
       "      <td>7.614375e+04</td>\n",
       "      <td>1.422386</td>\n",
       "      <td>...</td>\n",
       "      <td>1.918930</td>\n",
       "      <td>1.716581</td>\n",
       "      <td>166601.271942</td>\n",
       "      <td>54383.872168</td>\n",
       "      <td>1.691099</td>\n",
       "      <td>1.246147</td>\n",
       "      <td>NaN</td>\n",
       "      <td>NaN</td>\n",
       "      <td>NaN</td>\n",
       "      <td>NaN</td>\n",
       "    </tr>\n",
       "    <tr>\n",
       "      <th>min</th>\n",
       "      <td>1.931320e-07</td>\n",
       "      <td>1.574180e+02</td>\n",
       "      <td>-3.141550</td>\n",
       "      <td>2.089250e+04</td>\n",
       "      <td>1.838530e+04</td>\n",
       "      <td>-4.856300</td>\n",
       "      <td>-3.141520</td>\n",
       "      <td>1.087540e+04</td>\n",
       "      <td>1.007280e+04</td>\n",
       "      <td>-4.788360</td>\n",
       "      <td>...</td>\n",
       "      <td>-3.939780</td>\n",
       "      <td>-2.555390</td>\n",
       "      <td>32726.900000</td>\n",
       "      <td>23929.500000</td>\n",
       "      <td>-3.514450</td>\n",
       "      <td>-0.453093</td>\n",
       "      <td>27954.3</td>\n",
       "      <td>26642.3</td>\n",
       "      <td>0.244475</td>\n",
       "      <td>-1.76296</td>\n",
       "    </tr>\n",
       "    <tr>\n",
       "      <th>25%</th>\n",
       "      <td>1.676350e-03</td>\n",
       "      <td>2.466452e+04</td>\n",
       "      <td>-1.577830</td>\n",
       "      <td>1.371900e+05</td>\n",
       "      <td>8.806960e+04</td>\n",
       "      <td>-0.987878</td>\n",
       "      <td>-1.553980</td>\n",
       "      <td>9.961972e+04</td>\n",
       "      <td>6.373630e+04</td>\n",
       "      <td>-1.009580</td>\n",
       "      <td>...</td>\n",
       "      <td>-0.932385</td>\n",
       "      <td>-1.320945</td>\n",
       "      <td>33950.000000</td>\n",
       "      <td>24275.200000</td>\n",
       "      <td>-2.145130</td>\n",
       "      <td>0.262300</td>\n",
       "      <td>27954.3</td>\n",
       "      <td>26642.3</td>\n",
       "      <td>0.244475</td>\n",
       "      <td>-1.76296</td>\n",
       "    </tr>\n",
       "    <tr>\n",
       "      <th>50%</th>\n",
       "      <td>1.676960e-03</td>\n",
       "      <td>4.691390e+04</td>\n",
       "      <td>-0.001953</td>\n",
       "      <td>2.262300e+05</td>\n",
       "      <td>1.196960e+05</td>\n",
       "      <td>-0.003297</td>\n",
       "      <td>0.008066</td>\n",
       "      <td>1.640690e+05</td>\n",
       "      <td>8.635380e+04</td>\n",
       "      <td>-0.002509</td>\n",
       "      <td>...</td>\n",
       "      <td>0.418514</td>\n",
       "      <td>-0.510212</td>\n",
       "      <td>103791.000000</td>\n",
       "      <td>25866.300000</td>\n",
       "      <td>-0.862300</td>\n",
       "      <td>0.573726</td>\n",
       "      <td>27954.3</td>\n",
       "      <td>26642.3</td>\n",
       "      <td>0.244475</td>\n",
       "      <td>-1.76296</td>\n",
       "    </tr>\n",
       "    <tr>\n",
       "      <th>75%</th>\n",
       "      <td>1.677790e-03</td>\n",
       "      <td>8.535605e+04</td>\n",
       "      <td>1.571882</td>\n",
       "      <td>4.073950e+05</td>\n",
       "      <td>1.774540e+05</td>\n",
       "      <td>0.987178</td>\n",
       "      <td>1.571920</td>\n",
       "      <td>2.999222e+05</td>\n",
       "      <td>1.248410e+05</td>\n",
       "      <td>1.014055</td>\n",
       "      <td>...</td>\n",
       "      <td>1.488130</td>\n",
       "      <td>1.224580</td>\n",
       "      <td>175907.000000</td>\n",
       "      <td>30944.200000</td>\n",
       "      <td>0.147273</td>\n",
       "      <td>1.818640</td>\n",
       "      <td>27954.3</td>\n",
       "      <td>26642.3</td>\n",
       "      <td>0.244475</td>\n",
       "      <td>-1.76296</td>\n",
       "    </tr>\n",
       "    <tr>\n",
       "      <th>max</th>\n",
       "      <td>3.350260e-02</td>\n",
       "      <td>1.016650e+06</td>\n",
       "      <td>3.141470</td>\n",
       "      <td>3.783780e+06</td>\n",
       "      <td>1.768980e+06</td>\n",
       "      <td>4.796060</td>\n",
       "      <td>3.141590</td>\n",
       "      <td>4.379710e+06</td>\n",
       "      <td>1.687820e+06</td>\n",
       "      <td>4.810550</td>\n",
       "      <td>...</td>\n",
       "      <td>3.283520</td>\n",
       "      <td>3.140950</td>\n",
       "      <td>434944.000000</td>\n",
       "      <td>147698.000000</td>\n",
       "      <td>0.608614</td>\n",
       "      <td>2.645790</td>\n",
       "      <td>27954.3</td>\n",
       "      <td>26642.3</td>\n",
       "      <td>0.244475</td>\n",
       "      <td>-1.76296</td>\n",
       "    </tr>\n",
       "  </tbody>\n",
       "</table>\n",
       "<p>8 rows × 75 columns</p>\n",
       "</div>"
      ],
      "text/plain": [
       "       event weight           MET         METphi            E1           pt1  \\\n",
       "count  1.000000e+05  1.000000e+05  100000.000000  9.999700e+04  9.999700e+04   \n",
       "mean   2.768161e-03  6.555098e+04      -0.002388  3.277655e+05  1.545569e+05   \n",
       "std    6.546279e-03  6.264809e+04       1.815031  2.992857e+05  1.123455e+05   \n",
       "min    1.931320e-07  1.574180e+02      -3.141550  2.089250e+04  1.838530e+04   \n",
       "25%    1.676350e-03  2.466452e+04      -1.577830  1.371900e+05  8.806960e+04   \n",
       "50%    1.676960e-03  4.691390e+04      -0.001953  2.262300e+05  1.196960e+05   \n",
       "75%    1.677790e-03  8.535605e+04       1.571882  4.073950e+05  1.774540e+05   \n",
       "max    3.350260e-02  1.016650e+06       3.141470  3.783780e+06  1.768980e+06   \n",
       "\n",
       "               eta1          phi1            E2           pt2          eta2  \\\n",
       "count  99997.000000  99997.000000  9.992600e+04  9.992600e+04  99926.000000   \n",
       "mean      -0.003555      0.007387  2.502158e+05  1.077661e+05      0.002952   \n",
       "std        1.350584      1.810318  2.563849e+05  7.614375e+04      1.422386   \n",
       "min       -4.856300     -3.141520  1.087540e+04  1.007280e+04     -4.788360   \n",
       "25%       -0.987878     -1.553980  9.961972e+04  6.373630e+04     -1.009580   \n",
       "50%       -0.003297      0.008066  1.640690e+05  8.635380e+04     -0.002509   \n",
       "75%        0.987178      1.571920  2.999222e+05  1.248410e+05      1.014055   \n",
       "max        4.796060      3.141590  4.379710e+06  1.687820e+06      4.810550   \n",
       "\n",
       "       ...      eta16      phi16            E17           pt17     eta17  \\\n",
       "count  ...  27.000000  27.000000       5.000000       5.000000  5.000000   \n",
       "mean   ...   0.211409   0.035686  156263.780000   50542.640000 -1.153199   \n",
       "std    ...   1.918930   1.716581  166601.271942   54383.872168  1.691099   \n",
       "min    ...  -3.939780  -2.555390   32726.900000   23929.500000 -3.514450   \n",
       "25%    ...  -0.932385  -1.320945   33950.000000   24275.200000 -2.145130   \n",
       "50%    ...   0.418514  -0.510212  103791.000000   25866.300000 -0.862300   \n",
       "75%    ...   1.488130   1.224580  175907.000000   30944.200000  0.147273   \n",
       "max    ...   3.283520   3.140950  434944.000000  147698.000000  0.608614   \n",
       "\n",
       "          phi17      E18     pt18     eta18    phi18  \n",
       "count  5.000000      1.0      1.0  1.000000  1.00000  \n",
       "mean   0.969473  27954.3  26642.3  0.244475 -1.76296  \n",
       "std    1.246147      NaN      NaN       NaN      NaN  \n",
       "min   -0.453093  27954.3  26642.3  0.244475 -1.76296  \n",
       "25%    0.262300  27954.3  26642.3  0.244475 -1.76296  \n",
       "50%    0.573726  27954.3  26642.3  0.244475 -1.76296  \n",
       "75%    1.818640  27954.3  26642.3  0.244475 -1.76296  \n",
       "max    2.645790  27954.3  26642.3  0.244475 -1.76296  \n",
       "\n",
       "[8 rows x 75 columns]"
      ]
     },
     "execution_count": 3,
     "metadata": {},
     "output_type": "execute_result"
    }
   ],
   "source": [
    "# construct column names for n objects (empty columns are trimmed later on)\n",
    "max_num_objects = 25 # have one event with 18 objects, add some for compality (and a weird seperator issue)\n",
    "col_names = ['event ID', 'process ID', 'event weight', 'MET', 'METphi']\n",
    "[col_names.extend([\"obj{}\".format(i), \"E{}\".format(i), \n",
    "                   \"pt{}\".format(i), \"eta{}\".format(i), \n",
    "                   \"phi{}\".format(i)]) for i in range(1, 1+max_num_objects)]\n",
    "\n",
    "# load the train and validation data\n",
    "# two delimiters are used: ';' and ','\n",
    "# the latter seperates the object-specific quantities\n",
    "# the regex delimiter below splits the data completely\n",
    "data = pd.read_csv(\"data/TrainingValidationData.csv\", header=None, index_col=0,\n",
    "                    names=col_names, sep=\"[,;]\", engine='python')\n",
    "\n",
    "# filter all-NaN columns (i.e. trim unused object columns)\n",
    "mask = data.isna().all() # columns will all NaN\n",
    "data = data.loc[:, ~mask]\n",
    "col_names = data.columns\n",
    "\n",
    "# describe data set\n",
    "data.describe()"
   ]
  },
  {
   "cell_type": "markdown",
   "metadata": {
    "colab_type": "text",
    "id": "oAgmELD3pjpt"
   },
   "source": [
    "**Convert target label to true/false**  \n",
    "A '4top' event is a positive event, while 'ttbar' is background. "
   ]
  },
  {
   "cell_type": "code",
   "execution_count": 4,
   "metadata": {
    "ExecuteTime": {
     "end_time": "2020-02-01T16:02:05.722185Z",
     "start_time": "2020-02-01T16:02:05.648778Z"
    },
    "colab": {},
    "colab_type": "code",
    "id": "QbAd800Wpjpu"
   },
   "outputs": [],
   "source": [
    "data['target'] = (data['process ID'] == '4top')\n",
    "data['target'].value_counts()\n",
    "\n",
    "# drop original column\n",
    "data.drop(['process ID'], axis=1, inplace=True)"
   ]
  },
  {
   "cell_type": "code",
   "execution_count": 5,
   "metadata": {
    "colab": {
     "base_uri": "https://localhost:8080/",
     "height": 68
    },
    "colab_type": "code",
    "executionInfo": {
     "elapsed": 1099,
     "status": "ok",
     "timestamp": 1586042208585,
     "user": {
      "displayName": "Joeran Bosma",
      "photoUrl": "https://lh3.googleusercontent.com/a-/AOh14GiEvCunvq33iGZ3RU-P9BMF7L60e8LoQ3Y1AfZJ4Q=s64",
      "userId": "05378465311079003812"
     },
     "user_tz": -120
    },
    "id": "GwtUErKWuBYW",
    "outputId": "2297d7aa-cc16-4d33-ebbb-ed56e75a40a1"
   },
   "outputs": [
    {
     "data": {
      "text/plain": [
       "False    83300\n",
       "True     16700\n",
       "Name: target, dtype: int64"
      ]
     },
     "execution_count": 5,
     "metadata": {},
     "output_type": "execute_result"
    }
   ],
   "source": [
    "data['target'].value_counts()"
   ]
  },
  {
   "cell_type": "code",
   "execution_count": 6,
   "metadata": {
    "colab": {
     "base_uri": "https://localhost:8080/",
     "height": 34
    },
    "colab_type": "code",
    "executionInfo": {
     "elapsed": 791,
     "status": "ok",
     "timestamp": 1586042208586,
     "user": {
      "displayName": "Joeran Bosma",
      "photoUrl": "https://lh3.googleusercontent.com/a-/AOh14GiEvCunvq33iGZ3RU-P9BMF7L60e8LoQ3Y1AfZJ4Q=s64",
      "userId": "05378465311079003812"
     },
     "user_tz": -120
    },
    "id": "TN5roSf0uG-b",
    "outputId": "ace59953-e352-47ca-8869-852348f798f8"
   },
   "outputs": [
    {
     "name": "stdout",
     "output_type": "stream",
     "text": [
      "Baseline accuracy (random guessing with statistics/always predict background): 0.833\n"
     ]
    }
   ],
   "source": [
    "counts = data['target'].value_counts()\n",
    "print(\"Baseline accuracy (random guessing with statistics/always predict background): {}\".format( counts.max() / (data.index.size) ))"
   ]
  },
  {
   "cell_type": "markdown",
   "metadata": {
    "colab_type": "text",
    "id": "qUHKR1xMpjp4"
   },
   "source": [
    "## Correlations between input features\n",
    "Show features of event-level and first three objects, and target label. "
   ]
  },
  {
   "cell_type": "code",
   "execution_count": 7,
   "metadata": {
    "ExecuteTime": {
     "end_time": "2020-02-01T16:02:06.664192Z",
     "start_time": "2020-02-01T16:02:05.736225Z"
    },
    "colab": {
     "base_uri": "https://localhost:8080/",
     "height": 432
    },
    "colab_type": "code",
    "executionInfo": {
     "elapsed": 2670,
     "status": "ok",
     "timestamp": 1585053925515,
     "user": {
      "displayName": "Joeran Bosma",
      "photoUrl": "https://lh3.googleusercontent.com/a-/AOh14GiEvCunvq33iGZ3RU-P9BMF7L60e8LoQ3Y1AfZJ4Q=s64",
      "userId": "05378465311079003812"
     },
     "user_tz": -60
    },
    "id": "rMv3AFSkpjp5",
    "outputId": "dada966c-aa7c-47a8-d0f3-78516507ec53"
   },
   "outputs": [
    {
     "data": {
      "image/png": "[encoded data removed]",
      "text/plain": [
       "<Figure size 720x504 with 2 Axes>"
      ]
     },
     "metadata": {
      "needs_background": "light"
     },
     "output_type": "display_data"
    }
   ],
   "source": [
    "f, ax = plt.subplots(1, 1, figsize = (10, 7))\n",
    "corr = data.filter(regex='MET|[a-z][1-3]$|target').corr() # change second number to include more/less objects\n",
    "sns.heatmap(corr, xticklabels=corr.columns, yticklabels=corr.columns, center=0)\n",
    "plt.show()"
   ]
  },
  {
   "cell_type": "markdown",
   "metadata": {
    "colab_type": "text",
    "id": "th6Q7fOspjp-"
   },
   "source": [
    "As can be seen, several features have high correlation between eachother. Furthermore, the 'missing' energy MET and transverse momenta seem to have relatively high correlation with the target label. These quantities also have high correlation between eachother, so a (very) basic distriminator would not need all of these. "
   ]
  },
  {
   "cell_type": "markdown",
   "metadata": {
    "colab_type": "text",
    "id": "UNKX6ac5pjqA"
   },
   "source": [
    "## Distribution of features with high correlation with the target label\n",
    "The distribution of features from background events are plotted with another color. "
   ]
  },
  {
   "cell_type": "code",
   "execution_count": 8,
   "metadata": {
    "ExecuteTime": {
     "end_time": "2020-02-01T16:02:10.595186Z",
     "start_time": "2020-02-01T16:02:06.667125Z"
    },
    "colab": {
     "base_uri": "https://localhost:8080/",
     "height": 868
    },
    "colab_type": "code",
    "executionInfo": {
     "elapsed": 3411,
     "status": "ok",
     "timestamp": 1585053928045,
     "user": {
      "displayName": "Joeran Bosma",
      "photoUrl": "https://lh3.googleusercontent.com/a-/AOh14GiEvCunvq33iGZ3RU-P9BMF7L60e8LoQ3Y1AfZJ4Q=s64",
      "userId": "05378465311079003812"
     },
     "user_tz": -60
    },
    "id": "4ZPZv7b0pjqB",
    "outputId": "28ad14c2-ea56-47b8-eea8-3efd5f2250ba",
    "scrolled": false
   },
   "outputs": [
    {
     "name": "stdout",
     "output_type": "stream",
     "text": [
      "Plotting Index(['pt4', 'pt3', 'pt5'], dtype='object')\n"
     ]
    },
    {
     "data": {
      "image/png": "[encoded data removed]",
      "text/plain": [
       "<Figure size 432x288 with 1 Axes>"
      ]
     },
     "metadata": {
      "needs_background": "light"
     },
     "output_type": "display_data"
    },
    {
     "data": {
      "image/png": "[encoded data removed]",
      "text/plain": [
       "<Figure size 432x288 with 1 Axes>"
      ]
     },
     "metadata": {
      "needs_background": "light"
     },
     "output_type": "display_data"
    },
    {
     "data": {
      "image/png": "[encoded data removed]",
      "text/plain": [
       "<Figure size 432x288 with 1 Axes>"
      ]
     },
     "metadata": {
      "needs_background": "light"
     },
     "output_type": "display_data"
    }
   ],
   "source": [
    "# sns.pairplot(train) # takes too long \n",
    "\n",
    "# calculate correlations and select the features with highest correlation with the target label\n",
    "# only include features with at least 2000 non-NaN values\n",
    "mask = ((~data.isna()).sum() > 2000)\n",
    "corr = data.loc[:,mask].corr()\n",
    "corr_target = corr['target']\n",
    "corr_target = corr_target.abs().sort_values(ascending=False)\n",
    "highcor_labels = corr_target.index[1:3+1]\n",
    "print(\"Plotting\", highcor_labels)\n",
    "\n",
    "for col in highcor_labels:\n",
    "    for label in [0, 1]:\n",
    "        # select relevant columns from events of either background/signal\n",
    "        labels = ['background', '4-top']\n",
    "        mask = (data['target'] == label)\n",
    "        # filter NaN \n",
    "        target_data = data.loc[mask, col]\n",
    "        mask = target_data.isna()\n",
    "        # plot distribution\n",
    "        sns.distplot(target_data.loc[~mask], kde=False, label=labels[label])\n",
    "    \n",
    "    plt.legend()\n",
    "    plt.title(\"Distribution of {}\".format(col))\n",
    "    plt.ylabel(\"Counts\")\n",
    "    plt.show()"
   ]
  },
  {
   "cell_type": "markdown",
   "metadata": {
    "colab_type": "text",
    "id": "rC4OPzBgpjqI"
   },
   "source": [
    "The transverse momentum quantities seem to be important for discriminating the 4-top event. As can be seen above, the distributions have long tails, possibly benefitting from a log-transformation before being used as input. This is probably most important when employing neural networks. "
   ]
  },
  {
   "cell_type": "markdown",
   "metadata": {
    "colab_type": "text",
    "id": "dvBRfs3opjqJ"
   },
   "source": [
    "## Feature engineering: log-transform for quantities with long tails\n",
    "As pointed out, the pt columns have long tails. The MET and E columns also have long tails (not shown). "
   ]
  },
  {
   "cell_type": "code",
   "execution_count": 9,
   "metadata": {
    "ExecuteTime": {
     "end_time": "2020-02-01T16:02:10.722758Z",
     "start_time": "2020-02-01T16:02:10.598676Z"
    },
    "colab": {
     "base_uri": "https://localhost:8080/",
     "height": 54
    },
    "colab_type": "code",
    "executionInfo": {
     "elapsed": 725,
     "status": "ok",
     "timestamp": 1586042213427,
     "user": {
      "displayName": "Joeran Bosma",
      "photoUrl": "https://lh3.googleusercontent.com/a-/AOh14GiEvCunvq33iGZ3RU-P9BMF7L60e8LoQ3Y1AfZJ4Q=s64",
      "userId": "05378465311079003812"
     },
     "user_tz": -120
    },
    "id": "fhmyA_hkpjqK",
    "outputId": "05c52417-055f-4b0a-c1cd-6dc5b586c7ed"
   },
   "outputs": [
    {
     "name": "stdout",
     "output_type": "stream",
     "text": [
      "Taking log of ['MET', 'E1', 'pt1', 'E2', 'pt2', 'E3', 'pt3', 'E4', 'pt4', 'E5', 'pt5', 'E6', 'pt6', 'E7', 'pt7', 'E8', 'pt8', 'E9', 'pt9', 'E10', 'pt10', 'E11', 'pt11', 'E12', 'pt12', 'E13', 'pt13', 'E14', 'pt14', 'E15', 'pt15', 'E16', 'pt16', 'E17', 'pt17', 'E18', 'pt18', 'E19', 'pt19', 'E20', 'pt20', 'E21', 'pt21', 'E22', 'pt22', 'E23', 'pt23', 'E24', 'pt24', 'E25', 'pt25'] (if available)\n"
     ]
    }
   ],
   "source": [
    "# create list of MET, E1, pt1, E2, pt2, ...\n",
    "logtransform_features = ['MET']\n",
    "[logtransform_features.extend(['E{}'.format(i), 'pt{}'.format(i)])\n",
    "    for i in range(1, 1+max_num_objects)]\n",
    "\n",
    "print(\"Taking log of {} (if available)\".format(logtransform_features))\n",
    "\n",
    "for i, feat in enumerate(logtransform_features):\n",
    "    if feat in data.columns:\n",
    "        data['{}_log'.format(feat)] = np.log(data[feat])"
   ]
  },
  {
   "cell_type": "code",
   "execution_count": 10,
   "metadata": {
    "colab": {
     "base_uri": "https://localhost:8080/",
     "height": 232
    },
    "colab_type": "code",
    "executionInfo": {
     "elapsed": 824,
     "status": "error",
     "timestamp": 1586042213754,
     "user": {
      "displayName": "Joeran Bosma",
      "photoUrl": "https://lh3.googleusercontent.com/a-/AOh14GiEvCunvq33iGZ3RU-P9BMF7L60e8LoQ3Y1AfZJ4Q=s64",
      "userId": "05378465311079003812"
     },
     "user_tz": -120
    },
    "id": "QM562IgbT8fn",
    "outputId": "00f4f731-a151-453c-8946-7e0a58c38137"
   },
   "outputs": [
    {
     "data": {
      "image/png": "[encoded data removed]",
      "text/plain": [
       "<Figure size 432x288 with 1 Axes>"
      ]
     },
     "metadata": {
      "needs_background": "light"
     },
     "output_type": "display_data"
    },
    {
     "data": {
      "image/png": "[encoded data removed]",
      "text/plain": [
       "<Figure size 432x288 with 1 Axes>"
      ]
     },
     "metadata": {
      "needs_background": "light"
     },
     "output_type": "display_data"
    },
    {
     "data": {
      "image/png": "[encoded data removed]",
      "text/plain": [
       "<Figure size 432x288 with 1 Axes>"
      ]
     },
     "metadata": {
      "needs_background": "light"
     },
     "output_type": "display_data"
    }
   ],
   "source": [
    "for col in highcor_labels:\n",
    "    for label in [0, 1]:\n",
    "        # select relevant columns from events of either background/signal\n",
    "        labels = ['background', '4-top']\n",
    "        mask = (data['target'] == label)\n",
    "        # filter NaN \n",
    "        target_data = data.loc[mask, \"{}_log\".format(col)]\n",
    "        mask = target_data.isna()\n",
    "        # plot distribution\n",
    "        sns.distplot(target_data.loc[~mask], kde=False, label=labels[label])\n",
    "    \n",
    "    plt.legend()\n",
    "    plt.title(\"Transformed distribution of {}\".format(col))\n",
    "    plt.ylabel(\"Counts\")\n",
    "    plt.show()"
   ]
  },
  {
   "cell_type": "markdown",
   "metadata": {
    "colab_type": "text",
    "id": "ou1yMda_pjqO"
   },
   "source": [
    "## Convert categorical columns to one-hot encoding\n",
    "The obj columns contain the identifier of the object, e.g. electron (e), photon (p), muon (m), ...\n",
    "These strings pose a problem for neural networks, and should not interfere with decision trees. "
   ]
  },
  {
   "cell_type": "code",
   "execution_count": 11,
   "metadata": {
    "ExecuteTime": {
     "end_time": "2020-02-01T16:02:18.225060Z",
     "start_time": "2020-02-01T16:02:10.727746Z"
    },
    "colab": {
     "base_uri": "https://localhost:8080/",
     "height": 725
    },
    "colab_type": "code",
    "executionInfo": {
     "elapsed": 3291,
     "status": "ok",
     "timestamp": 1586042218293,
     "user": {
      "displayName": "Joeran Bosma",
      "photoUrl": "https://lh3.googleusercontent.com/a-/AOh14GiEvCunvq33iGZ3RU-P9BMF7L60e8LoQ3Y1AfZJ4Q=s64",
      "userId": "05378465311079003812"
     },
     "user_tz": -120
    },
    "id": "foPOtQnWpjqQ",
    "outputId": "234d9ca7-f9fe-48f0-83e8-b78c998a7e2c"
   },
   "outputs": [
    {
     "name": "stdout",
     "output_type": "stream",
     "text": [
      "Converting obj1 to one-hot encoding\n",
      "Converting obj2 to one-hot encoding\n",
      "Converting obj3 to one-hot encoding\n",
      "Converting obj4 to one-hot encoding\n",
      "Converting obj5 to one-hot encoding\n",
      "Converting obj6 to one-hot encoding\n",
      "Converting obj7 to one-hot encoding\n",
      "Converting obj8 to one-hot encoding\n",
      "Converting obj9 to one-hot encoding\n",
      "Converting obj10 to one-hot encoding\n",
      "Converting obj11 to one-hot encoding\n",
      "Converting obj12 to one-hot encoding\n",
      "Converting obj13 to one-hot encoding\n",
      "Converting obj14 to one-hot encoding\n",
      "Converting obj15 to one-hot encoding\n",
      "Converting obj16 to one-hot encoding\n",
      "Converting obj17 to one-hot encoding\n",
      "Converting obj18 to one-hot encoding\n"
     ]
    },
    {
     "data": {
      "text/html": [
       "<div>\n",
       "<style scoped>\n",
       "    .dataframe tbody tr th:only-of-type {\n",
       "        vertical-align: middle;\n",
       "    }\n",
       "\n",
       "    .dataframe tbody tr th {\n",
       "        vertical-align: top;\n",
       "    }\n",
       "\n",
       "    .dataframe thead th {\n",
       "        text-align: right;\n",
       "    }\n",
       "</style>\n",
       "<table border=\"1\" class=\"dataframe\">\n",
       "  <thead>\n",
       "    <tr style=\"text-align: right;\">\n",
       "      <th></th>\n",
       "      <th>count</th>\n",
       "      <th>mean</th>\n",
       "      <th>std</th>\n",
       "      <th>min</th>\n",
       "      <th>25%</th>\n",
       "      <th>50%</th>\n",
       "      <th>75%</th>\n",
       "      <th>max</th>\n",
       "    </tr>\n",
       "  </thead>\n",
       "  <tbody>\n",
       "    <tr>\n",
       "      <th>obj18_j</th>\n",
       "      <td>100000.0</td>\n",
       "      <td>0.000010</td>\n",
       "      <td>0.003162</td>\n",
       "      <td>0.000000</td>\n",
       "      <td>0.000000</td>\n",
       "      <td>0.000000</td>\n",
       "      <td>0.000000</td>\n",
       "      <td>1.000000</td>\n",
       "    </tr>\n",
       "    <tr>\n",
       "      <th>obj17_b</th>\n",
       "      <td>100000.0</td>\n",
       "      <td>0.000020</td>\n",
       "      <td>0.004472</td>\n",
       "      <td>0.000000</td>\n",
       "      <td>0.000000</td>\n",
       "      <td>0.000000</td>\n",
       "      <td>0.000000</td>\n",
       "      <td>1.000000</td>\n",
       "    </tr>\n",
       "    <tr>\n",
       "      <th>obj17_j</th>\n",
       "      <td>100000.0</td>\n",
       "      <td>0.000020</td>\n",
       "      <td>0.004472</td>\n",
       "      <td>0.000000</td>\n",
       "      <td>0.000000</td>\n",
       "      <td>0.000000</td>\n",
       "      <td>0.000000</td>\n",
       "      <td>1.000000</td>\n",
       "    </tr>\n",
       "    <tr>\n",
       "      <th>obj17_m-</th>\n",
       "      <td>100000.0</td>\n",
       "      <td>0.000010</td>\n",
       "      <td>0.003162</td>\n",
       "      <td>0.000000</td>\n",
       "      <td>0.000000</td>\n",
       "      <td>0.000000</td>\n",
       "      <td>0.000000</td>\n",
       "      <td>1.000000</td>\n",
       "    </tr>\n",
       "    <tr>\n",
       "      <th>obj16_b</th>\n",
       "      <td>100000.0</td>\n",
       "      <td>0.000010</td>\n",
       "      <td>0.003162</td>\n",
       "      <td>0.000000</td>\n",
       "      <td>0.000000</td>\n",
       "      <td>0.000000</td>\n",
       "      <td>0.000000</td>\n",
       "      <td>1.000000</td>\n",
       "    </tr>\n",
       "    <tr>\n",
       "      <th>...</th>\n",
       "      <td>...</td>\n",
       "      <td>...</td>\n",
       "      <td>...</td>\n",
       "      <td>...</td>\n",
       "      <td>...</td>\n",
       "      <td>...</td>\n",
       "      <td>...</td>\n",
       "      <td>...</td>\n",
       "    </tr>\n",
       "    <tr>\n",
       "      <th>pt16_log</th>\n",
       "      <td>27.0</td>\n",
       "      <td>10.381184</td>\n",
       "      <td>0.420251</td>\n",
       "      <td>10.026413</td>\n",
       "      <td>10.121113</td>\n",
       "      <td>10.176712</td>\n",
       "      <td>10.429934</td>\n",
       "      <td>11.571685</td>\n",
       "    </tr>\n",
       "    <tr>\n",
       "      <th>E17_log</th>\n",
       "      <td>5.0</td>\n",
       "      <td>11.487883</td>\n",
       "      <td>1.105996</td>\n",
       "      <td>10.395953</td>\n",
       "      <td>10.432644</td>\n",
       "      <td>11.550135</td>\n",
       "      <td>12.077711</td>\n",
       "      <td>12.982973</td>\n",
       "    </tr>\n",
       "    <tr>\n",
       "      <th>pt17_log</th>\n",
       "      <td>5.0</td>\n",
       "      <td>10.516728</td>\n",
       "      <td>0.781630</td>\n",
       "      <td>10.082867</td>\n",
       "      <td>10.097211</td>\n",
       "      <td>10.160696</td>\n",
       "      <td>10.339941</td>\n",
       "      <td>11.902925</td>\n",
       "    </tr>\n",
       "    <tr>\n",
       "      <th>E18_log</th>\n",
       "      <td>1.0</td>\n",
       "      <td>10.238326</td>\n",
       "      <td>NaN</td>\n",
       "      <td>10.238326</td>\n",
       "      <td>10.238326</td>\n",
       "      <td>10.238326</td>\n",
       "      <td>10.238326</td>\n",
       "      <td>10.238326</td>\n",
       "    </tr>\n",
       "    <tr>\n",
       "      <th>pt18_log</th>\n",
       "      <td>1.0</td>\n",
       "      <td>10.190255</td>\n",
       "      <td>NaN</td>\n",
       "      <td>10.190255</td>\n",
       "      <td>10.190255</td>\n",
       "      <td>10.190255</td>\n",
       "      <td>10.190255</td>\n",
       "      <td>10.190255</td>\n",
       "    </tr>\n",
       "  </tbody>\n",
       "</table>\n",
       "<p>228 rows × 8 columns</p>\n",
       "</div>"
      ],
      "text/plain": [
       "             count       mean       std        min        25%        50%  \\\n",
       "obj18_j   100000.0   0.000010  0.003162   0.000000   0.000000   0.000000   \n",
       "obj17_b   100000.0   0.000020  0.004472   0.000000   0.000000   0.000000   \n",
       "obj17_j   100000.0   0.000020  0.004472   0.000000   0.000000   0.000000   \n",
       "obj17_m-  100000.0   0.000010  0.003162   0.000000   0.000000   0.000000   \n",
       "obj16_b   100000.0   0.000010  0.003162   0.000000   0.000000   0.000000   \n",
       "...            ...        ...       ...        ...        ...        ...   \n",
       "pt16_log      27.0  10.381184  0.420251  10.026413  10.121113  10.176712   \n",
       "E17_log        5.0  11.487883  1.105996  10.395953  10.432644  11.550135   \n",
       "pt17_log       5.0  10.516728  0.781630  10.082867  10.097211  10.160696   \n",
       "E18_log        1.0  10.238326       NaN  10.238326  10.238326  10.238326   \n",
       "pt18_log       1.0  10.190255       NaN  10.190255  10.190255  10.190255   \n",
       "\n",
       "                75%        max  \n",
       "obj18_j    0.000000   1.000000  \n",
       "obj17_b    0.000000   1.000000  \n",
       "obj17_j    0.000000   1.000000  \n",
       "obj17_m-   0.000000   1.000000  \n",
       "obj16_b    0.000000   1.000000  \n",
       "...             ...        ...  \n",
       "pt16_log  10.429934  11.571685  \n",
       "E17_log   12.077711  12.982973  \n",
       "pt17_log  10.339941  11.902925  \n",
       "E18_log   10.238326  10.238326  \n",
       "pt18_log  10.190255  10.190255  \n",
       "\n",
       "[228 rows x 8 columns]"
      ]
     },
     "execution_count": 11,
     "metadata": {},
     "output_type": "execute_result"
    }
   ],
   "source": [
    "one_hot_columns = ['obj{}'.format(i) for i in range(1, 1+max_num_objects)]\n",
    "df = data\n",
    "\n",
    "for col in one_hot_columns:\n",
    "    if col in df.columns:\n",
    "        print(\"Converting {} to one-hot encoding\".format(col))\n",
    "        # convert to one-hot encoding\n",
    "        onehot = pd.get_dummies(df[col], prefix=col)\n",
    "        \n",
    "        # merge with dataset\n",
    "        df = pd.merge(onehot, df, left_index=True, right_index=True)\n",
    "        # df.drop(col, axis=1, inplace=True)\n",
    "\n",
    "data = df\n",
    "df.describe().transpose()"
   ]
  },
  {
   "cell_type": "markdown",
   "metadata": {
    "colab_type": "text",
    "id": "b2HYl-Y5Lhxf"
   },
   "source": [
    "## Alternative: convert categorical to numerical categories"
   ]
  },
  {
   "cell_type": "code",
   "execution_count": 12,
   "metadata": {
    "colab": {
     "base_uri": "https://localhost:8080/",
     "height": 51
    },
    "colab_type": "code",
    "executionInfo": {
     "elapsed": 1666,
     "status": "ok",
     "timestamp": 1586042218602,
     "user": {
      "displayName": "Joeran Bosma",
      "photoUrl": "https://lh3.googleusercontent.com/a-/AOh14GiEvCunvq33iGZ3RU-P9BMF7L60e8LoQ3Y1AfZJ4Q=s64",
      "userId": "05378465311079003812"
     },
     "user_tz": -120
    },
    "id": "KNH39HGaTXet",
    "outputId": "23fab4ec-4e71-4ccb-fe6d-e1ea7b658859"
   },
   "outputs": [
    {
     "name": "stdout",
     "output_type": "stream",
     "text": [
      "Converting obj features: \n",
      "{'b': 0, 'e+': 1, 'e-': 2, 'g': 3, 'j': 4, 'm+': 5, 'm-': 6}\n"
     ]
    }
   ],
   "source": [
    "vals = np.ravel(data.filter(regex='obj\\d+$').values).astype('str') # select obj1, obj2, .., but not obj1_b columns\n",
    "labels = np.unique([v for v in vals if v != 'None' and v != 'nan']) # select unique occurences, not being nonsense\n",
    "label_conv = {labels[i]: i for i in range(len(labels))} # create mapping value -> num\n",
    "print(\"Converting obj features: \\n{}\".format(label_conv))"
   ]
  },
  {
   "cell_type": "markdown",
   "metadata": {
    "colab_type": "text",
    "id": "t5KtT8cuWiPW"
   },
   "source": [
    "Additionally, NaN values are mapped to -1. "
   ]
  },
  {
   "cell_type": "code",
   "execution_count": 13,
   "metadata": {
    "colab": {
     "base_uri": "https://localhost:8080/",
     "height": 725
    },
    "colab_type": "code",
    "executionInfo": {
     "elapsed": 2466,
     "status": "ok",
     "timestamp": 1586042220252,
     "user": {
      "displayName": "Joeran Bosma",
      "photoUrl": "https://lh3.googleusercontent.com/a-/AOh14GiEvCunvq33iGZ3RU-P9BMF7L60e8LoQ3Y1AfZJ4Q=s64",
      "userId": "05378465311079003812"
     },
     "user_tz": -120
    },
    "id": "cvm5wsjITEy5",
    "outputId": "04c49a3c-379a-4ad6-9a78-c7d6d686ed98"
   },
   "outputs": [
    {
     "name": "stdout",
     "output_type": "stream",
     "text": [
      "Converting obj1 to numerical encoding\n",
      "Converting obj2 to numerical encoding\n",
      "Converting obj3 to numerical encoding\n",
      "Converting obj4 to numerical encoding\n",
      "Converting obj5 to numerical encoding\n",
      "Converting obj6 to numerical encoding\n",
      "Converting obj7 to numerical encoding\n",
      "Converting obj8 to numerical encoding\n",
      "Converting obj9 to numerical encoding\n",
      "Converting obj10 to numerical encoding\n",
      "Converting obj11 to numerical encoding\n",
      "Converting obj12 to numerical encoding\n",
      "Converting obj13 to numerical encoding\n",
      "Converting obj14 to numerical encoding\n",
      "Converting obj15 to numerical encoding\n",
      "Converting obj16 to numerical encoding\n",
      "Converting obj17 to numerical encoding\n",
      "Converting obj18 to numerical encoding\n"
     ]
    },
    {
     "data": {
      "text/html": [
       "<div>\n",
       "<style scoped>\n",
       "    .dataframe tbody tr th:only-of-type {\n",
       "        vertical-align: middle;\n",
       "    }\n",
       "\n",
       "    .dataframe tbody tr th {\n",
       "        vertical-align: top;\n",
       "    }\n",
       "\n",
       "    .dataframe thead th {\n",
       "        text-align: right;\n",
       "    }\n",
       "</style>\n",
       "<table border=\"1\" class=\"dataframe\">\n",
       "  <thead>\n",
       "    <tr style=\"text-align: right;\">\n",
       "      <th></th>\n",
       "      <th>count</th>\n",
       "      <th>mean</th>\n",
       "      <th>std</th>\n",
       "      <th>min</th>\n",
       "      <th>25%</th>\n",
       "      <th>50%</th>\n",
       "      <th>75%</th>\n",
       "      <th>max</th>\n",
       "    </tr>\n",
       "  </thead>\n",
       "  <tbody>\n",
       "    <tr>\n",
       "      <th>obj18_j</th>\n",
       "      <td>100000.0</td>\n",
       "      <td>0.00001</td>\n",
       "      <td>0.003162</td>\n",
       "      <td>0.0</td>\n",
       "      <td>0.0</td>\n",
       "      <td>0.0</td>\n",
       "      <td>0.0</td>\n",
       "      <td>1.0</td>\n",
       "    </tr>\n",
       "    <tr>\n",
       "      <th>obj17_b</th>\n",
       "      <td>100000.0</td>\n",
       "      <td>0.00002</td>\n",
       "      <td>0.004472</td>\n",
       "      <td>0.0</td>\n",
       "      <td>0.0</td>\n",
       "      <td>0.0</td>\n",
       "      <td>0.0</td>\n",
       "      <td>1.0</td>\n",
       "    </tr>\n",
       "    <tr>\n",
       "      <th>obj17_j</th>\n",
       "      <td>100000.0</td>\n",
       "      <td>0.00002</td>\n",
       "      <td>0.004472</td>\n",
       "      <td>0.0</td>\n",
       "      <td>0.0</td>\n",
       "      <td>0.0</td>\n",
       "      <td>0.0</td>\n",
       "      <td>1.0</td>\n",
       "    </tr>\n",
       "    <tr>\n",
       "      <th>obj17_m-</th>\n",
       "      <td>100000.0</td>\n",
       "      <td>0.00001</td>\n",
       "      <td>0.003162</td>\n",
       "      <td>0.0</td>\n",
       "      <td>0.0</td>\n",
       "      <td>0.0</td>\n",
       "      <td>0.0</td>\n",
       "      <td>1.0</td>\n",
       "    </tr>\n",
       "    <tr>\n",
       "      <th>obj16_b</th>\n",
       "      <td>100000.0</td>\n",
       "      <td>0.00001</td>\n",
       "      <td>0.003162</td>\n",
       "      <td>0.0</td>\n",
       "      <td>0.0</td>\n",
       "      <td>0.0</td>\n",
       "      <td>0.0</td>\n",
       "      <td>1.0</td>\n",
       "    </tr>\n",
       "    <tr>\n",
       "      <th>...</th>\n",
       "      <td>...</td>\n",
       "      <td>...</td>\n",
       "      <td>...</td>\n",
       "      <td>...</td>\n",
       "      <td>...</td>\n",
       "      <td>...</td>\n",
       "      <td>...</td>\n",
       "      <td>...</td>\n",
       "    </tr>\n",
       "    <tr>\n",
       "      <th>obj14_num</th>\n",
       "      <td>100000.0</td>\n",
       "      <td>-0.98369</td>\n",
       "      <td>0.289180</td>\n",
       "      <td>-1.0</td>\n",
       "      <td>-1.0</td>\n",
       "      <td>-1.0</td>\n",
       "      <td>-1.0</td>\n",
       "      <td>6.0</td>\n",
       "    </tr>\n",
       "    <tr>\n",
       "      <th>obj15_num</th>\n",
       "      <td>100000.0</td>\n",
       "      <td>-0.99546</td>\n",
       "      <td>0.151656</td>\n",
       "      <td>-1.0</td>\n",
       "      <td>-1.0</td>\n",
       "      <td>-1.0</td>\n",
       "      <td>-1.0</td>\n",
       "      <td>6.0</td>\n",
       "    </tr>\n",
       "    <tr>\n",
       "      <th>obj16_num</th>\n",
       "      <td>100000.0</td>\n",
       "      <td>-0.99877</td>\n",
       "      <td>0.078029</td>\n",
       "      <td>-1.0</td>\n",
       "      <td>-1.0</td>\n",
       "      <td>-1.0</td>\n",
       "      <td>-1.0</td>\n",
       "      <td>6.0</td>\n",
       "    </tr>\n",
       "    <tr>\n",
       "      <th>obj17_num</th>\n",
       "      <td>100000.0</td>\n",
       "      <td>-0.99991</td>\n",
       "      <td>0.013784</td>\n",
       "      <td>-1.0</td>\n",
       "      <td>-1.0</td>\n",
       "      <td>-1.0</td>\n",
       "      <td>-1.0</td>\n",
       "      <td>2.0</td>\n",
       "    </tr>\n",
       "    <tr>\n",
       "      <th>obj18_num</th>\n",
       "      <td>100000.0</td>\n",
       "      <td>-0.99999</td>\n",
       "      <td>0.003162</td>\n",
       "      <td>-1.0</td>\n",
       "      <td>-1.0</td>\n",
       "      <td>-1.0</td>\n",
       "      <td>-1.0</td>\n",
       "      <td>0.0</td>\n",
       "    </tr>\n",
       "  </tbody>\n",
       "</table>\n",
       "<p>246 rows × 8 columns</p>\n",
       "</div>"
      ],
      "text/plain": [
       "              count     mean       std  min  25%  50%  75%  max\n",
       "obj18_j    100000.0  0.00001  0.003162  0.0  0.0  0.0  0.0  1.0\n",
       "obj17_b    100000.0  0.00002  0.004472  0.0  0.0  0.0  0.0  1.0\n",
       "obj17_j    100000.0  0.00002  0.004472  0.0  0.0  0.0  0.0  1.0\n",
       "obj17_m-   100000.0  0.00001  0.003162  0.0  0.0  0.0  0.0  1.0\n",
       "obj16_b    100000.0  0.00001  0.003162  0.0  0.0  0.0  0.0  1.0\n",
       "...             ...      ...       ...  ...  ...  ...  ...  ...\n",
       "obj14_num  100000.0 -0.98369  0.289180 -1.0 -1.0 -1.0 -1.0  6.0\n",
       "obj15_num  100000.0 -0.99546  0.151656 -1.0 -1.0 -1.0 -1.0  6.0\n",
       "obj16_num  100000.0 -0.99877  0.078029 -1.0 -1.0 -1.0 -1.0  6.0\n",
       "obj17_num  100000.0 -0.99991  0.013784 -1.0 -1.0 -1.0 -1.0  2.0\n",
       "obj18_num  100000.0 -0.99999  0.003162 -1.0 -1.0 -1.0 -1.0  0.0\n",
       "\n",
       "[246 rows x 8 columns]"
      ]
     },
     "execution_count": 13,
     "metadata": {},
     "output_type": "execute_result"
    }
   ],
   "source": [
    "num_columns = ['obj{}'.format(i) for i in range(1, 1+max_num_objects)]\n",
    "df = data\n",
    "\n",
    "for col in num_columns:\n",
    "    if col in df.columns:\n",
    "        print(\"Converting {} to numerical encoding\".format(col))\n",
    "        # for each column: 1. convert to category and 2. get category codes\n",
    "        df['{}_num'.format(col)] = data[col].astype('category').cat.codes\n",
    "\n",
    "data = df\n",
    "df.describe().transpose()"
   ]
  },
  {
   "cell_type": "markdown",
   "metadata": {
    "colab_type": "text",
    "id": "zcnh-rojm_ak"
   },
   "source": [
    "## Drop obj columns\n",
    "All information is contained in either the one-hot or numerical representation. "
   ]
  },
  {
   "cell_type": "code",
   "execution_count": 14,
   "metadata": {
    "colab": {},
    "colab_type": "code",
    "id": "t231GtCEnGdY"
   },
   "outputs": [],
   "source": [
    "drop_features = data.filter(regex='obj\\d+$')\n",
    "data.drop(columns=drop_features, inplace=True)"
   ]
  },
  {
   "cell_type": "markdown",
   "metadata": {
    "colab_type": "text",
    "id": "FzmfxdI0pjqV"
   },
   "source": [
    "## Zero padding for NaN values\n",
    "Omit columns `obj`, because those column contains strings and are not relevant anymore. The derived columns, `objx_num` and `objx_y`, do not contain NaN due to their respective setup. This is checked below. "
   ]
  },
  {
   "cell_type": "code",
   "execution_count": 15,
   "metadata": {
    "colab": {
     "base_uri": "https://localhost:8080/",
     "height": 34
    },
    "colab_type": "code",
    "executionInfo": {
     "elapsed": 580,
     "status": "ok",
     "timestamp": 1586042220652,
     "user": {
      "displayName": "Joeran Bosma",
      "photoUrl": "https://lh3.googleusercontent.com/a-/AOh14GiEvCunvq33iGZ3RU-P9BMF7L60e8LoQ3Y1AfZJ4Q=s64",
      "userId": "05378465311079003812"
     },
     "user_tz": -120
    },
    "id": "2otRnTv6X83y",
    "outputId": "55ee5256-7e2c-4125-cd12-ff8e625d2bf0"
   },
   "outputs": [
    {
     "data": {
      "text/plain": [
       "0"
      ]
     },
     "execution_count": 15,
     "metadata": {},
     "output_type": "execute_result"
    }
   ],
   "source": [
    "data.filter(regex='obj\\d+_').isna().sum().sum()"
   ]
  },
  {
   "cell_type": "code",
   "execution_count": 16,
   "metadata": {
    "ExecuteTime": {
     "end_time": "2020-02-01T16:02:18.910091Z",
     "start_time": "2020-02-01T16:02:18.228791Z"
    },
    "colab": {},
    "colab_type": "code",
    "id": "ZKfemtgzpjqW"
   },
   "outputs": [],
   "source": [
    "columns = [col for col in data.columns if 'obj' not in col]\n",
    "\n",
    "for col in columns:\n",
    "    # select NaN values\n",
    "    mask = data[col].isna()\n",
    "    # and set to zero\n",
    "    data.loc[mask, col] = 0"
   ]
  },
  {
   "cell_type": "markdown",
   "metadata": {
    "colab_type": "text",
    "id": "T_rgMb2apjqa"
   },
   "source": [
    "## Normalize"
   ]
  },
  {
   "cell_type": "code",
   "execution_count": 17,
   "metadata": {
    "colab": {},
    "colab_type": "code",
    "id": "09D0jKXDaNJu"
   },
   "outputs": [],
   "source": [
    "# select features for normalization\n",
    "# selects objx_num, objx_y, MET, METphi, E1, E1_log, ...\n",
    "features = data.filter(regex='obj\\d+_|MET|E|pt|phi|eta').columns"
   ]
  },
  {
   "cell_type": "code",
   "execution_count": 18,
   "metadata": {
    "colab": {
     "base_uri": "https://localhost:8080/",
     "height": 51
    },
    "colab_type": "code",
    "executionInfo": {
     "elapsed": 624,
     "status": "ok",
     "timestamp": 1586042222653,
     "user": {
      "displayName": "Joeran Bosma",
      "photoUrl": "https://lh3.googleusercontent.com/a-/AOh14GiEvCunvq33iGZ3RU-P9BMF7L60e8LoQ3Y1AfZJ4Q=s64",
      "userId": "05378465311079003812"
     },
     "user_tz": -120
    },
    "id": "WqSgnk6far08",
    "outputId": "7a908e2e-0cb1-4b93-8dd8-3907721c8a55"
   },
   "outputs": [
    {
     "name": "stdout",
     "output_type": "stream",
     "text": [
      "Not included in features are: \n",
      "Index(['event weight', 'target'], dtype='object')\n"
     ]
    }
   ],
   "source": [
    "print(\"Not included in features are: \\n{}\".format(data.columns.difference(features)))"
   ]
  },
  {
   "cell_type": "markdown",
   "metadata": {
    "colab_type": "text",
    "id": "1Kf_M978a2HY"
   },
   "source": [
    "Which is as it should be, as the obj features are either used as categorical number or as one-hot encoding. "
   ]
  },
  {
   "cell_type": "markdown",
   "metadata": {
    "colab_type": "text",
    "id": "8aExbGXWpjqf"
   },
   "source": [
    "### Min-max normalization to [-1, 1] interval"
   ]
  },
  {
   "cell_type": "code",
   "execution_count": 19,
   "metadata": {
    "ExecuteTime": {
     "end_time": "2020-02-01T16:04:23.264416Z",
     "start_time": "2020-02-01T16:03:27.320209Z"
    },
    "colab": {
     "base_uri": "https://localhost:8080/",
     "height": 34
    },
    "colab_type": "code",
    "executionInfo": {
     "elapsed": 2020,
     "status": "ok",
     "timestamp": 1586042235773,
     "user": {
      "displayName": "Joeran Bosma",
      "photoUrl": "https://lh3.googleusercontent.com/a-/AOh14GiEvCunvq33iGZ3RU-P9BMF7L60e8LoQ3Y1AfZJ4Q=s64",
      "userId": "05378465311079003812"
     },
     "user_tz": -120
    },
    "id": "i0aNZEpgpjqg",
    "outputId": "56798cc4-778b-4e84-e3bd-3f59713c8068"
   },
   "outputs": [
    {
     "name": "stdout",
     "output_type": "stream",
     "text": [
      "Normalizing..\n",
      "Saving..\n"
     ]
    },
    {
     "data": {
      "text/html": [
       "<div>\n",
       "<style scoped>\n",
       "    .dataframe tbody tr th:only-of-type {\n",
       "        vertical-align: middle;\n",
       "    }\n",
       "\n",
       "    .dataframe tbody tr th {\n",
       "        vertical-align: top;\n",
       "    }\n",
       "\n",
       "    .dataframe thead th {\n",
       "        text-align: right;\n",
       "    }\n",
       "</style>\n",
       "<table border=\"1\" class=\"dataframe\">\n",
       "  <thead>\n",
       "    <tr style=\"text-align: right;\">\n",
       "      <th></th>\n",
       "      <th>obj18_j</th>\n",
       "      <th>obj17_b</th>\n",
       "      <th>obj17_j</th>\n",
       "      <th>obj17_m-</th>\n",
       "      <th>obj16_b</th>\n",
       "      <th>obj16_e+</th>\n",
       "      <th>obj16_e-</th>\n",
       "      <th>obj16_g</th>\n",
       "      <th>obj16_j</th>\n",
       "      <th>obj16_m+</th>\n",
       "      <th>...</th>\n",
       "      <th>obj9_num</th>\n",
       "      <th>obj10_num</th>\n",
       "      <th>obj11_num</th>\n",
       "      <th>obj12_num</th>\n",
       "      <th>obj13_num</th>\n",
       "      <th>obj14_num</th>\n",
       "      <th>obj15_num</th>\n",
       "      <th>obj16_num</th>\n",
       "      <th>obj17_num</th>\n",
       "      <th>obj18_num</th>\n",
       "    </tr>\n",
       "  </thead>\n",
       "  <tbody>\n",
       "    <tr>\n",
       "      <th>count</th>\n",
       "      <td>100000.000000</td>\n",
       "      <td>100000.000000</td>\n",
       "      <td>100000.000000</td>\n",
       "      <td>100000.000000</td>\n",
       "      <td>100000.000000</td>\n",
       "      <td>100000.000000</td>\n",
       "      <td>100000.000000</td>\n",
       "      <td>100000.000000</td>\n",
       "      <td>100000.000000</td>\n",
       "      <td>100000.000000</td>\n",
       "      <td>...</td>\n",
       "      <td>100000.000000</td>\n",
       "      <td>100000.000000</td>\n",
       "      <td>100000.000000</td>\n",
       "      <td>100000.000000</td>\n",
       "      <td>100000.000000</td>\n",
       "      <td>100000.000000</td>\n",
       "      <td>100000.000000</td>\n",
       "      <td>100000.000000</td>\n",
       "      <td>100000.000000</td>\n",
       "      <td>100000.000000</td>\n",
       "    </tr>\n",
       "    <tr>\n",
       "      <th>mean</th>\n",
       "      <td>0.000010</td>\n",
       "      <td>0.000020</td>\n",
       "      <td>0.000020</td>\n",
       "      <td>0.000010</td>\n",
       "      <td>0.000010</td>\n",
       "      <td>0.000020</td>\n",
       "      <td>0.000030</td>\n",
       "      <td>0.000010</td>\n",
       "      <td>0.000160</td>\n",
       "      <td>0.000030</td>\n",
       "      <td>...</td>\n",
       "      <td>-0.052692</td>\n",
       "      <td>-0.097630</td>\n",
       "      <td>-0.129077</td>\n",
       "      <td>-0.148325</td>\n",
       "      <td>-0.159045</td>\n",
       "      <td>-0.163948</td>\n",
       "      <td>-0.165910</td>\n",
       "      <td>-0.166462</td>\n",
       "      <td>-0.499955</td>\n",
       "      <td>-0.999990</td>\n",
       "    </tr>\n",
       "    <tr>\n",
       "      <th>std</th>\n",
       "      <td>0.003162</td>\n",
       "      <td>0.004472</td>\n",
       "      <td>0.004472</td>\n",
       "      <td>0.003162</td>\n",
       "      <td>0.003162</td>\n",
       "      <td>0.004472</td>\n",
       "      <td>0.005477</td>\n",
       "      <td>0.003162</td>\n",
       "      <td>0.012648</td>\n",
       "      <td>0.005477</td>\n",
       "      <td>...</td>\n",
       "      <td>0.285806</td>\n",
       "      <td>0.230767</td>\n",
       "      <td>0.174541</td>\n",
       "      <td>0.123476</td>\n",
       "      <td>0.080174</td>\n",
       "      <td>0.048197</td>\n",
       "      <td>0.025276</td>\n",
       "      <td>0.013005</td>\n",
       "      <td>0.006892</td>\n",
       "      <td>0.003162</td>\n",
       "    </tr>\n",
       "    <tr>\n",
       "      <th>min</th>\n",
       "      <td>0.000000</td>\n",
       "      <td>0.000000</td>\n",
       "      <td>0.000000</td>\n",
       "      <td>0.000000</td>\n",
       "      <td>0.000000</td>\n",
       "      <td>0.000000</td>\n",
       "      <td>0.000000</td>\n",
       "      <td>0.000000</td>\n",
       "      <td>0.000000</td>\n",
       "      <td>0.000000</td>\n",
       "      <td>...</td>\n",
       "      <td>-0.166667</td>\n",
       "      <td>-0.166667</td>\n",
       "      <td>-0.166667</td>\n",
       "      <td>-0.166667</td>\n",
       "      <td>-0.166667</td>\n",
       "      <td>-0.166667</td>\n",
       "      <td>-0.166667</td>\n",
       "      <td>-0.166667</td>\n",
       "      <td>-0.500000</td>\n",
       "      <td>-1.000000</td>\n",
       "    </tr>\n",
       "    <tr>\n",
       "      <th>25%</th>\n",
       "      <td>0.000000</td>\n",
       "      <td>0.000000</td>\n",
       "      <td>0.000000</td>\n",
       "      <td>0.000000</td>\n",
       "      <td>0.000000</td>\n",
       "      <td>0.000000</td>\n",
       "      <td>0.000000</td>\n",
       "      <td>0.000000</td>\n",
       "      <td>0.000000</td>\n",
       "      <td>0.000000</td>\n",
       "      <td>...</td>\n",
       "      <td>-0.166667</td>\n",
       "      <td>-0.166667</td>\n",
       "      <td>-0.166667</td>\n",
       "      <td>-0.166667</td>\n",
       "      <td>-0.166667</td>\n",
       "      <td>-0.166667</td>\n",
       "      <td>-0.166667</td>\n",
       "      <td>-0.166667</td>\n",
       "      <td>-0.500000</td>\n",
       "      <td>-1.000000</td>\n",
       "    </tr>\n",
       "    <tr>\n",
       "      <th>50%</th>\n",
       "      <td>0.000000</td>\n",
       "      <td>0.000000</td>\n",
       "      <td>0.000000</td>\n",
       "      <td>0.000000</td>\n",
       "      <td>0.000000</td>\n",
       "      <td>0.000000</td>\n",
       "      <td>0.000000</td>\n",
       "      <td>0.000000</td>\n",
       "      <td>0.000000</td>\n",
       "      <td>0.000000</td>\n",
       "      <td>...</td>\n",
       "      <td>-0.166667</td>\n",
       "      <td>-0.166667</td>\n",
       "      <td>-0.166667</td>\n",
       "      <td>-0.166667</td>\n",
       "      <td>-0.166667</td>\n",
       "      <td>-0.166667</td>\n",
       "      <td>-0.166667</td>\n",
       "      <td>-0.166667</td>\n",
       "      <td>-0.500000</td>\n",
       "      <td>-1.000000</td>\n",
       "    </tr>\n",
       "    <tr>\n",
       "      <th>75%</th>\n",
       "      <td>0.000000</td>\n",
       "      <td>0.000000</td>\n",
       "      <td>0.000000</td>\n",
       "      <td>0.000000</td>\n",
       "      <td>0.000000</td>\n",
       "      <td>0.000000</td>\n",
       "      <td>0.000000</td>\n",
       "      <td>0.000000</td>\n",
       "      <td>0.000000</td>\n",
       "      <td>0.000000</td>\n",
       "      <td>...</td>\n",
       "      <td>-0.166667</td>\n",
       "      <td>-0.166667</td>\n",
       "      <td>-0.166667</td>\n",
       "      <td>-0.166667</td>\n",
       "      <td>-0.166667</td>\n",
       "      <td>-0.166667</td>\n",
       "      <td>-0.166667</td>\n",
       "      <td>-0.166667</td>\n",
       "      <td>-0.500000</td>\n",
       "      <td>-1.000000</td>\n",
       "    </tr>\n",
       "    <tr>\n",
       "      <th>max</th>\n",
       "      <td>1.000000</td>\n",
       "      <td>1.000000</td>\n",
       "      <td>1.000000</td>\n",
       "      <td>1.000000</td>\n",
       "      <td>1.000000</td>\n",
       "      <td>1.000000</td>\n",
       "      <td>1.000000</td>\n",
       "      <td>1.000000</td>\n",
       "      <td>1.000000</td>\n",
       "      <td>1.000000</td>\n",
       "      <td>...</td>\n",
       "      <td>1.000000</td>\n",
       "      <td>1.000000</td>\n",
       "      <td>1.000000</td>\n",
       "      <td>1.000000</td>\n",
       "      <td>1.000000</td>\n",
       "      <td>1.000000</td>\n",
       "      <td>1.000000</td>\n",
       "      <td>1.000000</td>\n",
       "      <td>1.000000</td>\n",
       "      <td>0.000000</td>\n",
       "    </tr>\n",
       "  </tbody>\n",
       "</table>\n",
       "<p>8 rows × 246 columns</p>\n",
       "</div>"
      ],
      "text/plain": [
       "             obj18_j        obj17_b        obj17_j       obj17_m-  \\\n",
       "count  100000.000000  100000.000000  100000.000000  100000.000000   \n",
       "mean        0.000010       0.000020       0.000020       0.000010   \n",
       "std         0.003162       0.004472       0.004472       0.003162   \n",
       "min         0.000000       0.000000       0.000000       0.000000   \n",
       "25%         0.000000       0.000000       0.000000       0.000000   \n",
       "50%         0.000000       0.000000       0.000000       0.000000   \n",
       "75%         0.000000       0.000000       0.000000       0.000000   \n",
       "max         1.000000       1.000000       1.000000       1.000000   \n",
       "\n",
       "             obj16_b       obj16_e+       obj16_e-        obj16_g  \\\n",
       "count  100000.000000  100000.000000  100000.000000  100000.000000   \n",
       "mean        0.000010       0.000020       0.000030       0.000010   \n",
       "std         0.003162       0.004472       0.005477       0.003162   \n",
       "min         0.000000       0.000000       0.000000       0.000000   \n",
       "25%         0.000000       0.000000       0.000000       0.000000   \n",
       "50%         0.000000       0.000000       0.000000       0.000000   \n",
       "75%         0.000000       0.000000       0.000000       0.000000   \n",
       "max         1.000000       1.000000       1.000000       1.000000   \n",
       "\n",
       "             obj16_j       obj16_m+  ...       obj9_num      obj10_num  \\\n",
       "count  100000.000000  100000.000000  ...  100000.000000  100000.000000   \n",
       "mean        0.000160       0.000030  ...      -0.052692      -0.097630   \n",
       "std         0.012648       0.005477  ...       0.285806       0.230767   \n",
       "min         0.000000       0.000000  ...      -0.166667      -0.166667   \n",
       "25%         0.000000       0.000000  ...      -0.166667      -0.166667   \n",
       "50%         0.000000       0.000000  ...      -0.166667      -0.166667   \n",
       "75%         0.000000       0.000000  ...      -0.166667      -0.166667   \n",
       "max         1.000000       1.000000  ...       1.000000       1.000000   \n",
       "\n",
       "           obj11_num      obj12_num      obj13_num      obj14_num  \\\n",
       "count  100000.000000  100000.000000  100000.000000  100000.000000   \n",
       "mean       -0.129077      -0.148325      -0.159045      -0.163948   \n",
       "std         0.174541       0.123476       0.080174       0.048197   \n",
       "min        -0.166667      -0.166667      -0.166667      -0.166667   \n",
       "25%        -0.166667      -0.166667      -0.166667      -0.166667   \n",
       "50%        -0.166667      -0.166667      -0.166667      -0.166667   \n",
       "75%        -0.166667      -0.166667      -0.166667      -0.166667   \n",
       "max         1.000000       1.000000       1.000000       1.000000   \n",
       "\n",
       "           obj15_num      obj16_num      obj17_num      obj18_num  \n",
       "count  100000.000000  100000.000000  100000.000000  100000.000000  \n",
       "mean       -0.165910      -0.166462      -0.499955      -0.999990  \n",
       "std         0.025276       0.013005       0.006892       0.003162  \n",
       "min        -0.166667      -0.166667      -0.500000      -1.000000  \n",
       "25%        -0.166667      -0.166667      -0.500000      -1.000000  \n",
       "50%        -0.166667      -0.166667      -0.500000      -1.000000  \n",
       "75%        -0.166667      -0.166667      -0.500000      -1.000000  \n",
       "max         1.000000       1.000000       1.000000       0.000000  \n",
       "\n",
       "[8 rows x 246 columns]"
      ]
     },
     "execution_count": 19,
     "metadata": {},
     "output_type": "execute_result"
    }
   ],
   "source": [
    "# copy data\n",
    "data_norm = data.copy()\n",
    "\n",
    "print(\"Normalizing..\")\n",
    "# calculate normalization constants for all features\n",
    "norm = data[features].abs().max()\n",
    "\n",
    "# devide values by norm\n",
    "data_norm[features] = data_norm[features] / norm\n",
    "\n",
    "# save normalized features and norm constants to file\n",
    "print(\"Saving..\")\n",
    "data_norm.to_csv('data/data_minmax.csv')\n",
    "norm.to_csv('data/norm_minmax.csv', header=False)\n",
    "\n",
    "# verify results\n",
    "data_norm.describe()"
   ]
  },
  {
   "cell_type": "markdown",
   "metadata": {
    "colab_type": "text",
    "id": "zAJYNKl7pjqm"
   },
   "source": [
    "### Z-score normalization to zero mean, unit variance\n",
    "For all values: \n",
    "$new = \\frac{old - mean}{std}$, with the mean and standard deviation calculated per parameter. "
   ]
  },
  {
   "cell_type": "code",
   "execution_count": 20,
   "metadata": {
    "ExecuteTime": {
     "end_time": "2020-02-01T16:06:13.243516Z",
     "start_time": "2020-02-01T16:04:23.270836Z"
    },
    "colab": {
     "base_uri": "https://localhost:8080/",
     "height": 465
    },
    "colab_type": "code",
    "executionInfo": {
     "elapsed": 86390,
     "status": "ok",
     "timestamp": 1585054032741,
     "user": {
      "displayName": "Joeran Bosma",
      "photoUrl": "https://lh3.googleusercontent.com/a-/AOh14GiEvCunvq33iGZ3RU-P9BMF7L60e8LoQ3Y1AfZJ4Q=s64",
      "userId": "05378465311079003812"
     },
     "user_tz": -60
    },
    "id": "_FNRFOlfpjqo",
    "outputId": "20fe6c59-7346-44d3-8c51-b346b3b71d4b"
   },
   "outputs": [
    {
     "name": "stdout",
     "output_type": "stream",
     "text": [
      "Normalizing..\n",
      "Saving..\n"
     ]
    },
    {
     "data": {
      "text/html": [
       "<div>\n",
       "<style scoped>\n",
       "    .dataframe tbody tr th:only-of-type {\n",
       "        vertical-align: middle;\n",
       "    }\n",
       "\n",
       "    .dataframe tbody tr th {\n",
       "        vertical-align: top;\n",
       "    }\n",
       "\n",
       "    .dataframe thead th {\n",
       "        text-align: right;\n",
       "    }\n",
       "</style>\n",
       "<table border=\"1\" class=\"dataframe\">\n",
       "  <thead>\n",
       "    <tr style=\"text-align: right;\">\n",
       "      <th></th>\n",
       "      <th>obj18_j</th>\n",
       "      <th>obj17_b</th>\n",
       "      <th>obj17_j</th>\n",
       "      <th>obj17_m-</th>\n",
       "      <th>obj16_b</th>\n",
       "      <th>obj16_e+</th>\n",
       "      <th>obj16_e-</th>\n",
       "      <th>obj16_g</th>\n",
       "      <th>obj16_j</th>\n",
       "      <th>obj16_m+</th>\n",
       "      <th>...</th>\n",
       "      <th>obj9_num</th>\n",
       "      <th>obj10_num</th>\n",
       "      <th>obj11_num</th>\n",
       "      <th>obj12_num</th>\n",
       "      <th>obj13_num</th>\n",
       "      <th>obj14_num</th>\n",
       "      <th>obj15_num</th>\n",
       "      <th>obj16_num</th>\n",
       "      <th>obj17_num</th>\n",
       "      <th>obj18_num</th>\n",
       "    </tr>\n",
       "  </thead>\n",
       "  <tbody>\n",
       "    <tr>\n",
       "      <th>count</th>\n",
       "      <td>1.000000e+05</td>\n",
       "      <td>1.000000e+05</td>\n",
       "      <td>1.000000e+05</td>\n",
       "      <td>1.000000e+05</td>\n",
       "      <td>1.000000e+05</td>\n",
       "      <td>1.000000e+05</td>\n",
       "      <td>1.000000e+05</td>\n",
       "      <td>1.000000e+05</td>\n",
       "      <td>1.000000e+05</td>\n",
       "      <td>1.000000e+05</td>\n",
       "      <td>...</td>\n",
       "      <td>1.000000e+05</td>\n",
       "      <td>1.000000e+05</td>\n",
       "      <td>1.000000e+05</td>\n",
       "      <td>1.000000e+05</td>\n",
       "      <td>1.000000e+05</td>\n",
       "      <td>1.000000e+05</td>\n",
       "      <td>1.000000e+05</td>\n",
       "      <td>1.000000e+05</td>\n",
       "      <td>1.000000e+05</td>\n",
       "      <td>1.000000e+05</td>\n",
       "    </tr>\n",
       "    <tr>\n",
       "      <th>mean</th>\n",
       "      <td>-5.950795e-19</td>\n",
       "      <td>7.815970e-19</td>\n",
       "      <td>-1.669775e-18</td>\n",
       "      <td>-1.474376e-18</td>\n",
       "      <td>-1.225686e-18</td>\n",
       "      <td>-2.380318e-18</td>\n",
       "      <td>1.154632e-18</td>\n",
       "      <td>-1.598721e-18</td>\n",
       "      <td>1.037392e-17</td>\n",
       "      <td>3.570477e-18</td>\n",
       "      <td>...</td>\n",
       "      <td>-5.684342e-18</td>\n",
       "      <td>-4.973799e-17</td>\n",
       "      <td>1.605827e-17</td>\n",
       "      <td>1.747935e-17</td>\n",
       "      <td>-1.176303e-16</td>\n",
       "      <td>-1.571721e-16</td>\n",
       "      <td>7.851497e-17</td>\n",
       "      <td>5.985612e-16</td>\n",
       "      <td>-2.497273e-15</td>\n",
       "      <td>1.439409e-14</td>\n",
       "    </tr>\n",
       "    <tr>\n",
       "      <th>std</th>\n",
       "      <td>1.000005e+00</td>\n",
       "      <td>1.000005e+00</td>\n",
       "      <td>1.000005e+00</td>\n",
       "      <td>1.000005e+00</td>\n",
       "      <td>1.000005e+00</td>\n",
       "      <td>1.000005e+00</td>\n",
       "      <td>1.000005e+00</td>\n",
       "      <td>1.000005e+00</td>\n",
       "      <td>1.000005e+00</td>\n",
       "      <td>1.000005e+00</td>\n",
       "      <td>...</td>\n",
       "      <td>1.000005e+00</td>\n",
       "      <td>1.000005e+00</td>\n",
       "      <td>1.000005e+00</td>\n",
       "      <td>1.000005e+00</td>\n",
       "      <td>1.000005e+00</td>\n",
       "      <td>1.000005e+00</td>\n",
       "      <td>1.000005e+00</td>\n",
       "      <td>1.000005e+00</td>\n",
       "      <td>1.000005e+00</td>\n",
       "      <td>1.000005e+00</td>\n",
       "    </tr>\n",
       "    <tr>\n",
       "      <th>min</th>\n",
       "      <td>-3.162293e-03</td>\n",
       "      <td>-4.472181e-03</td>\n",
       "      <td>-4.472181e-03</td>\n",
       "      <td>-3.162293e-03</td>\n",
       "      <td>-3.162293e-03</td>\n",
       "      <td>-4.472181e-03</td>\n",
       "      <td>-5.477308e-03</td>\n",
       "      <td>-3.162293e-03</td>\n",
       "      <td>-1.265012e-02</td>\n",
       "      <td>-5.477308e-03</td>\n",
       "      <td>...</td>\n",
       "      <td>-3.987861e-01</td>\n",
       "      <td>-2.991634e-01</td>\n",
       "      <td>-2.153661e-01</td>\n",
       "      <td>-1.485456e-01</td>\n",
       "      <td>-9.506501e-02</td>\n",
       "      <td>-5.640122e-02</td>\n",
       "      <td>-2.993627e-02</td>\n",
       "      <td>-1.576342e-02</td>\n",
       "      <td>-6.529425e-03</td>\n",
       "      <td>-3.162293e-03</td>\n",
       "    </tr>\n",
       "    <tr>\n",
       "      <th>25%</th>\n",
       "      <td>-3.162293e-03</td>\n",
       "      <td>-4.472181e-03</td>\n",
       "      <td>-4.472181e-03</td>\n",
       "      <td>-3.162293e-03</td>\n",
       "      <td>-3.162293e-03</td>\n",
       "      <td>-4.472181e-03</td>\n",
       "      <td>-5.477308e-03</td>\n",
       "      <td>-3.162293e-03</td>\n",
       "      <td>-1.265012e-02</td>\n",
       "      <td>-5.477308e-03</td>\n",
       "      <td>...</td>\n",
       "      <td>-3.987861e-01</td>\n",
       "      <td>-2.991634e-01</td>\n",
       "      <td>-2.153661e-01</td>\n",
       "      <td>-1.485456e-01</td>\n",
       "      <td>-9.506501e-02</td>\n",
       "      <td>-5.640122e-02</td>\n",
       "      <td>-2.993627e-02</td>\n",
       "      <td>-1.576342e-02</td>\n",
       "      <td>-6.529425e-03</td>\n",
       "      <td>-3.162293e-03</td>\n",
       "    </tr>\n",
       "    <tr>\n",
       "      <th>50%</th>\n",
       "      <td>-3.162293e-03</td>\n",
       "      <td>-4.472181e-03</td>\n",
       "      <td>-4.472181e-03</td>\n",
       "      <td>-3.162293e-03</td>\n",
       "      <td>-3.162293e-03</td>\n",
       "      <td>-4.472181e-03</td>\n",
       "      <td>-5.477308e-03</td>\n",
       "      <td>-3.162293e-03</td>\n",
       "      <td>-1.265012e-02</td>\n",
       "      <td>-5.477308e-03</td>\n",
       "      <td>...</td>\n",
       "      <td>-3.987861e-01</td>\n",
       "      <td>-2.991634e-01</td>\n",
       "      <td>-2.153661e-01</td>\n",
       "      <td>-1.485456e-01</td>\n",
       "      <td>-9.506501e-02</td>\n",
       "      <td>-5.640122e-02</td>\n",
       "      <td>-2.993627e-02</td>\n",
       "      <td>-1.576342e-02</td>\n",
       "      <td>-6.529425e-03</td>\n",
       "      <td>-3.162293e-03</td>\n",
       "    </tr>\n",
       "    <tr>\n",
       "      <th>75%</th>\n",
       "      <td>-3.162293e-03</td>\n",
       "      <td>-4.472181e-03</td>\n",
       "      <td>-4.472181e-03</td>\n",
       "      <td>-3.162293e-03</td>\n",
       "      <td>-3.162293e-03</td>\n",
       "      <td>-4.472181e-03</td>\n",
       "      <td>-5.477308e-03</td>\n",
       "      <td>-3.162293e-03</td>\n",
       "      <td>-1.265012e-02</td>\n",
       "      <td>-5.477308e-03</td>\n",
       "      <td>...</td>\n",
       "      <td>-3.987861e-01</td>\n",
       "      <td>-2.991634e-01</td>\n",
       "      <td>-2.153661e-01</td>\n",
       "      <td>-1.485456e-01</td>\n",
       "      <td>-9.506501e-02</td>\n",
       "      <td>-5.640122e-02</td>\n",
       "      <td>-2.993627e-02</td>\n",
       "      <td>-1.576342e-02</td>\n",
       "      <td>-6.529425e-03</td>\n",
       "      <td>-3.162293e-03</td>\n",
       "    </tr>\n",
       "    <tr>\n",
       "      <th>max</th>\n",
       "      <td>3.162262e+02</td>\n",
       "      <td>2.236046e+02</td>\n",
       "      <td>2.236046e+02</td>\n",
       "      <td>3.162262e+02</td>\n",
       "      <td>3.162262e+02</td>\n",
       "      <td>2.236046e+02</td>\n",
       "      <td>1.825714e+02</td>\n",
       "      <td>3.162262e+02</td>\n",
       "      <td>7.905062e+01</td>\n",
       "      <td>1.825714e+02</td>\n",
       "      <td>...</td>\n",
       "      <td>3.683253e+00</td>\n",
       "      <td>4.756469e+00</td>\n",
       "      <td>6.468870e+00</td>\n",
       "      <td>9.300058e+00</td>\n",
       "      <td>1.445676e+01</td>\n",
       "      <td>2.415013e+01</td>\n",
       "      <td>4.612731e+01</td>\n",
       "      <td>8.969475e+01</td>\n",
       "      <td>2.176410e+02</td>\n",
       "      <td>3.162262e+02</td>\n",
       "    </tr>\n",
       "  </tbody>\n",
       "</table>\n",
       "<p>8 rows × 246 columns</p>\n",
       "</div>"
      ],
      "text/plain": [
       "            obj18_j       obj17_b       obj17_j      obj17_m-       obj16_b  \\\n",
       "count  1.000000e+05  1.000000e+05  1.000000e+05  1.000000e+05  1.000000e+05   \n",
       "mean  -5.950795e-19  7.815970e-19 -1.669775e-18 -1.474376e-18 -1.225686e-18   \n",
       "std    1.000005e+00  1.000005e+00  1.000005e+00  1.000005e+00  1.000005e+00   \n",
       "min   -3.162293e-03 -4.472181e-03 -4.472181e-03 -3.162293e-03 -3.162293e-03   \n",
       "25%   -3.162293e-03 -4.472181e-03 -4.472181e-03 -3.162293e-03 -3.162293e-03   \n",
       "50%   -3.162293e-03 -4.472181e-03 -4.472181e-03 -3.162293e-03 -3.162293e-03   \n",
       "75%   -3.162293e-03 -4.472181e-03 -4.472181e-03 -3.162293e-03 -3.162293e-03   \n",
       "max    3.162262e+02  2.236046e+02  2.236046e+02  3.162262e+02  3.162262e+02   \n",
       "\n",
       "           obj16_e+      obj16_e-       obj16_g       obj16_j      obj16_m+  \\\n",
       "count  1.000000e+05  1.000000e+05  1.000000e+05  1.000000e+05  1.000000e+05   \n",
       "mean  -2.380318e-18  1.154632e-18 -1.598721e-18  1.037392e-17  3.570477e-18   \n",
       "std    1.000005e+00  1.000005e+00  1.000005e+00  1.000005e+00  1.000005e+00   \n",
       "min   -4.472181e-03 -5.477308e-03 -3.162293e-03 -1.265012e-02 -5.477308e-03   \n",
       "25%   -4.472181e-03 -5.477308e-03 -3.162293e-03 -1.265012e-02 -5.477308e-03   \n",
       "50%   -4.472181e-03 -5.477308e-03 -3.162293e-03 -1.265012e-02 -5.477308e-03   \n",
       "75%   -4.472181e-03 -5.477308e-03 -3.162293e-03 -1.265012e-02 -5.477308e-03   \n",
       "max    2.236046e+02  1.825714e+02  3.162262e+02  7.905062e+01  1.825714e+02   \n",
       "\n",
       "       ...      obj9_num     obj10_num     obj11_num     obj12_num  \\\n",
       "count  ...  1.000000e+05  1.000000e+05  1.000000e+05  1.000000e+05   \n",
       "mean   ... -5.684342e-18 -4.973799e-17  1.605827e-17  1.747935e-17   \n",
       "std    ...  1.000005e+00  1.000005e+00  1.000005e+00  1.000005e+00   \n",
       "min    ... -3.987861e-01 -2.991634e-01 -2.153661e-01 -1.485456e-01   \n",
       "25%    ... -3.987861e-01 -2.991634e-01 -2.153661e-01 -1.485456e-01   \n",
       "50%    ... -3.987861e-01 -2.991634e-01 -2.153661e-01 -1.485456e-01   \n",
       "75%    ... -3.987861e-01 -2.991634e-01 -2.153661e-01 -1.485456e-01   \n",
       "max    ...  3.683253e+00  4.756469e+00  6.468870e+00  9.300058e+00   \n",
       "\n",
       "          obj13_num     obj14_num     obj15_num     obj16_num     obj17_num  \\\n",
       "count  1.000000e+05  1.000000e+05  1.000000e+05  1.000000e+05  1.000000e+05   \n",
       "mean  -1.176303e-16 -1.571721e-16  7.851497e-17  5.985612e-16 -2.497273e-15   \n",
       "std    1.000005e+00  1.000005e+00  1.000005e+00  1.000005e+00  1.000005e+00   \n",
       "min   -9.506501e-02 -5.640122e-02 -2.993627e-02 -1.576342e-02 -6.529425e-03   \n",
       "25%   -9.506501e-02 -5.640122e-02 -2.993627e-02 -1.576342e-02 -6.529425e-03   \n",
       "50%   -9.506501e-02 -5.640122e-02 -2.993627e-02 -1.576342e-02 -6.529425e-03   \n",
       "75%   -9.506501e-02 -5.640122e-02 -2.993627e-02 -1.576342e-02 -6.529425e-03   \n",
       "max    1.445676e+01  2.415013e+01  4.612731e+01  8.969475e+01  2.176410e+02   \n",
       "\n",
       "          obj18_num  \n",
       "count  1.000000e+05  \n",
       "mean   1.439409e-14  \n",
       "std    1.000005e+00  \n",
       "min   -3.162293e-03  \n",
       "25%   -3.162293e-03  \n",
       "50%   -3.162293e-03  \n",
       "75%   -3.162293e-03  \n",
       "max    3.162262e+02  \n",
       "\n",
       "[8 rows x 246 columns]"
      ]
     },
     "execution_count": 20,
     "metadata": {},
     "output_type": "execute_result"
    }
   ],
   "source": [
    "# copy data\n",
    "data_norm = data.copy()\n",
    "\n",
    "# calculate statistics\n",
    "print(\"Normalizing..\")\n",
    "mean = data_norm[features].mean()\n",
    "std = data_norm[features].std(ddof=0)\n",
    "\n",
    "# calculate new values\n",
    "data_norm[features] = (data_norm[features] - mean) / std\n",
    "\n",
    "# save results\n",
    "print(\"Saving..\")\n",
    "data_norm.to_csv('data/data_zscore.csv')\n",
    "mean.to_csv('data/zscore_mean.csv', header=False)\n",
    "std.to_csv('data/zscore_std.csv', header=False)\n",
    "\n",
    "# verify results\n",
    "data_norm.describe()"
   ]
  },
  {
   "cell_type": "markdown",
   "metadata": {
    "colab_type": "text",
    "id": "nCYmnTUk-V7p"
   },
   "source": [
    "## Convert dataset to images"
   ]
  },
  {
   "cell_type": "markdown",
   "metadata": {
    "colab_type": "text",
    "id": "wgYTjxecfcgh"
   },
   "source": [
    "### Conversion to image with $\\eta$ and $\\phi$ as coordinates\n",
    "Each objects carries an energy and transverse momentum, which can be plotted as the two channels for pixel ($\\eta$, $\\phi$).  \n",
    "The object type (obj, electron (e), etc.) is categorical input which can be vectorized in several ways. For a dense network one-hot encoding is a default choice, but adding many channels to the image does not seem practical.  \n",
    "\n",
    "For exploratory purposes and size constraints, the block below will create an image with a single layer, with each pixel representing whether an object is present or not. In later stages this will be extended, but that will be done in the respective notebook due to large file size. "
   ]
  },
  {
   "cell_type": "code",
   "execution_count": 22,
   "metadata": {
    "colab": {},
    "colab_type": "code",
    "id": "UrKr6kNcb_S-"
   },
   "outputs": [],
   "source": [
    "data_norm = pd.read_csv('data/data_minmax.csv')"
   ]
  },
  {
   "cell_type": "code",
   "execution_count": 23,
   "metadata": {
    "colab": {
     "base_uri": "https://localhost:8080/",
     "height": 346
    },
    "colab_type": "code",
    "executionInfo": {
     "elapsed": 82989,
     "status": "ok",
     "timestamp": 1585054037264,
     "user": {
      "displayName": "Joeran Bosma",
      "photoUrl": "https://lh3.googleusercontent.com/a-/AOh14GiEvCunvq33iGZ3RU-P9BMF7L60e8LoQ3Y1AfZJ4Q=s64",
      "userId": "05378465311079003812"
     },
     "user_tz": -60
    },
    "id": "k0OZCH2-u2e_",
    "outputId": "4ff05f90-67a4-4511-ccd9-a6ccb850d366"
   },
   "outputs": [
    {
     "data": {
      "text/html": [
       "<div>\n",
       "<style scoped>\n",
       "    .dataframe tbody tr th:only-of-type {\n",
       "        vertical-align: middle;\n",
       "    }\n",
       "\n",
       "    .dataframe tbody tr th {\n",
       "        vertical-align: top;\n",
       "    }\n",
       "\n",
       "    .dataframe thead th {\n",
       "        text-align: right;\n",
       "    }\n",
       "</style>\n",
       "<table border=\"1\" class=\"dataframe\">\n",
       "  <thead>\n",
       "    <tr style=\"text-align: right;\">\n",
       "      <th></th>\n",
       "      <th>event ID</th>\n",
       "      <th>obj18_j</th>\n",
       "      <th>obj17_b</th>\n",
       "      <th>obj17_j</th>\n",
       "      <th>obj17_m-</th>\n",
       "      <th>obj16_b</th>\n",
       "      <th>obj16_e+</th>\n",
       "      <th>obj16_e-</th>\n",
       "      <th>obj16_g</th>\n",
       "      <th>obj16_j</th>\n",
       "      <th>...</th>\n",
       "      <th>obj9_num</th>\n",
       "      <th>obj10_num</th>\n",
       "      <th>obj11_num</th>\n",
       "      <th>obj12_num</th>\n",
       "      <th>obj13_num</th>\n",
       "      <th>obj14_num</th>\n",
       "      <th>obj15_num</th>\n",
       "      <th>obj16_num</th>\n",
       "      <th>obj17_num</th>\n",
       "      <th>obj18_num</th>\n",
       "    </tr>\n",
       "  </thead>\n",
       "  <tbody>\n",
       "    <tr>\n",
       "      <th>count</th>\n",
       "      <td>100000.000000</td>\n",
       "      <td>100000.000000</td>\n",
       "      <td>100000.000000</td>\n",
       "      <td>100000.000000</td>\n",
       "      <td>100000.000000</td>\n",
       "      <td>100000.000000</td>\n",
       "      <td>100000.000000</td>\n",
       "      <td>100000.000000</td>\n",
       "      <td>100000.000000</td>\n",
       "      <td>100000.000000</td>\n",
       "      <td>...</td>\n",
       "      <td>100000.000000</td>\n",
       "      <td>100000.000000</td>\n",
       "      <td>100000.000000</td>\n",
       "      <td>100000.000000</td>\n",
       "      <td>100000.000000</td>\n",
       "      <td>100000.000000</td>\n",
       "      <td>100000.000000</td>\n",
       "      <td>100000.000000</td>\n",
       "      <td>100000.000000</td>\n",
       "      <td>100000.000000</td>\n",
       "    </tr>\n",
       "    <tr>\n",
       "      <th>mean</th>\n",
       "      <td>49999.500000</td>\n",
       "      <td>0.000010</td>\n",
       "      <td>0.000020</td>\n",
       "      <td>0.000020</td>\n",
       "      <td>0.000010</td>\n",
       "      <td>0.000010</td>\n",
       "      <td>0.000020</td>\n",
       "      <td>0.000030</td>\n",
       "      <td>0.000010</td>\n",
       "      <td>0.000160</td>\n",
       "      <td>...</td>\n",
       "      <td>-0.052692</td>\n",
       "      <td>-0.097630</td>\n",
       "      <td>-0.129077</td>\n",
       "      <td>-0.148325</td>\n",
       "      <td>-0.159045</td>\n",
       "      <td>-0.163948</td>\n",
       "      <td>-0.165910</td>\n",
       "      <td>-0.166462</td>\n",
       "      <td>-0.499955</td>\n",
       "      <td>-0.999990</td>\n",
       "    </tr>\n",
       "    <tr>\n",
       "      <th>std</th>\n",
       "      <td>28867.657797</td>\n",
       "      <td>0.003162</td>\n",
       "      <td>0.004472</td>\n",
       "      <td>0.004472</td>\n",
       "      <td>0.003162</td>\n",
       "      <td>0.003162</td>\n",
       "      <td>0.004472</td>\n",
       "      <td>0.005477</td>\n",
       "      <td>0.003162</td>\n",
       "      <td>0.012648</td>\n",
       "      <td>...</td>\n",
       "      <td>0.285806</td>\n",
       "      <td>0.230767</td>\n",
       "      <td>0.174541</td>\n",
       "      <td>0.123476</td>\n",
       "      <td>0.080174</td>\n",
       "      <td>0.048197</td>\n",
       "      <td>0.025276</td>\n",
       "      <td>0.013005</td>\n",
       "      <td>0.006892</td>\n",
       "      <td>0.003162</td>\n",
       "    </tr>\n",
       "    <tr>\n",
       "      <th>min</th>\n",
       "      <td>0.000000</td>\n",
       "      <td>0.000000</td>\n",
       "      <td>0.000000</td>\n",
       "      <td>0.000000</td>\n",
       "      <td>0.000000</td>\n",
       "      <td>0.000000</td>\n",
       "      <td>0.000000</td>\n",
       "      <td>0.000000</td>\n",
       "      <td>0.000000</td>\n",
       "      <td>0.000000</td>\n",
       "      <td>...</td>\n",
       "      <td>-0.166667</td>\n",
       "      <td>-0.166667</td>\n",
       "      <td>-0.166667</td>\n",
       "      <td>-0.166667</td>\n",
       "      <td>-0.166667</td>\n",
       "      <td>-0.166667</td>\n",
       "      <td>-0.166667</td>\n",
       "      <td>-0.166667</td>\n",
       "      <td>-0.500000</td>\n",
       "      <td>-1.000000</td>\n",
       "    </tr>\n",
       "    <tr>\n",
       "      <th>25%</th>\n",
       "      <td>24999.750000</td>\n",
       "      <td>0.000000</td>\n",
       "      <td>0.000000</td>\n",
       "      <td>0.000000</td>\n",
       "      <td>0.000000</td>\n",
       "      <td>0.000000</td>\n",
       "      <td>0.000000</td>\n",
       "      <td>0.000000</td>\n",
       "      <td>0.000000</td>\n",
       "      <td>0.000000</td>\n",
       "      <td>...</td>\n",
       "      <td>-0.166667</td>\n",
       "      <td>-0.166667</td>\n",
       "      <td>-0.166667</td>\n",
       "      <td>-0.166667</td>\n",
       "      <td>-0.166667</td>\n",
       "      <td>-0.166667</td>\n",
       "      <td>-0.166667</td>\n",
       "      <td>-0.166667</td>\n",
       "      <td>-0.500000</td>\n",
       "      <td>-1.000000</td>\n",
       "    </tr>\n",
       "    <tr>\n",
       "      <th>50%</th>\n",
       "      <td>49999.500000</td>\n",
       "      <td>0.000000</td>\n",
       "      <td>0.000000</td>\n",
       "      <td>0.000000</td>\n",
       "      <td>0.000000</td>\n",
       "      <td>0.000000</td>\n",
       "      <td>0.000000</td>\n",
       "      <td>0.000000</td>\n",
       "      <td>0.000000</td>\n",
       "      <td>0.000000</td>\n",
       "      <td>...</td>\n",
       "      <td>-0.166667</td>\n",
       "      <td>-0.166667</td>\n",
       "      <td>-0.166667</td>\n",
       "      <td>-0.166667</td>\n",
       "      <td>-0.166667</td>\n",
       "      <td>-0.166667</td>\n",
       "      <td>-0.166667</td>\n",
       "      <td>-0.166667</td>\n",
       "      <td>-0.500000</td>\n",
       "      <td>-1.000000</td>\n",
       "    </tr>\n",
       "    <tr>\n",
       "      <th>75%</th>\n",
       "      <td>74999.250000</td>\n",
       "      <td>0.000000</td>\n",
       "      <td>0.000000</td>\n",
       "      <td>0.000000</td>\n",
       "      <td>0.000000</td>\n",
       "      <td>0.000000</td>\n",
       "      <td>0.000000</td>\n",
       "      <td>0.000000</td>\n",
       "      <td>0.000000</td>\n",
       "      <td>0.000000</td>\n",
       "      <td>...</td>\n",
       "      <td>-0.166667</td>\n",
       "      <td>-0.166667</td>\n",
       "      <td>-0.166667</td>\n",
       "      <td>-0.166667</td>\n",
       "      <td>-0.166667</td>\n",
       "      <td>-0.166667</td>\n",
       "      <td>-0.166667</td>\n",
       "      <td>-0.166667</td>\n",
       "      <td>-0.500000</td>\n",
       "      <td>-1.000000</td>\n",
       "    </tr>\n",
       "    <tr>\n",
       "      <th>max</th>\n",
       "      <td>99999.000000</td>\n",
       "      <td>1.000000</td>\n",
       "      <td>1.000000</td>\n",
       "      <td>1.000000</td>\n",
       "      <td>1.000000</td>\n",
       "      <td>1.000000</td>\n",
       "      <td>1.000000</td>\n",
       "      <td>1.000000</td>\n",
       "      <td>1.000000</td>\n",
       "      <td>1.000000</td>\n",
       "      <td>...</td>\n",
       "      <td>1.000000</td>\n",
       "      <td>1.000000</td>\n",
       "      <td>1.000000</td>\n",
       "      <td>1.000000</td>\n",
       "      <td>1.000000</td>\n",
       "      <td>1.000000</td>\n",
       "      <td>1.000000</td>\n",
       "      <td>1.000000</td>\n",
       "      <td>1.000000</td>\n",
       "      <td>0.000000</td>\n",
       "    </tr>\n",
       "  </tbody>\n",
       "</table>\n",
       "<p>8 rows × 247 columns</p>\n",
       "</div>"
      ],
      "text/plain": [
       "            event ID        obj18_j        obj17_b        obj17_j  \\\n",
       "count  100000.000000  100000.000000  100000.000000  100000.000000   \n",
       "mean    49999.500000       0.000010       0.000020       0.000020   \n",
       "std     28867.657797       0.003162       0.004472       0.004472   \n",
       "min         0.000000       0.000000       0.000000       0.000000   \n",
       "25%     24999.750000       0.000000       0.000000       0.000000   \n",
       "50%     49999.500000       0.000000       0.000000       0.000000   \n",
       "75%     74999.250000       0.000000       0.000000       0.000000   \n",
       "max     99999.000000       1.000000       1.000000       1.000000   \n",
       "\n",
       "            obj17_m-        obj16_b       obj16_e+       obj16_e-  \\\n",
       "count  100000.000000  100000.000000  100000.000000  100000.000000   \n",
       "mean        0.000010       0.000010       0.000020       0.000030   \n",
       "std         0.003162       0.003162       0.004472       0.005477   \n",
       "min         0.000000       0.000000       0.000000       0.000000   \n",
       "25%         0.000000       0.000000       0.000000       0.000000   \n",
       "50%         0.000000       0.000000       0.000000       0.000000   \n",
       "75%         0.000000       0.000000       0.000000       0.000000   \n",
       "max         1.000000       1.000000       1.000000       1.000000   \n",
       "\n",
       "             obj16_g        obj16_j  ...       obj9_num      obj10_num  \\\n",
       "count  100000.000000  100000.000000  ...  100000.000000  100000.000000   \n",
       "mean        0.000010       0.000160  ...      -0.052692      -0.097630   \n",
       "std         0.003162       0.012648  ...       0.285806       0.230767   \n",
       "min         0.000000       0.000000  ...      -0.166667      -0.166667   \n",
       "25%         0.000000       0.000000  ...      -0.166667      -0.166667   \n",
       "50%         0.000000       0.000000  ...      -0.166667      -0.166667   \n",
       "75%         0.000000       0.000000  ...      -0.166667      -0.166667   \n",
       "max         1.000000       1.000000  ...       1.000000       1.000000   \n",
       "\n",
       "           obj11_num      obj12_num      obj13_num      obj14_num  \\\n",
       "count  100000.000000  100000.000000  100000.000000  100000.000000   \n",
       "mean       -0.129077      -0.148325      -0.159045      -0.163948   \n",
       "std         0.174541       0.123476       0.080174       0.048197   \n",
       "min        -0.166667      -0.166667      -0.166667      -0.166667   \n",
       "25%        -0.166667      -0.166667      -0.166667      -0.166667   \n",
       "50%        -0.166667      -0.166667      -0.166667      -0.166667   \n",
       "75%        -0.166667      -0.166667      -0.166667      -0.166667   \n",
       "max         1.000000       1.000000       1.000000       1.000000   \n",
       "\n",
       "           obj15_num      obj16_num      obj17_num      obj18_num  \n",
       "count  100000.000000  100000.000000  100000.000000  100000.000000  \n",
       "mean       -0.165910      -0.166462      -0.499955      -0.999990  \n",
       "std         0.025276       0.013005       0.006892       0.003162  \n",
       "min        -0.166667      -0.166667      -0.500000      -1.000000  \n",
       "25%        -0.166667      -0.166667      -0.500000      -1.000000  \n",
       "50%        -0.166667      -0.166667      -0.500000      -1.000000  \n",
       "75%        -0.166667      -0.166667      -0.500000      -1.000000  \n",
       "max         1.000000       1.000000       1.000000       0.000000  \n",
       "\n",
       "[8 rows x 247 columns]"
      ]
     },
     "execution_count": 23,
     "metadata": {},
     "output_type": "execute_result"
    }
   ],
   "source": [
    "data_norm.describe()"
   ]
  },
  {
   "cell_type": "code",
   "execution_count": 24,
   "metadata": {
    "colab": {
     "base_uri": "https://localhost:8080/",
     "height": 119
    },
    "colab_type": "code",
    "executionInfo": {
     "elapsed": 82403,
     "status": "ok",
     "timestamp": 1585054037264,
     "user": {
      "displayName": "Joeran Bosma",
      "photoUrl": "https://lh3.googleusercontent.com/a-/AOh14GiEvCunvq33iGZ3RU-P9BMF7L60e8LoQ3Y1AfZJ4Q=s64",
      "userId": "05378465311079003812"
     },
     "user_tz": -60
    },
    "id": "hFQE1PDm1Edb",
    "outputId": "592e1ca3-da99-4746-da15-19e8777670f5"
   },
   "outputs": [
    {
     "data": {
      "text/plain": [
       "Index(['eta1', 'phi1', 'eta2', 'phi2', 'eta3', 'phi3', 'eta4', 'phi4', 'eta5',\n",
       "       'phi5', 'eta6', 'phi6', 'eta7', 'phi7', 'eta8', 'phi8', 'eta9', 'phi9',\n",
       "       'eta10', 'phi10', 'eta11', 'phi11', 'eta12', 'phi12', 'eta13', 'phi13',\n",
       "       'eta14', 'phi14', 'eta15', 'phi15', 'eta16', 'phi16', 'eta17', 'phi17',\n",
       "       'eta18', 'phi18'],\n",
       "      dtype='object')"
      ]
     },
     "execution_count": 24,
     "metadata": {},
     "output_type": "execute_result"
    }
   ],
   "source": [
    "# check selection of as coordinates for the images\n",
    "cols = data_norm.filter(regex='eta[0-9]|phi[0-9]'.format(2)).columns\n",
    "cols"
   ]
  },
  {
   "cell_type": "code",
   "execution_count": 25,
   "metadata": {
    "colab": {
     "base_uri": "https://localhost:8080/",
     "height": 296
    },
    "colab_type": "code",
    "executionInfo": {
     "elapsed": 757,
     "status": "ok",
     "timestamp": 1585054038704,
     "user": {
      "displayName": "Joeran Bosma",
      "photoUrl": "https://lh3.googleusercontent.com/a-/AOh14GiEvCunvq33iGZ3RU-P9BMF7L60e8LoQ3Y1AfZJ4Q=s64",
      "userId": "05378465311079003812"
     },
     "user_tz": -60
    },
    "id": "1tZxZjulwH_t",
    "outputId": "c489d4d1-102c-45de-b394-f017543ecfa0"
   },
   "outputs": [
    {
     "data": {
      "text/plain": [
       "<matplotlib.axes._subplots.AxesSubplot at 0x1a1b21bbd0>"
      ]
     },
     "execution_count": 25,
     "metadata": {},
     "output_type": "execute_result"
    },
    {
     "data": {
      "image/png": "[encoded data removed]",
      "text/plain": [
       "<Figure size 432x288 with 1 Axes>"
      ]
     },
     "metadata": {
      "needs_background": "light"
     },
     "output_type": "display_data"
    }
   ],
   "source": [
    "# check distribution of one such coordinate\n",
    "sns.distplot(data_norm[cols[0]], kde=False)"
   ]
  },
  {
   "cell_type": "code",
   "execution_count": 26,
   "metadata": {
    "colab": {
     "base_uri": "https://localhost:8080/",
     "height": 1000
    },
    "colab_type": "code",
    "executionInfo": {
     "elapsed": 58194,
     "status": "ok",
     "timestamp": 1585054179394,
     "user": {
      "displayName": "Joeran Bosma",
      "photoUrl": "https://lh3.googleusercontent.com/a-/AOh14GiEvCunvq33iGZ3RU-P9BMF7L60e8LoQ3Y1AfZJ4Q=s64",
      "userId": "05378465311079003812"
     },
     "user_tz": -60
    },
    "id": "AFRDKmqthajL",
    "outputId": "0cb63391-1c59-476d-ab88-9966c99e6aa2"
   },
   "outputs": [
    {
     "data": {
      "image/png": "[encoded data removed]",
      "text/plain": [
       "<Figure size 864x864 with 4 Axes>"
      ]
     },
     "metadata": {
      "needs_background": "light"
     },
     "output_type": "display_data"
    },
    {
     "name": "stderr",
     "output_type": "stream",
     "text": [
      "100%|██████████| 100000/100000 [00:53<00:00, 1877.41it/s]\n"
     ]
    }
   ],
   "source": [
    "def obj_angles_to_single_channel_images(df, nx=32, ny=32, max_num_objects=25, xmin=-1, xmax=1, ymin=-1, ymax=1):\n",
    "    # prevent changing input\n",
    "    df = df.copy()\n",
    "\n",
    "    # initialize images\n",
    "    images = np.zeros(shape=(df.index.size, ny, nx, 1))\n",
    "\n",
    "    # calculate pixel positions of objects\n",
    "    # bin eta values onto the pixels in x-direction\n",
    "    xbins = np.linspace(xmin, xmax, num=nx+1)\n",
    "    xlabels = range(nx)\n",
    "    # bin phi values onto the pixels in y-direction\n",
    "    ybins = np.linspace(ymin, ymax, num=ny+1)\n",
    "    ylabels = range(ny)\n",
    "\n",
    "    # bin eta and phi to the bins specified above\n",
    "    for i in range(1, 1+max_num_objects):\n",
    "        # eta and phi need to be binned, for each object\n",
    "        df['x{}'.format(i)] = pd.cut(df['eta{}'.format(i)], bins=xbins, labels=xlabels)\n",
    "        df['y{}'.format(i)] = pd.cut(df['phi{}'.format(i)], bins=ybins, labels=ylabels)\n",
    "    \n",
    "    f, axes = plt.subplots(2, 2, figsize=(12, 12))\n",
    "    sns.distplot(df['eta1'], bins=nx, ax=axes[0, 0], kde=False)\n",
    "    sns.distplot(df['x1'], bins=nx, ax=axes[0, 1], kde=False)\n",
    "    sns.distplot(df['phi1'], bins=nx, ax=axes[1, 0], kde=False)\n",
    "    sns.distplot(df['y1'], bins=nx, ax=axes[1, 1], kde=False)\n",
    "    plt.tight_layout()\n",
    "    plt.show()\n",
    "\n",
    "    # create images\n",
    "    for nr, (idx, row) in tqdm(enumerate(df.iterrows()), total=df.index.size):\n",
    "        # create image from event data\n",
    "        for i in range(1, 1+max_num_objects):\n",
    "            x, y = row['x{}'.format(i)], row['y{}'.format(i)]\n",
    "            if not np.isnan(x) and not np.isnan(y):\n",
    "                x, y = int(x), int(y)\n",
    "                # due to the zero padding, many values are zero instead of NaN\n",
    "                if not (x == 0 and y==0):\n",
    "                    images[nr, y, x] = 1\n",
    "\n",
    "    return images\n",
    "\n",
    "# calculate span of eta and phi\n",
    "xmin, xmax = data_norm.filter(regex='^eta').min().min(), data_norm.filter(regex='^eta').max().max()\n",
    "ymin, ymax = data_norm.filter(regex='^phi').min().min(), data_norm.filter(regex='^phi').max().max()\n",
    "\n",
    "# create images\n",
    "images = obj_angles_to_single_channel_images(data_norm, max_num_objects=18, \n",
    "                                             xmin=xmin, xmax=xmax, ymin=ymin, ymax=ymax)"
   ]
  },
  {
   "cell_type": "code",
   "execution_count": 28,
   "metadata": {
    "colab": {},
    "colab_type": "code",
    "id": "O7_BAZ7Poc65"
   },
   "outputs": [],
   "source": [
    "np.save(\"data/images_1ch.npy\", images)"
   ]
  },
  {
   "cell_type": "markdown",
   "metadata": {
    "colab_type": "text",
    "id": "OggftFVnltCv"
   },
   "source": [
    "More pipelines for creating images are implemented in `Train Convolutional Neural Networks.ipynb` directly, to avoid saving many large files to disk. "
   ]
  }
 ],
 "metadata": {
  "colab": {
   "collapsed_sections": [],
   "machine_shape": "hm",
   "name": "ML4PPA - Final - Joeran Bosma - Data Exporation and Preprocessing.ipynb",
   "provenance": []
  },
  "kernelspec": {
   "display_name": "Python 3",
   "language": "python",
   "name": "python3"
  },
  "language_info": {
   "codemirror_mode": {
    "name": "ipython",
    "version": 3
   },
   "file_extension": ".py",
   "mimetype": "text/x-python",
   "name": "python",
   "nbconvert_exporter": "python",
   "pygments_lexer": "ipython3",
   "version": "3.7.6"
  }
 },
 "nbformat": 4,
 "nbformat_minor": 1
}
